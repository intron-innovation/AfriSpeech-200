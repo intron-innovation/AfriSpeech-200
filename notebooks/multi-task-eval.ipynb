{
 "cells": [
  {
   "cell_type": "code",
   "execution_count": null,
   "id": "d337a164",
   "metadata": {},
   "outputs": [],
   "source": [
    "import os\n",
    "import pandas as pd\n",
    "import numpy as np\n"
   ]
  },
  {
   "cell_type": "code",
   "execution_count": null,
   "id": "42ff3539",
   "metadata": {},
   "outputs": [],
   "source": [
    "results_dir = '/data/AfriSpeech-Dataset-Paper/results'\n",
    "paths = [\n",
    "    'intron-open-test-wav2vec2-large-xlsr-53-generative_single_task_baseline-wer-0.2519-5474.csv',\n",
    "    'intron-open-test-wav2vec2-large-xlsr-53-generative-multitask-asr-domain-prepend-wer-0.2467-5474.csv',\n",
    "]"
   ]
  }
 ],
 "metadata": {
  "kernelspec": {
   "display_name": "Environment (conda_aws_neuron_pytorch_p36)",
   "language": "python",
   "name": "conda_aws_neuron_pytorch_p36"
  },
  "language_info": {
   "codemirror_mode": {
    "name": "ipython",
    "version": 3
   },
   "file_extension": ".py",
   "mimetype": "text/x-python",
   "name": "python",
   "nbconvert_exporter": "python",
   "pygments_lexer": "ipython3",
   "version": "3.6.13"
  }
 },
 "nbformat": 4,
 "nbformat_minor": 5
}
