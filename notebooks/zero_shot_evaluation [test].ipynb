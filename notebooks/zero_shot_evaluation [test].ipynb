{
 "cells": [
  {
   "cell_type": "code",
   "execution_count": 1,
   "id": "7f7e6556",
   "metadata": {},
   "outputs": [],
   "source": [
    "import warnings\n",
    "warnings.filterwarnings(\"ignore\")"
   ]
  },
  {
   "cell_type": "code",
   "execution_count": 2,
   "id": "964a1f7e",
   "metadata": {},
   "outputs": [],
   "source": [
    "import pandas as pd\n",
    "import seaborn as sns\n",
    "import numpy as np\n",
    "import matplotlib.pyplot as plt\n",
    "from datasets import load_metric\n",
    "import sys\n",
    "sys.path.append(\"..\")\n",
    "from src.utils.text_processing import clean_text"
   ]
  },
  {
   "cell_type": "code",
   "execution_count": 3,
   "id": "51efb50e",
   "metadata": {},
   "outputs": [],
   "source": [
    "wer_metric = load_metric(\"wer\")"
   ]
  },
  {
   "cell_type": "code",
   "execution_count": 4,
   "id": "c8f92f92",
   "metadata": {},
   "outputs": [
    {
     "name": "stdout",
     "output_type": "stream",
     "text": [
      "(6346, 14)\n"
     ]
    },
    {
     "data": {
      "text/html": [
       "<div>\n",
       "<style scoped>\n",
       "    .dataframe tbody tr th:only-of-type {\n",
       "        vertical-align: middle;\n",
       "    }\n",
       "\n",
       "    .dataframe tbody tr th {\n",
       "        vertical-align: top;\n",
       "    }\n",
       "\n",
       "    .dataframe thead th {\n",
       "        text-align: right;\n",
       "    }\n",
       "</style>\n",
       "<table border=\"1\" class=\"dataframe\">\n",
       "  <thead>\n",
       "    <tr style=\"text-align: right;\">\n",
       "      <th></th>\n",
       "      <th>idx</th>\n",
       "      <th>user_ids</th>\n",
       "      <th>accent</th>\n",
       "      <th>age_group</th>\n",
       "      <th>country</th>\n",
       "      <th>transcript</th>\n",
       "      <th>nchars</th>\n",
       "      <th>audio_ids</th>\n",
       "      <th>audio_paths</th>\n",
       "      <th>duration</th>\n",
       "      <th>origin</th>\n",
       "      <th>domain</th>\n",
       "      <th>split</th>\n",
       "      <th>gender</th>\n",
       "    </tr>\n",
       "  </thead>\n",
       "  <tbody>\n",
       "    <tr>\n",
       "      <th>0</th>\n",
       "      <td>149716</td>\n",
       "      <td>5ab7b49ad1cab6392a764a69578dc822</td>\n",
       "      <td>twi</td>\n",
       "      <td>26-40</td>\n",
       "      <td>GH</td>\n",
       "      <td>Proteins break down to release amino acids whi...</td>\n",
       "      <td>136</td>\n",
       "      <td>3a21d00eec39a31f089b9b4f0f8afa21</td>\n",
       "      <td>/AfriSpeech-100/test/e696aff8-ce05-4c8e-a3b3-5...</td>\n",
       "      <td>10.776984</td>\n",
       "      <td>african</td>\n",
       "      <td>clinical</td>\n",
       "      <td>test</td>\n",
       "      <td>Female</td>\n",
       "    </tr>\n",
       "    <tr>\n",
       "      <th>1</th>\n",
       "      <td>360395</td>\n",
       "      <td>543c037ff44816e8b5ccd0d6cc92fe13</td>\n",
       "      <td>igbo</td>\n",
       "      <td>19-25</td>\n",
       "      <td>NG</td>\n",
       "      <td>To grant such a patent license to a party mean...</td>\n",
       "      <td>128</td>\n",
       "      <td>544fbff921d13b224adbbb0f637196ed</td>\n",
       "      <td>/AfriSpeech-100/test/f28baac3-cdcd-45a2-888c-a...</td>\n",
       "      <td>12.390000</td>\n",
       "      <td>nigerian</td>\n",
       "      <td>clinical</td>\n",
       "      <td>test</td>\n",
       "      <td>Female</td>\n",
       "    </tr>\n",
       "    <tr>\n",
       "      <th>2</th>\n",
       "      <td>153514</td>\n",
       "      <td>e87486db0c365bded42184d56b46a2a7</td>\n",
       "      <td>isizulu</td>\n",
       "      <td>26-40</td>\n",
       "      <td>ZA</td>\n",
       "      <td>Flatus indicates return of peristalsis.</td>\n",
       "      <td>38</td>\n",
       "      <td>2f91ceb3c1d9c61f2b6a77d602f6d5ee</td>\n",
       "      <td>/AfriSpeech-100/test/13062a1b-662b-4afa-85b4-9...</td>\n",
       "      <td>5.826984</td>\n",
       "      <td>african</td>\n",
       "      <td>clinical</td>\n",
       "      <td>test</td>\n",
       "      <td>Female</td>\n",
       "    </tr>\n",
       "  </tbody>\n",
       "</table>\n",
       "</div>"
      ],
      "text/plain": [
       "      idx                          user_ids   accent age_group country  \\\n",
       "0  149716  5ab7b49ad1cab6392a764a69578dc822      twi     26-40      GH   \n",
       "1  360395  543c037ff44816e8b5ccd0d6cc92fe13     igbo     19-25      NG   \n",
       "2  153514  e87486db0c365bded42184d56b46a2a7  isizulu     26-40      ZA   \n",
       "\n",
       "                                          transcript  nchars  \\\n",
       "0  Proteins break down to release amino acids whi...     136   \n",
       "1  To grant such a patent license to a party mean...     128   \n",
       "2            Flatus indicates return of peristalsis.      38   \n",
       "\n",
       "                          audio_ids  \\\n",
       "0  3a21d00eec39a31f089b9b4f0f8afa21   \n",
       "1  544fbff921d13b224adbbb0f637196ed   \n",
       "2  2f91ceb3c1d9c61f2b6a77d602f6d5ee   \n",
       "\n",
       "                                         audio_paths   duration    origin  \\\n",
       "0  /AfriSpeech-100/test/e696aff8-ce05-4c8e-a3b3-5...  10.776984   african   \n",
       "1  /AfriSpeech-100/test/f28baac3-cdcd-45a2-888c-a...  12.390000  nigerian   \n",
       "2  /AfriSpeech-100/test/13062a1b-662b-4afa-85b4-9...   5.826984   african   \n",
       "\n",
       "     domain split  gender  \n",
       "0  clinical  test  Female  \n",
       "1  clinical  test  Female  \n",
       "2  clinical  test  Female  "
      ]
     },
     "execution_count": 4,
     "metadata": {},
     "output_type": "execute_result"
    }
   ],
   "source": [
    "test_df = pd.read_csv(\"../data/intron-test-public-6346-clean.csv\")\n",
    "print(test_df.shape)\n",
    "test_df.head(3)"
   ]
  },
  {
   "cell_type": "code",
   "execution_count": 5,
   "id": "9b4d1718",
   "metadata": {},
   "outputs": [
    {
     "name": "stdout",
     "output_type": "stream",
     "text": [
      "(6319, 14)\n"
     ]
    }
   ],
   "source": [
    "test_df = test_df[~test_df.duplicated(subset=\"audio_paths\")]\n",
    "print(test_df.shape)"
   ]
  },
  {
   "cell_type": "code",
   "execution_count": 6,
   "id": "1ebcb968",
   "metadata": {},
   "outputs": [
    {
     "data": {
      "text/plain": [
       "(5474, 21)"
      ]
     },
     "execution_count": 6,
     "metadata": {},
     "output_type": "execute_result"
    }
   ],
   "source": [
    "test_df[\"audio_paths\"] = test_df[\"audio_paths\"].apply(lambda x: x.replace(\"/AfriSpeech-100/test/\", \"/data/data/intron/\"))\n",
    "df = pd.read_csv(\"../results/intron-open-test-whisper_medium-wer-0.3322-5474.csv\")\n",
    "df = pd.merge(df, test_df, on=\"audio_paths\")\n",
    "df.shape"
   ]
  },
  {
   "cell_type": "code",
   "execution_count": 7,
   "id": "7d3cb691",
   "metadata": {},
   "outputs": [
    {
     "data": {
      "text/html": [
       "<div>\n",
       "<style scoped>\n",
       "    .dataframe tbody tr th:only-of-type {\n",
       "        vertical-align: middle;\n",
       "    }\n",
       "\n",
       "    .dataframe tbody tr th {\n",
       "        vertical-align: top;\n",
       "    }\n",
       "\n",
       "    .dataframe thead th {\n",
       "        text-align: right;\n",
       "    }\n",
       "</style>\n",
       "<table border=\"1\" class=\"dataframe\">\n",
       "  <thead>\n",
       "    <tr style=\"text-align: right;\">\n",
       "      <th></th>\n",
       "      <th>idx</th>\n",
       "      <th>audio_paths</th>\n",
       "    </tr>\n",
       "  </thead>\n",
       "  <tbody>\n",
       "    <tr>\n",
       "      <th>0</th>\n",
       "      <td>149716</td>\n",
       "      <td>/data/data/intron/e696aff8-ce05-4c8e-a3b3-5634...</td>\n",
       "    </tr>\n",
       "    <tr>\n",
       "      <th>1</th>\n",
       "      <td>360395</td>\n",
       "      <td>/data/data/intron/f28baac3-cdcd-45a2-888c-a59f...</td>\n",
       "    </tr>\n",
       "    <tr>\n",
       "      <th>2</th>\n",
       "      <td>153514</td>\n",
       "      <td>/data/data/intron/13062a1b-662b-4afa-85b4-98f7...</td>\n",
       "    </tr>\n",
       "  </tbody>\n",
       "</table>\n",
       "</div>"
      ],
      "text/plain": [
       "      idx                                        audio_paths\n",
       "0  149716  /data/data/intron/e696aff8-ce05-4c8e-a3b3-5634...\n",
       "1  360395  /data/data/intron/f28baac3-cdcd-45a2-888c-a59f...\n",
       "2  153514  /data/data/intron/13062a1b-662b-4afa-85b4-98f7..."
      ]
     },
     "execution_count": 7,
     "metadata": {},
     "output_type": "execute_result"
    }
   ],
   "source": [
    "mapping_df = df[[\"idx\", \"audio_paths\"]]\n",
    "mapping_df.head(3)"
   ]
  },
  {
   "cell_type": "code",
   "execution_count": 8,
   "id": "1efdcd2a",
   "metadata": {},
   "outputs": [],
   "source": [
    "models_df = pd.DataFrame()\n",
    "models_df_clean = pd.DataFrame()"
   ]
  },
  {
   "cell_type": "code",
   "execution_count": 9,
   "id": "998869b4",
   "metadata": {},
   "outputs": [],
   "source": [
    "# Handy functions\n",
    "def transform_raw_df(df_raw, columns=[], fmt=\"intron_whisper\"):\n",
    "    assert fmt != \"\" or fmt is not None\n",
    "    \n",
    "    df = df_raw.copy()\n",
    "    \n",
    "    if fmt == \"intron_whisper\":\n",
    "        df = pd.merge(df, test_df, on=\"audio_paths\")\n",
    "        df = pd.merge(df, mapping_df, on=\"idx\")\n",
    "\n",
    "        df = df[columns+[\"transcript\", \"hypothesis\", \"audio_paths_x\", \"accent_x\"]]\n",
    "        df.loc[:, \"accent\"] = df.loc[:, \"accent_x\"]\n",
    "        df.loc[:, \"audio_paths\"] = df.loc[:, \"audio_paths_x\"]\n",
    "        df.loc[:, \"reference\"] = df.loc[:, \"transcript\"]\n",
    "        df.loc[:, \"prediction\"] = df.loc[:, \"hypothesis\"]\n",
    "        df = df.drop(columns=[\"accent_x\", \"audio_paths_x\", \"hypothesis\", \"transcript\"])\n",
    "    \n",
    "    elif fmt == \"african_nlp\":\n",
    "        df = pd.merge(df, test_df, on=\"audio_paths\")\n",
    "        df = pd.merge(df, mapping_df, on=\"idx\")\n",
    "\n",
    "        df = df[columns+[\"accent\", \"user_ids\", \"transcript\", 1]]\n",
    "        df.loc[:, \"reference\"] = df.loc[:, \"transcript\"]\n",
    "        df.loc[:, \"prediction\"] = df.loc[:, 1]\n",
    "        df = df.drop(columns=[1, \"transcript\"])\n",
    "\n",
    "    elif fmt == \"aws\":\n",
    "        df = pd.merge(df[[\"idx\", \"transcript\", \"predictions\"]], test_df, on=\"idx\")\n",
    "        df = pd.merge(df, mapping_df, on=\"idx\")\n",
    "\n",
    "        df = df[columns+[\"accent\", \"user_ids\", \"transcript_x\", \"predictions\"]]\n",
    "        df.loc[:, \"reference\"] = df.loc[:, \"transcript_x\"]\n",
    "        df.loc[:, \"prediction\"] = df.loc[:, \"predictions\"]\n",
    "        df = df.drop(columns=[\"transcript_x\", \"predictions\"])\n",
    "\n",
    "    elif fmt == \"azure\":\n",
    "        df = pd.merge(df[[\"idx\", \"transcript\", \"predictions_raw\"]], test_df, on=\"idx\")\n",
    "        df = pd.merge(df, mapping_df, on=\"idx\")\n",
    "\n",
    "        df = df[columns+[\"accent\", \"user_ids\", \"transcript_x\", \"predictions_raw\"]]\n",
    "        df.loc[:, \"reference\"] = df.loc[:, \"transcript_x\"]\n",
    "        df.loc[:, \"prediction\"] = df.loc[:, \"predictions_raw\"]\n",
    "        df = df.drop(columns=[\"transcript_x\", \"predictions_raw\"])\n",
    "    \n",
    "    elif fmt == \"wav2vec2\":\n",
    "        df.loc[:, \"audio_paths\"] = df[\"audio_path\"]\n",
    "        df = pd.merge(df[[\"audio_paths\", \"text\", \"predictions_raw\"]], test_df, on=\"audio_paths\")\n",
    "        df = pd.merge(df, mapping_df, on=\"idx\")\n",
    "\n",
    "        df = df[columns+[\"accent\", \"user_ids\", \"text\", \"predictions_raw\"]]\n",
    "        df.loc[:, \"reference\"] = df.loc[:, \"text\"]\n",
    "        df.loc[:, \"prediction\"] = df.loc[:, \"predictions_raw\"]\n",
    "        df = df.drop(columns=[\"text\", \"predictions_raw\"])\n",
    "    \n",
    "    elif fmt in df.columns:\n",
    "        df = pd.merge(df[[\"idx\", \"transcript\", fmt]], test_df, on=\"idx\")\n",
    "        df = pd.merge(df, mapping_df, on=\"idx\")\n",
    "\n",
    "        df = df[columns+[\"accent\", \"user_ids\", \"transcript_x\", fmt]]\n",
    "        df.loc[:, \"reference\"] = df.loc[:, \"transcript_x\"]\n",
    "        df.loc[:, \"prediction\"] = df.loc[:, fmt]\n",
    "        df = df.drop(columns=[\"transcript_x\", fmt])\n",
    "  \n",
    "    else:\n",
    "        raise NotImplementedError()\n",
    "    \n",
    "    print(df.shape)\n",
    "    df[\"wer\"] = df.apply(lambda x: wer_metric.compute(predictions=[x.prediction], references=[x.reference]), axis=1) \n",
    "    return df\n",
    "    \n",
    "\n",
    "\n",
    "def clean_and_compute_wer(df):\n",
    "    df_clean = df.copy()\n",
    "    \n",
    "    print(df_clean[df_clean[\"prediction\"].isnull()].shape)\n",
    "    \n",
    "    df_clean[\"prediction\"] = df_clean[\"prediction\"].fillna(\"\")\n",
    "    print(df_clean[df_clean[\"prediction\"].isnull()].shape)\n",
    "    \n",
    "    df_clean[\"reference\"] = df_clean[\"reference\"].apply(lambda x: clean_text(x))\n",
    "    df_clean[\"prediction\"] = df_clean[\"prediction\"].apply(lambda x: clean_text(x))\n",
    "    \n",
    "    df_clean[\"wer\"] = df_clean.apply(lambda x: wer_metric.compute(predictions=[x.prediction], \n",
    "                                                                  references=[x.reference]), axis=1)\n",
    "    return df_clean\n",
    "    \n",
    "    \n",
    "def write_to_folder(model_id_or_path, predictions_df, output_dir=\"../results/\", split=\"test\"):\n",
    "    wer = predictions_df[\"wer\"].mean()\n",
    "    output_path = f\"{output_dir}/intron-open-{split}-{model_id_or_path}-wer-{round(wer, 4)}-{len(predictions_df)}.csv\"\n",
    "    predictions_df.to_csv(output_path, index=False)"
   ]
  },
  {
   "cell_type": "code",
   "execution_count": 10,
   "id": "9442b107",
   "metadata": {},
   "outputs": [],
   "source": [
    "# make output dir\n",
    "import os\n",
    "os.makedirs(\"../results/raw\", exist_ok=True)\n",
    "os.makedirs(\"../results/normalized\", exist_ok=True)"
   ]
  },
  {
   "cell_type": "code",
   "execution_count": 11,
   "id": "d1848c9b",
   "metadata": {},
   "outputs": [],
   "source": [
    "columns = [\"idx\", \"domain\", \"gender\", \"duration\", \"age_group\"]"
   ]
  },
  {
   "cell_type": "markdown",
   "id": "29dd74c2",
   "metadata": {},
   "source": [
    "# Compute WER"
   ]
  },
  {
   "cell_type": "markdown",
   "id": "0476bf67",
   "metadata": {},
   "source": [
    "## OpenAI"
   ]
  },
  {
   "cell_type": "markdown",
   "id": "f8dab0d4",
   "metadata": {},
   "source": [
    "### Whisper-Large"
   ]
  },
  {
   "cell_type": "code",
   "execution_count": 12,
   "id": "345fbdb6",
   "metadata": {},
   "outputs": [
    {
     "name": "stdout",
     "output_type": "stream",
     "text": [
      "(5480, 9)\n",
      "(0, 10)\n",
      "(0, 10)\n"
     ]
    }
   ],
   "source": [
    "whspr_large_raw = pd.read_csv(\"../results/intron-open-test-whisper_large-wer-0.3057-5474.csv\")\n",
    "whspr_large = transform_raw_df(whspr_large_raw, columns=columns, fmt=\"intron_whisper\")\n",
    "whspr_large_clean = clean_and_compute_wer(whspr_large)"
   ]
  },
  {
   "cell_type": "code",
   "execution_count": 13,
   "id": "8ee1eca9",
   "metadata": {},
   "outputs": [
    {
     "data": {
      "text/html": [
       "<div>\n",
       "<style scoped>\n",
       "    .dataframe tbody tr th:only-of-type {\n",
       "        vertical-align: middle;\n",
       "    }\n",
       "\n",
       "    .dataframe tbody tr th {\n",
       "        vertical-align: top;\n",
       "    }\n",
       "\n",
       "    .dataframe thead th {\n",
       "        text-align: right;\n",
       "    }\n",
       "</style>\n",
       "<table border=\"1\" class=\"dataframe\">\n",
       "  <thead>\n",
       "    <tr style=\"text-align: right;\">\n",
       "      <th></th>\n",
       "      <th>idx</th>\n",
       "      <th>domain</th>\n",
       "      <th>gender</th>\n",
       "      <th>duration</th>\n",
       "      <th>age_group</th>\n",
       "      <th>accent</th>\n",
       "      <th>audio_paths</th>\n",
       "      <th>reference</th>\n",
       "      <th>prediction</th>\n",
       "      <th>wer</th>\n",
       "    </tr>\n",
       "  </thead>\n",
       "  <tbody>\n",
       "    <tr>\n",
       "      <th>0</th>\n",
       "      <td>149716</td>\n",
       "      <td>clinical</td>\n",
       "      <td>Female</td>\n",
       "      <td>10.776984</td>\n",
       "      <td>26-40</td>\n",
       "      <td>twi</td>\n",
       "      <td>/data/data/intron/e696aff8-ce05-4c8e-a3b3-5634...</td>\n",
       "      <td>Proteins break down to release amino acids whi...</td>\n",
       "      <td>Proteins break down to release amino acids whi...</td>\n",
       "      <td>0.130435</td>\n",
       "    </tr>\n",
       "    <tr>\n",
       "      <th>1</th>\n",
       "      <td>360395</td>\n",
       "      <td>clinical</td>\n",
       "      <td>Female</td>\n",
       "      <td>12.390000</td>\n",
       "      <td>19-25</td>\n",
       "      <td>igbo</td>\n",
       "      <td>/data/data/intron/f28baac3-cdcd-45a2-888c-a59f...</td>\n",
       "      <td>To grant such a patent license to a party mean...</td>\n",
       "      <td>To grant such a patent license to a party mean...</td>\n",
       "      <td>0.120000</td>\n",
       "    </tr>\n",
       "  </tbody>\n",
       "</table>\n",
       "</div>"
      ],
      "text/plain": [
       "      idx    domain  gender   duration age_group accent  \\\n",
       "0  149716  clinical  Female  10.776984     26-40    twi   \n",
       "1  360395  clinical  Female  12.390000     19-25   igbo   \n",
       "\n",
       "                                         audio_paths  \\\n",
       "0  /data/data/intron/e696aff8-ce05-4c8e-a3b3-5634...   \n",
       "1  /data/data/intron/f28baac3-cdcd-45a2-888c-a59f...   \n",
       "\n",
       "                                           reference  \\\n",
       "0  Proteins break down to release amino acids whi...   \n",
       "1  To grant such a patent license to a party mean...   \n",
       "\n",
       "                                          prediction       wer  \n",
       "0  Proteins break down to release amino acids whi...  0.130435  \n",
       "1  To grant such a patent license to a party mean...  0.120000  "
      ]
     },
     "execution_count": 13,
     "metadata": {},
     "output_type": "execute_result"
    }
   ],
   "source": [
    "whspr_large.head(2)"
   ]
  },
  {
   "cell_type": "code",
   "execution_count": 14,
   "id": "db817b2b",
   "metadata": {
    "scrolled": true
   },
   "outputs": [
    {
     "data": {
      "text/html": [
       "<div>\n",
       "<style scoped>\n",
       "    .dataframe tbody tr th:only-of-type {\n",
       "        vertical-align: middle;\n",
       "    }\n",
       "\n",
       "    .dataframe tbody tr th {\n",
       "        vertical-align: top;\n",
       "    }\n",
       "\n",
       "    .dataframe thead th {\n",
       "        text-align: right;\n",
       "    }\n",
       "</style>\n",
       "<table border=\"1\" class=\"dataframe\">\n",
       "  <thead>\n",
       "    <tr style=\"text-align: right;\">\n",
       "      <th></th>\n",
       "      <th>idx</th>\n",
       "      <th>domain</th>\n",
       "      <th>gender</th>\n",
       "      <th>duration</th>\n",
       "      <th>age_group</th>\n",
       "      <th>accent</th>\n",
       "      <th>audio_paths</th>\n",
       "      <th>reference</th>\n",
       "      <th>prediction</th>\n",
       "      <th>wer</th>\n",
       "    </tr>\n",
       "  </thead>\n",
       "  <tbody>\n",
       "    <tr>\n",
       "      <th>0</th>\n",
       "      <td>149716</td>\n",
       "      <td>clinical</td>\n",
       "      <td>Female</td>\n",
       "      <td>10.776984</td>\n",
       "      <td>26-40</td>\n",
       "      <td>twi</td>\n",
       "      <td>/data/data/intron/e696aff8-ce05-4c8e-a3b3-5634...</td>\n",
       "      <td>proteins break down to release amino acids whi...</td>\n",
       "      <td>proteins break down to release amino acids whi...</td>\n",
       "      <td>0.130435</td>\n",
       "    </tr>\n",
       "    <tr>\n",
       "      <th>1</th>\n",
       "      <td>360395</td>\n",
       "      <td>clinical</td>\n",
       "      <td>Female</td>\n",
       "      <td>12.390000</td>\n",
       "      <td>19-25</td>\n",
       "      <td>igbo</td>\n",
       "      <td>/data/data/intron/f28baac3-cdcd-45a2-888c-a59f...</td>\n",
       "      <td>to grant such a patent license to a party mean...</td>\n",
       "      <td>to grant such a patent license to a party mean...</td>\n",
       "      <td>0.000000</td>\n",
       "    </tr>\n",
       "  </tbody>\n",
       "</table>\n",
       "</div>"
      ],
      "text/plain": [
       "      idx    domain  gender   duration age_group accent  \\\n",
       "0  149716  clinical  Female  10.776984     26-40    twi   \n",
       "1  360395  clinical  Female  12.390000     19-25   igbo   \n",
       "\n",
       "                                         audio_paths  \\\n",
       "0  /data/data/intron/e696aff8-ce05-4c8e-a3b3-5634...   \n",
       "1  /data/data/intron/f28baac3-cdcd-45a2-888c-a59f...   \n",
       "\n",
       "                                           reference  \\\n",
       "0  proteins break down to release amino acids whi...   \n",
       "1  to grant such a patent license to a party mean...   \n",
       "\n",
       "                                          prediction       wer  \n",
       "0  proteins break down to release amino acids whi...  0.130435  \n",
       "1  to grant such a patent license to a party mean...  0.000000  "
      ]
     },
     "execution_count": 14,
     "metadata": {},
     "output_type": "execute_result"
    }
   ],
   "source": [
    "whspr_large_clean.head(2)"
   ]
  },
  {
   "cell_type": "code",
   "execution_count": 15,
   "id": "57ba6656",
   "metadata": {},
   "outputs": [
    {
     "name": "stdout",
     "output_type": "stream",
     "text": [
      "0.5094426796309084\n",
      "0.4035450795850903\n"
     ]
    }
   ],
   "source": [
    "# WER\n",
    "print(whspr_large[\"wer\"].mean())\n",
    "print(whspr_large_clean[\"wer\"].mean())"
   ]
  },
  {
   "cell_type": "code",
   "execution_count": 16,
   "id": "a9185ea1",
   "metadata": {},
   "outputs": [
    {
     "name": "stdout",
     "output_type": "stream",
     "text": [
      "0.38991497710922174\n",
      "0.3056859949510144\n"
     ]
    }
   ],
   "source": [
    "print(wer_metric.compute(predictions=whspr_large.prediction.array, references=whspr_large.reference.array))\n",
    "print(wer_metric.compute(predictions=whspr_large_clean.prediction.array, references=whspr_large_clean.reference.array))"
   ]
  },
  {
   "cell_type": "code",
   "execution_count": 17,
   "id": "270bdc70",
   "metadata": {},
   "outputs": [],
   "source": [
    "model_id_or_path = \"openai_whisper_large\"\n",
    "\n",
    "write_to_folder(model_id_or_path=model_id_or_path, \n",
    "                predictions_df=whspr_large, \n",
    "                output_dir=\"../results/raw\")\n",
    "\n",
    "write_to_folder(model_id_or_path=model_id_or_path, \n",
    "                predictions_df=whspr_large_clean,\n",
    "                output_dir=\"../results/normalized\")"
   ]
  },
  {
   "cell_type": "code",
   "execution_count": 18,
   "id": "cc77a50c",
   "metadata": {},
   "outputs": [],
   "source": [
    "whspr_large[\"name\"] = \"openai_whisper_large\"\n",
    "whspr_large_clean[\"name\"] = \"openai_whisper_large\"\n",
    "\n",
    "models_df = pd.concat([models_df, whspr_large])\n",
    "models_df_clean = pd.concat([models_df_clean, whspr_large_clean])"
   ]
  },
  {
   "cell_type": "markdown",
   "id": "0727b8b4",
   "metadata": {},
   "source": [
    "### Whisper-Medium"
   ]
  },
  {
   "cell_type": "code",
   "execution_count": 19,
   "id": "b5a451ac",
   "metadata": {
    "scrolled": true
   },
   "outputs": [
    {
     "name": "stdout",
     "output_type": "stream",
     "text": [
      "(5474, 8)\n"
     ]
    },
    {
     "data": {
      "text/html": [
       "<div>\n",
       "<style scoped>\n",
       "    .dataframe tbody tr th:only-of-type {\n",
       "        vertical-align: middle;\n",
       "    }\n",
       "\n",
       "    .dataframe tbody tr th {\n",
       "        vertical-align: top;\n",
       "    }\n",
       "\n",
       "    .dataframe thead th {\n",
       "        text-align: right;\n",
       "    }\n",
       "</style>\n",
       "<table border=\"1\" class=\"dataframe\">\n",
       "  <thead>\n",
       "    <tr style=\"text-align: right;\">\n",
       "      <th></th>\n",
       "      <th>hypothesis</th>\n",
       "      <th>reference</th>\n",
       "      <th>audio_paths</th>\n",
       "      <th>accent</th>\n",
       "      <th>pred_clean</th>\n",
       "      <th>ref_clean</th>\n",
       "      <th>hypothesis_clean</th>\n",
       "      <th>reference_clean</th>\n",
       "    </tr>\n",
       "  </thead>\n",
       "  <tbody>\n",
       "    <tr>\n",
       "      <th>0</th>\n",
       "      <td>Proteins break down to release amino acids whi...</td>\n",
       "      <td>Proteins break down to release amino acids whi...</td>\n",
       "      <td>/data/data/intron/e696aff8-ce05-4c8e-a3b3-5634...</td>\n",
       "      <td>twi</td>\n",
       "      <td>proteins break down to release amino acids whi...</td>\n",
       "      <td>proteins break down to release amino acids whi...</td>\n",
       "      <td>proteins break down to release amino acids whi...</td>\n",
       "      <td>proteins break down to release amino acids whi...</td>\n",
       "    </tr>\n",
       "    <tr>\n",
       "      <th>1</th>\n",
       "      <td>To grant such a patent license to a party mean...</td>\n",
       "      <td>To grant such a patent license to a party mean...</td>\n",
       "      <td>/data/data/intron/f28baac3-cdcd-45a2-888c-a59f...</td>\n",
       "      <td>igbo</td>\n",
       "      <td>to grant such a patent license to a party mean...</td>\n",
       "      <td>to grant such a patent license to a party mean...</td>\n",
       "      <td>to grant such a patent license to a party mean...</td>\n",
       "      <td>to grant such a patent license to a party mean...</td>\n",
       "    </tr>\n",
       "  </tbody>\n",
       "</table>\n",
       "</div>"
      ],
      "text/plain": [
       "                                          hypothesis  \\\n",
       "0  Proteins break down to release amino acids whi...   \n",
       "1  To grant such a patent license to a party mean...   \n",
       "\n",
       "                                           reference  \\\n",
       "0  Proteins break down to release amino acids whi...   \n",
       "1  To grant such a patent license to a party mean...   \n",
       "\n",
       "                                         audio_paths accent  \\\n",
       "0  /data/data/intron/e696aff8-ce05-4c8e-a3b3-5634...    twi   \n",
       "1  /data/data/intron/f28baac3-cdcd-45a2-888c-a59f...   igbo   \n",
       "\n",
       "                                          pred_clean  \\\n",
       "0  proteins break down to release amino acids whi...   \n",
       "1  to grant such a patent license to a party mean...   \n",
       "\n",
       "                                           ref_clean  \\\n",
       "0  proteins break down to release amino acids whi...   \n",
       "1  to grant such a patent license to a party mean...   \n",
       "\n",
       "                                    hypothesis_clean  \\\n",
       "0  proteins break down to release amino acids whi...   \n",
       "1  to grant such a patent license to a party mean...   \n",
       "\n",
       "                                     reference_clean  \n",
       "0  proteins break down to release amino acids whi...  \n",
       "1  to grant such a patent license to a party mean...  "
      ]
     },
     "execution_count": 19,
     "metadata": {},
     "output_type": "execute_result"
    }
   ],
   "source": [
    "whspr_medium_raw = pd.read_csv(\"../results/intron-open-test-whisper_medium-wer-0.3322-5474.csv\")\n",
    "print(whspr_medium_raw.shape)\n",
    "whspr_medium_raw.head(2)"
   ]
  },
  {
   "cell_type": "code",
   "execution_count": 20,
   "id": "8003725a",
   "metadata": {},
   "outputs": [
    {
     "name": "stdout",
     "output_type": "stream",
     "text": [
      "(5480, 9)\n",
      "(0, 10)\n",
      "(0, 10)\n"
     ]
    }
   ],
   "source": [
    "whspr_medium = transform_raw_df(whspr_medium_raw, columns=columns, fmt=\"intron_whisper\")\n",
    "whspr_medium_clean = clean_and_compute_wer(whspr_medium)"
   ]
  },
  {
   "cell_type": "code",
   "execution_count": 21,
   "id": "786fa06a",
   "metadata": {},
   "outputs": [
    {
     "name": "stdout",
     "output_type": "stream",
     "text": [
      "0.546139008274179\n",
      "0.42171545807051186\n"
     ]
    }
   ],
   "source": [
    "# WER\n",
    "print(whspr_medium[\"wer\"].mean())\n",
    "print(whspr_medium_clean[\"wer\"].mean())"
   ]
  },
  {
   "cell_type": "code",
   "execution_count": 22,
   "id": "b2e289fe",
   "metadata": {},
   "outputs": [],
   "source": [
    "model_id_or_path = \"openai_whisper_medium\"\n",
    "\n",
    "write_to_folder(model_id_or_path=model_id_or_path, \n",
    "                predictions_df=whspr_medium, \n",
    "                output_dir=\"../results/raw\")\n",
    "\n",
    "write_to_folder(model_id_or_path=model_id_or_path, \n",
    "                predictions_df=whspr_medium_clean,\n",
    "                output_dir=\"../results/normalized\")"
   ]
  },
  {
   "cell_type": "code",
   "execution_count": 23,
   "id": "94d7e583",
   "metadata": {},
   "outputs": [],
   "source": [
    "whspr_medium[\"name\"] = \"openai_whisper_medium\"\n",
    "whspr_medium_clean[\"name\"] = \"openai_whisper_medium\"\n",
    "\n",
    "models_df = pd.concat([models_df, whspr_medium])\n",
    "models_df_clean = pd.concat([models_df_clean, whspr_medium_clean])"
   ]
  },
  {
   "cell_type": "code",
   "execution_count": 24,
   "id": "8196f716",
   "metadata": {},
   "outputs": [
    {
     "name": "stdout",
     "output_type": "stream",
     "text": [
      "(5474, 8)\n",
      "(5480, 9)\n",
      "(0, 10)\n",
      "(0, 10)\n"
     ]
    }
   ],
   "source": [
    "whspr_medium_en_raw = pd.read_csv(\"../results/intron-open-test-whisper_medium.en-wer-0.3577-5474.csv\")\n",
    "print(whspr_medium_en_raw.shape)\n",
    "whspr_medium_en = transform_raw_df(whspr_medium_en_raw, columns=columns, fmt=\"intron_whisper\")\n",
    "whspr_medium_en_clean = clean_and_compute_wer(whspr_medium_en)"
   ]
  },
  {
   "cell_type": "code",
   "execution_count": 25,
   "id": "e1947a27",
   "metadata": {},
   "outputs": [
    {
     "name": "stdout",
     "output_type": "stream",
     "text": [
      "0.5513099559994978\n",
      "0.45046854042565565\n"
     ]
    }
   ],
   "source": [
    "print(whspr_medium_en[\"wer\"].mean())\n",
    "print(whspr_medium_en_clean[\"wer\"].mean())"
   ]
  },
  {
   "cell_type": "code",
   "execution_count": 26,
   "id": "e3ca3cbb",
   "metadata": {},
   "outputs": [],
   "source": [
    "model_id_or_path = \"openai_whisper_medium_en\"\n",
    "\n",
    "write_to_folder(model_id_or_path=model_id_or_path, \n",
    "                predictions_df=whspr_medium_en, \n",
    "                output_dir=\"../results/raw\")\n",
    "\n",
    "write_to_folder(model_id_or_path=model_id_or_path, \n",
    "                predictions_df=whspr_medium_en_clean,\n",
    "                output_dir=\"../results/normalized\")"
   ]
  },
  {
   "cell_type": "code",
   "execution_count": 27,
   "id": "74c9b638",
   "metadata": {},
   "outputs": [],
   "source": [
    "whspr_medium_en[\"name\"] = \"openai_whisper_medium_en\"\n",
    "whspr_medium_en_clean[\"name\"] = \"openai_whisper_medium_en\"\n",
    "\n",
    "models_df = pd.concat([models_df, whspr_medium_en])\n",
    "models_df_clean = pd.concat([models_df_clean, whspr_medium_en_clean])"
   ]
  },
  {
   "cell_type": "markdown",
   "id": "e7895fcd",
   "metadata": {},
   "source": [
    "### Whisper-Small"
   ]
  },
  {
   "cell_type": "code",
   "execution_count": 28,
   "id": "dd334293",
   "metadata": {},
   "outputs": [
    {
     "name": "stdout",
     "output_type": "stream",
     "text": [
      "(5474, 8)\n"
     ]
    },
    {
     "data": {
      "text/html": [
       "<div>\n",
       "<style scoped>\n",
       "    .dataframe tbody tr th:only-of-type {\n",
       "        vertical-align: middle;\n",
       "    }\n",
       "\n",
       "    .dataframe tbody tr th {\n",
       "        vertical-align: top;\n",
       "    }\n",
       "\n",
       "    .dataframe thead th {\n",
       "        text-align: right;\n",
       "    }\n",
       "</style>\n",
       "<table border=\"1\" class=\"dataframe\">\n",
       "  <thead>\n",
       "    <tr style=\"text-align: right;\">\n",
       "      <th></th>\n",
       "      <th>hypothesis</th>\n",
       "      <th>reference</th>\n",
       "      <th>audio_paths</th>\n",
       "      <th>accent</th>\n",
       "      <th>pred_clean</th>\n",
       "      <th>ref_clean</th>\n",
       "      <th>hypothesis_clean</th>\n",
       "      <th>reference_clean</th>\n",
       "    </tr>\n",
       "  </thead>\n",
       "  <tbody>\n",
       "    <tr>\n",
       "      <th>0</th>\n",
       "      <td>Proteins break down to release amino acids whi...</td>\n",
       "      <td>Proteins break down to release amino acids whi...</td>\n",
       "      <td>/data/data/intron/e696aff8-ce05-4c8e-a3b3-5634...</td>\n",
       "      <td>twi</td>\n",
       "      <td>proteins break down to release amino acids whi...</td>\n",
       "      <td>proteins break down to release amino acids whi...</td>\n",
       "      <td>proteins break down to release amino acids whi...</td>\n",
       "      <td>proteins break down to release amino acids whi...</td>\n",
       "    </tr>\n",
       "    <tr>\n",
       "      <th>1</th>\n",
       "      <td>To grant such a patent license to a party mean...</td>\n",
       "      <td>To grant such a patent license to a party mean...</td>\n",
       "      <td>/data/data/intron/f28baac3-cdcd-45a2-888c-a59f...</td>\n",
       "      <td>igbo</td>\n",
       "      <td>to grant such a patent license to a party mean...</td>\n",
       "      <td>to grant such a patent license to a party mean...</td>\n",
       "      <td>to grant such a patent license to a party mean...</td>\n",
       "      <td>to grant such a patent license to a party mean...</td>\n",
       "    </tr>\n",
       "  </tbody>\n",
       "</table>\n",
       "</div>"
      ],
      "text/plain": [
       "                                          hypothesis  \\\n",
       "0  Proteins break down to release amino acids whi...   \n",
       "1  To grant such a patent license to a party mean...   \n",
       "\n",
       "                                           reference  \\\n",
       "0  Proteins break down to release amino acids whi...   \n",
       "1  To grant such a patent license to a party mean...   \n",
       "\n",
       "                                         audio_paths accent  \\\n",
       "0  /data/data/intron/e696aff8-ce05-4c8e-a3b3-5634...    twi   \n",
       "1  /data/data/intron/f28baac3-cdcd-45a2-888c-a59f...   igbo   \n",
       "\n",
       "                                          pred_clean  \\\n",
       "0  proteins break down to release amino acids whi...   \n",
       "1  to grant such a patent license to a party mean...   \n",
       "\n",
       "                                           ref_clean  \\\n",
       "0  proteins break down to release amino acids whi...   \n",
       "1  to grant such a patent license to a party mean...   \n",
       "\n",
       "                                    hypothesis_clean  \\\n",
       "0  proteins break down to release amino acids whi...   \n",
       "1  to grant such a patent license to a party mean...   \n",
       "\n",
       "                                     reference_clean  \n",
       "0  proteins break down to release amino acids whi...  \n",
       "1  to grant such a patent license to a party mean...  "
      ]
     },
     "execution_count": 28,
     "metadata": {},
     "output_type": "execute_result"
    }
   ],
   "source": [
    "whspr_small_raw = pd.read_csv(\"../results/intron-open-test-whisper_small-wer-0.3907-5474.csv\")\n",
    "print(whspr_small_raw.shape)\n",
    "whspr_small_raw.head(2)"
   ]
  },
  {
   "cell_type": "code",
   "execution_count": 29,
   "id": "1a729e54",
   "metadata": {},
   "outputs": [
    {
     "name": "stdout",
     "output_type": "stream",
     "text": [
      "(5480, 9)\n",
      "(0, 10)\n",
      "(0, 10)\n"
     ]
    }
   ],
   "source": [
    "whspr_small = transform_raw_df(whspr_small_raw, columns=columns, fmt=\"intron_whisper\")\n",
    "whspr_small_clean = clean_and_compute_wer(whspr_small)"
   ]
  },
  {
   "cell_type": "code",
   "execution_count": 30,
   "id": "080aea10",
   "metadata": {},
   "outputs": [
    {
     "name": "stdout",
     "output_type": "stream",
     "text": [
      "0.5991580327132721\n",
      "0.4902641114067483\n"
     ]
    }
   ],
   "source": [
    "print(whspr_small[\"wer\"].mean())\n",
    "print(whspr_small_clean[\"wer\"].mean())"
   ]
  },
  {
   "cell_type": "code",
   "execution_count": 31,
   "id": "1854aef8",
   "metadata": {},
   "outputs": [],
   "source": [
    "model_id_or_path = \"openai_whisper_small\"\n",
    "\n",
    "write_to_folder(model_id_or_path=model_id_or_path, \n",
    "                predictions_df=whspr_small, \n",
    "                output_dir=\"../results/raw\")\n",
    "\n",
    "write_to_folder(model_id_or_path=model_id_or_path, \n",
    "                predictions_df=whspr_small_clean,\n",
    "                output_dir=\"../results/normalized\")"
   ]
  },
  {
   "cell_type": "code",
   "execution_count": 32,
   "id": "e35e423b",
   "metadata": {},
   "outputs": [],
   "source": [
    "whspr_small[\"name\"] = \"openai_whisper_small\"\n",
    "whspr_small_clean[\"name\"] = \"openai_whisper_small\"\n",
    "\n",
    "models_df = pd.concat([models_df, whspr_small])\n",
    "models_df_clean = pd.concat([models_df_clean, whspr_small_clean])"
   ]
  },
  {
   "cell_type": "code",
   "execution_count": 33,
   "id": "480cd853",
   "metadata": {},
   "outputs": [],
   "source": [
    "# missing whisper-small-en\n",
    "# whspr_small_en_raw = pd.read_csv(\"../results/intron-open-test-whiper\")\n",
    "# print(whspr_small_en_raw.shape)\n",
    "# whspr_small_en = transform_raw_df(whspr_small_en_raw, columns=columns, fmt=\"intron_whisper\")\n",
    "# whspr_small_en_clean = clean_and_compute_wer(whspr_small_en)"
   ]
  },
  {
   "cell_type": "code",
   "execution_count": 34,
   "id": "529d8652",
   "metadata": {},
   "outputs": [],
   "source": [
    "# print(whspr_small_en[\"wer\"].mean())\n",
    "# print(whspr_small_en_clean[\"wer\"].mean())"
   ]
  },
  {
   "cell_type": "code",
   "execution_count": 35,
   "id": "b792a3ae",
   "metadata": {},
   "outputs": [],
   "source": [
    "# model_id_or_path = \"openai_whisper_small_en\"\n",
    "\n",
    "# write_to_folder(model_id_or_path=model_id_or_path, \n",
    "#                 predictions_df=whspr_small_en, \n",
    "#                 output_dir=\"../results/raw\")\n",
    "\n",
    "# write_to_folder(model_id_or_path=model_id_or_path, \n",
    "#                 predictions_df=whspr_small_en_clean,\n",
    "#                 output_dir=\"../results/normalized\")"
   ]
  },
  {
   "cell_type": "code",
   "execution_count": 36,
   "id": "2102fdeb",
   "metadata": {},
   "outputs": [],
   "source": [
    "# whspr_small_en[\"name\"] = \"openai_whisper_small_en\"\n",
    "# whspr_small_en_clean[\"name\"] = \"openai_whisper_small_en\"\n",
    "\n",
    "# models_df = pd.concat([models_df, whspr_small_en])\n",
    "# models_df_clean = pd.concat([models_df_clean, whspr_small_en_clean])"
   ]
  },
  {
   "cell_type": "code",
   "execution_count": 37,
   "id": "3d159853",
   "metadata": {},
   "outputs": [
    {
     "data": {
      "text/plain": [
       "((21920, 11), (21920, 11))"
      ]
     },
     "execution_count": 37,
     "metadata": {},
     "output_type": "execute_result"
    }
   ],
   "source": [
    "models_df.shape, models_df_clean.shape"
   ]
  },
  {
   "cell_type": "markdown",
   "id": "b86cb620",
   "metadata": {},
   "source": [
    "## Nvidia"
   ]
  },
  {
   "cell_type": "markdown",
   "id": "aba08a0e",
   "metadata": {},
   "source": [
    "### Nemo-conformer-ctc-large"
   ]
  },
  {
   "cell_type": "code",
   "execution_count": 38,
   "id": "9b451d45",
   "metadata": {},
   "outputs": [],
   "source": [
    "# nemo_ctc_raw = pd.read_csv(\"../results/intron-open-test\", header=None, delimiter=\"\t\")\n",
    "# nemo_ctc_raw[\"audio_paths\"] = nemo_ctc_raw[0].apply(lambda x: x.replace(\"/scratch/pbsjobs/axy327/dev/\", \"/data/data/intron/\"))\n",
    "# print(nemo_ctc_raw.shape)\n",
    "# nemo_ctc_raw.head(2)"
   ]
  },
  {
   "cell_type": "code",
   "execution_count": 39,
   "id": "7279eea0",
   "metadata": {},
   "outputs": [],
   "source": [
    "# nemo_ctc = transform_raw_df(nemo_ctc_raw, columns=columns, fmt=\"african_nlp\")\n",
    "# nemo_ctc_clean = clean_and_compute_wer(nemo_ctc)"
   ]
  },
  {
   "cell_type": "code",
   "execution_count": 40,
   "id": "84c17db3",
   "metadata": {},
   "outputs": [],
   "source": [
    "# print(nemo_ctc[\"wer\"].mean())\n",
    "# print(nemo_ctc_clean[\"wer\"].mean())"
   ]
  },
  {
   "cell_type": "code",
   "execution_count": 41,
   "id": "5be5bdbd",
   "metadata": {},
   "outputs": [],
   "source": [
    "# model_id_or_path = \"nvidia_nemo_conformer_ctc_large\"\n",
    "\n",
    "# write_to_folder(model_id_or_path=model_id_or_path, \n",
    "#                 predictions_df=nemo_ctc, \n",
    "#                 output_dir=\"../results/raw\")\n",
    "\n",
    "# write_to_folder(model_id_or_path=model_id_or_path, \n",
    "#                 predictions_df=nemo_ctc_clean,\n",
    "#                 output_dir=\"../results/normalized\")"
   ]
  },
  {
   "cell_type": "code",
   "execution_count": 42,
   "id": "bae2ee30",
   "metadata": {},
   "outputs": [],
   "source": [
    "# nemo_ctc[\"name\"] = \"nvidia_nemo_conformer_ctc_large\"\n",
    "# nemo_ctc_clean[\"name\"] = \"nvidia_nemo_conformer_ctc_large\"\n",
    "\n",
    "# models_df = pd.concat([models_df, nemo_ctc])\n",
    "# models_df_clean = pd.concat([models_df_clean, nemo_ctc_clean])"
   ]
  },
  {
   "cell_type": "markdown",
   "id": "cf2f18d7",
   "metadata": {},
   "source": [
    "### Nemo-conformer-transducer-large"
   ]
  },
  {
   "cell_type": "code",
   "execution_count": 43,
   "id": "9d15f564",
   "metadata": {},
   "outputs": [],
   "source": [
    "# nemo_transducer_raw = pd.read_csv(\"../results/intron-open-test\", header=None, delimiter=\"\t\")\n",
    "# nemo_transducer_raw[\"audio_paths\"] = nemo_transducer_raw[0].apply(lambda x: x.replace(\"/scratch/pbsjobs/axy327/dev/\", \"/data/data/intron/\"))\n",
    "# print(nemo_transducer_raw.shape)\n",
    "# nemo_transducer_raw.head(2)"
   ]
  },
  {
   "cell_type": "code",
   "execution_count": 44,
   "id": "0d84cc10",
   "metadata": {},
   "outputs": [],
   "source": [
    "# nemo_transducer = transform_raw_df(nemo_transducer_raw, columns=columns, fmt=\"african_nlp\")\n",
    "# nemo_transducer_clean = clean_and_compute_wer(nemo_transducer)"
   ]
  },
  {
   "cell_type": "code",
   "execution_count": 45,
   "id": "f98653c5",
   "metadata": {
    "scrolled": true
   },
   "outputs": [],
   "source": [
    "# print(nemo_transducer[\"wer\"].mean())\n",
    "# print(nemo_transducer_clean[\"wer\"].mean())"
   ]
  },
  {
   "cell_type": "code",
   "execution_count": 46,
   "id": "dd015241",
   "metadata": {},
   "outputs": [],
   "source": [
    "# model_id_or_path = \"nvidia_nemo_conformer_transducer_large\"\n",
    "\n",
    "# write_to_folder(model_id_or_path=model_id_or_path, \n",
    "#                 predictions_df=nemo_transducer, \n",
    "#                 output_dir=\"../results/raw\")\n",
    "\n",
    "# write_to_folder(model_id_or_path=model_id_or_path, \n",
    "#                 predictions_df=nemo_transducer_clean,\n",
    "#                 output_dir=\"../results/normalized\")"
   ]
  },
  {
   "cell_type": "code",
   "execution_count": 47,
   "id": "5386c67e",
   "metadata": {},
   "outputs": [],
   "source": [
    "# nemo_transducer[\"name\"] = \"nvidia_nemo_conformer_transducer_large\"\n",
    "# nemo_transducer_clean[\"name\"] = \"nvidia_nemo_conformer_transducer_large\"\n",
    "\n",
    "# models_df = pd.concat([models_df, nemo_transducer])\n",
    "# models_df_clean = pd.concat([models_df_clean, nemo_transducer_clean])"
   ]
  },
  {
   "cell_type": "markdown",
   "id": "254ebfe5",
   "metadata": {},
   "source": [
    "## Speech Brain"
   ]
  },
  {
   "cell_type": "code",
   "execution_count": 48,
   "id": "a063a549",
   "metadata": {},
   "outputs": [],
   "source": [
    "# speech_brain_raw = pd.read_csv(\"../results/intron-open-test\", header=None, delimiter=\"\t\")\n",
    "# speech_brain_raw[\"audio_paths\"] = nemo_transducer_raw[0].apply(lambda x: x.replace(\"/scratch/pbsjobs/axy327/dev/\", \"/data/data/intron/\"))\n",
    "# print(speech_brain_raw.shape)\n",
    "# speech_brain_raw.head(2)"
   ]
  },
  {
   "cell_type": "code",
   "execution_count": 49,
   "id": "1c3a6c5c",
   "metadata": {},
   "outputs": [],
   "source": [
    "# speech_brain = transform_raw_df(speech_brain_raw, columns=columns, fmt=\"african_nlp\")\n",
    "# speech_brain_clean = clean_and_compute_wer(speech_brain)"
   ]
  },
  {
   "cell_type": "code",
   "execution_count": 50,
   "id": "5baf64f6",
   "metadata": {},
   "outputs": [],
   "source": [
    "# print(speech_brain[\"wer\"].mean())\n",
    "# print(speech_brain_clean[\"wer\"].mean())"
   ]
  },
  {
   "cell_type": "code",
   "execution_count": 51,
   "id": "bb10d23a",
   "metadata": {},
   "outputs": [],
   "source": [
    "# model_id_or_path=\"speechbrain_crdnn_rnnlm_librispeech\"\n",
    "\n",
    "# write_to_folder(model_id_or_path=model_id_or_path, \n",
    "#                 predictions_df=speech_brain, \n",
    "#                 output_dir=\"../results/raw\")\n",
    "\n",
    "# write_to_folder(model_id_or_path=model_id_or_path, \n",
    "#                 predictions_df=speech_brain_clean,\n",
    "#                 output_dir=\"../results/normalized\")"
   ]
  },
  {
   "cell_type": "code",
   "execution_count": 52,
   "id": "73f8e479",
   "metadata": {},
   "outputs": [],
   "source": [
    "# speech_brain[\"name\"] = \"speechbrain_crdnn_rnnlm_librispeech\"\n",
    "# speech_brain_clean[\"name\"] = \"speechbrain_crdnn_rnnlm_librispeech\"\n",
    "\n",
    "# models_df = pd.concat([models_df, speech_brain])\n",
    "# models_df_clean = pd.concat([models_df_clean, speech_brain_clean])"
   ]
  },
  {
   "cell_type": "markdown",
   "id": "4b0d7e40",
   "metadata": {},
   "source": [
    "## AWS"
   ]
  },
  {
   "cell_type": "markdown",
   "id": "acd8cfd3",
   "metadata": {},
   "source": [
    "### Medical API (Primary Care)"
   ]
  },
  {
   "cell_type": "code",
   "execution_count": 53,
   "id": "5c9a5f4e",
   "metadata": {},
   "outputs": [
    {
     "name": "stdout",
     "output_type": "stream",
     "text": [
      "(5498, 17)\n"
     ]
    },
    {
     "data": {
      "text/html": [
       "<div>\n",
       "<style scoped>\n",
       "    .dataframe tbody tr th:only-of-type {\n",
       "        vertical-align: middle;\n",
       "    }\n",
       "\n",
       "    .dataframe tbody tr th {\n",
       "        vertical-align: top;\n",
       "    }\n",
       "\n",
       "    .dataframe thead th {\n",
       "        text-align: right;\n",
       "    }\n",
       "</style>\n",
       "<table border=\"1\" class=\"dataframe\">\n",
       "  <thead>\n",
       "    <tr style=\"text-align: right;\">\n",
       "      <th></th>\n",
       "      <th>idx</th>\n",
       "      <th>user_ids</th>\n",
       "      <th>accent</th>\n",
       "      <th>age_group</th>\n",
       "      <th>country</th>\n",
       "      <th>transcript</th>\n",
       "      <th>nchars</th>\n",
       "      <th>audio_ids</th>\n",
       "      <th>audio_paths</th>\n",
       "      <th>duration</th>\n",
       "      <th>origin</th>\n",
       "      <th>domain</th>\n",
       "      <th>split</th>\n",
       "      <th>gender</th>\n",
       "      <th>predictions</th>\n",
       "      <th>predictions_clean</th>\n",
       "      <th>wer</th>\n",
       "    </tr>\n",
       "  </thead>\n",
       "  <tbody>\n",
       "    <tr>\n",
       "      <th>0</th>\n",
       "      <td>149716</td>\n",
       "      <td>5ab7b49ad1cab6392a764a69578dc822</td>\n",
       "      <td>twi</td>\n",
       "      <td>26-40</td>\n",
       "      <td>GH</td>\n",
       "      <td>Proteins break down to release amino acids whi...</td>\n",
       "      <td>136</td>\n",
       "      <td>3a21d00eec39a31f089b9b4f0f8afa21</td>\n",
       "      <td>/AfriSpeech-100/test/e696aff8-ce05-4c8e-a3b3-5...</td>\n",
       "      <td>10.776984</td>\n",
       "      <td>african</td>\n",
       "      <td>clinical</td>\n",
       "      <td>test</td>\n",
       "      <td>Female</td>\n",
       "      <td>NaN</td>\n",
       "      <td>NaN</td>\n",
       "      <td>1.0</td>\n",
       "    </tr>\n",
       "    <tr>\n",
       "      <th>1</th>\n",
       "      <td>360395</td>\n",
       "      <td>543c037ff44816e8b5ccd0d6cc92fe13</td>\n",
       "      <td>igbo</td>\n",
       "      <td>19-25</td>\n",
       "      <td>NG</td>\n",
       "      <td>To grant such a patent license to a party mean...</td>\n",
       "      <td>128</td>\n",
       "      <td>544fbff921d13b224adbbb0f637196ed</td>\n",
       "      <td>/AfriSpeech-100/test/f28baac3-cdcd-45a2-888c-a...</td>\n",
       "      <td>12.390000</td>\n",
       "      <td>nigerian</td>\n",
       "      <td>clinical</td>\n",
       "      <td>test</td>\n",
       "      <td>Female</td>\n",
       "      <td>NaN</td>\n",
       "      <td>NaN</td>\n",
       "      <td>1.0</td>\n",
       "    </tr>\n",
       "  </tbody>\n",
       "</table>\n",
       "</div>"
      ],
      "text/plain": [
       "      idx                          user_ids accent age_group country  \\\n",
       "0  149716  5ab7b49ad1cab6392a764a69578dc822    twi     26-40      GH   \n",
       "1  360395  543c037ff44816e8b5ccd0d6cc92fe13   igbo     19-25      NG   \n",
       "\n",
       "                                          transcript  nchars  \\\n",
       "0  Proteins break down to release amino acids whi...     136   \n",
       "1  To grant such a patent license to a party mean...     128   \n",
       "\n",
       "                          audio_ids  \\\n",
       "0  3a21d00eec39a31f089b9b4f0f8afa21   \n",
       "1  544fbff921d13b224adbbb0f637196ed   \n",
       "\n",
       "                                         audio_paths   duration    origin  \\\n",
       "0  /AfriSpeech-100/test/e696aff8-ce05-4c8e-a3b3-5...  10.776984   african   \n",
       "1  /AfriSpeech-100/test/f28baac3-cdcd-45a2-888c-a...  12.390000  nigerian   \n",
       "\n",
       "     domain split  gender  predictions  predictions_clean  wer  \n",
       "0  clinical  test  Female          NaN                NaN  1.0  \n",
       "1  clinical  test  Female          NaN                NaN  1.0  "
      ]
     },
     "execution_count": 53,
     "metadata": {},
     "output_type": "execute_result"
    }
   ],
   "source": [
    "aws_medical_raw = pd.read_csv(\"../results/intron-open-test-aws-transcribe-medical-wer-0.9998-5498.csv\")\n",
    "print(aws_medical_raw.shape)\n",
    "aws_medical_raw.head(2)"
   ]
  },
  {
   "cell_type": "code",
   "execution_count": 54,
   "id": "9b0f8db7",
   "metadata": {},
   "outputs": [
    {
     "data": {
      "text/plain": [
       "(5498, 17)"
      ]
     },
     "execution_count": 54,
     "metadata": {},
     "output_type": "execute_result"
    }
   ],
   "source": [
    "aws_medical_raw[aws_medical_raw.predictions.isna()].shape"
   ]
  },
  {
   "cell_type": "code",
   "execution_count": 55,
   "id": "c78fd449",
   "metadata": {},
   "outputs": [
    {
     "name": "stdout",
     "output_type": "stream",
     "text": [
      "(5492, 9)\n",
      "(5492, 10)\n",
      "(0, 10)\n"
     ]
    }
   ],
   "source": [
    "aws_medical = transform_raw_df(aws_medical_raw, columns=columns, fmt=\"aws\")\n",
    "aws_medical_clean = clean_and_compute_wer(aws_medical)"
   ]
  },
  {
   "cell_type": "code",
   "execution_count": 56,
   "id": "6b3f5889",
   "metadata": {},
   "outputs": [
    {
     "data": {
      "text/html": [
       "<div>\n",
       "<style scoped>\n",
       "    .dataframe tbody tr th:only-of-type {\n",
       "        vertical-align: middle;\n",
       "    }\n",
       "\n",
       "    .dataframe tbody tr th {\n",
       "        vertical-align: top;\n",
       "    }\n",
       "\n",
       "    .dataframe thead th {\n",
       "        text-align: right;\n",
       "    }\n",
       "</style>\n",
       "<table border=\"1\" class=\"dataframe\">\n",
       "  <thead>\n",
       "    <tr style=\"text-align: right;\">\n",
       "      <th></th>\n",
       "      <th>idx</th>\n",
       "      <th>domain</th>\n",
       "      <th>gender</th>\n",
       "      <th>duration</th>\n",
       "      <th>age_group</th>\n",
       "      <th>accent</th>\n",
       "      <th>user_ids</th>\n",
       "      <th>reference</th>\n",
       "      <th>prediction</th>\n",
       "      <th>wer</th>\n",
       "    </tr>\n",
       "  </thead>\n",
       "  <tbody>\n",
       "    <tr>\n",
       "      <th>0</th>\n",
       "      <td>149716</td>\n",
       "      <td>clinical</td>\n",
       "      <td>Female</td>\n",
       "      <td>10.776984</td>\n",
       "      <td>26-40</td>\n",
       "      <td>twi</td>\n",
       "      <td>5ab7b49ad1cab6392a764a69578dc822</td>\n",
       "      <td>Proteins break down to release amino acids whi...</td>\n",
       "      <td>NaN</td>\n",
       "      <td>1.0</td>\n",
       "    </tr>\n",
       "    <tr>\n",
       "      <th>1</th>\n",
       "      <td>360395</td>\n",
       "      <td>clinical</td>\n",
       "      <td>Female</td>\n",
       "      <td>12.390000</td>\n",
       "      <td>19-25</td>\n",
       "      <td>igbo</td>\n",
       "      <td>543c037ff44816e8b5ccd0d6cc92fe13</td>\n",
       "      <td>To grant such a patent license to a party mean...</td>\n",
       "      <td>NaN</td>\n",
       "      <td>1.0</td>\n",
       "    </tr>\n",
       "    <tr>\n",
       "      <th>2</th>\n",
       "      <td>153514</td>\n",
       "      <td>clinical</td>\n",
       "      <td>Female</td>\n",
       "      <td>5.826984</td>\n",
       "      <td>26-40</td>\n",
       "      <td>isizulu</td>\n",
       "      <td>e87486db0c365bded42184d56b46a2a7</td>\n",
       "      <td>Flatus indicates return of peristalsis.</td>\n",
       "      <td>NaN</td>\n",
       "      <td>1.0</td>\n",
       "    </tr>\n",
       "    <tr>\n",
       "      <th>3</th>\n",
       "      <td>129184</td>\n",
       "      <td>clinical</td>\n",
       "      <td>Female</td>\n",
       "      <td>12.985986</td>\n",
       "      <td>26-40</td>\n",
       "      <td>luganda</td>\n",
       "      <td>9d8db954e680843a47c3b7e224f12371</td>\n",
       "      <td>Since the degree of effect produced by a drug ...</td>\n",
       "      <td>NaN</td>\n",
       "      <td>1.0</td>\n",
       "    </tr>\n",
       "    <tr>\n",
       "      <th>4</th>\n",
       "      <td>155127</td>\n",
       "      <td>clinical</td>\n",
       "      <td>Female</td>\n",
       "      <td>9.730000</td>\n",
       "      <td>26-40</td>\n",
       "      <td>setswana</td>\n",
       "      <td>cdf91cf6e59ee411b985a40a955d4d1f</td>\n",
       "      <td>Protection of the host immune mechanism mighti...</td>\n",
       "      <td>NaN</td>\n",
       "      <td>1.0</td>\n",
       "    </tr>\n",
       "    <tr>\n",
       "      <th>...</th>\n",
       "      <td>...</td>\n",
       "      <td>...</td>\n",
       "      <td>...</td>\n",
       "      <td>...</td>\n",
       "      <td>...</td>\n",
       "      <td>...</td>\n",
       "      <td>...</td>\n",
       "      <td>...</td>\n",
       "      <td>...</td>\n",
       "      <td>...</td>\n",
       "    </tr>\n",
       "    <tr>\n",
       "      <th>5487</th>\n",
       "      <td>1045966</td>\n",
       "      <td>clinical</td>\n",
       "      <td>Male</td>\n",
       "      <td>7.000000</td>\n",
       "      <td>26-40</td>\n",
       "      <td>igarra</td>\n",
       "      <td>9a65a19b865e25e57cc6c56b4f63c381</td>\n",
       "      <td>Reason: PREOP CABG Admitting Diagnosis: ACUTE ...</td>\n",
       "      <td>NaN</td>\n",
       "      <td>1.0</td>\n",
       "    </tr>\n",
       "    <tr>\n",
       "      <th>5488</th>\n",
       "      <td>595068</td>\n",
       "      <td>clinical</td>\n",
       "      <td>Male</td>\n",
       "      <td>5.533000</td>\n",
       "      <td>19-25</td>\n",
       "      <td>delta</td>\n",
       "      <td>4cf08618140220f8bc9860242713c066</td>\n",
       "      <td>A blood culture showed GPCs in 18 blood cultur...</td>\n",
       "      <td>NaN</td>\n",
       "      <td>1.0</td>\n",
       "    </tr>\n",
       "    <tr>\n",
       "      <th>5489</th>\n",
       "      <td>1117295</td>\n",
       "      <td>clinical</td>\n",
       "      <td>Male</td>\n",
       "      <td>9.000000</td>\n",
       "      <td>26-40</td>\n",
       "      <td>yoruba</td>\n",
       "      <td>b809f451766446eb837c2ed5ecb40489</td>\n",
       "      <td>RR decreased from 30's to 20's with treatment ...</td>\n",
       "      <td>NaN</td>\n",
       "      <td>1.0</td>\n",
       "    </tr>\n",
       "    <tr>\n",
       "      <th>5490</th>\n",
       "      <td>475636</td>\n",
       "      <td>general</td>\n",
       "      <td>Female</td>\n",
       "      <td>7.237000</td>\n",
       "      <td>26-40</td>\n",
       "      <td>tswana</td>\n",
       "      <td>ed4d0a0d0446ad1ff0da31efac2b7578</td>\n",
       "      <td>International Day for Mangrove: Warri to host ...</td>\n",
       "      <td>NaN</td>\n",
       "      <td>1.0</td>\n",
       "    </tr>\n",
       "    <tr>\n",
       "      <th>5491</th>\n",
       "      <td>712100</td>\n",
       "      <td>general</td>\n",
       "      <td>Female</td>\n",
       "      <td>16.147000</td>\n",
       "      <td>19-25</td>\n",
       "      <td>ibibio</td>\n",
       "      <td>5856f88ae52888c338fe3ac15d673849</td>\n",
       "      <td>He said this on Wednesday night at the inaugur...</td>\n",
       "      <td>NaN</td>\n",
       "      <td>1.0</td>\n",
       "    </tr>\n",
       "  </tbody>\n",
       "</table>\n",
       "<p>5492 rows × 10 columns</p>\n",
       "</div>"
      ],
      "text/plain": [
       "          idx    domain  gender   duration age_group    accent  \\\n",
       "0      149716  clinical  Female  10.776984     26-40       twi   \n",
       "1      360395  clinical  Female  12.390000     19-25      igbo   \n",
       "2      153514  clinical  Female   5.826984     26-40   isizulu   \n",
       "3      129184  clinical  Female  12.985986     26-40   luganda   \n",
       "4      155127  clinical  Female   9.730000     26-40  setswana   \n",
       "...       ...       ...     ...        ...       ...       ...   \n",
       "5487  1045966  clinical    Male   7.000000     26-40    igarra   \n",
       "5488   595068  clinical    Male   5.533000     19-25     delta   \n",
       "5489  1117295  clinical    Male   9.000000     26-40    yoruba   \n",
       "5490   475636   general  Female   7.237000     26-40    tswana   \n",
       "5491   712100   general  Female  16.147000     19-25    ibibio   \n",
       "\n",
       "                              user_ids  \\\n",
       "0     5ab7b49ad1cab6392a764a69578dc822   \n",
       "1     543c037ff44816e8b5ccd0d6cc92fe13   \n",
       "2     e87486db0c365bded42184d56b46a2a7   \n",
       "3     9d8db954e680843a47c3b7e224f12371   \n",
       "4     cdf91cf6e59ee411b985a40a955d4d1f   \n",
       "...                                ...   \n",
       "5487  9a65a19b865e25e57cc6c56b4f63c381   \n",
       "5488  4cf08618140220f8bc9860242713c066   \n",
       "5489  b809f451766446eb837c2ed5ecb40489   \n",
       "5490  ed4d0a0d0446ad1ff0da31efac2b7578   \n",
       "5491  5856f88ae52888c338fe3ac15d673849   \n",
       "\n",
       "                                              reference  prediction  wer  \n",
       "0     Proteins break down to release amino acids whi...         NaN  1.0  \n",
       "1     To grant such a patent license to a party mean...         NaN  1.0  \n",
       "2               Flatus indicates return of peristalsis.         NaN  1.0  \n",
       "3     Since the degree of effect produced by a drug ...         NaN  1.0  \n",
       "4     Protection of the host immune mechanism mighti...         NaN  1.0  \n",
       "...                                                 ...         ...  ...  \n",
       "5487  Reason: PREOP CABG Admitting Diagnosis: ACUTE ...         NaN  1.0  \n",
       "5488  A blood culture showed GPCs in 18 blood cultur...         NaN  1.0  \n",
       "5489  RR decreased from 30's to 20's with treatment ...         NaN  1.0  \n",
       "5490  International Day for Mangrove: Warri to host ...         NaN  1.0  \n",
       "5491  He said this on Wednesday night at the inaugur...         NaN  1.0  \n",
       "\n",
       "[5492 rows x 10 columns]"
      ]
     },
     "execution_count": 56,
     "metadata": {},
     "output_type": "execute_result"
    }
   ],
   "source": [
    "aws_medical"
   ]
  },
  {
   "cell_type": "code",
   "execution_count": 57,
   "id": "f83eebbb",
   "metadata": {},
   "outputs": [
    {
     "name": "stdout",
     "output_type": "stream",
     "text": [
      "1.0\n",
      "1.0\n"
     ]
    }
   ],
   "source": [
    "print(aws_medical[\"wer\"].mean())\n",
    "print(aws_medical_clean[\"wer\"].mean())"
   ]
  },
  {
   "cell_type": "code",
   "execution_count": 58,
   "id": "8fd44c0a",
   "metadata": {},
   "outputs": [],
   "source": [
    "model_id_or_path=\"amazon_aws_transcribe_medical_api_primary_care\"\n",
    "\n",
    "write_to_folder(model_id_or_path=model_id_or_path, \n",
    "                predictions_df=aws_medical, \n",
    "                output_dir=\"../results/raw\")\n",
    "\n",
    "write_to_folder(model_id_or_path=model_id_or_path, \n",
    "                predictions_df=aws_medical_clean,\n",
    "                output_dir=\"../results/normalized\")"
   ]
  },
  {
   "cell_type": "code",
   "execution_count": 59,
   "id": "cab5c310",
   "metadata": {},
   "outputs": [],
   "source": [
    "aws_medical[\"name\"] = \"amazon_aws_transcribe_medical_api_primary_care\"\n",
    "aws_medical_clean[\"name\"] = \"amazon_aws_transcribe_medical_api_primary_care\"\n",
    "\n",
    "models_df = pd.concat([models_df, aws_medical])\n",
    "models_df_clean = pd.concat([models_df_clean, aws_medical_clean])"
   ]
  },
  {
   "cell_type": "markdown",
   "id": "e5632b59",
   "metadata": {},
   "source": [
    "### Non-medical API"
   ]
  },
  {
   "cell_type": "code",
   "execution_count": 60,
   "id": "955834bb",
   "metadata": {},
   "outputs": [
    {
     "name": "stdout",
     "output_type": "stream",
     "text": [
      "(5498, 17)\n"
     ]
    },
    {
     "data": {
      "text/html": [
       "<div>\n",
       "<style scoped>\n",
       "    .dataframe tbody tr th:only-of-type {\n",
       "        vertical-align: middle;\n",
       "    }\n",
       "\n",
       "    .dataframe tbody tr th {\n",
       "        vertical-align: top;\n",
       "    }\n",
       "\n",
       "    .dataframe thead th {\n",
       "        text-align: right;\n",
       "    }\n",
       "</style>\n",
       "<table border=\"1\" class=\"dataframe\">\n",
       "  <thead>\n",
       "    <tr style=\"text-align: right;\">\n",
       "      <th></th>\n",
       "      <th>idx</th>\n",
       "      <th>user_ids</th>\n",
       "      <th>accent</th>\n",
       "      <th>age_group</th>\n",
       "      <th>country</th>\n",
       "      <th>transcript</th>\n",
       "      <th>nchars</th>\n",
       "      <th>audio_ids</th>\n",
       "      <th>audio_paths</th>\n",
       "      <th>duration</th>\n",
       "      <th>origin</th>\n",
       "      <th>domain</th>\n",
       "      <th>split</th>\n",
       "      <th>gender</th>\n",
       "      <th>predictions</th>\n",
       "      <th>predictions_clean</th>\n",
       "      <th>wer</th>\n",
       "    </tr>\n",
       "  </thead>\n",
       "  <tbody>\n",
       "    <tr>\n",
       "      <th>0</th>\n",
       "      <td>149716</td>\n",
       "      <td>5ab7b49ad1cab6392a764a69578dc822</td>\n",
       "      <td>twi</td>\n",
       "      <td>26-40</td>\n",
       "      <td>GH</td>\n",
       "      <td>Proteins break down to release amino acids whi...</td>\n",
       "      <td>136</td>\n",
       "      <td>3a21d00eec39a31f089b9b4f0f8afa21</td>\n",
       "      <td>/AfriSpeech-100/test/e696aff8-ce05-4c8e-a3b3-5...</td>\n",
       "      <td>10.776984</td>\n",
       "      <td>african</td>\n",
       "      <td>clinical</td>\n",
       "      <td>test</td>\n",
       "      <td>Female</td>\n",
       "      <td>NaN</td>\n",
       "      <td>NaN</td>\n",
       "      <td>1.00</td>\n",
       "    </tr>\n",
       "    <tr>\n",
       "      <th>1</th>\n",
       "      <td>360395</td>\n",
       "      <td>543c037ff44816e8b5ccd0d6cc92fe13</td>\n",
       "      <td>igbo</td>\n",
       "      <td>19-25</td>\n",
       "      <td>NG</td>\n",
       "      <td>To grant such a patent license to a party mean...</td>\n",
       "      <td>128</td>\n",
       "      <td>544fbff921d13b224adbbb0f637196ed</td>\n",
       "      <td>/AfriSpeech-100/test/f28baac3-cdcd-45a2-888c-a...</td>\n",
       "      <td>12.390000</td>\n",
       "      <td>nigerian</td>\n",
       "      <td>clinical</td>\n",
       "      <td>test</td>\n",
       "      <td>Female</td>\n",
       "      <td>We should be asking ourselves whether we want ...</td>\n",
       "      <td>NaN</td>\n",
       "      <td>0.96</td>\n",
       "    </tr>\n",
       "  </tbody>\n",
       "</table>\n",
       "</div>"
      ],
      "text/plain": [
       "      idx                          user_ids accent age_group country  \\\n",
       "0  149716  5ab7b49ad1cab6392a764a69578dc822    twi     26-40      GH   \n",
       "1  360395  543c037ff44816e8b5ccd0d6cc92fe13   igbo     19-25      NG   \n",
       "\n",
       "                                          transcript  nchars  \\\n",
       "0  Proteins break down to release amino acids whi...     136   \n",
       "1  To grant such a patent license to a party mean...     128   \n",
       "\n",
       "                          audio_ids  \\\n",
       "0  3a21d00eec39a31f089b9b4f0f8afa21   \n",
       "1  544fbff921d13b224adbbb0f637196ed   \n",
       "\n",
       "                                         audio_paths   duration    origin  \\\n",
       "0  /AfriSpeech-100/test/e696aff8-ce05-4c8e-a3b3-5...  10.776984   african   \n",
       "1  /AfriSpeech-100/test/f28baac3-cdcd-45a2-888c-a...  12.390000  nigerian   \n",
       "\n",
       "     domain split  gender                                        predictions  \\\n",
       "0  clinical  test  Female                                                NaN   \n",
       "1  clinical  test  Female  We should be asking ourselves whether we want ...   \n",
       "\n",
       "   predictions_clean   wer  \n",
       "0                NaN  1.00  \n",
       "1                NaN  0.96  "
      ]
     },
     "execution_count": 60,
     "metadata": {},
     "output_type": "execute_result"
    }
   ],
   "source": [
    "aws_raw = pd.read_csv(\"../results/intron-open-test-aws-transcribe-wer-1.0023-5498.csv\")\n",
    "print(aws_raw.shape)\n",
    "aws_raw.head(2)"
   ]
  },
  {
   "cell_type": "code",
   "execution_count": 61,
   "id": "eac662b3",
   "metadata": {},
   "outputs": [
    {
     "data": {
      "text/plain": [
       "(5473, 17)"
      ]
     },
     "execution_count": 61,
     "metadata": {},
     "output_type": "execute_result"
    }
   ],
   "source": [
    "aws_raw[aws_raw.predictions.isna()].shape"
   ]
  },
  {
   "cell_type": "code",
   "execution_count": 62,
   "id": "130c15ee",
   "metadata": {},
   "outputs": [
    {
     "name": "stdout",
     "output_type": "stream",
     "text": [
      "(5492, 9)\n",
      "(5467, 10)\n",
      "(0, 10)\n"
     ]
    }
   ],
   "source": [
    "aws = transform_raw_df(aws_raw, columns=columns, fmt=\"aws\")\n",
    "aws_clean = clean_and_compute_wer(aws)"
   ]
  },
  {
   "cell_type": "code",
   "execution_count": 63,
   "id": "82d46d50",
   "metadata": {},
   "outputs": [
    {
     "name": "stdout",
     "output_type": "stream",
     "text": [
      "1.00278926781173\n",
      "1.0024512894511732\n"
     ]
    }
   ],
   "source": [
    "print(aws[\"wer\"].mean())\n",
    "print(aws_clean[\"wer\"].mean())"
   ]
  },
  {
   "cell_type": "code",
   "execution_count": 64,
   "id": "cf4d1f3a",
   "metadata": {},
   "outputs": [],
   "source": [
    "model_id_or_path=\"amazon_aws_transcribe_api\"\n",
    "\n",
    "write_to_folder(model_id_or_path=model_id_or_path, \n",
    "                predictions_df=aws, \n",
    "                output_dir=\"../results/raw\")\n",
    "\n",
    "write_to_folder(model_id_or_path=model_id_or_path, \n",
    "                predictions_df=aws_clean,\n",
    "                output_dir=\"../results/normalized\")"
   ]
  },
  {
   "cell_type": "code",
   "execution_count": 65,
   "id": "0db45c86",
   "metadata": {},
   "outputs": [],
   "source": [
    "aws[\"name\"] = \"amazon_aws_transcribe_api\"\n",
    "aws_clean[\"name\"] = \"amazon_aws_transcribe_api\"\n",
    "\n",
    "models_df = pd.concat([models_df, aws])\n",
    "models_df_clean = pd.concat([models_df_clean, aws_clean])"
   ]
  },
  {
   "cell_type": "markdown",
   "id": "d7b9efbc",
   "metadata": {},
   "source": [
    "## Google"
   ]
  },
  {
   "cell_type": "markdown",
   "id": "d6b4e743",
   "metadata": {},
   "source": [
    "### GCP Speech Medical API"
   ]
  },
  {
   "cell_type": "code",
   "execution_count": 66,
   "id": "bc2b27a1",
   "metadata": {},
   "outputs": [
    {
     "name": "stdout",
     "output_type": "stream",
     "text": [
      "(5498, 17)\n"
     ]
    },
    {
     "data": {
      "text/html": [
       "<div>\n",
       "<style scoped>\n",
       "    .dataframe tbody tr th:only-of-type {\n",
       "        vertical-align: middle;\n",
       "    }\n",
       "\n",
       "    .dataframe tbody tr th {\n",
       "        vertical-align: top;\n",
       "    }\n",
       "\n",
       "    .dataframe thead th {\n",
       "        text-align: right;\n",
       "    }\n",
       "</style>\n",
       "<table border=\"1\" class=\"dataframe\">\n",
       "  <thead>\n",
       "    <tr style=\"text-align: right;\">\n",
       "      <th></th>\n",
       "      <th>idx</th>\n",
       "      <th>user_ids</th>\n",
       "      <th>accent</th>\n",
       "      <th>age_group</th>\n",
       "      <th>country</th>\n",
       "      <th>transcript</th>\n",
       "      <th>nchars</th>\n",
       "      <th>audio_ids</th>\n",
       "      <th>audio_paths</th>\n",
       "      <th>duration</th>\n",
       "      <th>origin</th>\n",
       "      <th>domain</th>\n",
       "      <th>split</th>\n",
       "      <th>gender</th>\n",
       "      <th>predictions_raw</th>\n",
       "      <th>predictions</th>\n",
       "      <th>wer</th>\n",
       "    </tr>\n",
       "  </thead>\n",
       "  <tbody>\n",
       "    <tr>\n",
       "      <th>0</th>\n",
       "      <td>149716</td>\n",
       "      <td>5ab7b49ad1cab6392a764a69578dc822</td>\n",
       "      <td>twi</td>\n",
       "      <td>26-40</td>\n",
       "      <td>GH</td>\n",
       "      <td>Proteins break down to release amino acids whi...</td>\n",
       "      <td>136</td>\n",
       "      <td>3a21d00eec39a31f089b9b4f0f8afa21</td>\n",
       "      <td>/data/data/intron/e696aff8-ce05-4c8e-a3b3-5634...</td>\n",
       "      <td>10.776984</td>\n",
       "      <td>african</td>\n",
       "      <td>clinical</td>\n",
       "      <td>test</td>\n",
       "      <td>Female</td>\n",
       "      <td>protein is greater than 60 , which I used as f...</td>\n",
       "      <td>protein is greater than 60 , which i used as f...</td>\n",
       "      <td>0.652174</td>\n",
       "    </tr>\n",
       "    <tr>\n",
       "      <th>1</th>\n",
       "      <td>360395</td>\n",
       "      <td>543c037ff44816e8b5ccd0d6cc92fe13</td>\n",
       "      <td>igbo</td>\n",
       "      <td>19-25</td>\n",
       "      <td>NG</td>\n",
       "      <td>To grant such a patent license to a party mean...</td>\n",
       "      <td>128</td>\n",
       "      <td>544fbff921d13b224adbbb0f637196ed</td>\n",
       "      <td>/data/data/intron/f28baac3-cdcd-45a2-888c-a59f...</td>\n",
       "      <td>12.390000</td>\n",
       "      <td>nigerian</td>\n",
       "      <td>clinical</td>\n",
       "      <td>test</td>\n",
       "      <td>Female</td>\n",
       "      <td>2 g such a patent license to a patchy means to...</td>\n",
       "      <td>2 g such a patent license to a patchy means to...</td>\n",
       "      <td>0.280000</td>\n",
       "    </tr>\n",
       "  </tbody>\n",
       "</table>\n",
       "</div>"
      ],
      "text/plain": [
       "      idx                          user_ids accent age_group country  \\\n",
       "0  149716  5ab7b49ad1cab6392a764a69578dc822    twi     26-40      GH   \n",
       "1  360395  543c037ff44816e8b5ccd0d6cc92fe13   igbo     19-25      NG   \n",
       "\n",
       "                                          transcript  nchars  \\\n",
       "0  Proteins break down to release amino acids whi...     136   \n",
       "1  To grant such a patent license to a party mean...     128   \n",
       "\n",
       "                          audio_ids  \\\n",
       "0  3a21d00eec39a31f089b9b4f0f8afa21   \n",
       "1  544fbff921d13b224adbbb0f637196ed   \n",
       "\n",
       "                                         audio_paths   duration    origin  \\\n",
       "0  /data/data/intron/e696aff8-ce05-4c8e-a3b3-5634...  10.776984   african   \n",
       "1  /data/data/intron/f28baac3-cdcd-45a2-888c-a59f...  12.390000  nigerian   \n",
       "\n",
       "     domain split  gender                                    predictions_raw  \\\n",
       "0  clinical  test  Female  protein is greater than 60 , which I used as f...   \n",
       "1  clinical  test  Female  2 g such a patent license to a patchy means to...   \n",
       "\n",
       "                                         predictions       wer  \n",
       "0  protein is greater than 60 , which i used as f...  0.652174  \n",
       "1  2 g such a patent license to a patchy means to...  0.280000  "
      ]
     },
     "execution_count": 66,
     "metadata": {},
     "output_type": "execute_result"
    }
   ],
   "source": [
    "gcp_medical_raw = pd.read_csv(\"../results/intron-open-test-gcp-transcribe-medical-wer-0.625-5498.csv\")\n",
    "print(gcp_medical_raw.shape)\n",
    "gcp_medical_raw.head(2)"
   ]
  },
  {
   "cell_type": "code",
   "execution_count": 67,
   "id": "d5545c31",
   "metadata": {},
   "outputs": [
    {
     "name": "stdout",
     "output_type": "stream",
     "text": [
      "(5492, 9)\n",
      "(73, 10)\n",
      "(0, 10)\n"
     ]
    }
   ],
   "source": [
    "gcp_medical = transform_raw_df(gcp_medical_raw, columns=columns, fmt=\"aws\")\n",
    "gcp_medical_clean = clean_and_compute_wer(gcp_medical)"
   ]
  },
  {
   "cell_type": "code",
   "execution_count": 68,
   "id": "600b22c1",
   "metadata": {},
   "outputs": [
    {
     "name": "stdout",
     "output_type": "stream",
     "text": [
      "0.6985600415335655\n",
      "0.6250368670367586\n"
     ]
    }
   ],
   "source": [
    "print(gcp_medical[\"wer\"].mean())\n",
    "print(gcp_medical_clean[\"wer\"].mean())"
   ]
  },
  {
   "cell_type": "code",
   "execution_count": 69,
   "id": "4db1b64a",
   "metadata": {},
   "outputs": [],
   "source": [
    "model_id_or_path=\"google_gcp_medical_speech_api\"\n",
    "\n",
    "write_to_folder(model_id_or_path=model_id_or_path, \n",
    "                predictions_df=gcp_medical, \n",
    "                output_dir=\"../results/raw\")\n",
    "\n",
    "write_to_folder(model_id_or_path=model_id_or_path, \n",
    "                predictions_df=gcp_medical_clean,\n",
    "                output_dir=\"../results/normalized\")"
   ]
  },
  {
   "cell_type": "code",
   "execution_count": 70,
   "id": "d0586e18",
   "metadata": {},
   "outputs": [],
   "source": [
    "gcp_medical[\"name\"] = \"google_gcp_medical_speech_api\"\n",
    "gcp_medical_clean[\"name\"] = \"google_gcp_medical_speech_api\"\n",
    "\n",
    "models_df = pd.concat([models_df, gcp_medical])\n",
    "models_df_clean = pd.concat([models_df_clean, gcp_medical_clean])"
   ]
  },
  {
   "cell_type": "markdown",
   "id": "b918f5e6",
   "metadata": {},
   "source": [
    "### GCP Speech Non-medical API"
   ]
  },
  {
   "cell_type": "code",
   "execution_count": 71,
   "id": "6707e852",
   "metadata": {},
   "outputs": [
    {
     "name": "stdout",
     "output_type": "stream",
     "text": [
      "(5498, 17)\n"
     ]
    },
    {
     "data": {
      "text/html": [
       "<div>\n",
       "<style scoped>\n",
       "    .dataframe tbody tr th:only-of-type {\n",
       "        vertical-align: middle;\n",
       "    }\n",
       "\n",
       "    .dataframe tbody tr th {\n",
       "        vertical-align: top;\n",
       "    }\n",
       "\n",
       "    .dataframe thead th {\n",
       "        text-align: right;\n",
       "    }\n",
       "</style>\n",
       "<table border=\"1\" class=\"dataframe\">\n",
       "  <thead>\n",
       "    <tr style=\"text-align: right;\">\n",
       "      <th></th>\n",
       "      <th>idx</th>\n",
       "      <th>user_ids</th>\n",
       "      <th>accent</th>\n",
       "      <th>age_group</th>\n",
       "      <th>country</th>\n",
       "      <th>transcript</th>\n",
       "      <th>nchars</th>\n",
       "      <th>audio_ids</th>\n",
       "      <th>audio_paths</th>\n",
       "      <th>duration</th>\n",
       "      <th>origin</th>\n",
       "      <th>domain</th>\n",
       "      <th>split</th>\n",
       "      <th>gender</th>\n",
       "      <th>predictions_raw</th>\n",
       "      <th>predictions</th>\n",
       "      <th>wer</th>\n",
       "    </tr>\n",
       "  </thead>\n",
       "  <tbody>\n",
       "    <tr>\n",
       "      <th>0</th>\n",
       "      <td>149716</td>\n",
       "      <td>5ab7b49ad1cab6392a764a69578dc822</td>\n",
       "      <td>twi</td>\n",
       "      <td>26-40</td>\n",
       "      <td>GH</td>\n",
       "      <td>Proteins break down to release amino acids whi...</td>\n",
       "      <td>136</td>\n",
       "      <td>3a21d00eec39a31f089b9b4f0f8afa21</td>\n",
       "      <td>/data/data/intron/e696aff8-ce05-4c8e-a3b3-5634...</td>\n",
       "      <td>10.776984</td>\n",
       "      <td>african</td>\n",
       "      <td>clinical</td>\n",
       "      <td>test</td>\n",
       "      <td>Female</td>\n",
       "      <td>amino acids</td>\n",
       "      <td>amino acids</td>\n",
       "      <td>0.913043</td>\n",
       "    </tr>\n",
       "    <tr>\n",
       "      <th>1</th>\n",
       "      <td>360395</td>\n",
       "      <td>543c037ff44816e8b5ccd0d6cc92fe13</td>\n",
       "      <td>igbo</td>\n",
       "      <td>19-25</td>\n",
       "      <td>NG</td>\n",
       "      <td>To grant such a patent license to a party mean...</td>\n",
       "      <td>128</td>\n",
       "      <td>544fbff921d13b224adbbb0f637196ed</td>\n",
       "      <td>/data/data/intron/f28baac3-cdcd-45a2-888c-a59f...</td>\n",
       "      <td>12.390000</td>\n",
       "      <td>nigerian</td>\n",
       "      <td>clinical</td>\n",
       "      <td>test</td>\n",
       "      <td>Female</td>\n",
       "      <td>to Grant such a patent license to a party mean...</td>\n",
       "      <td>to grant such a patent license to a party mean...</td>\n",
       "      <td>0.000000</td>\n",
       "    </tr>\n",
       "  </tbody>\n",
       "</table>\n",
       "</div>"
      ],
      "text/plain": [
       "      idx                          user_ids accent age_group country  \\\n",
       "0  149716  5ab7b49ad1cab6392a764a69578dc822    twi     26-40      GH   \n",
       "1  360395  543c037ff44816e8b5ccd0d6cc92fe13   igbo     19-25      NG   \n",
       "\n",
       "                                          transcript  nchars  \\\n",
       "0  Proteins break down to release amino acids whi...     136   \n",
       "1  To grant such a patent license to a party mean...     128   \n",
       "\n",
       "                          audio_ids  \\\n",
       "0  3a21d00eec39a31f089b9b4f0f8afa21   \n",
       "1  544fbff921d13b224adbbb0f637196ed   \n",
       "\n",
       "                                         audio_paths   duration    origin  \\\n",
       "0  /data/data/intron/e696aff8-ce05-4c8e-a3b3-5634...  10.776984   african   \n",
       "1  /data/data/intron/f28baac3-cdcd-45a2-888c-a59f...  12.390000  nigerian   \n",
       "\n",
       "     domain split  gender                                    predictions_raw  \\\n",
       "0  clinical  test  Female                                        amino acids   \n",
       "1  clinical  test  Female  to Grant such a patent license to a party mean...   \n",
       "\n",
       "                                         predictions       wer  \n",
       "0                                        amino acids  0.913043  \n",
       "1  to grant such a patent license to a party mean...  0.000000  "
      ]
     },
     "execution_count": 71,
     "metadata": {},
     "output_type": "execute_result"
    }
   ],
   "source": [
    "gcp_raw = pd.read_csv(\"../results/intron-open-test-gcp-transcribe-wer-0.6357-5498.csv\")\n",
    "print(gcp_raw.shape)\n",
    "gcp_raw.head(2)"
   ]
  },
  {
   "cell_type": "code",
   "execution_count": 72,
   "id": "d0f136c1",
   "metadata": {},
   "outputs": [
    {
     "name": "stdout",
     "output_type": "stream",
     "text": [
      "(5492, 9)\n",
      "(170, 10)\n",
      "(0, 10)\n"
     ]
    }
   ],
   "source": [
    "gcp = transform_raw_df(gcp_raw, columns=columns, fmt=\"aws\")\n",
    "gcp_clean = clean_and_compute_wer(gcp)"
   ]
  },
  {
   "cell_type": "code",
   "execution_count": 73,
   "id": "481fb04c",
   "metadata": {},
   "outputs": [
    {
     "name": "stdout",
     "output_type": "stream",
     "text": [
      "0.7070144850330559\n",
      "0.6361551076492743\n"
     ]
    }
   ],
   "source": [
    "print(gcp[\"wer\"].mean())\n",
    "print(gcp_clean[\"wer\"].mean())"
   ]
  },
  {
   "cell_type": "code",
   "execution_count": 74,
   "id": "2999df2f",
   "metadata": {},
   "outputs": [],
   "source": [
    "model_id_or_path=\"google_gcp_speech_api\"\n",
    "\n",
    "write_to_folder(model_id_or_path=model_id_or_path, \n",
    "                predictions_df=gcp, \n",
    "                output_dir=\"../results/raw\")\n",
    "\n",
    "write_to_folder(model_id_or_path=model_id_or_path, \n",
    "                predictions_df=gcp_clean,\n",
    "                output_dir=\"../results/normalized\")"
   ]
  },
  {
   "cell_type": "code",
   "execution_count": 75,
   "id": "6f865038",
   "metadata": {},
   "outputs": [],
   "source": [
    "gcp[\"name\"] = \"google_gcp_speech_api\"\n",
    "gcp_clean[\"name\"] = \"google_gcp_speech_api\"\n",
    "\n",
    "models_df = pd.concat([models_df, gcp])\n",
    "models_df_clean = pd.concat([models_df_clean, gcp_clean])"
   ]
  },
  {
   "cell_type": "markdown",
   "id": "49b46f5d",
   "metadata": {},
   "source": [
    "## Microsoft"
   ]
  },
  {
   "cell_type": "markdown",
   "id": "d2e3b59f",
   "metadata": {},
   "source": [
    "### Azure"
   ]
  },
  {
   "cell_type": "code",
   "execution_count": 76,
   "id": "22dee873",
   "metadata": {},
   "outputs": [],
   "source": [
    "# azure_raw = pd.read_csv(\"../results/intron-open-test\")\n",
    "# print(azure_raw.shape)\n",
    "# azure_raw.head(2)"
   ]
  },
  {
   "cell_type": "code",
   "execution_count": 77,
   "id": "24a7af95",
   "metadata": {},
   "outputs": [],
   "source": [
    "# azure = transform_raw_df(azure_raw, columns=columns, fmt=\"azure\")\n",
    "# azure_clean = clean_and_compute_wer(azure)"
   ]
  },
  {
   "cell_type": "code",
   "execution_count": 78,
   "id": "8e166d01",
   "metadata": {},
   "outputs": [],
   "source": [
    "# print(azure[\"wer\"].mean())\n",
    "# print(azure_clean[\"wer\"].mean())"
   ]
  },
  {
   "cell_type": "code",
   "execution_count": 79,
   "id": "25d96844",
   "metadata": {},
   "outputs": [],
   "source": [
    "# model_id_or_path=\"microsoft_azure_speech_api\"\n",
    "\n",
    "# write_to_folder(model_id_or_path=model_id_or_path, \n",
    "#                 predictions_df=azure, \n",
    "#                 output_dir=\"../results/raw\")\n",
    "\n",
    "# write_to_folder(model_id_or_path=model_id_or_path, \n",
    "#                 predictions_df=azure_clean,\n",
    "#                 output_dir=\"../results/normalized\")"
   ]
  },
  {
   "cell_type": "code",
   "execution_count": 80,
   "id": "9bf67703",
   "metadata": {},
   "outputs": [],
   "source": [
    "# azure[\"name\"] = \"microsoft_azure_speech_api\"\n",
    "# azure_clean[\"name\"] = \"microsoft_azure_speech_api\"\n",
    "\n",
    "# models_df = pd.concat([models_df, azure])\n",
    "# models_df_clean = pd.concat([models_df_clean, azure_clean])"
   ]
  },
  {
   "cell_type": "code",
   "execution_count": 81,
   "id": "62c559cb",
   "metadata": {},
   "outputs": [],
   "source": [
    "# models_df.shape, models_df_clean.shape"
   ]
  },
  {
   "cell_type": "markdown",
   "id": "b1f2cec6",
   "metadata": {},
   "source": [
    "### WavLm-libri-clean-100h-large"
   ]
  },
  {
   "cell_type": "code",
   "execution_count": 82,
   "id": "0251789c",
   "metadata": {},
   "outputs": [
    {
     "name": "stdout",
     "output_type": "stream",
     "text": [
      "(5474, 8)\n"
     ]
    },
    {
     "data": {
      "text/html": [
       "<div>\n",
       "<style scoped>\n",
       "    .dataframe tbody tr th:only-of-type {\n",
       "        vertical-align: middle;\n",
       "    }\n",
       "\n",
       "    .dataframe tbody tr th {\n",
       "        vertical-align: top;\n",
       "    }\n",
       "\n",
       "    .dataframe thead th {\n",
       "        text-align: right;\n",
       "    }\n",
       "</style>\n",
       "<table border=\"1\" class=\"dataframe\">\n",
       "  <thead>\n",
       "    <tr style=\"text-align: right;\">\n",
       "      <th></th>\n",
       "      <th>hypothesis</th>\n",
       "      <th>reference</th>\n",
       "      <th>audio_paths</th>\n",
       "      <th>accent</th>\n",
       "      <th>pred_clean</th>\n",
       "      <th>ref_clean</th>\n",
       "      <th>hypothesis_clean</th>\n",
       "      <th>reference_clean</th>\n",
       "    </tr>\n",
       "  </thead>\n",
       "  <tbody>\n",
       "    <tr>\n",
       "      <th>0</th>\n",
       "      <td>protns break down to relese amenoases which ie...</td>\n",
       "      <td>Proteins break down to release amino acids whi...</td>\n",
       "      <td>/data/data/intron/e696aff8-ce05-4c8e-a3b3-5634...</td>\n",
       "      <td>twi</td>\n",
       "      <td>protns break down to relese amenoases which ie...</td>\n",
       "      <td>proteins break down to release amino acids whi...</td>\n",
       "      <td>protns break down to relese amenoases which ie...</td>\n",
       "      <td>proteins break down to release amino acids whi...</td>\n",
       "    </tr>\n",
       "    <tr>\n",
       "      <th>1</th>\n",
       "      <td>to grant such a patent license to a partty mea...</td>\n",
       "      <td>To grant such a patent license to a party mean...</td>\n",
       "      <td>/data/data/intron/f28baac3-cdcd-45a2-888c-a59f...</td>\n",
       "      <td>igbo</td>\n",
       "      <td>to grant such a patent license to a partty mea...</td>\n",
       "      <td>to grant such a patent license to a party mean...</td>\n",
       "      <td>to grant such a patent license to a partty mea...</td>\n",
       "      <td>to grant such a patent license to a party mean...</td>\n",
       "    </tr>\n",
       "  </tbody>\n",
       "</table>\n",
       "</div>"
      ],
      "text/plain": [
       "                                          hypothesis  \\\n",
       "0  protns break down to relese amenoases which ie...   \n",
       "1  to grant such a patent license to a partty mea...   \n",
       "\n",
       "                                           reference  \\\n",
       "0  Proteins break down to release amino acids whi...   \n",
       "1  To grant such a patent license to a party mean...   \n",
       "\n",
       "                                         audio_paths accent  \\\n",
       "0  /data/data/intron/e696aff8-ce05-4c8e-a3b3-5634...    twi   \n",
       "1  /data/data/intron/f28baac3-cdcd-45a2-888c-a59f...   igbo   \n",
       "\n",
       "                                          pred_clean  \\\n",
       "0  protns break down to relese amenoases which ie...   \n",
       "1  to grant such a patent license to a partty mea...   \n",
       "\n",
       "                                           ref_clean  \\\n",
       "0  proteins break down to release amino acids whi...   \n",
       "1  to grant such a patent license to a party mean...   \n",
       "\n",
       "                                    hypothesis_clean  \\\n",
       "0  protns break down to relese amenoases which ie...   \n",
       "1  to grant such a patent license to a partty mea...   \n",
       "\n",
       "                                     reference_clean  \n",
       "0  proteins break down to release amino acids whi...  \n",
       "1  to grant such a patent license to a party mean...  "
      ]
     },
     "execution_count": 82,
     "metadata": {},
     "output_type": "execute_result"
    }
   ],
   "source": [
    "wavlm_libri_clean_100h_large_raw = pd.read_csv(\"../results/intron-open-test-patrickvonplaten-wavlm-libri-clean-100h-large-wer-0.7051-5474.csv\")\n",
    "print(wavlm_libri_clean_100h_large_raw.shape)\n",
    "wavlm_libri_clean_100h_large_raw.head(2)"
   ]
  },
  {
   "cell_type": "code",
   "execution_count": 83,
   "id": "24914524",
   "metadata": {},
   "outputs": [
    {
     "name": "stdout",
     "output_type": "stream",
     "text": [
      "(5480, 9)\n",
      "(1, 10)\n",
      "(0, 10)\n"
     ]
    }
   ],
   "source": [
    "wavlm_libri_clean_100h_large = transform_raw_df(wavlm_libri_clean_100h_large_raw, columns=columns, fmt=\"intron_whisper\")\n",
    "wavlm_libri_clean_100h_large_clean = clean_and_compute_wer(wavlm_libri_clean_100h_large)"
   ]
  },
  {
   "cell_type": "code",
   "execution_count": 84,
   "id": "c8f77f7e",
   "metadata": {},
   "outputs": [
    {
     "name": "stdout",
     "output_type": "stream",
     "text": [
      "0.8834926509643685\n",
      "0.8174427579736396\n"
     ]
    }
   ],
   "source": [
    "print(wavlm_libri_clean_100h_large[\"wer\"].mean())\n",
    "print(wavlm_libri_clean_100h_large_clean[\"wer\"].mean())"
   ]
  },
  {
   "cell_type": "code",
   "execution_count": 85,
   "id": "6d83b28f",
   "metadata": {},
   "outputs": [],
   "source": [
    "model_id_or_path=\"microsoft_wavlm_libri_clean_100h_large\"\n",
    "\n",
    "write_to_folder(model_id_or_path=model_id_or_path, \n",
    "                predictions_df=wavlm_libri_clean_100h_large, \n",
    "                output_dir=\"../results/raw\")\n",
    "\n",
    "write_to_folder(model_id_or_path=model_id_or_path, \n",
    "                predictions_df=wavlm_libri_clean_100h_large_clean,\n",
    "                output_dir=\"../results/normalized\")"
   ]
  },
  {
   "cell_type": "code",
   "execution_count": 86,
   "id": "50507885",
   "metadata": {},
   "outputs": [],
   "source": [
    "wavlm_libri_clean_100h_large[\"name\"] = \"microsoft_wavlm_libri_clean_100h_large\"\n",
    "wavlm_libri_clean_100h_large_clean[\"name\"] = \"microsoft_wavlm_libri_clean_100h_large\"\n",
    "\n",
    "models_df = pd.concat([models_df, wavlm_libri_clean_100h_large])\n",
    "models_df_clean = pd.concat([models_df_clean, wavlm_libri_clean_100h_large_clean])"
   ]
  },
  {
   "cell_type": "markdown",
   "id": "18aa7fe4",
   "metadata": {},
   "source": [
    "### WavLm-libri-clean-100h-base-plus"
   ]
  },
  {
   "cell_type": "code",
   "execution_count": 87,
   "id": "5d1c0438",
   "metadata": {},
   "outputs": [
    {
     "name": "stdout",
     "output_type": "stream",
     "text": [
      "(5474, 8)\n"
     ]
    },
    {
     "data": {
      "text/html": [
       "<div>\n",
       "<style scoped>\n",
       "    .dataframe tbody tr th:only-of-type {\n",
       "        vertical-align: middle;\n",
       "    }\n",
       "\n",
       "    .dataframe tbody tr th {\n",
       "        vertical-align: top;\n",
       "    }\n",
       "\n",
       "    .dataframe thead th {\n",
       "        text-align: right;\n",
       "    }\n",
       "</style>\n",
       "<table border=\"1\" class=\"dataframe\">\n",
       "  <thead>\n",
       "    <tr style=\"text-align: right;\">\n",
       "      <th></th>\n",
       "      <th>hypothesis</th>\n",
       "      <th>reference</th>\n",
       "      <th>audio_paths</th>\n",
       "      <th>accent</th>\n",
       "      <th>pred_clean</th>\n",
       "      <th>ref_clean</th>\n",
       "      <th>hypothesis_clean</th>\n",
       "      <th>reference_clean</th>\n",
       "    </tr>\n",
       "  </thead>\n",
       "  <tbody>\n",
       "    <tr>\n",
       "      <th>0</th>\n",
       "      <td>crortinisbrik danserilisa menasus which i sed ...</td>\n",
       "      <td>Proteins break down to release amino acids whi...</td>\n",
       "      <td>/data/data/intron/e696aff8-ce05-4c8e-a3b3-5634...</td>\n",
       "      <td>twi</td>\n",
       "      <td>crortinisbrik danserilisa menasus which i sed ...</td>\n",
       "      <td>proteins break down to release amino acids whi...</td>\n",
       "      <td>crortinisbrik danserilisa menasus which i sed ...</td>\n",
       "      <td>proteins break down to release amino acids whi...</td>\n",
       "    </tr>\n",
       "    <tr>\n",
       "      <th>1</th>\n",
       "      <td>to grant such a patent licence to a patsy mean...</td>\n",
       "      <td>To grant such a patent license to a party mean...</td>\n",
       "      <td>/data/data/intron/f28baac3-cdcd-45a2-888c-a59f...</td>\n",
       "      <td>igbo</td>\n",
       "      <td>to grant such a patent licence to a patsy mean...</td>\n",
       "      <td>to grant such a patent license to a party mean...</td>\n",
       "      <td>to grant such a patent license to a patsy mean...</td>\n",
       "      <td>to grant such a patent license to a party mean...</td>\n",
       "    </tr>\n",
       "  </tbody>\n",
       "</table>\n",
       "</div>"
      ],
      "text/plain": [
       "                                          hypothesis  \\\n",
       "0  crortinisbrik danserilisa menasus which i sed ...   \n",
       "1  to grant such a patent licence to a patsy mean...   \n",
       "\n",
       "                                           reference  \\\n",
       "0  Proteins break down to release amino acids whi...   \n",
       "1  To grant such a patent license to a party mean...   \n",
       "\n",
       "                                         audio_paths accent  \\\n",
       "0  /data/data/intron/e696aff8-ce05-4c8e-a3b3-5634...    twi   \n",
       "1  /data/data/intron/f28baac3-cdcd-45a2-888c-a59f...   igbo   \n",
       "\n",
       "                                          pred_clean  \\\n",
       "0  crortinisbrik danserilisa menasus which i sed ...   \n",
       "1  to grant such a patent licence to a patsy mean...   \n",
       "\n",
       "                                           ref_clean  \\\n",
       "0  proteins break down to release amino acids whi...   \n",
       "1  to grant such a patent license to a party mean...   \n",
       "\n",
       "                                    hypothesis_clean  \\\n",
       "0  crortinisbrik danserilisa menasus which i sed ...   \n",
       "1  to grant such a patent license to a patsy mean...   \n",
       "\n",
       "                                     reference_clean  \n",
       "0  proteins break down to release amino acids whi...  \n",
       "1  to grant such a patent license to a party mean...  "
      ]
     },
     "execution_count": 87,
     "metadata": {},
     "output_type": "execute_result"
    }
   ],
   "source": [
    "wavlm_libri_clean_100h_base_raw = pd.read_csv(\"../results/intron-open-test-patrickvonplaten-wavlm-libri-clean-100h-base-plus-wer-0.8593-5474.csv\")\n",
    "print(wavlm_libri_clean_100h_base_raw.shape)\n",
    "wavlm_libri_clean_100h_base_raw.head(2)"
   ]
  },
  {
   "cell_type": "code",
   "execution_count": 88,
   "id": "854fc4a4",
   "metadata": {},
   "outputs": [
    {
     "name": "stdout",
     "output_type": "stream",
     "text": [
      "(5480, 9)\n",
      "(74, 10)\n",
      "(0, 10)\n"
     ]
    }
   ],
   "source": [
    "wavlm_libri_clean_100h_base = transform_raw_df(wavlm_libri_clean_100h_base_raw, columns=columns, fmt=\"intron_whisper\")\n",
    "wavlm_libri_clean_100h_base_clean = clean_and_compute_wer(wavlm_libri_clean_100h_base)"
   ]
  },
  {
   "cell_type": "code",
   "execution_count": 89,
   "id": "6ec6b104",
   "metadata": {},
   "outputs": [
    {
     "name": "stdout",
     "output_type": "stream",
     "text": [
      "0.981884889169573\n",
      "0.9596212752583314\n"
     ]
    }
   ],
   "source": [
    "print(wavlm_libri_clean_100h_base[\"wer\"].mean())\n",
    "print(wavlm_libri_clean_100h_base_clean[\"wer\"].mean())"
   ]
  },
  {
   "cell_type": "code",
   "execution_count": 90,
   "id": "a525b107",
   "metadata": {},
   "outputs": [],
   "source": [
    "model_id_or_path=\"microsoft_wavlm_libri_clean_100h_base\"\n",
    "\n",
    "write_to_folder(model_id_or_path=model_id_or_path, \n",
    "                predictions_df=wavlm_libri_clean_100h_base, \n",
    "                output_dir=\"../results/raw\")\n",
    "\n",
    "write_to_folder(model_id_or_path=model_id_or_path, \n",
    "                predictions_df=wavlm_libri_clean_100h_base_clean,\n",
    "                output_dir=\"../results/normalized\")"
   ]
  },
  {
   "cell_type": "code",
   "execution_count": 91,
   "id": "a72c8891",
   "metadata": {},
   "outputs": [],
   "source": [
    "wavlm_libri_clean_100h_base[\"name\"] = \"microsoft_wavlm_libri_clean_100h_base\"\n",
    "wavlm_libri_clean_100h_base_clean[\"name\"] = \"microsoft_wavlm_libri_clean_100h_base\"\n",
    "\n",
    "models_df = pd.concat([models_df, wavlm_libri_clean_100h_base])\n",
    "models_df_clean = pd.concat([models_df_clean, wavlm_libri_clean_100h_base_clean])"
   ]
  },
  {
   "cell_type": "markdown",
   "id": "0ae26e65",
   "metadata": {},
   "source": [
    "## Facebook"
   ]
  },
  {
   "cell_type": "markdown",
   "id": "9626407c",
   "metadata": {},
   "source": [
    "### Wav2vec2-large-xlsr-53-english"
   ]
  },
  {
   "cell_type": "code",
   "execution_count": 92,
   "id": "35e6e4d1",
   "metadata": {},
   "outputs": [
    {
     "name": "stdout",
     "output_type": "stream",
     "text": [
      "(5474, 8)\n"
     ]
    },
    {
     "data": {
      "text/html": [
       "<div>\n",
       "<style scoped>\n",
       "    .dataframe tbody tr th:only-of-type {\n",
       "        vertical-align: middle;\n",
       "    }\n",
       "\n",
       "    .dataframe tbody tr th {\n",
       "        vertical-align: top;\n",
       "    }\n",
       "\n",
       "    .dataframe thead th {\n",
       "        text-align: right;\n",
       "    }\n",
       "</style>\n",
       "<table border=\"1\" class=\"dataframe\">\n",
       "  <thead>\n",
       "    <tr style=\"text-align: right;\">\n",
       "      <th></th>\n",
       "      <th>hypothesis</th>\n",
       "      <th>reference</th>\n",
       "      <th>audio_paths</th>\n",
       "      <th>accent</th>\n",
       "      <th>pred_clean</th>\n",
       "      <th>ref_clean</th>\n",
       "      <th>hypothesis_clean</th>\n",
       "      <th>reference_clean</th>\n",
       "    </tr>\n",
       "  </thead>\n",
       "  <tbody>\n",
       "    <tr>\n",
       "      <th>0</th>\n",
       "      <td>protings breat dancer elease are munivasis whi...</td>\n",
       "      <td>Proteins break down to release amino acids whi...</td>\n",
       "      <td>/data/data/intron/e696aff8-ce05-4c8e-a3b3-5634...</td>\n",
       "      <td>twi</td>\n",
       "      <td>protings breat dancer elease are munivasis whi...</td>\n",
       "      <td>proteins break down to release amino acids whi...</td>\n",
       "      <td>protings breat dancer elease are munivasis whi...</td>\n",
       "      <td>proteins break down to release amino acids whi...</td>\n",
       "    </tr>\n",
       "    <tr>\n",
       "      <th>1</th>\n",
       "      <td>to grant such a patent license to a party mean...</td>\n",
       "      <td>To grant such a patent license to a party mean...</td>\n",
       "      <td>/data/data/intron/f28baac3-cdcd-45a2-888c-a59f...</td>\n",
       "      <td>igbo</td>\n",
       "      <td>to grant such a patent license to a party mean...</td>\n",
       "      <td>to grant such a patent license to a party mean...</td>\n",
       "      <td>to grant such a patent license to a party mean...</td>\n",
       "      <td>to grant such a patent license to a party mean...</td>\n",
       "    </tr>\n",
       "  </tbody>\n",
       "</table>\n",
       "</div>"
      ],
      "text/plain": [
       "                                          hypothesis  \\\n",
       "0  protings breat dancer elease are munivasis whi...   \n",
       "1  to grant such a patent license to a party mean...   \n",
       "\n",
       "                                           reference  \\\n",
       "0  Proteins break down to release amino acids whi...   \n",
       "1  To grant such a patent license to a party mean...   \n",
       "\n",
       "                                         audio_paths accent  \\\n",
       "0  /data/data/intron/e696aff8-ce05-4c8e-a3b3-5634...    twi   \n",
       "1  /data/data/intron/f28baac3-cdcd-45a2-888c-a59f...   igbo   \n",
       "\n",
       "                                          pred_clean  \\\n",
       "0  protings breat dancer elease are munivasis whi...   \n",
       "1  to grant such a patent license to a party mean...   \n",
       "\n",
       "                                           ref_clean  \\\n",
       "0  proteins break down to release amino acids whi...   \n",
       "1  to grant such a patent license to a party mean...   \n",
       "\n",
       "                                    hypothesis_clean  \\\n",
       "0  protings breat dancer elease are munivasis whi...   \n",
       "1  to grant such a patent license to a party mean...   \n",
       "\n",
       "                                     reference_clean  \n",
       "0  proteins break down to release amino acids whi...  \n",
       "1  to grant such a patent license to a party mean...  "
      ]
     },
     "execution_count": 92,
     "metadata": {},
     "output_type": "execute_result"
    }
   ],
   "source": [
    "wav2vec2_large_xlsr_53_english_raw = pd.read_csv(\"../results/intron-open-test-jonatasgrosman-wav2vec2-large-xlsr-53-english-wer-0.576-5474.csv\")\n",
    "print(wav2vec2_large_xlsr_53_english_raw.shape)\n",
    "wav2vec2_large_xlsr_53_english_raw.head(2)"
   ]
  },
  {
   "cell_type": "code",
   "execution_count": 93,
   "id": "8ba61081",
   "metadata": {},
   "outputs": [
    {
     "name": "stdout",
     "output_type": "stream",
     "text": [
      "(5480, 9)\n",
      "(1, 10)\n",
      "(0, 10)\n"
     ]
    }
   ],
   "source": [
    "wav2vec2_large_xlsr_53_english = transform_raw_df(wav2vec2_large_xlsr_53_english_raw, columns=columns, fmt=\"intron_whisper\")\n",
    "wav2vec2_large_xlsr_53_english_clean = clean_and_compute_wer(wav2vec2_large_xlsr_53_english)"
   ]
  },
  {
   "cell_type": "code",
   "execution_count": 94,
   "id": "e00da459",
   "metadata": {},
   "outputs": [
    {
     "name": "stdout",
     "output_type": "stream",
     "text": [
      "0.7685491696566653\n",
      "0.6841450483812219\n"
     ]
    }
   ],
   "source": [
    "print(wav2vec2_large_xlsr_53_english[\"wer\"].mean())\n",
    "print(wav2vec2_large_xlsr_53_english_clean[\"wer\"].mean())"
   ]
  },
  {
   "cell_type": "code",
   "execution_count": 95,
   "id": "5b221aff",
   "metadata": {},
   "outputs": [
    {
     "name": "stdout",
     "output_type": "stream",
     "text": [
      "0.6463570961412688\n",
      "0.5759767694340165\n"
     ]
    }
   ],
   "source": [
    "print(wer_metric.compute(predictions=wav2vec2_large_xlsr_53_english.prediction.array, references=wav2vec2_large_xlsr_53_english.reference.array))\n",
    "print(wer_metric.compute(predictions=wav2vec2_large_xlsr_53_english_clean.prediction.array, references=wav2vec2_large_xlsr_53_english_clean.reference.array))"
   ]
  },
  {
   "cell_type": "code",
   "execution_count": 96,
   "id": "910c0076",
   "metadata": {},
   "outputs": [],
   "source": [
    "model_id_or_path=\"facebook_wav2vec2_large_xlsr_53_english\"\n",
    "\n",
    "write_to_folder(model_id_or_path=model_id_or_path, \n",
    "                predictions_df=wav2vec2_large_xlsr_53_english, \n",
    "                output_dir=\"../results/raw\")\n",
    "\n",
    "write_to_folder(model_id_or_path=model_id_or_path, \n",
    "                predictions_df=wav2vec2_large_xlsr_53_english_clean,\n",
    "                output_dir=\"../results/normalized\")"
   ]
  },
  {
   "cell_type": "code",
   "execution_count": 97,
   "id": "ce8ce4bc",
   "metadata": {},
   "outputs": [],
   "source": [
    "wav2vec2_large_xlsr_53_english[\"name\"] = \"facebook_wav2vec2_large_xlsr_53_english\"\n",
    "wav2vec2_large_xlsr_53_english_clean[\"name\"] = \"facebook_wav2vec2_large_xlsr_53_english\"\n",
    "\n",
    "models_df = pd.concat([models_df, wav2vec2_large_xlsr_53_english])\n",
    "models_df_clean = pd.concat([models_df_clean, wav2vec2_large_xlsr_53_english_clean])"
   ]
  },
  {
   "cell_type": "markdown",
   "id": "f69d3656",
   "metadata": {},
   "source": [
    "### Wav2vec2-xls-r-1b-english"
   ]
  },
  {
   "cell_type": "code",
   "execution_count": 98,
   "id": "9f2b7180",
   "metadata": {},
   "outputs": [
    {
     "name": "stdout",
     "output_type": "stream",
     "text": [
      "(5474, 8)\n"
     ]
    },
    {
     "data": {
      "text/html": [
       "<div>\n",
       "<style scoped>\n",
       "    .dataframe tbody tr th:only-of-type {\n",
       "        vertical-align: middle;\n",
       "    }\n",
       "\n",
       "    .dataframe tbody tr th {\n",
       "        vertical-align: top;\n",
       "    }\n",
       "\n",
       "    .dataframe thead th {\n",
       "        text-align: right;\n",
       "    }\n",
       "</style>\n",
       "<table border=\"1\" class=\"dataframe\">\n",
       "  <thead>\n",
       "    <tr style=\"text-align: right;\">\n",
       "      <th></th>\n",
       "      <th>hypothesis</th>\n",
       "      <th>reference</th>\n",
       "      <th>audio_paths</th>\n",
       "      <th>accent</th>\n",
       "      <th>pred_clean</th>\n",
       "      <th>ref_clean</th>\n",
       "      <th>hypothesis_clean</th>\n",
       "      <th>reference_clean</th>\n",
       "    </tr>\n",
       "  </thead>\n",
       "  <tbody>\n",
       "    <tr>\n",
       "      <th>0</th>\n",
       "      <td>frotin's brig danty release aminoasis which ar...</td>\n",
       "      <td>Proteins break down to release amino acids whi...</td>\n",
       "      <td>/data/data/intron/e696aff8-ce05-4c8e-a3b3-5634...</td>\n",
       "      <td>twi</td>\n",
       "      <td>frotin's brig danty release aminoasis which ar...</td>\n",
       "      <td>proteins break down to release amino acids whi...</td>\n",
       "      <td>frotin is brig danty release aminoasis which a...</td>\n",
       "      <td>proteins break down to release amino acids whi...</td>\n",
       "    </tr>\n",
       "    <tr>\n",
       "      <th>1</th>\n",
       "      <td>to grant such a patent license to a patsy mean...</td>\n",
       "      <td>To grant such a patent license to a party mean...</td>\n",
       "      <td>/data/data/intron/f28baac3-cdcd-45a2-888c-a59f...</td>\n",
       "      <td>igbo</td>\n",
       "      <td>to grant such a patent license to a patsy mean...</td>\n",
       "      <td>to grant such a patent license to a party mean...</td>\n",
       "      <td>to grant such a patent license to a patsy mean...</td>\n",
       "      <td>to grant such a patent license to a party mean...</td>\n",
       "    </tr>\n",
       "  </tbody>\n",
       "</table>\n",
       "</div>"
      ],
      "text/plain": [
       "                                          hypothesis  \\\n",
       "0  frotin's brig danty release aminoasis which ar...   \n",
       "1  to grant such a patent license to a patsy mean...   \n",
       "\n",
       "                                           reference  \\\n",
       "0  Proteins break down to release amino acids whi...   \n",
       "1  To grant such a patent license to a party mean...   \n",
       "\n",
       "                                         audio_paths accent  \\\n",
       "0  /data/data/intron/e696aff8-ce05-4c8e-a3b3-5634...    twi   \n",
       "1  /data/data/intron/f28baac3-cdcd-45a2-888c-a59f...   igbo   \n",
       "\n",
       "                                          pred_clean  \\\n",
       "0  frotin's brig danty release aminoasis which ar...   \n",
       "1  to grant such a patent license to a patsy mean...   \n",
       "\n",
       "                                           ref_clean  \\\n",
       "0  proteins break down to release amino acids whi...   \n",
       "1  to grant such a patent license to a party mean...   \n",
       "\n",
       "                                    hypothesis_clean  \\\n",
       "0  frotin is brig danty release aminoasis which a...   \n",
       "1  to grant such a patent license to a patsy mean...   \n",
       "\n",
       "                                     reference_clean  \n",
       "0  proteins break down to release amino acids whi...  \n",
       "1  to grant such a patent license to a party mean...  "
      ]
     },
     "execution_count": 98,
     "metadata": {},
     "output_type": "execute_result"
    }
   ],
   "source": [
    "wav2vec2_xls_r_1b_english_raw = pd.read_csv(\"../results/intron-open-test-jonatasgrosman-wav2vec2-xls-r-1b-english-wer-0.5935-5474.csv\")\n",
    "print(wav2vec2_xls_r_1b_english_raw.shape)\n",
    "wav2vec2_xls_r_1b_english_raw.head(2)"
   ]
  },
  {
   "cell_type": "code",
   "execution_count": 99,
   "id": "f48073d8",
   "metadata": {},
   "outputs": [
    {
     "name": "stdout",
     "output_type": "stream",
     "text": [
      "(5480, 9)\n",
      "(1, 10)\n",
      "(0, 10)\n"
     ]
    }
   ],
   "source": [
    "wav2vec2_xls_r_1b_english = transform_raw_df(wav2vec2_xls_r_1b_english_raw, columns=columns, fmt=\"intron_whisper\")\n",
    "wav2vec2_xls_r_1b_english_clean = clean_and_compute_wer(wav2vec2_xls_r_1b_english)"
   ]
  },
  {
   "cell_type": "code",
   "execution_count": 100,
   "id": "a8e48127",
   "metadata": {},
   "outputs": [
    {
     "name": "stdout",
     "output_type": "stream",
     "text": [
      "0.8085042295813446\n",
      "0.7061287579323898\n"
     ]
    }
   ],
   "source": [
    "print(wav2vec2_xls_r_1b_english[\"wer\"].mean())\n",
    "print(wav2vec2_xls_r_1b_english_clean[\"wer\"].mean())"
   ]
  },
  {
   "cell_type": "code",
   "execution_count": 101,
   "id": "9dc34ca1",
   "metadata": {},
   "outputs": [],
   "source": [
    "model_id_or_path=\"facebook_wav2vec2_xls_r_1b_english\"\n",
    "\n",
    "write_to_folder(model_id_or_path=model_id_or_path, \n",
    "                predictions_df=wav2vec2_xls_r_1b_english, \n",
    "                output_dir=\"../results/raw\")\n",
    "\n",
    "write_to_folder(model_id_or_path=model_id_or_path, \n",
    "                predictions_df=wav2vec2_xls_r_1b_english_clean,\n",
    "                output_dir=\"../results/normalized\")"
   ]
  },
  {
   "cell_type": "code",
   "execution_count": 102,
   "id": "293839ab",
   "metadata": {},
   "outputs": [],
   "source": [
    "wav2vec2_xls_r_1b_english[\"name\"] = \"facebook_wav2vec2_xls_r_1b_english\"\n",
    "wav2vec2_xls_r_1b_english_clean[\"name\"] = \"facebook_wav2vec2_xls_r_1b_english\"\n",
    "\n",
    "models_df = pd.concat([models_df, wav2vec2_xls_r_1b_english])\n",
    "models_df_clean = pd.concat([models_df_clean, wav2vec2_xls_r_1b_english_clean])"
   ]
  },
  {
   "cell_type": "markdown",
   "id": "310ce3a7",
   "metadata": {},
   "source": [
    "### Wav2vec2-large-960h-lv60-self"
   ]
  },
  {
   "cell_type": "code",
   "execution_count": 103,
   "id": "cc1e8b12",
   "metadata": {},
   "outputs": [
    {
     "name": "stdout",
     "output_type": "stream",
     "text": [
      "(5474, 8)\n"
     ]
    },
    {
     "data": {
      "text/html": [
       "<div>\n",
       "<style scoped>\n",
       "    .dataframe tbody tr th:only-of-type {\n",
       "        vertical-align: middle;\n",
       "    }\n",
       "\n",
       "    .dataframe tbody tr th {\n",
       "        vertical-align: top;\n",
       "    }\n",
       "\n",
       "    .dataframe thead th {\n",
       "        text-align: right;\n",
       "    }\n",
       "</style>\n",
       "<table border=\"1\" class=\"dataframe\">\n",
       "  <thead>\n",
       "    <tr style=\"text-align: right;\">\n",
       "      <th></th>\n",
       "      <th>hypothesis</th>\n",
       "      <th>reference</th>\n",
       "      <th>audio_paths</th>\n",
       "      <th>accent</th>\n",
       "      <th>pred_clean</th>\n",
       "      <th>ref_clean</th>\n",
       "      <th>hypothesis_clean</th>\n",
       "      <th>reference_clean</th>\n",
       "    </tr>\n",
       "  </thead>\n",
       "  <tbody>\n",
       "    <tr>\n",
       "      <th>0</th>\n",
       "      <td>FROTINS BREK DOWN TO RELEASE A MINASES WHICH I...</td>\n",
       "      <td>Proteins break down to release amino acids whi...</td>\n",
       "      <td>/data/data/intron/e696aff8-ce05-4c8e-a3b3-5634...</td>\n",
       "      <td>twi</td>\n",
       "      <td>frotins brek down to release a minases which i...</td>\n",
       "      <td>proteins break down to release amino acids whi...</td>\n",
       "      <td>frotins brek down to release a minases which i...</td>\n",
       "      <td>proteins break down to release amino acids whi...</td>\n",
       "    </tr>\n",
       "    <tr>\n",
       "      <th>1</th>\n",
       "      <td>TO GRANT SUCH A PATENT LICENSE TO A PARTY MEAN...</td>\n",
       "      <td>To grant such a patent license to a party mean...</td>\n",
       "      <td>/data/data/intron/f28baac3-cdcd-45a2-888c-a59f...</td>\n",
       "      <td>igbo</td>\n",
       "      <td>to grant such a patent license to a party mean...</td>\n",
       "      <td>to grant such a patent license to a party mean...</td>\n",
       "      <td>to grant such a patent license to a party mean...</td>\n",
       "      <td>to grant such a patent license to a party mean...</td>\n",
       "    </tr>\n",
       "  </tbody>\n",
       "</table>\n",
       "</div>"
      ],
      "text/plain": [
       "                                          hypothesis  \\\n",
       "0  FROTINS BREK DOWN TO RELEASE A MINASES WHICH I...   \n",
       "1  TO GRANT SUCH A PATENT LICENSE TO A PARTY MEAN...   \n",
       "\n",
       "                                           reference  \\\n",
       "0  Proteins break down to release amino acids whi...   \n",
       "1  To grant such a patent license to a party mean...   \n",
       "\n",
       "                                         audio_paths accent  \\\n",
       "0  /data/data/intron/e696aff8-ce05-4c8e-a3b3-5634...    twi   \n",
       "1  /data/data/intron/f28baac3-cdcd-45a2-888c-a59f...   igbo   \n",
       "\n",
       "                                          pred_clean  \\\n",
       "0  frotins brek down to release a minases which i...   \n",
       "1  to grant such a patent license to a party mean...   \n",
       "\n",
       "                                           ref_clean  \\\n",
       "0  proteins break down to release amino acids whi...   \n",
       "1  to grant such a patent license to a party mean...   \n",
       "\n",
       "                                    hypothesis_clean  \\\n",
       "0  frotins brek down to release a minases which i...   \n",
       "1  to grant such a patent license to a party mean...   \n",
       "\n",
       "                                     reference_clean  \n",
       "0  proteins break down to release amino acids whi...  \n",
       "1  to grant such a patent license to a party mean...  "
      ]
     },
     "execution_count": 103,
     "metadata": {},
     "output_type": "execute_result"
    }
   ],
   "source": [
    "wav2vec2_large_960h_lv60_self_raw = pd.read_csv(\"../results/intron-open-test-facebook-wav2vec2-large-960h-lv60-self-wer-0.6111-5474.csv\")\n",
    "print(wav2vec2_large_960h_lv60_self_raw.shape)\n",
    "wav2vec2_large_960h_lv60_self_raw.head(2)"
   ]
  },
  {
   "cell_type": "code",
   "execution_count": 104,
   "id": "5a7aad0a",
   "metadata": {},
   "outputs": [
    {
     "name": "stdout",
     "output_type": "stream",
     "text": [
      "(5480, 9)\n",
      "(1, 10)\n",
      "(0, 10)\n"
     ]
    }
   ],
   "source": [
    "wav2vec2_large_960h_lv60_self = transform_raw_df(wav2vec2_large_960h_lv60_self_raw, columns=columns, fmt=\"intron_whisper\")\n",
    "wav2vec2_large_960h_lv60_self_clean = clean_and_compute_wer(wav2vec2_large_960h_lv60_self)"
   ]
  },
  {
   "cell_type": "code",
   "execution_count": 105,
   "id": "880e1fb0",
   "metadata": {},
   "outputs": [
    {
     "name": "stdout",
     "output_type": "stream",
     "text": [
      "1.2277196118612432\n",
      "0.7333392614599654\n"
     ]
    }
   ],
   "source": [
    "print(wav2vec2_large_960h_lv60_self[\"wer\"].mean())\n",
    "print(wav2vec2_large_960h_lv60_self_clean[\"wer\"].mean())"
   ]
  },
  {
   "cell_type": "code",
   "execution_count": 106,
   "id": "ec214c00",
   "metadata": {},
   "outputs": [],
   "source": [
    "model_id_or_path=\"facebook_wav2vec2_large_960h_lv60_self\"\n",
    "\n",
    "write_to_folder(model_id_or_path=model_id_or_path, \n",
    "                predictions_df=wav2vec2_large_960h_lv60_self, \n",
    "                output_dir=\"../results/raw\")\n",
    "\n",
    "write_to_folder(model_id_or_path=model_id_or_path, \n",
    "                predictions_df=wav2vec2_large_960h_lv60_self_clean,\n",
    "                output_dir=\"../results/normalized\")"
   ]
  },
  {
   "cell_type": "code",
   "execution_count": 107,
   "id": "d235f5d7",
   "metadata": {},
   "outputs": [],
   "source": [
    "wav2vec2_large_960h_lv60_self[\"name\"] = \"facebook_wav2vec2_large_960h_lv60_self\"\n",
    "wav2vec2_large_960h_lv60_self_clean[\"name\"] = \"facebook_wav2vec2_large_960h_lv60_self\"\n",
    "\n",
    "models_df = pd.concat([models_df, wav2vec2_large_960h_lv60_self])\n",
    "models_df_clean = pd.concat([models_df_clean, wav2vec2_large_960h_lv60_self_clean])"
   ]
  },
  {
   "cell_type": "markdown",
   "id": "5fd33082",
   "metadata": {},
   "source": [
    "### Wav2vec2-large-960h"
   ]
  },
  {
   "cell_type": "code",
   "execution_count": 108,
   "id": "b352e125",
   "metadata": {},
   "outputs": [
    {
     "name": "stdout",
     "output_type": "stream",
     "text": [
      "(5474, 8)\n"
     ]
    },
    {
     "data": {
      "text/html": [
       "<div>\n",
       "<style scoped>\n",
       "    .dataframe tbody tr th:only-of-type {\n",
       "        vertical-align: middle;\n",
       "    }\n",
       "\n",
       "    .dataframe tbody tr th {\n",
       "        vertical-align: top;\n",
       "    }\n",
       "\n",
       "    .dataframe thead th {\n",
       "        text-align: right;\n",
       "    }\n",
       "</style>\n",
       "<table border=\"1\" class=\"dataframe\">\n",
       "  <thead>\n",
       "    <tr style=\"text-align: right;\">\n",
       "      <th></th>\n",
       "      <th>hypothesis</th>\n",
       "      <th>reference</th>\n",
       "      <th>audio_paths</th>\n",
       "      <th>accent</th>\n",
       "      <th>pred_clean</th>\n",
       "      <th>ref_clean</th>\n",
       "      <th>hypothesis_clean</th>\n",
       "      <th>reference_clean</th>\n",
       "    </tr>\n",
       "  </thead>\n",
       "  <tbody>\n",
       "    <tr>\n",
       "      <th>0</th>\n",
       "      <td>FROATING'S RIG DANCERYLIS A MINASES WHICH I US...</td>\n",
       "      <td>Proteins break down to release amino acids whi...</td>\n",
       "      <td>/data/data/intron/e696aff8-ce05-4c8e-a3b3-5634...</td>\n",
       "      <td>twi</td>\n",
       "      <td>froating's rig dancerylis a minases which i us...</td>\n",
       "      <td>proteins break down to release amino acids whi...</td>\n",
       "      <td>froating is rig dancerylis a minases which i u...</td>\n",
       "      <td>proteins break down to release amino acids whi...</td>\n",
       "    </tr>\n",
       "    <tr>\n",
       "      <th>1</th>\n",
       "      <td>TO GRANT SUCH A PATENT LICENSE TO A PARI MEANS...</td>\n",
       "      <td>To grant such a patent license to a party mean...</td>\n",
       "      <td>/data/data/intron/f28baac3-cdcd-45a2-888c-a59f...</td>\n",
       "      <td>igbo</td>\n",
       "      <td>to grant such a patent license to a pari means...</td>\n",
       "      <td>to grant such a patent license to a party mean...</td>\n",
       "      <td>to grant such a patent license to a pari means...</td>\n",
       "      <td>to grant such a patent license to a party mean...</td>\n",
       "    </tr>\n",
       "  </tbody>\n",
       "</table>\n",
       "</div>"
      ],
      "text/plain": [
       "                                          hypothesis  \\\n",
       "0  FROATING'S RIG DANCERYLIS A MINASES WHICH I US...   \n",
       "1  TO GRANT SUCH A PATENT LICENSE TO A PARI MEANS...   \n",
       "\n",
       "                                           reference  \\\n",
       "0  Proteins break down to release amino acids whi...   \n",
       "1  To grant such a patent license to a party mean...   \n",
       "\n",
       "                                         audio_paths accent  \\\n",
       "0  /data/data/intron/e696aff8-ce05-4c8e-a3b3-5634...    twi   \n",
       "1  /data/data/intron/f28baac3-cdcd-45a2-888c-a59f...   igbo   \n",
       "\n",
       "                                          pred_clean  \\\n",
       "0  froating's rig dancerylis a minases which i us...   \n",
       "1  to grant such a patent license to a pari means...   \n",
       "\n",
       "                                           ref_clean  \\\n",
       "0  proteins break down to release amino acids whi...   \n",
       "1  to grant such a patent license to a party mean...   \n",
       "\n",
       "                                    hypothesis_clean  \\\n",
       "0  froating is rig dancerylis a minases which i u...   \n",
       "1  to grant such a patent license to a pari means...   \n",
       "\n",
       "                                     reference_clean  \n",
       "0  proteins break down to release amino acids whi...  \n",
       "1  to grant such a patent license to a party mean...  "
      ]
     },
     "execution_count": 108,
     "metadata": {},
     "output_type": "execute_result"
    }
   ],
   "source": [
    "wav2vec2_large_960h_raw = pd.read_csv(\"../results/intron-open-test-facebook-wav2vec2-large-960h-wer-0.7169-5474.csv\")\n",
    "print(wav2vec2_large_960h_raw.shape)\n",
    "wav2vec2_large_960h_raw.head(2)"
   ]
  },
  {
   "cell_type": "code",
   "execution_count": 109,
   "id": "62853229",
   "metadata": {},
   "outputs": [
    {
     "name": "stdout",
     "output_type": "stream",
     "text": [
      "(5480, 9)\n",
      "(16, 10)\n",
      "(0, 10)\n"
     ]
    }
   ],
   "source": [
    "wav2vec2_large_960h = transform_raw_df(wav2vec2_large_960h_raw, columns=columns, fmt=\"intron_whisper\")\n",
    "wav2vec2_large_960h_clean = clean_and_compute_wer(wav2vec2_large_960h)"
   ]
  },
  {
   "cell_type": "code",
   "execution_count": 110,
   "id": "ab1d2dd2",
   "metadata": {},
   "outputs": [
    {
     "name": "stdout",
     "output_type": "stream",
     "text": [
      "1.2465420177464461\n",
      "0.8381530709763311\n"
     ]
    }
   ],
   "source": [
    "print(wav2vec2_large_960h[\"wer\"].mean())\n",
    "print(wav2vec2_large_960h_clean[\"wer\"].mean())"
   ]
  },
  {
   "cell_type": "code",
   "execution_count": 111,
   "id": "f26b2fd4",
   "metadata": {},
   "outputs": [],
   "source": [
    "model_id_or_path=\"facebook_wav2vec2_large_960h\"\n",
    "\n",
    "write_to_folder(model_id_or_path=model_id_or_path, \n",
    "                predictions_df=wav2vec2_large_960h, \n",
    "                output_dir=\"../results/raw\")\n",
    "\n",
    "write_to_folder(model_id_or_path=model_id_or_path, \n",
    "                predictions_df=wav2vec2_large_960h_clean,\n",
    "                output_dir=\"../results/normalized\")"
   ]
  },
  {
   "cell_type": "code",
   "execution_count": 112,
   "id": "7d61f49b",
   "metadata": {},
   "outputs": [],
   "source": [
    "wav2vec2_large_960h[\"name\"] = \"facebook_wav2vec2_large_960h\"\n",
    "wav2vec2_large_960h_clean[\"name\"] = \"facebook_wav2vec2_large_960h\"\n",
    "\n",
    "models_df = pd.concat([models_df, wav2vec2_large_960h])\n",
    "models_df_clean = pd.concat([models_df_clean, wav2vec2_large_960h_clean])"
   ]
  },
  {
   "cell_type": "markdown",
   "id": "491b1b14",
   "metadata": {},
   "source": [
    "### Wav2vec2-large-robust-ft-swbd-300h"
   ]
  },
  {
   "cell_type": "code",
   "execution_count": 113,
   "id": "551a904c",
   "metadata": {},
   "outputs": [
    {
     "name": "stdout",
     "output_type": "stream",
     "text": [
      "(5474, 8)\n"
     ]
    },
    {
     "data": {
      "text/html": [
       "<div>\n",
       "<style scoped>\n",
       "    .dataframe tbody tr th:only-of-type {\n",
       "        vertical-align: middle;\n",
       "    }\n",
       "\n",
       "    .dataframe tbody tr th {\n",
       "        vertical-align: top;\n",
       "    }\n",
       "\n",
       "    .dataframe thead th {\n",
       "        text-align: right;\n",
       "    }\n",
       "</style>\n",
       "<table border=\"1\" class=\"dataframe\">\n",
       "  <thead>\n",
       "    <tr style=\"text-align: right;\">\n",
       "      <th></th>\n",
       "      <th>hypothesis</th>\n",
       "      <th>reference</th>\n",
       "      <th>audio_paths</th>\n",
       "      <th>accent</th>\n",
       "      <th>pred_clean</th>\n",
       "      <th>ref_clean</th>\n",
       "      <th>hypothesis_clean</th>\n",
       "      <th>reference_clean</th>\n",
       "    </tr>\n",
       "  </thead>\n",
       "  <tbody>\n",
       "    <tr>\n",
       "      <th>0</th>\n",
       "      <td>FROSING IS FRAGED ONTORE LEAS I MENO AS A SWIC...</td>\n",
       "      <td>Proteins break down to release amino acids whi...</td>\n",
       "      <td>/data/data/intron/e696aff8-ce05-4c8e-a3b3-5634...</td>\n",
       "      <td>twi</td>\n",
       "      <td>frosing is fraged ontore leas i meno as a swic...</td>\n",
       "      <td>proteins break down to release amino acids whi...</td>\n",
       "      <td>frosing is fraged ontore leas i meno as a swic...</td>\n",
       "      <td>proteins break down to release amino acids whi...</td>\n",
       "    </tr>\n",
       "    <tr>\n",
       "      <th>1</th>\n",
       "      <td>TO GRANT SUCH A PATENT LICENSE TO A PAZI MEANS...</td>\n",
       "      <td>To grant such a patent license to a party mean...</td>\n",
       "      <td>/data/data/intron/f28baac3-cdcd-45a2-888c-a59f...</td>\n",
       "      <td>igbo</td>\n",
       "      <td>to grant such a patent license to a pazi means...</td>\n",
       "      <td>to grant such a patent license to a party mean...</td>\n",
       "      <td>to grant such a patent license to a pazi means...</td>\n",
       "      <td>to grant such a patent license to a party mean...</td>\n",
       "    </tr>\n",
       "  </tbody>\n",
       "</table>\n",
       "</div>"
      ],
      "text/plain": [
       "                                          hypothesis  \\\n",
       "0  FROSING IS FRAGED ONTORE LEAS I MENO AS A SWIC...   \n",
       "1  TO GRANT SUCH A PATENT LICENSE TO A PAZI MEANS...   \n",
       "\n",
       "                                           reference  \\\n",
       "0  Proteins break down to release amino acids whi...   \n",
       "1  To grant such a patent license to a party mean...   \n",
       "\n",
       "                                         audio_paths accent  \\\n",
       "0  /data/data/intron/e696aff8-ce05-4c8e-a3b3-5634...    twi   \n",
       "1  /data/data/intron/f28baac3-cdcd-45a2-888c-a59f...   igbo   \n",
       "\n",
       "                                          pred_clean  \\\n",
       "0  frosing is fraged ontore leas i meno as a swic...   \n",
       "1  to grant such a patent license to a pazi means...   \n",
       "\n",
       "                                           ref_clean  \\\n",
       "0  proteins break down to release amino acids whi...   \n",
       "1  to grant such a patent license to a party mean...   \n",
       "\n",
       "                                    hypothesis_clean  \\\n",
       "0  frosing is fraged ontore leas i meno as a swic...   \n",
       "1  to grant such a patent license to a pazi means...   \n",
       "\n",
       "                                     reference_clean  \n",
       "0  proteins break down to release amino acids whi...  \n",
       "1  to grant such a patent license to a party mean...  "
      ]
     },
     "execution_count": 113,
     "metadata": {},
     "output_type": "execute_result"
    }
   ],
   "source": [
    "wav2vec2_large_robust_ft_swbd_300h_raw = pd.read_csv(\"../results/intron-open-test-facebook-wav2vec2-large-robust-ft-swbd-300h-wer-0.8169-5474.csv\")\n",
    "print(wav2vec2_large_robust_ft_swbd_300h_raw.shape)\n",
    "wav2vec2_large_robust_ft_swbd_300h_raw.head(2)"
   ]
  },
  {
   "cell_type": "code",
   "execution_count": 114,
   "id": "0a1724a8",
   "metadata": {},
   "outputs": [
    {
     "name": "stdout",
     "output_type": "stream",
     "text": [
      "(5480, 9)\n",
      "(4, 10)\n",
      "(0, 10)\n"
     ]
    }
   ],
   "source": [
    "wav2vec2_large_robust_ft_swbd_300h = transform_raw_df(wav2vec2_large_robust_ft_swbd_300h_raw, columns=columns, fmt=\"intron_whisper\")\n",
    "wav2vec2_large_robust_ft_swbd_300h_clean = clean_and_compute_wer(wav2vec2_large_robust_ft_swbd_300h)"
   ]
  },
  {
   "cell_type": "code",
   "execution_count": 115,
   "id": "32320506",
   "metadata": {},
   "outputs": [
    {
     "name": "stdout",
     "output_type": "stream",
     "text": [
      "1.3151703325563109\n",
      "0.9491971715406234\n"
     ]
    }
   ],
   "source": [
    "print(wav2vec2_large_robust_ft_swbd_300h[\"wer\"].mean())\n",
    "print(wav2vec2_large_robust_ft_swbd_300h_clean[\"wer\"].mean())"
   ]
  },
  {
   "cell_type": "code",
   "execution_count": 116,
   "id": "b7f7bc67",
   "metadata": {},
   "outputs": [],
   "source": [
    "model_id_or_path=\"facebook_wav2vec2_large_robust_ft_swbd_300h\"\n",
    "\n",
    "write_to_folder(model_id_or_path=model_id_or_path, \n",
    "                predictions_df=wav2vec2_large_robust_ft_swbd_300h, \n",
    "                output_dir=\"../results/raw\")\n",
    "\n",
    "write_to_folder(model_id_or_path=model_id_or_path, \n",
    "                predictions_df=wav2vec2_large_robust_ft_swbd_300h_clean,\n",
    "                output_dir=\"../results/normalized\")"
   ]
  },
  {
   "cell_type": "code",
   "execution_count": 117,
   "id": "520f02cc",
   "metadata": {},
   "outputs": [],
   "source": [
    "wav2vec2_large_robust_ft_swbd_300h[\"name\"] = \"facebook_wav2vec2_large_robust_ft_swbd_300h\"\n",
    "wav2vec2_large_robust_ft_swbd_300h_clean[\"name\"] = \"facebook_wav2vec2_large_robust_ft_swbd_300h\"\n",
    "\n",
    "models_df = pd.concat([models_df, wav2vec2_large_robust_ft_swbd_300h])\n",
    "models_df_clean = pd.concat([models_df_clean, wav2vec2_large_robust_ft_swbd_300h_clean])"
   ]
  },
  {
   "cell_type": "markdown",
   "id": "84816d79",
   "metadata": {},
   "source": [
    "### Hubert-large-ls960-ft"
   ]
  },
  {
   "cell_type": "code",
   "execution_count": 118,
   "id": "2bbda518",
   "metadata": {},
   "outputs": [
    {
     "name": "stdout",
     "output_type": "stream",
     "text": [
      "(5474, 8)\n"
     ]
    },
    {
     "data": {
      "text/html": [
       "<div>\n",
       "<style scoped>\n",
       "    .dataframe tbody tr th:only-of-type {\n",
       "        vertical-align: middle;\n",
       "    }\n",
       "\n",
       "    .dataframe tbody tr th {\n",
       "        vertical-align: top;\n",
       "    }\n",
       "\n",
       "    .dataframe thead th {\n",
       "        text-align: right;\n",
       "    }\n",
       "</style>\n",
       "<table border=\"1\" class=\"dataframe\">\n",
       "  <thead>\n",
       "    <tr style=\"text-align: right;\">\n",
       "      <th></th>\n",
       "      <th>hypothesis</th>\n",
       "      <th>reference</th>\n",
       "      <th>audio_paths</th>\n",
       "      <th>accent</th>\n",
       "      <th>pred_clean</th>\n",
       "      <th>ref_clean</th>\n",
       "      <th>hypothesis_clean</th>\n",
       "      <th>reference_clean</th>\n",
       "    </tr>\n",
       "  </thead>\n",
       "  <tbody>\n",
       "    <tr>\n",
       "      <th>0</th>\n",
       "      <td>PROTINS BREAK DOWN TO RELEASE ARMINOASIS WHICH...</td>\n",
       "      <td>Proteins break down to release amino acids whi...</td>\n",
       "      <td>/data/data/intron/e696aff8-ce05-4c8e-a3b3-5634...</td>\n",
       "      <td>twi</td>\n",
       "      <td>protins break down to release arminoasis which...</td>\n",
       "      <td>proteins break down to release amino acids whi...</td>\n",
       "      <td>protins break down to release arminoasis which...</td>\n",
       "      <td>proteins break down to release amino acids whi...</td>\n",
       "    </tr>\n",
       "    <tr>\n",
       "      <th>1</th>\n",
       "      <td>TO GRANT SUCH A PATENT LICENSE TO A PARTY MEAN...</td>\n",
       "      <td>To grant such a patent license to a party mean...</td>\n",
       "      <td>/data/data/intron/f28baac3-cdcd-45a2-888c-a59f...</td>\n",
       "      <td>igbo</td>\n",
       "      <td>to grant such a patent license to a party mean...</td>\n",
       "      <td>to grant such a patent license to a party mean...</td>\n",
       "      <td>to grant such a patent license to a party mean...</td>\n",
       "      <td>to grant such a patent license to a party mean...</td>\n",
       "    </tr>\n",
       "  </tbody>\n",
       "</table>\n",
       "</div>"
      ],
      "text/plain": [
       "                                          hypothesis  \\\n",
       "0  PROTINS BREAK DOWN TO RELEASE ARMINOASIS WHICH...   \n",
       "1  TO GRANT SUCH A PATENT LICENSE TO A PARTY MEAN...   \n",
       "\n",
       "                                           reference  \\\n",
       "0  Proteins break down to release amino acids whi...   \n",
       "1  To grant such a patent license to a party mean...   \n",
       "\n",
       "                                         audio_paths accent  \\\n",
       "0  /data/data/intron/e696aff8-ce05-4c8e-a3b3-5634...    twi   \n",
       "1  /data/data/intron/f28baac3-cdcd-45a2-888c-a59f...   igbo   \n",
       "\n",
       "                                          pred_clean  \\\n",
       "0  protins break down to release arminoasis which...   \n",
       "1  to grant such a patent license to a party mean...   \n",
       "\n",
       "                                           ref_clean  \\\n",
       "0  proteins break down to release amino acids whi...   \n",
       "1  to grant such a patent license to a party mean...   \n",
       "\n",
       "                                    hypothesis_clean  \\\n",
       "0  protins break down to release arminoasis which...   \n",
       "1  to grant such a patent license to a party mean...   \n",
       "\n",
       "                                     reference_clean  \n",
       "0  proteins break down to release amino acids whi...  \n",
       "1  to grant such a patent license to a party mean...  "
      ]
     },
     "execution_count": 118,
     "metadata": {},
     "output_type": "execute_result"
    }
   ],
   "source": [
    "hubert_large_ls960_ft_raw = pd.read_csv(\"../results/intron-open-test-facebook-hubert-large-ls960-ft-wer-0.633-5474.csv\")\n",
    "print(hubert_large_ls960_ft_raw.shape)\n",
    "hubert_large_ls960_ft_raw.head(2)"
   ]
  },
  {
   "cell_type": "code",
   "execution_count": 119,
   "id": "cfa49781",
   "metadata": {},
   "outputs": [
    {
     "name": "stdout",
     "output_type": "stream",
     "text": [
      "(5480, 9)\n",
      "(1, 10)\n",
      "(0, 10)\n"
     ]
    }
   ],
   "source": [
    "hubert_large_ls960_ft = transform_raw_df(hubert_large_ls960_ft_raw, columns=columns, fmt=\"intron_whisper\")\n",
    "hubert_large_ls960_ft_clean = clean_and_compute_wer(hubert_large_ls960_ft)"
   ]
  },
  {
   "cell_type": "code",
   "execution_count": 120,
   "id": "2896160d",
   "metadata": {},
   "outputs": [
    {
     "name": "stdout",
     "output_type": "stream",
     "text": [
      "1.2260313946467565\n",
      "0.7524701017884475\n"
     ]
    }
   ],
   "source": [
    "print(hubert_large_ls960_ft[\"wer\"].mean())\n",
    "print(hubert_large_ls960_ft_clean[\"wer\"].mean())"
   ]
  },
  {
   "cell_type": "code",
   "execution_count": 121,
   "id": "c9b65350",
   "metadata": {},
   "outputs": [],
   "source": [
    "model_id_or_path=\"facebook_hubert_large_ls960_ft\"\n",
    "\n",
    "write_to_folder(model_id_or_path=model_id_or_path, \n",
    "                predictions_df=hubert_large_ls960_ft, \n",
    "                output_dir=\"../results/raw\")\n",
    "\n",
    "write_to_folder(model_id_or_path=model_id_or_path, \n",
    "                predictions_df=hubert_large_ls960_ft_clean,\n",
    "                output_dir=\"../results/normalized\")"
   ]
  },
  {
   "cell_type": "code",
   "execution_count": 122,
   "id": "34cd6fdd",
   "metadata": {},
   "outputs": [],
   "source": [
    "hubert_large_ls960_ft[\"name\"] = \"facebook_hubert_large_ls960_ft\"\n",
    "hubert_large_ls960_ft_clean[\"name\"] = \"facebook_hubert_large_ls960_ft\"\n",
    "\n",
    "models_df = pd.concat([models_df, hubert_large_ls960_ft])\n",
    "models_df_clean = pd.concat([models_df_clean, hubert_large_ls960_ft_clean])"
   ]
  },
  {
   "cell_type": "markdown",
   "id": "d1e0fea5",
   "metadata": {},
   "source": [
    "### Hubert-xlarge-ls960-ft"
   ]
  },
  {
   "cell_type": "code",
   "execution_count": 123,
   "id": "273c93a7",
   "metadata": {},
   "outputs": [
    {
     "name": "stdout",
     "output_type": "stream",
     "text": [
      "(5474, 8)\n"
     ]
    },
    {
     "data": {
      "text/html": [
       "<div>\n",
       "<style scoped>\n",
       "    .dataframe tbody tr th:only-of-type {\n",
       "        vertical-align: middle;\n",
       "    }\n",
       "\n",
       "    .dataframe tbody tr th {\n",
       "        vertical-align: top;\n",
       "    }\n",
       "\n",
       "    .dataframe thead th {\n",
       "        text-align: right;\n",
       "    }\n",
       "</style>\n",
       "<table border=\"1\" class=\"dataframe\">\n",
       "  <thead>\n",
       "    <tr style=\"text-align: right;\">\n",
       "      <th></th>\n",
       "      <th>hypothesis</th>\n",
       "      <th>reference</th>\n",
       "      <th>audio_paths</th>\n",
       "      <th>accent</th>\n",
       "      <th>pred_clean</th>\n",
       "      <th>ref_clean</th>\n",
       "      <th>hypothesis_clean</th>\n",
       "      <th>reference_clean</th>\n",
       "    </tr>\n",
       "  </thead>\n",
       "  <tbody>\n",
       "    <tr>\n",
       "      <th>0</th>\n",
       "      <td>FLORITINGIS WRAGD DOWN TORELESE A MINOASUS WHI...</td>\n",
       "      <td>Proteins break down to release amino acids whi...</td>\n",
       "      <td>/data/data/intron/e696aff8-ce05-4c8e-a3b3-5634...</td>\n",
       "      <td>twi</td>\n",
       "      <td>floritingis wragd down torelese a minoasus whi...</td>\n",
       "      <td>proteins break down to release amino acids whi...</td>\n",
       "      <td>floritingis wragd down torelese a minoasus whi...</td>\n",
       "      <td>proteins break down to release amino acids whi...</td>\n",
       "    </tr>\n",
       "    <tr>\n",
       "      <th>1</th>\n",
       "      <td>TO GRANT SUCH A PATENT LICENSE TO A PARTY MEAN...</td>\n",
       "      <td>To grant such a patent license to a party mean...</td>\n",
       "      <td>/data/data/intron/f28baac3-cdcd-45a2-888c-a59f...</td>\n",
       "      <td>igbo</td>\n",
       "      <td>to grant such a patent license to a party mean...</td>\n",
       "      <td>to grant such a patent license to a party mean...</td>\n",
       "      <td>to grant such a patent license to a party mean...</td>\n",
       "      <td>to grant such a patent license to a party mean...</td>\n",
       "    </tr>\n",
       "  </tbody>\n",
       "</table>\n",
       "</div>"
      ],
      "text/plain": [
       "                                          hypothesis  \\\n",
       "0  FLORITINGIS WRAGD DOWN TORELESE A MINOASUS WHI...   \n",
       "1  TO GRANT SUCH A PATENT LICENSE TO A PARTY MEAN...   \n",
       "\n",
       "                                           reference  \\\n",
       "0  Proteins break down to release amino acids whi...   \n",
       "1  To grant such a patent license to a party mean...   \n",
       "\n",
       "                                         audio_paths accent  \\\n",
       "0  /data/data/intron/e696aff8-ce05-4c8e-a3b3-5634...    twi   \n",
       "1  /data/data/intron/f28baac3-cdcd-45a2-888c-a59f...   igbo   \n",
       "\n",
       "                                          pred_clean  \\\n",
       "0  floritingis wragd down torelese a minoasus whi...   \n",
       "1  to grant such a patent license to a party mean...   \n",
       "\n",
       "                                           ref_clean  \\\n",
       "0  proteins break down to release amino acids whi...   \n",
       "1  to grant such a patent license to a party mean...   \n",
       "\n",
       "                                    hypothesis_clean  \\\n",
       "0  floritingis wragd down torelese a minoasus whi...   \n",
       "1  to grant such a patent license to a party mean...   \n",
       "\n",
       "                                     reference_clean  \n",
       "0  proteins break down to release amino acids whi...  \n",
       "1  to grant such a patent license to a party mean...  "
      ]
     },
     "execution_count": 123,
     "metadata": {},
     "output_type": "execute_result"
    }
   ],
   "source": [
    "hubert_xlarge_ls960_ft_raw = pd.read_csv(\"../results/intron-open-test-facebook-hubert-xlarge-ls960-ft-wer-0.6409-5474.csv\")\n",
    "print(hubert_xlarge_ls960_ft_raw.shape)\n",
    "hubert_xlarge_ls960_ft_raw.head(2)"
   ]
  },
  {
   "cell_type": "code",
   "execution_count": 124,
   "id": "3a3e8770",
   "metadata": {},
   "outputs": [
    {
     "name": "stdout",
     "output_type": "stream",
     "text": [
      "(5480, 9)\n",
      "(1, 10)\n",
      "(0, 10)\n"
     ]
    }
   ],
   "source": [
    "hubert_xlarge_ls960_ft = transform_raw_df(hubert_xlarge_ls960_ft_raw, columns=columns, fmt=\"intron_whisper\")\n",
    "hubert_xlarge_ls960_ft_clean = clean_and_compute_wer(hubert_xlarge_ls960_ft)"
   ]
  },
  {
   "cell_type": "code",
   "execution_count": 125,
   "id": "f86f8936",
   "metadata": {},
   "outputs": [
    {
     "name": "stdout",
     "output_type": "stream",
     "text": [
      "1.2538348376800743\n",
      "0.7685927716377526\n"
     ]
    }
   ],
   "source": [
    "print(hubert_xlarge_ls960_ft[\"wer\"].mean())\n",
    "print(hubert_xlarge_ls960_ft_clean[\"wer\"].mean())"
   ]
  },
  {
   "cell_type": "code",
   "execution_count": 126,
   "id": "6321fe39",
   "metadata": {},
   "outputs": [],
   "source": [
    "model_id_or_path=\"facebook_hubert_xlarge_ls960_ft\"\n",
    "\n",
    "write_to_folder(model_id_or_path=model_id_or_path, \n",
    "                predictions_df=hubert_xlarge_ls960_ft, \n",
    "                output_dir=\"../results/raw\")\n",
    "\n",
    "write_to_folder(model_id_or_path=model_id_or_path, \n",
    "                predictions_df=hubert_xlarge_ls960_ft_clean,\n",
    "                output_dir=\"../results/normalized\")"
   ]
  },
  {
   "cell_type": "code",
   "execution_count": 127,
   "id": "292a137c",
   "metadata": {},
   "outputs": [],
   "source": [
    "hubert_xlarge_ls960_ft[\"name\"] = \"facebook_hubert_xlarge_ls960_ft\"\n",
    "hubert_xlarge_ls960_ft_clean[\"name\"] = \"facebook_hubert_xlarge_ls960_ft\"\n",
    "\n",
    "models_df = pd.concat([models_df, hubert_xlarge_ls960_ft])\n",
    "models_df_clean = pd.concat([models_df_clean, hubert_xlarge_ls960_ft_clean])"
   ]
  },
  {
   "cell_type": "code",
   "execution_count": 128,
   "id": "7dc99c8c",
   "metadata": {},
   "outputs": [
    {
     "data": {
      "text/plain": [
       "((93208, 12), (93208, 12))"
      ]
     },
     "execution_count": 128,
     "metadata": {},
     "output_type": "execute_result"
    }
   ],
   "source": [
    "models_df.shape, models_df_clean.shape"
   ]
  },
  {
   "cell_type": "code",
   "execution_count": 129,
   "id": "8515590f",
   "metadata": {},
   "outputs": [],
   "source": [
    "models_df.to_csv(\"../results/raw/intron-open-test-all_models.csv\")\n",
    "models_df_clean.to_csv(\"../results/normalized/intron-open-test-all_models.csv\")"
   ]
  },
  {
   "cell_type": "markdown",
   "id": "7af812e5",
   "metadata": {},
   "source": [
    "# Other statistics\n",
    "\n",
    "- compute per-accent statistics\n",
    "- compute per-gender statistics\n",
    "- compute per-domain statistics\n",
    "- compute per age-group statistics"
   ]
  },
  {
   "cell_type": "code",
   "execution_count": 131,
   "id": "a156b0ca",
   "metadata": {},
   "outputs": [],
   "source": [
    "import os\n",
    "\n",
    "if os.path.exists(\"../results/raw/all_models.csv\"):\n",
    "    models_df = pd.read_csv(\"../results/raw/intron-open-test-all_models.csv\")\n",
    "\n",
    "if os.path.exists(\"../results/normalized/all_models.csv\"):\n",
    "    models_df_clean = pd.read_csv(\"../results/normalized/intron-open-test-all_models.csv\")"
   ]
  },
  {
   "cell_type": "code",
   "execution_count": 132,
   "id": "e8a164d9",
   "metadata": {},
   "outputs": [
    {
     "data": {
      "text/plain": [
       "['amazon_aws_transcribe_medical_api_primary_care',\n",
       " 'google_gcp_medical_speech_api',\n",
       " 'openai_whisper_medium',\n",
       " 'facebook_wav2vec2_large_960h_lv60_self',\n",
       " 'microsoft_wavlm_libri_clean_100h_large',\n",
       " 'facebook_wav2vec2_large_robust_ft_swbd_300h',\n",
       " 'openai_whisper_small',\n",
       " 'facebook_hubert_xlarge_ls960_ft',\n",
       " 'amazon_aws_transcribe_api',\n",
       " 'openai_whisper_medium_en',\n",
       " 'openai_whisper_large',\n",
       " 'facebook_wav2vec2_large_960h',\n",
       " 'microsoft_wavlm_libri_clean_100h_base',\n",
       " 'facebook_hubert_large_ls960_ft',\n",
       " 'google_gcp_speech_api',\n",
       " 'facebook_wav2vec2_large_xlsr_53_english',\n",
       " 'facebook_wav2vec2_xls_r_1b_english']"
      ]
     },
     "execution_count": 132,
     "metadata": {},
     "output_type": "execute_result"
    }
   ],
   "source": [
    "list(set(models_df.name))"
   ]
  },
  {
   "cell_type": "code",
   "execution_count": 133,
   "id": "e6761ea5",
   "metadata": {},
   "outputs": [],
   "source": [
    "models_mapping = {\n",
    "    \"amazon_aws_transcribe_api\": \"AWS\",\n",
    "    \"google_gcp_speech_api\": \"GCP\",\n",
    "    \"google_gcp_medical_speech_api\": \"GCP [Medical]\",\n",
    "    \"facebook_hubert_xlarge_ls960_ft\": \"facebook/hubert-xlarge-ls960-ft\",\n",
    "    \"facebook_wav2vec2_large_robust_ft_swbd_300h\": \"facebook/wav2vec2-large-robust-ft-swbd-300h\",\n",
    "    \"microsoft_azure_speech_api\": \"Azure\",\n",
    "    \"openai_whisper_small\": \"openai/whisper-small\",\n",
    "    \"openai_whisper_small_en\": \"openai/whisper-small-en\",\n",
    "    \"speechbrain_crdnn_rnnlm_librispeech\": \"speechbrain/crdnn-rnnlm-librispeech\",\n",
    "    \"facebook_wav2vec2_large_xlsr_53_english\": \"facebook/wav2vec2-large-xlsr-53-english\",\n",
    "    \"nvidia_nemo_conformer_ctc_large\": \"nvidia/nemo-conformer-ctc-large\",\n",
    "    \"nvidia_nemo_conformer_transducer_large\": \"nvidia/nemo-conformer-transducer-large\",\n",
    "    \"facebook_hubert_large_ls960_ft\": \"facebook/hubert-large-ls960-ft\",\n",
    "    \"openai_whisper_medium\": \"openai/whisper-medium\",\n",
    "    \"microsoft_wavlm_libri_clean_100h_base\": \"microsoft/wavlm-libri-clean-100h-base\",\n",
    "    \"amazon_aws_transcribe_medical_api_primary_care\": \"AWS [Medical] (Primary Care)\",\n",
    "    \"facebook_wav2vec2_large_960h_lv60_self\": \"facebook/wav2vec2-large-960h-lv60-self\",\n",
    "    \"openai_whisper_large\": \"openai/whisper-large\",\n",
    "    \"facebook_wav2vec2_large_960h\": \"facebook/wav2vec2-large-960h\",\n",
    "    \"openai_whisper_medium_en\": \"openai/whisper-medium-en\",\n",
    "    \"facebook_wav2vec2_xls_r_1b_english\": \"facebook/wav2vec2-xls-r-1b-english\",\n",
    "    \"microsoft_wavlm_libri_clean_100h_large\": \"microsoft/wavlm-libri-clean-100h-large\"\n",
    "}"
   ]
  },
  {
   "cell_type": "code",
   "execution_count": 134,
   "id": "42d8ef87",
   "metadata": {},
   "outputs": [],
   "source": [
    "models_df.name = models_df.name.apply(lambda x: models_mapping[x])\n",
    "models_df_clean.name = models_df_clean.name.apply(lambda x: models_mapping[x])"
   ]
  },
  {
   "cell_type": "code",
   "execution_count": 135,
   "id": "0f106175",
   "metadata": {},
   "outputs": [
    {
     "data": {
      "text/html": [
       "<div>\n",
       "<style scoped>\n",
       "    .dataframe tbody tr th:only-of-type {\n",
       "        vertical-align: middle;\n",
       "    }\n",
       "\n",
       "    .dataframe tbody tr th {\n",
       "        vertical-align: top;\n",
       "    }\n",
       "\n",
       "    .dataframe thead th {\n",
       "        text-align: right;\n",
       "    }\n",
       "</style>\n",
       "<table border=\"1\" class=\"dataframe\">\n",
       "  <thead>\n",
       "    <tr style=\"text-align: right;\">\n",
       "      <th></th>\n",
       "      <th>name</th>\n",
       "      <th>domain</th>\n",
       "      <th>wer</th>\n",
       "    </tr>\n",
       "  </thead>\n",
       "  <tbody>\n",
       "    <tr>\n",
       "      <th>0</th>\n",
       "      <td>facebook/hubert-large-ls960-ft</td>\n",
       "      <td>clinical</td>\n",
       "      <td>1.276967</td>\n",
       "    </tr>\n",
       "    <tr>\n",
       "      <th>1</th>\n",
       "      <td>facebook/hubert-large-ls960-ft</td>\n",
       "      <td>general</td>\n",
       "      <td>1.159191</td>\n",
       "    </tr>\n",
       "    <tr>\n",
       "      <th>2</th>\n",
       "      <td>facebook/hubert-xlarge-ls960-ft</td>\n",
       "      <td>clinical</td>\n",
       "      <td>1.311211</td>\n",
       "    </tr>\n",
       "    <tr>\n",
       "      <th>3</th>\n",
       "      <td>facebook/hubert-xlarge-ls960-ft</td>\n",
       "      <td>general</td>\n",
       "      <td>1.178544</td>\n",
       "    </tr>\n",
       "    <tr>\n",
       "      <th>4</th>\n",
       "      <td>facebook/wav2vec2-large-960h</td>\n",
       "      <td>clinical</td>\n",
       "      <td>1.302091</td>\n",
       "    </tr>\n",
       "    <tr>\n",
       "      <th>5</th>\n",
       "      <td>facebook/wav2vec2-large-960h</td>\n",
       "      <td>general</td>\n",
       "      <td>1.173649</td>\n",
       "    </tr>\n",
       "    <tr>\n",
       "      <th>6</th>\n",
       "      <td>facebook/wav2vec2-large-960h-lv60-self</td>\n",
       "      <td>clinical</td>\n",
       "      <td>1.276740</td>\n",
       "    </tr>\n",
       "    <tr>\n",
       "      <th>7</th>\n",
       "      <td>facebook/wav2vec2-large-960h-lv60-self</td>\n",
       "      <td>general</td>\n",
       "      <td>1.163393</td>\n",
       "    </tr>\n",
       "    <tr>\n",
       "      <th>8</th>\n",
       "      <td>facebook/wav2vec2-large-robust-ft-swbd-300h</td>\n",
       "      <td>clinical</td>\n",
       "      <td>1.381025</td>\n",
       "    </tr>\n",
       "    <tr>\n",
       "      <th>9</th>\n",
       "      <td>facebook/wav2vec2-large-robust-ft-swbd-300h</td>\n",
       "      <td>general</td>\n",
       "      <td>1.228753</td>\n",
       "    </tr>\n",
       "    <tr>\n",
       "      <th>10</th>\n",
       "      <td>facebook/wav2vec2-large-xlsr-53-english</td>\n",
       "      <td>clinical</td>\n",
       "      <td>0.871030</td>\n",
       "    </tr>\n",
       "    <tr>\n",
       "      <th>11</th>\n",
       "      <td>facebook/wav2vec2-large-xlsr-53-english</td>\n",
       "      <td>general</td>\n",
       "      <td>0.634070</td>\n",
       "    </tr>\n",
       "    <tr>\n",
       "      <th>12</th>\n",
       "      <td>facebook/wav2vec2-xls-r-1b-english</td>\n",
       "      <td>clinical</td>\n",
       "      <td>0.914974</td>\n",
       "    </tr>\n",
       "    <tr>\n",
       "      <th>13</th>\n",
       "      <td>facebook/wav2vec2-xls-r-1b-english</td>\n",
       "      <td>general</td>\n",
       "      <td>0.668790</td>\n",
       "    </tr>\n",
       "  </tbody>\n",
       "</table>\n",
       "</div>"
      ],
      "text/plain": [
       "                                           name    domain       wer\n",
       "0                facebook/hubert-large-ls960-ft  clinical  1.276967\n",
       "1                facebook/hubert-large-ls960-ft   general  1.159191\n",
       "2               facebook/hubert-xlarge-ls960-ft  clinical  1.311211\n",
       "3               facebook/hubert-xlarge-ls960-ft   general  1.178544\n",
       "4                  facebook/wav2vec2-large-960h  clinical  1.302091\n",
       "5                  facebook/wav2vec2-large-960h   general  1.173649\n",
       "6        facebook/wav2vec2-large-960h-lv60-self  clinical  1.276740\n",
       "7        facebook/wav2vec2-large-960h-lv60-self   general  1.163393\n",
       "8   facebook/wav2vec2-large-robust-ft-swbd-300h  clinical  1.381025\n",
       "9   facebook/wav2vec2-large-robust-ft-swbd-300h   general  1.228753\n",
       "10      facebook/wav2vec2-large-xlsr-53-english  clinical  0.871030\n",
       "11      facebook/wav2vec2-large-xlsr-53-english   general  0.634070\n",
       "12           facebook/wav2vec2-xls-r-1b-english  clinical  0.914974\n",
       "13           facebook/wav2vec2-xls-r-1b-english   general  0.668790"
      ]
     },
     "execution_count": 135,
     "metadata": {},
     "output_type": "execute_result"
    }
   ],
   "source": [
    "name = \"facebook\"\n",
    "models_df[models_df.name.str.startswith(name)].groupby([\"name\", \"domain\"])[\"wer\"].mean().reset_index()"
   ]
  },
  {
   "cell_type": "code",
   "execution_count": 136,
   "id": "2279c327",
   "metadata": {},
   "outputs": [],
   "source": [
    "# name = \"nvidia\"\n",
    "# models_df_clean[models_df_clean.name.str.startswith(name)].groupby([\"name\", \"domain\"])[\"wer\"].mean().reset_index()"
   ]
  },
  {
   "cell_type": "code",
   "execution_count": 137,
   "id": "2dc6ca7f",
   "metadata": {},
   "outputs": [],
   "source": [
    "models_df.domain = models_df.domain.str.capitalize()\n",
    "models_df_clean.domain = models_df_clean.domain.str.capitalize()"
   ]
  },
  {
   "cell_type": "code",
   "execution_count": 152,
   "id": "ea0a7612",
   "metadata": {},
   "outputs": [
    {
     "data": {
      "text/html": [
       "<div>\n",
       "<style scoped>\n",
       "    .dataframe tbody tr th:only-of-type {\n",
       "        vertical-align: middle;\n",
       "    }\n",
       "\n",
       "    .dataframe tbody tr th {\n",
       "        vertical-align: top;\n",
       "    }\n",
       "\n",
       "    .dataframe thead th {\n",
       "        text-align: right;\n",
       "    }\n",
       "</style>\n",
       "<table border=\"1\" class=\"dataframe\">\n",
       "  <thead>\n",
       "    <tr style=\"text-align: right;\">\n",
       "      <th>domain</th>\n",
       "      <th>Clinical</th>\n",
       "      <th>General</th>\n",
       "    </tr>\n",
       "    <tr>\n",
       "      <th>name</th>\n",
       "      <th></th>\n",
       "      <th></th>\n",
       "    </tr>\n",
       "  </thead>\n",
       "  <tbody>\n",
       "    <tr>\n",
       "      <th>openai/whisper-large</th>\n",
       "      <td>0.610564</td>\n",
       "      <td>0.376748</td>\n",
       "    </tr>\n",
       "    <tr>\n",
       "      <th>openai/whisper-medium-en</th>\n",
       "      <td>0.634030</td>\n",
       "      <td>0.442761</td>\n",
       "    </tr>\n",
       "    <tr>\n",
       "      <th>openai/whisper-medium</th>\n",
       "      <td>0.635590</td>\n",
       "      <td>0.428758</td>\n",
       "    </tr>\n",
       "    <tr>\n",
       "      <th>openai/whisper-small</th>\n",
       "      <td>0.690537</td>\n",
       "      <td>0.479247</td>\n",
       "    </tr>\n",
       "    <tr>\n",
       "      <th>GCP [Medical]</th>\n",
       "      <td>0.736015</td>\n",
       "      <td>0.649440</td>\n",
       "    </tr>\n",
       "    <tr>\n",
       "      <th>GCP</th>\n",
       "      <td>0.771967</td>\n",
       "      <td>0.621832</td>\n",
       "    </tr>\n",
       "    <tr>\n",
       "      <th>facebook/wav2vec2-large-xlsr-53-english</th>\n",
       "      <td>0.871030</td>\n",
       "      <td>0.634070</td>\n",
       "    </tr>\n",
       "    <tr>\n",
       "      <th>facebook/wav2vec2-xls-r-1b-english</th>\n",
       "      <td>0.914974</td>\n",
       "      <td>0.668790</td>\n",
       "    </tr>\n",
       "    <tr>\n",
       "      <th>microsoft/wavlm-libri-clean-100h-large</th>\n",
       "      <td>0.988569</td>\n",
       "      <td>0.745608</td>\n",
       "    </tr>\n",
       "    <tr>\n",
       "      <th>AWS [Medical] (Primary Care)</th>\n",
       "      <td>1.000000</td>\n",
       "      <td>1.000000</td>\n",
       "    </tr>\n",
       "    <tr>\n",
       "      <th>AWS</th>\n",
       "      <td>1.004927</td>\n",
       "      <td>0.999985</td>\n",
       "    </tr>\n",
       "    <tr>\n",
       "      <th>microsoft/wavlm-libri-clean-100h-base</th>\n",
       "      <td>1.049227</td>\n",
       "      <td>0.893516</td>\n",
       "    </tr>\n",
       "    <tr>\n",
       "      <th>facebook/wav2vec2-large-960h-lv60-self</th>\n",
       "      <td>1.276740</td>\n",
       "      <td>1.163393</td>\n",
       "    </tr>\n",
       "    <tr>\n",
       "      <th>facebook/hubert-large-ls960-ft</th>\n",
       "      <td>1.276967</td>\n",
       "      <td>1.159191</td>\n",
       "    </tr>\n",
       "    <tr>\n",
       "      <th>facebook/wav2vec2-large-960h</th>\n",
       "      <td>1.302091</td>\n",
       "      <td>1.173649</td>\n",
       "    </tr>\n",
       "    <tr>\n",
       "      <th>facebook/hubert-xlarge-ls960-ft</th>\n",
       "      <td>1.311211</td>\n",
       "      <td>1.178544</td>\n",
       "    </tr>\n",
       "    <tr>\n",
       "      <th>facebook/wav2vec2-large-robust-ft-swbd-300h</th>\n",
       "      <td>1.381025</td>\n",
       "      <td>1.228753</td>\n",
       "    </tr>\n",
       "  </tbody>\n",
       "</table>\n",
       "</div>"
      ],
      "text/plain": [
       "domain                                       Clinical   General\n",
       "name                                                           \n",
       "openai/whisper-large                         0.610564  0.376748\n",
       "openai/whisper-medium-en                     0.634030  0.442761\n",
       "openai/whisper-medium                        0.635590  0.428758\n",
       "openai/whisper-small                         0.690537  0.479247\n",
       "GCP [Medical]                                0.736015  0.649440\n",
       "GCP                                          0.771967  0.621832\n",
       "facebook/wav2vec2-large-xlsr-53-english      0.871030  0.634070\n",
       "facebook/wav2vec2-xls-r-1b-english           0.914974  0.668790\n",
       "microsoft/wavlm-libri-clean-100h-large       0.988569  0.745608\n",
       "AWS [Medical] (Primary Care)                 1.000000  1.000000\n",
       "AWS                                          1.004927  0.999985\n",
       "microsoft/wavlm-libri-clean-100h-base        1.049227  0.893516\n",
       "facebook/wav2vec2-large-960h-lv60-self       1.276740  1.163393\n",
       "facebook/hubert-large-ls960-ft               1.276967  1.159191\n",
       "facebook/wav2vec2-large-960h                 1.302091  1.173649\n",
       "facebook/hubert-xlarge-ls960-ft              1.311211  1.178544\n",
       "facebook/wav2vec2-large-robust-ft-swbd-300h  1.381025  1.228753"
      ]
     },
     "execution_count": 152,
     "metadata": {},
     "output_type": "execute_result"
    }
   ],
   "source": [
    "domain_df = models_df.groupby([\"name\", \"domain\"])[\"wer\"].mean().reset_index().set_index(\"name\").pivot(columns=\"domain\").sort_values((\"wer\", \"Clinical\"))\n",
    "domain_df = domain_df.droplevel(0, axis=1)\n",
    "domain_df"
   ]
  },
  {
   "cell_type": "code",
   "execution_count": 153,
   "id": "8ccd3a3b",
   "metadata": {},
   "outputs": [
    {
     "data": {
      "text/html": [
       "<div>\n",
       "<style scoped>\n",
       "    .dataframe tbody tr th:only-of-type {\n",
       "        vertical-align: middle;\n",
       "    }\n",
       "\n",
       "    .dataframe tbody tr th {\n",
       "        vertical-align: top;\n",
       "    }\n",
       "\n",
       "    .dataframe thead th {\n",
       "        text-align: right;\n",
       "    }\n",
       "</style>\n",
       "<table border=\"1\" class=\"dataframe\">\n",
       "  <thead>\n",
       "    <tr style=\"text-align: right;\">\n",
       "      <th></th>\n",
       "      <th>General</th>\n",
       "      <th>Clinical</th>\n",
       "      <th>Both</th>\n",
       "    </tr>\n",
       "    <tr>\n",
       "      <th>name</th>\n",
       "      <th></th>\n",
       "      <th></th>\n",
       "      <th></th>\n",
       "    </tr>\n",
       "  </thead>\n",
       "  <tbody>\n",
       "    <tr>\n",
       "      <th>openai/whisper-large</th>\n",
       "      <td>0.377</td>\n",
       "      <td>0.611</td>\n",
       "      <td>0.509</td>\n",
       "    </tr>\n",
       "    <tr>\n",
       "      <th>openai/whisper-medium-en</th>\n",
       "      <td>0.443</td>\n",
       "      <td>0.634</td>\n",
       "      <td>0.551</td>\n",
       "    </tr>\n",
       "    <tr>\n",
       "      <th>openai/whisper-medium</th>\n",
       "      <td>0.429</td>\n",
       "      <td>0.636</td>\n",
       "      <td>0.546</td>\n",
       "    </tr>\n",
       "    <tr>\n",
       "      <th>openai/whisper-small</th>\n",
       "      <td>0.479</td>\n",
       "      <td>0.691</td>\n",
       "      <td>0.599</td>\n",
       "    </tr>\n",
       "    <tr>\n",
       "      <th>GCP [Medical]</th>\n",
       "      <td>0.649</td>\n",
       "      <td>0.736</td>\n",
       "      <td>0.699</td>\n",
       "    </tr>\n",
       "    <tr>\n",
       "      <th>GCP</th>\n",
       "      <td>0.622</td>\n",
       "      <td>0.772</td>\n",
       "      <td>0.707</td>\n",
       "    </tr>\n",
       "    <tr>\n",
       "      <th>facebook/wav2vec2-large-xlsr-53-english</th>\n",
       "      <td>0.634</td>\n",
       "      <td>0.871</td>\n",
       "      <td>0.769</td>\n",
       "    </tr>\n",
       "    <tr>\n",
       "      <th>facebook/wav2vec2-xls-r-1b-english</th>\n",
       "      <td>0.669</td>\n",
       "      <td>0.915</td>\n",
       "      <td>0.809</td>\n",
       "    </tr>\n",
       "    <tr>\n",
       "      <th>microsoft/wavlm-libri-clean-100h-large</th>\n",
       "      <td>0.746</td>\n",
       "      <td>0.989</td>\n",
       "      <td>0.883</td>\n",
       "    </tr>\n",
       "    <tr>\n",
       "      <th>AWS [Medical] (Primary Care)</th>\n",
       "      <td>1.000</td>\n",
       "      <td>1.000</td>\n",
       "      <td>1.000</td>\n",
       "    </tr>\n",
       "    <tr>\n",
       "      <th>AWS</th>\n",
       "      <td>1.000</td>\n",
       "      <td>1.005</td>\n",
       "      <td>1.003</td>\n",
       "    </tr>\n",
       "    <tr>\n",
       "      <th>microsoft/wavlm-libri-clean-100h-base</th>\n",
       "      <td>0.894</td>\n",
       "      <td>1.049</td>\n",
       "      <td>0.982</td>\n",
       "    </tr>\n",
       "    <tr>\n",
       "      <th>facebook/wav2vec2-large-960h-lv60-self</th>\n",
       "      <td>1.163</td>\n",
       "      <td>1.277</td>\n",
       "      <td>1.228</td>\n",
       "    </tr>\n",
       "    <tr>\n",
       "      <th>facebook/hubert-large-ls960-ft</th>\n",
       "      <td>1.159</td>\n",
       "      <td>1.277</td>\n",
       "      <td>1.226</td>\n",
       "    </tr>\n",
       "    <tr>\n",
       "      <th>facebook/wav2vec2-large-960h</th>\n",
       "      <td>1.174</td>\n",
       "      <td>1.302</td>\n",
       "      <td>1.247</td>\n",
       "    </tr>\n",
       "    <tr>\n",
       "      <th>facebook/hubert-xlarge-ls960-ft</th>\n",
       "      <td>1.179</td>\n",
       "      <td>1.311</td>\n",
       "      <td>1.254</td>\n",
       "    </tr>\n",
       "    <tr>\n",
       "      <th>facebook/wav2vec2-large-robust-ft-swbd-300h</th>\n",
       "      <td>1.229</td>\n",
       "      <td>1.381</td>\n",
       "      <td>1.315</td>\n",
       "    </tr>\n",
       "  </tbody>\n",
       "</table>\n",
       "</div>"
      ],
      "text/plain": [
       "                                             General  Clinical   Both\n",
       "name                                                                 \n",
       "openai/whisper-large                           0.377     0.611  0.509\n",
       "openai/whisper-medium-en                       0.443     0.634  0.551\n",
       "openai/whisper-medium                          0.429     0.636  0.546\n",
       "openai/whisper-small                           0.479     0.691  0.599\n",
       "GCP [Medical]                                  0.649     0.736  0.699\n",
       "GCP                                            0.622     0.772  0.707\n",
       "facebook/wav2vec2-large-xlsr-53-english        0.634     0.871  0.769\n",
       "facebook/wav2vec2-xls-r-1b-english             0.669     0.915  0.809\n",
       "microsoft/wavlm-libri-clean-100h-large         0.746     0.989  0.883\n",
       "AWS [Medical] (Primary Care)                   1.000     1.000  1.000\n",
       "AWS                                            1.000     1.005  1.003\n",
       "microsoft/wavlm-libri-clean-100h-base          0.894     1.049  0.982\n",
       "facebook/wav2vec2-large-960h-lv60-self         1.163     1.277  1.228\n",
       "facebook/hubert-large-ls960-ft                 1.159     1.277  1.226\n",
       "facebook/wav2vec2-large-960h                   1.174     1.302  1.247\n",
       "facebook/hubert-xlarge-ls960-ft                1.179     1.311  1.254\n",
       "facebook/wav2vec2-large-robust-ft-swbd-300h    1.229     1.381  1.315"
      ]
     },
     "execution_count": 153,
     "metadata": {},
     "output_type": "execute_result"
    }
   ],
   "source": [
    "domain_df= domain_df.merge(models_df.groupby([\"name\"])[\"wer\"].mean().reset_index(), on=\"name\")\n",
    "domain_df[\"Both\"] = domain_df[\"wer\"]\n",
    "domain_df = domain_df[[\"name\", \"Clinical\", \"General\", \"Both\"]]\n",
    "domain_df = domain_df.set_index(\"name\")\n",
    "domain_df = domain_df[[\"General\", \"Clinical\", \"Both\"]].round(3)\n",
    "domain_df"
   ]
  },
  {
   "cell_type": "code",
   "execution_count": 154,
   "id": "94aa9310",
   "metadata": {},
   "outputs": [
    {
     "name": "stdout",
     "output_type": "stream",
     "text": [
      "\\begin{tabular}{lrrr}\n",
      "\\toprule\n",
      "{} &  General &  Clinical &   Both \\\\\n",
      "name                                        &          &           &        \\\\\n",
      "\\midrule\n",
      "openai/whisper-large                        &    0.377 &     0.611 &  0.509 \\\\\n",
      "openai/whisper-medium-en                    &    0.443 &     0.634 &  0.551 \\\\\n",
      "openai/whisper-medium                       &    0.429 &     0.636 &  0.546 \\\\\n",
      "openai/whisper-small                        &    0.479 &     0.691 &  0.599 \\\\\n",
      "GCP [Medical]                               &    0.649 &     0.736 &  0.699 \\\\\n",
      "GCP                                         &    0.622 &     0.772 &  0.707 \\\\\n",
      "facebook/wav2vec2-large-xlsr-53-english     &    0.634 &     0.871 &  0.769 \\\\\n",
      "facebook/wav2vec2-xls-r-1b-english          &    0.669 &     0.915 &  0.809 \\\\\n",
      "microsoft/wavlm-libri-clean-100h-large      &    0.746 &     0.989 &  0.883 \\\\\n",
      "AWS [Medical] (Primary Care)                &    1.000 &     1.000 &  1.000 \\\\\n",
      "AWS                                         &    1.000 &     1.005 &  1.003 \\\\\n",
      "microsoft/wavlm-libri-clean-100h-base       &    0.894 &     1.049 &  0.982 \\\\\n",
      "facebook/wav2vec2-large-960h-lv60-self      &    1.163 &     1.277 &  1.228 \\\\\n",
      "facebook/hubert-large-ls960-ft              &    1.159 &     1.277 &  1.226 \\\\\n",
      "facebook/wav2vec2-large-960h                &    1.174 &     1.302 &  1.247 \\\\\n",
      "facebook/hubert-xlarge-ls960-ft             &    1.179 &     1.311 &  1.254 \\\\\n",
      "facebook/wav2vec2-large-robust-ft-swbd-300h &    1.229 &     1.381 &  1.315 \\\\\n",
      "\\bottomrule\n",
      "\\end{tabular}\n",
      "\n"
     ]
    }
   ],
   "source": [
    "print(domain_df.to_latex())"
   ]
  },
  {
   "cell_type": "code",
   "execution_count": 155,
   "id": "acec108e",
   "metadata": {},
   "outputs": [
    {
     "data": {
      "text/html": [
       "<div>\n",
       "<style scoped>\n",
       "    .dataframe tbody tr th:only-of-type {\n",
       "        vertical-align: middle;\n",
       "    }\n",
       "\n",
       "    .dataframe tbody tr th {\n",
       "        vertical-align: top;\n",
       "    }\n",
       "\n",
       "    .dataframe thead th {\n",
       "        text-align: right;\n",
       "    }\n",
       "</style>\n",
       "<table border=\"1\" class=\"dataframe\">\n",
       "  <thead>\n",
       "    <tr style=\"text-align: right;\">\n",
       "      <th>domain</th>\n",
       "      <th>Clinical</th>\n",
       "      <th>General</th>\n",
       "    </tr>\n",
       "    <tr>\n",
       "      <th>name</th>\n",
       "      <th></th>\n",
       "      <th></th>\n",
       "    </tr>\n",
       "  </thead>\n",
       "  <tbody>\n",
       "    <tr>\n",
       "      <th>openai/whisper-large</th>\n",
       "      <td>0.495154</td>\n",
       "      <td>0.283333</td>\n",
       "    </tr>\n",
       "    <tr>\n",
       "      <th>openai/whisper-medium</th>\n",
       "      <td>0.502572</td>\n",
       "      <td>0.315612</td>\n",
       "    </tr>\n",
       "    <tr>\n",
       "      <th>openai/whisper-medium-en</th>\n",
       "      <td>0.526946</td>\n",
       "      <td>0.350112</td>\n",
       "    </tr>\n",
       "    <tr>\n",
       "      <th>openai/whisper-small</th>\n",
       "      <td>0.577093</td>\n",
       "      <td>0.376324</td>\n",
       "    </tr>\n",
       "    <tr>\n",
       "      <th>GCP [Medical]</th>\n",
       "      <td>0.643839</td>\n",
       "      <td>0.600379</td>\n",
       "    </tr>\n",
       "    <tr>\n",
       "      <th>GCP</th>\n",
       "      <td>0.704339</td>\n",
       "      <td>0.546736</td>\n",
       "    </tr>\n",
       "    <tr>\n",
       "      <th>facebook/wav2vec2-large-xlsr-53-english</th>\n",
       "      <td>0.791901</td>\n",
       "      <td>0.542743</td>\n",
       "    </tr>\n",
       "    <tr>\n",
       "      <th>facebook/wav2vec2-xls-r-1b-english</th>\n",
       "      <td>0.817967</td>\n",
       "      <td>0.559371</td>\n",
       "    </tr>\n",
       "    <tr>\n",
       "      <th>facebook/wav2vec2-large-960h-lv60-self</th>\n",
       "      <td>0.849437</td>\n",
       "      <td>0.580992</td>\n",
       "    </tr>\n",
       "    <tr>\n",
       "      <th>facebook/hubert-large-ls960-ft</th>\n",
       "      <td>0.867848</td>\n",
       "      <td>0.601067</td>\n",
       "    </tr>\n",
       "    <tr>\n",
       "      <th>facebook/hubert-xlarge-ls960-ft</th>\n",
       "      <td>0.891625</td>\n",
       "      <td>0.607146</td>\n",
       "    </tr>\n",
       "    <tr>\n",
       "      <th>microsoft/wavlm-libri-clean-100h-large</th>\n",
       "      <td>0.927759</td>\n",
       "      <td>0.672682</td>\n",
       "    </tr>\n",
       "    <tr>\n",
       "      <th>facebook/wav2vec2-large-960h</th>\n",
       "      <td>0.947859</td>\n",
       "      <td>0.694193</td>\n",
       "    </tr>\n",
       "    <tr>\n",
       "      <th>AWS [Medical] (Primary Care)</th>\n",
       "      <td>1.000000</td>\n",
       "      <td>1.000000</td>\n",
       "    </tr>\n",
       "    <tr>\n",
       "      <th>AWS</th>\n",
       "      <td>1.004332</td>\n",
       "      <td>0.999985</td>\n",
       "    </tr>\n",
       "    <tr>\n",
       "      <th>microsoft/wavlm-libri-clean-100h-base</th>\n",
       "      <td>1.030250</td>\n",
       "      <td>0.866939</td>\n",
       "    </tr>\n",
       "    <tr>\n",
       "      <th>facebook/wav2vec2-large-robust-ft-swbd-300h</th>\n",
       "      <td>1.073385</td>\n",
       "      <td>0.786233</td>\n",
       "    </tr>\n",
       "  </tbody>\n",
       "</table>\n",
       "</div>"
      ],
      "text/plain": [
       "domain                                       Clinical   General\n",
       "name                                                           \n",
       "openai/whisper-large                         0.495154  0.283333\n",
       "openai/whisper-medium                        0.502572  0.315612\n",
       "openai/whisper-medium-en                     0.526946  0.350112\n",
       "openai/whisper-small                         0.577093  0.376324\n",
       "GCP [Medical]                                0.643839  0.600379\n",
       "GCP                                          0.704339  0.546736\n",
       "facebook/wav2vec2-large-xlsr-53-english      0.791901  0.542743\n",
       "facebook/wav2vec2-xls-r-1b-english           0.817967  0.559371\n",
       "facebook/wav2vec2-large-960h-lv60-self       0.849437  0.580992\n",
       "facebook/hubert-large-ls960-ft               0.867848  0.601067\n",
       "facebook/hubert-xlarge-ls960-ft              0.891625  0.607146\n",
       "microsoft/wavlm-libri-clean-100h-large       0.927759  0.672682\n",
       "facebook/wav2vec2-large-960h                 0.947859  0.694193\n",
       "AWS [Medical] (Primary Care)                 1.000000  1.000000\n",
       "AWS                                          1.004332  0.999985\n",
       "microsoft/wavlm-libri-clean-100h-base        1.030250  0.866939\n",
       "facebook/wav2vec2-large-robust-ft-swbd-300h  1.073385  0.786233"
      ]
     },
     "execution_count": 155,
     "metadata": {},
     "output_type": "execute_result"
    }
   ],
   "source": [
    "domain_df_clean = models_df_clean.groupby([\"name\", \"domain\"])[\"wer\"].mean().reset_index().set_index(\"name\").pivot(columns=\"domain\").sort_values((\"wer\", \"Clinical\"))\n",
    "domain_df_clean = domain_df_clean.droplevel(0, axis=1)\n",
    "domain_df_clean"
   ]
  },
  {
   "cell_type": "code",
   "execution_count": 156,
   "id": "9e723ed9",
   "metadata": {},
   "outputs": [
    {
     "data": {
      "text/html": [
       "<div>\n",
       "<style scoped>\n",
       "    .dataframe tbody tr th:only-of-type {\n",
       "        vertical-align: middle;\n",
       "    }\n",
       "\n",
       "    .dataframe tbody tr th {\n",
       "        vertical-align: top;\n",
       "    }\n",
       "\n",
       "    .dataframe thead th {\n",
       "        text-align: right;\n",
       "    }\n",
       "</style>\n",
       "<table border=\"1\" class=\"dataframe\">\n",
       "  <thead>\n",
       "    <tr style=\"text-align: right;\">\n",
       "      <th></th>\n",
       "      <th>General</th>\n",
       "      <th>Clinical</th>\n",
       "      <th>Both</th>\n",
       "    </tr>\n",
       "    <tr>\n",
       "      <th>name</th>\n",
       "      <th></th>\n",
       "      <th></th>\n",
       "      <th></th>\n",
       "    </tr>\n",
       "  </thead>\n",
       "  <tbody>\n",
       "    <tr>\n",
       "      <th>openai/whisper-large</th>\n",
       "      <td>0.283</td>\n",
       "      <td>0.495</td>\n",
       "      <td>0.404</td>\n",
       "    </tr>\n",
       "    <tr>\n",
       "      <th>openai/whisper-medium</th>\n",
       "      <td>0.316</td>\n",
       "      <td>0.503</td>\n",
       "      <td>0.422</td>\n",
       "    </tr>\n",
       "    <tr>\n",
       "      <th>openai/whisper-medium-en</th>\n",
       "      <td>0.350</td>\n",
       "      <td>0.527</td>\n",
       "      <td>0.450</td>\n",
       "    </tr>\n",
       "    <tr>\n",
       "      <th>openai/whisper-small</th>\n",
       "      <td>0.376</td>\n",
       "      <td>0.577</td>\n",
       "      <td>0.490</td>\n",
       "    </tr>\n",
       "    <tr>\n",
       "      <th>GCP [Medical]</th>\n",
       "      <td>0.600</td>\n",
       "      <td>0.644</td>\n",
       "      <td>0.625</td>\n",
       "    </tr>\n",
       "    <tr>\n",
       "      <th>GCP</th>\n",
       "      <td>0.547</td>\n",
       "      <td>0.704</td>\n",
       "      <td>0.636</td>\n",
       "    </tr>\n",
       "    <tr>\n",
       "      <th>facebook/wav2vec2-large-xlsr-53-english</th>\n",
       "      <td>0.543</td>\n",
       "      <td>0.792</td>\n",
       "      <td>0.684</td>\n",
       "    </tr>\n",
       "    <tr>\n",
       "      <th>facebook/wav2vec2-xls-r-1b-english</th>\n",
       "      <td>0.559</td>\n",
       "      <td>0.818</td>\n",
       "      <td>0.706</td>\n",
       "    </tr>\n",
       "    <tr>\n",
       "      <th>facebook/wav2vec2-large-960h-lv60-self</th>\n",
       "      <td>0.581</td>\n",
       "      <td>0.849</td>\n",
       "      <td>0.733</td>\n",
       "    </tr>\n",
       "    <tr>\n",
       "      <th>facebook/hubert-large-ls960-ft</th>\n",
       "      <td>0.601</td>\n",
       "      <td>0.868</td>\n",
       "      <td>0.752</td>\n",
       "    </tr>\n",
       "    <tr>\n",
       "      <th>facebook/hubert-xlarge-ls960-ft</th>\n",
       "      <td>0.607</td>\n",
       "      <td>0.892</td>\n",
       "      <td>0.769</td>\n",
       "    </tr>\n",
       "    <tr>\n",
       "      <th>microsoft/wavlm-libri-clean-100h-large</th>\n",
       "      <td>0.673</td>\n",
       "      <td>0.928</td>\n",
       "      <td>0.817</td>\n",
       "    </tr>\n",
       "    <tr>\n",
       "      <th>facebook/wav2vec2-large-960h</th>\n",
       "      <td>0.694</td>\n",
       "      <td>0.948</td>\n",
       "      <td>0.838</td>\n",
       "    </tr>\n",
       "    <tr>\n",
       "      <th>AWS [Medical] (Primary Care)</th>\n",
       "      <td>1.000</td>\n",
       "      <td>1.000</td>\n",
       "      <td>1.000</td>\n",
       "    </tr>\n",
       "    <tr>\n",
       "      <th>AWS</th>\n",
       "      <td>1.000</td>\n",
       "      <td>1.004</td>\n",
       "      <td>1.002</td>\n",
       "    </tr>\n",
       "    <tr>\n",
       "      <th>microsoft/wavlm-libri-clean-100h-base</th>\n",
       "      <td>0.867</td>\n",
       "      <td>1.030</td>\n",
       "      <td>0.960</td>\n",
       "    </tr>\n",
       "    <tr>\n",
       "      <th>facebook/wav2vec2-large-robust-ft-swbd-300h</th>\n",
       "      <td>0.786</td>\n",
       "      <td>1.073</td>\n",
       "      <td>0.949</td>\n",
       "    </tr>\n",
       "  </tbody>\n",
       "</table>\n",
       "</div>"
      ],
      "text/plain": [
       "                                             General  Clinical   Both\n",
       "name                                                                 \n",
       "openai/whisper-large                           0.283     0.495  0.404\n",
       "openai/whisper-medium                          0.316     0.503  0.422\n",
       "openai/whisper-medium-en                       0.350     0.527  0.450\n",
       "openai/whisper-small                           0.376     0.577  0.490\n",
       "GCP [Medical]                                  0.600     0.644  0.625\n",
       "GCP                                            0.547     0.704  0.636\n",
       "facebook/wav2vec2-large-xlsr-53-english        0.543     0.792  0.684\n",
       "facebook/wav2vec2-xls-r-1b-english             0.559     0.818  0.706\n",
       "facebook/wav2vec2-large-960h-lv60-self         0.581     0.849  0.733\n",
       "facebook/hubert-large-ls960-ft                 0.601     0.868  0.752\n",
       "facebook/hubert-xlarge-ls960-ft                0.607     0.892  0.769\n",
       "microsoft/wavlm-libri-clean-100h-large         0.673     0.928  0.817\n",
       "facebook/wav2vec2-large-960h                   0.694     0.948  0.838\n",
       "AWS [Medical] (Primary Care)                   1.000     1.000  1.000\n",
       "AWS                                            1.000     1.004  1.002\n",
       "microsoft/wavlm-libri-clean-100h-base          0.867     1.030  0.960\n",
       "facebook/wav2vec2-large-robust-ft-swbd-300h    0.786     1.073  0.949"
      ]
     },
     "execution_count": 156,
     "metadata": {},
     "output_type": "execute_result"
    }
   ],
   "source": [
    "domain_df_clean= domain_df_clean.merge(models_df_clean.groupby([\"name\"])[\"wer\"].mean().reset_index(), on=\"name\")\n",
    "domain_df_clean[\"Both\"] = domain_df_clean[\"wer\"]\n",
    "domain_df_clean = domain_df_clean[[\"name\", \"Clinical\", \"General\", \"Both\"]]\n",
    "domain_df_clean = domain_df_clean.set_index(\"name\")\n",
    "domain_df_clean = domain_df_clean[[\"General\", \"Clinical\", \"Both\"]].round(3)\n",
    "domain_df_clean"
   ]
  },
  {
   "cell_type": "code",
   "execution_count": 157,
   "id": "85d3abec",
   "metadata": {},
   "outputs": [
    {
     "name": "stdout",
     "output_type": "stream",
     "text": [
      "\\begin{tabular}{lrrr}\n",
      "\\toprule\n",
      "{} &  General &  Clinical &   Both \\\\\n",
      "name                                        &          &           &        \\\\\n",
      "\\midrule\n",
      "openai/whisper-large                        &    0.283 &     0.495 &  0.404 \\\\\n",
      "openai/whisper-medium                       &    0.316 &     0.503 &  0.422 \\\\\n",
      "openai/whisper-medium-en                    &    0.350 &     0.527 &  0.450 \\\\\n",
      "openai/whisper-small                        &    0.376 &     0.577 &  0.490 \\\\\n",
      "GCP [Medical]                               &    0.600 &     0.644 &  0.625 \\\\\n",
      "GCP                                         &    0.547 &     0.704 &  0.636 \\\\\n",
      "facebook/wav2vec2-large-xlsr-53-english     &    0.543 &     0.792 &  0.684 \\\\\n",
      "facebook/wav2vec2-xls-r-1b-english          &    0.559 &     0.818 &  0.706 \\\\\n",
      "facebook/wav2vec2-large-960h-lv60-self      &    0.581 &     0.849 &  0.733 \\\\\n",
      "facebook/hubert-large-ls960-ft              &    0.601 &     0.868 &  0.752 \\\\\n",
      "facebook/hubert-xlarge-ls960-ft             &    0.607 &     0.892 &  0.769 \\\\\n",
      "microsoft/wavlm-libri-clean-100h-large      &    0.673 &     0.928 &  0.817 \\\\\n",
      "facebook/wav2vec2-large-960h                &    0.694 &     0.948 &  0.838 \\\\\n",
      "AWS [Medical] (Primary Care)                &    1.000 &     1.000 &  1.000 \\\\\n",
      "AWS                                         &    1.000 &     1.004 &  1.002 \\\\\n",
      "microsoft/wavlm-libri-clean-100h-base       &    0.867 &     1.030 &  0.960 \\\\\n",
      "facebook/wav2vec2-large-robust-ft-swbd-300h &    0.786 &     1.073 &  0.949 \\\\\n",
      "\\bottomrule\n",
      "\\end{tabular}\n",
      "\n"
     ]
    }
   ],
   "source": [
    "print(domain_df_clean.to_latex())"
   ]
  },
  {
   "cell_type": "code",
   "execution_count": 158,
   "id": "7a240bc4",
   "metadata": {},
   "outputs": [],
   "source": [
    "# accent_df_clean = models_df_clean.groupby([\"name\", \"accent\"])[\"wer\"].mean().reset_index().set_index(\"name\").pivot(columns=\"accent\").sort_values((\"wer\", \"english\"))\n",
    "# accent_df_clean = accent_df_clean.droplevel(0, axis=1)\n",
    "# accent_df_clean = accent_df_clean.round(3)\n",
    "# accent_df_clean"
   ]
  },
  {
   "cell_type": "code",
   "execution_count": null,
   "id": "3fc3453f",
   "metadata": {},
   "outputs": [],
   "source": [
    "# accent_df_clean.T"
   ]
  },
  {
   "cell_type": "code",
   "execution_count": null,
   "id": "ead39e8e",
   "metadata": {},
   "outputs": [],
   "source": [
    "# models_df_best_clean = models_df_clean[models_df_clean.name == \"openai/whisper-medium\"]"
   ]
  },
  {
   "cell_type": "code",
   "execution_count": 159,
   "id": "b5029495",
   "metadata": {},
   "outputs": [],
   "source": [
    "# accent_df_best_clean = models_df_best_clean.groupby([\"name\", \"accent\", \"domain\"])[[\"wer\"]].mean().reset_index()\n",
    "# accent_df_best_clean\n",
    "# accent_df_clean = accent_df_clean.droplevel(0, axis=1)\n"
   ]
  },
  {
   "cell_type": "code",
   "execution_count": null,
   "id": "2ac27a84",
   "metadata": {},
   "outputs": [],
   "source": []
  }
 ],
 "metadata": {
  "kernelspec": {
   "display_name": "Python 3 (ipykernel)",
   "language": "python",
   "name": "python3"
  },
  "language_info": {
   "codemirror_mode": {
    "name": "ipython",
    "version": 3
   },
   "file_extension": ".py",
   "mimetype": "text/x-python",
   "name": "python",
   "nbconvert_exporter": "python",
   "pygments_lexer": "ipython3",
   "version": "3.9.6"
  }
 },
 "nbformat": 4,
 "nbformat_minor": 5
}
