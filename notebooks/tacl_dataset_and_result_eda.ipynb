{
 "cells": [
  {
   "cell_type": "code",
   "execution_count": 1,
   "id": "b75200a2",
   "metadata": {},
   "outputs": [],
   "source": [
    "import pandas as pd\n",
    "import seaborn as sns\n",
    "import numpy as np"
   ]
  },
  {
   "cell_type": "code",
   "execution_count": 2,
   "id": "f4d0a9b8",
   "metadata": {},
   "outputs": [],
   "source": [
    "train_csv = \"../data/intron-train-public-58000-clean.csv\"\n",
    "test_csv = \"../data/intron-test-public-6346-clean.csv\"\n",
    "dev_csv = \"../data/intron-dev-public-3231-clean.csv\"\n",
    "all_csv = {\"train\": train_csv, \"test\": test_csv, \"dev\": dev_csv}\n",
    "dfs = []\n",
    "for k,v in all_csv.items():\n",
    "    df = pd.read_csv(v)\n",
    "    df[\"split\"] = k\n",
    "    dfs.append(df)\n",
    "dfs = pd.concat(dfs)"
   ]
  },
  {
   "cell_type": "code",
   "execution_count": 3,
   "id": "22fd2cf7",
   "metadata": {},
   "outputs": [
    {
     "data": {
      "text/plain": [
       "(67577, 14)"
      ]
     },
     "execution_count": 3,
     "metadata": {},
     "output_type": "execute_result"
    }
   ],
   "source": [
    "dfs.shape"
   ]
  },
  {
   "cell_type": "code",
   "execution_count": 4,
   "id": "f56fd3d8",
   "metadata": {},
   "outputs": [
    {
     "data": {
      "text/plain": [
       "train    58000\n",
       "test      6346\n",
       "dev       3231\n",
       "Name: split, dtype: int64"
      ]
     },
     "execution_count": 4,
     "metadata": {},
     "output_type": "execute_result"
    }
   ],
   "source": [
    "dfs.split.value_counts()"
   ]
  },
  {
   "cell_type": "code",
   "execution_count": 5,
   "id": "95fbd049",
   "metadata": {
    "scrolled": true
   },
   "outputs": [
    {
     "data": {
      "text/plain": [
       "NG     45875\n",
       "KE      8304\n",
       "ZA      7870\n",
       "GH      2018\n",
       "BW      1391\n",
       "UG      1092\n",
       "RW       469\n",
       "US       219\n",
       "NaN       92\n",
       "TR        66\n",
       "ZW        63\n",
       "MW        60\n",
       "TZ        51\n",
       "LS         7\n",
       "Name: country, dtype: int64"
      ]
     },
     "execution_count": 5,
     "metadata": {},
     "output_type": "execute_result"
    }
   ],
   "source": [
    "dfs.country.value_counts(dropna=False)"
   ]
  },
  {
   "cell_type": "markdown",
   "id": "cac32b01",
   "metadata": {},
   "source": [
    "### Table 1"
   ]
  },
  {
   "cell_type": "code",
   "execution_count": 6,
   "id": "dee6f0d9",
   "metadata": {},
   "outputs": [
    {
     "data": {
      "text/html": [
       "<div>\n",
       "<style scoped>\n",
       "    .dataframe tbody tr th:only-of-type {\n",
       "        vertical-align: middle;\n",
       "    }\n",
       "\n",
       "    .dataframe tbody tr th {\n",
       "        vertical-align: top;\n",
       "    }\n",
       "\n",
       "    .dataframe thead th {\n",
       "        text-align: right;\n",
       "    }\n",
       "</style>\n",
       "<table border=\"1\" class=\"dataframe\">\n",
       "  <thead>\n",
       "    <tr style=\"text-align: right;\">\n",
       "      <th></th>\n",
       "      <th>Country</th>\n",
       "      <th>Code</th>\n",
       "    </tr>\n",
       "  </thead>\n",
       "  <tbody>\n",
       "    <tr>\n",
       "      <th>0</th>\n",
       "      <td>ALGERIA</td>\n",
       "      <td>DZ</td>\n",
       "    </tr>\n",
       "    <tr>\n",
       "      <th>1</th>\n",
       "      <td>ANGOLA</td>\n",
       "      <td>AO</td>\n",
       "    </tr>\n",
       "    <tr>\n",
       "      <th>2</th>\n",
       "      <td>BENIN</td>\n",
       "      <td>BJ</td>\n",
       "    </tr>\n",
       "    <tr>\n",
       "      <th>3</th>\n",
       "      <td>BOTSWANA</td>\n",
       "      <td>BW</td>\n",
       "    </tr>\n",
       "    <tr>\n",
       "      <th>4</th>\n",
       "      <td>BURKINA FASO</td>\n",
       "      <td>BF</td>\n",
       "    </tr>\n",
       "  </tbody>\n",
       "</table>\n",
       "</div>"
      ],
      "text/plain": [
       "        Country Code\n",
       "0       ALGERIA   DZ\n",
       "1        ANGOLA   AO\n",
       "2         BENIN   BJ\n",
       "3      BOTSWANA   BW\n",
       "4  BURKINA FASO   BF"
      ]
     },
     "execution_count": 6,
     "metadata": {},
     "output_type": "execute_result"
    }
   ],
   "source": [
    "country_mapping = pd.read_csv(\"../data/african_country_code_mapping.csv\")\n",
    "country_mapping.head()"
   ]
  },
  {
   "cell_type": "code",
   "execution_count": 7,
   "id": "44171dfd",
   "metadata": {},
   "outputs": [
    {
     "data": {
      "text/plain": [
       "57"
      ]
     },
     "execution_count": 7,
     "metadata": {},
     "output_type": "execute_result"
    }
   ],
   "source": [
    "len(country_mapping)"
   ]
  },
  {
   "cell_type": "code",
   "execution_count": 8,
   "id": "c05b6253",
   "metadata": {},
   "outputs": [],
   "source": [
    "afris_country = dfs.country.value_counts().to_frame(name=\"clips\").reset_index(names=\"code\")[[\"code\"]]\n",
    "country_mapping.columns = country_mapping.columns.str.lower()\n",
    "afris_country_code = country_mapping.merge(afris_country, on=\"code\", how=\"right\")\n",
    "afris_non_african_countries = {\"US\":\"UNITED STATES\", \"TR\": \"TURKEY\"}\n",
    "afris_country_code.country = afris_country_code.apply(lambda x: x.country if x.country is not np.nan \\\n",
    "                                                      else afris_non_african_countries[x.code], axis=1)\n",
    "afris_country_code = afris_country_code.rename(columns = {\"country\": \"country_name\", \"code\": \"country\"}) \n",
    "afris_country_code.country_name = afris_country_code.country_name.str.capitalize()"
   ]
  },
  {
   "cell_type": "code",
   "execution_count": 9,
   "id": "41933cbe",
   "metadata": {},
   "outputs": [
    {
     "data": {
      "text/html": [
       "<div>\n",
       "<style scoped>\n",
       "    .dataframe tbody tr th:only-of-type {\n",
       "        vertical-align: middle;\n",
       "    }\n",
       "\n",
       "    .dataframe tbody tr th {\n",
       "        vertical-align: top;\n",
       "    }\n",
       "\n",
       "    .dataframe thead th {\n",
       "        text-align: right;\n",
       "    }\n",
       "</style>\n",
       "<table border=\"1\" class=\"dataframe\">\n",
       "  <thead>\n",
       "    <tr style=\"text-align: right;\">\n",
       "      <th></th>\n",
       "      <th>country_name</th>\n",
       "      <th>country</th>\n",
       "    </tr>\n",
       "  </thead>\n",
       "  <tbody>\n",
       "    <tr>\n",
       "      <th>0</th>\n",
       "      <td>Nigeria</td>\n",
       "      <td>NG</td>\n",
       "    </tr>\n",
       "    <tr>\n",
       "      <th>1</th>\n",
       "      <td>Kenya</td>\n",
       "      <td>KE</td>\n",
       "    </tr>\n",
       "    <tr>\n",
       "      <th>2</th>\n",
       "      <td>South africa</td>\n",
       "      <td>ZA</td>\n",
       "    </tr>\n",
       "    <tr>\n",
       "      <th>3</th>\n",
       "      <td>Ghana</td>\n",
       "      <td>GH</td>\n",
       "    </tr>\n",
       "    <tr>\n",
       "      <th>4</th>\n",
       "      <td>Botswana</td>\n",
       "      <td>BW</td>\n",
       "    </tr>\n",
       "    <tr>\n",
       "      <th>5</th>\n",
       "      <td>Uganda</td>\n",
       "      <td>UG</td>\n",
       "    </tr>\n",
       "    <tr>\n",
       "      <th>6</th>\n",
       "      <td>Rwanda</td>\n",
       "      <td>RW</td>\n",
       "    </tr>\n",
       "    <tr>\n",
       "      <th>7</th>\n",
       "      <td>United states</td>\n",
       "      <td>US</td>\n",
       "    </tr>\n",
       "    <tr>\n",
       "      <th>8</th>\n",
       "      <td>Turkey</td>\n",
       "      <td>TR</td>\n",
       "    </tr>\n",
       "    <tr>\n",
       "      <th>9</th>\n",
       "      <td>Zimbabwe</td>\n",
       "      <td>ZW</td>\n",
       "    </tr>\n",
       "    <tr>\n",
       "      <th>10</th>\n",
       "      <td>Malawi</td>\n",
       "      <td>MW</td>\n",
       "    </tr>\n",
       "    <tr>\n",
       "      <th>11</th>\n",
       "      <td>Tanzania, united republic of</td>\n",
       "      <td>TZ</td>\n",
       "    </tr>\n",
       "    <tr>\n",
       "      <th>12</th>\n",
       "      <td>Lesotho</td>\n",
       "      <td>LS</td>\n",
       "    </tr>\n",
       "  </tbody>\n",
       "</table>\n",
       "</div>"
      ],
      "text/plain": [
       "                    country_name country\n",
       "0                        Nigeria      NG\n",
       "1                          Kenya      KE\n",
       "2                   South africa      ZA\n",
       "3                          Ghana      GH\n",
       "4                       Botswana      BW\n",
       "5                         Uganda      UG\n",
       "6                         Rwanda      RW\n",
       "7                  United states      US\n",
       "8                         Turkey      TR\n",
       "9                       Zimbabwe      ZW\n",
       "10                        Malawi      MW\n",
       "11  Tanzania, united republic of      TZ\n",
       "12                       Lesotho      LS"
      ]
     },
     "execution_count": 9,
     "metadata": {},
     "output_type": "execute_result"
    }
   ],
   "source": [
    "afris_country_code"
   ]
  },
  {
   "cell_type": "code",
   "execution_count": 10,
   "id": "8d00ffb0",
   "metadata": {},
   "outputs": [
    {
     "data": {
      "text/plain": [
       "(67577, 15)"
      ]
     },
     "execution_count": 10,
     "metadata": {},
     "output_type": "execute_result"
    }
   ],
   "source": [
    "dfs = dfs.merge(afris_country_code, on=\"country\", how=\"left\")\n",
    "dfs.shape"
   ]
  },
  {
   "cell_type": "code",
   "execution_count": 11,
   "id": "500d5f6a",
   "metadata": {},
   "outputs": [
    {
     "data": {
      "text/plain": [
       "Nigeria                         45875\n",
       "Kenya                            8304\n",
       "South africa                     7870\n",
       "Ghana                            2018\n",
       "Botswana                         1391\n",
       "Uganda                           1092\n",
       "Rwanda                            469\n",
       "United states                     219\n",
       "NaN                                92\n",
       "Turkey                             66\n",
       "Zimbabwe                           63\n",
       "Malawi                             60\n",
       "Tanzania, united republic of       51\n",
       "Lesotho                             7\n",
       "Name: country_name, dtype: int64"
      ]
     },
     "execution_count": 11,
     "metadata": {},
     "output_type": "execute_result"
    }
   ],
   "source": [
    "dfs.country_name.value_counts(dropna=False)"
   ]
  },
  {
   "cell_type": "code",
   "execution_count": 12,
   "id": "3d1bbe29",
   "metadata": {},
   "outputs": [
    {
     "data": {
      "text/plain": [
       "Index(['idx', 'user_ids', 'accent', 'age_group', 'country', 'transcript',\n",
       "       'nchars', 'audio_ids', 'audio_paths', 'duration', 'origin', 'domain',\n",
       "       'split', 'gender', 'country_name'],\n",
       "      dtype='object')"
      ]
     },
     "execution_count": 12,
     "metadata": {},
     "output_type": "execute_result"
    }
   ],
   "source": [
    "dfs.columns"
   ]
  },
  {
   "cell_type": "code",
   "execution_count": 13,
   "id": "b3cffcfb",
   "metadata": {},
   "outputs": [
    {
     "data": {
      "text/html": [
       "<div>\n",
       "<style scoped>\n",
       "    .dataframe tbody tr th:only-of-type {\n",
       "        vertical-align: middle;\n",
       "    }\n",
       "\n",
       "    .dataframe tbody tr th {\n",
       "        vertical-align: top;\n",
       "    }\n",
       "\n",
       "    .dataframe thead th {\n",
       "        text-align: right;\n",
       "    }\n",
       "</style>\n",
       "<table border=\"1\" class=\"dataframe\">\n",
       "  <thead>\n",
       "    <tr style=\"text-align: right;\">\n",
       "      <th></th>\n",
       "      <th>Country_name</th>\n",
       "      <th>Country</th>\n",
       "      <th>Clips</th>\n",
       "      <th>Speakers</th>\n",
       "      <th>Hours</th>\n",
       "    </tr>\n",
       "  </thead>\n",
       "  <tbody>\n",
       "    <tr>\n",
       "      <th>0</th>\n",
       "      <td>Nigeria</td>\n",
       "      <td>NG</td>\n",
       "      <td>45875</td>\n",
       "      <td>1979</td>\n",
       "      <td>142.40</td>\n",
       "    </tr>\n",
       "    <tr>\n",
       "      <th>1</th>\n",
       "      <td>Kenya</td>\n",
       "      <td>KE</td>\n",
       "      <td>8304</td>\n",
       "      <td>137</td>\n",
       "      <td>20.89</td>\n",
       "    </tr>\n",
       "    <tr>\n",
       "      <th>2</th>\n",
       "      <td>South africa</td>\n",
       "      <td>ZA</td>\n",
       "      <td>7870</td>\n",
       "      <td>223</td>\n",
       "      <td>22.69</td>\n",
       "    </tr>\n",
       "    <tr>\n",
       "      <th>3</th>\n",
       "      <td>Ghana</td>\n",
       "      <td>GH</td>\n",
       "      <td>2018</td>\n",
       "      <td>37</td>\n",
       "      <td>5.16</td>\n",
       "    </tr>\n",
       "    <tr>\n",
       "      <th>4</th>\n",
       "      <td>Botswana</td>\n",
       "      <td>BW</td>\n",
       "      <td>1391</td>\n",
       "      <td>38</td>\n",
       "      <td>3.96</td>\n",
       "    </tr>\n",
       "    <tr>\n",
       "      <th>5</th>\n",
       "      <td>Uganda</td>\n",
       "      <td>UG</td>\n",
       "      <td>1092</td>\n",
       "      <td>26</td>\n",
       "      <td>2.89</td>\n",
       "    </tr>\n",
       "    <tr>\n",
       "      <th>6</th>\n",
       "      <td>Rwanda</td>\n",
       "      <td>RW</td>\n",
       "      <td>469</td>\n",
       "      <td>9</td>\n",
       "      <td>1.47</td>\n",
       "    </tr>\n",
       "    <tr>\n",
       "      <th>7</th>\n",
       "      <td>United states</td>\n",
       "      <td>US</td>\n",
       "      <td>219</td>\n",
       "      <td>5</td>\n",
       "      <td>0.53</td>\n",
       "    </tr>\n",
       "    <tr>\n",
       "      <th>8</th>\n",
       "      <td>Turkey</td>\n",
       "      <td>TR</td>\n",
       "      <td>66</td>\n",
       "      <td>1</td>\n",
       "      <td>0.18</td>\n",
       "    </tr>\n",
       "    <tr>\n",
       "      <th>9</th>\n",
       "      <td>Zimbabwe</td>\n",
       "      <td>ZW</td>\n",
       "      <td>63</td>\n",
       "      <td>3</td>\n",
       "      <td>0.18</td>\n",
       "    </tr>\n",
       "    <tr>\n",
       "      <th>10</th>\n",
       "      <td>Malawi</td>\n",
       "      <td>MW</td>\n",
       "      <td>60</td>\n",
       "      <td>1</td>\n",
       "      <td>0.15</td>\n",
       "    </tr>\n",
       "    <tr>\n",
       "      <th>11</th>\n",
       "      <td>Tanzania, united republic of</td>\n",
       "      <td>TZ</td>\n",
       "      <td>51</td>\n",
       "      <td>2</td>\n",
       "      <td>0.18</td>\n",
       "    </tr>\n",
       "    <tr>\n",
       "      <th>12</th>\n",
       "      <td>Lesotho</td>\n",
       "      <td>LS</td>\n",
       "      <td>7</td>\n",
       "      <td>1</td>\n",
       "      <td>0.02</td>\n",
       "    </tr>\n",
       "  </tbody>\n",
       "</table>\n",
       "</div>"
      ],
      "text/plain": [
       "                    Country_name Country  Clips  Speakers   Hours\n",
       "0                        Nigeria      NG  45875      1979  142.40\n",
       "1                          Kenya      KE   8304       137   20.89\n",
       "2                   South africa      ZA   7870       223   22.69\n",
       "3                          Ghana      GH   2018        37    5.16\n",
       "4                       Botswana      BW   1391        38    3.96\n",
       "5                         Uganda      UG   1092        26    2.89\n",
       "6                         Rwanda      RW    469         9    1.47\n",
       "7                  United states      US    219         5    0.53\n",
       "8                         Turkey      TR     66         1    0.18\n",
       "9                       Zimbabwe      ZW     63         3    0.18\n",
       "10                        Malawi      MW     60         1    0.15\n",
       "11  Tanzania, united republic of      TZ     51         2    0.18\n",
       "12                       Lesotho      LS      7         1    0.02"
      ]
     },
     "execution_count": 13,
     "metadata": {},
     "output_type": "execute_result"
    }
   ],
   "source": [
    "speakers_stats = dfs.groupby([\"country_name\", \"country\"]).apply(lambda x: len(set(x.user_ids))).to_frame().rename(columns={0: \"speakers\"})\n",
    "clips_stats = dfs.groupby([\"country_name\", \"country\"]).apply(lambda x: len(x.audio_ids)).to_frame().rename(columns={0: \"clips\"})\n",
    "durations_stats = dfs.groupby([\"country_name\", \"country\"]).apply(lambda x: sum(x.duration) / 3600).to_frame().rename(columns={0: \"hours\"}).round(2)\n",
    "\n",
    "table_1 = pd.concat([clips_stats, speakers_stats, durations_stats], axis=1).sort_values(\"clips\", ascending=False).reset_index()\n",
    "table_1.columns = table_1.columns.str.capitalize()\n",
    "table_1"
   ]
  },
  {
   "cell_type": "code",
   "execution_count": 14,
   "id": "eb6b71e8",
   "metadata": {},
   "outputs": [
    {
     "name": "stdout",
     "output_type": "stream",
     "text": [
      "\\begin{tabular}{llrrr}\n",
      "\\toprule\n",
      "                 Country\\_name & Country &  Clips &  Speakers &  Hours \\\\\n",
      "\\midrule\n",
      "                      Nigeria &      NG &  45875 &      1979 & 142.40 \\\\\n",
      "                        Kenya &      KE &   8304 &       137 &  20.89 \\\\\n",
      "                 South africa &      ZA &   7870 &       223 &  22.69 \\\\\n",
      "                        Ghana &      GH &   2018 &        37 &   5.16 \\\\\n",
      "                     Botswana &      BW &   1391 &        38 &   3.96 \\\\\n",
      "                       Uganda &      UG &   1092 &        26 &   2.89 \\\\\n",
      "                       Rwanda &      RW &    469 &         9 &   1.47 \\\\\n",
      "                United states &      US &    219 &         5 &   0.53 \\\\\n",
      "                       Turkey &      TR &     66 &         1 &   0.18 \\\\\n",
      "                     Zimbabwe &      ZW &     63 &         3 &   0.18 \\\\\n",
      "                       Malawi &      MW &     60 &         1 &   0.15 \\\\\n",
      " Tanzania, united republic of &      TZ &     51 &         2 &   0.18 \\\\\n",
      "                      Lesotho &      LS &      7 &         1 &   0.02 \\\\\n",
      "\\bottomrule\n",
      "\\end{tabular}\n",
      "\n"
     ]
    },
    {
     "name": "stderr",
     "output_type": "stream",
     "text": [
      "/var/folders/z5/cs_w84312s1cxj7105940jzm0000gn/T/ipykernel_39758/816928796.py:1: FutureWarning: In future versions `DataFrame.to_latex` is expected to utilise the base implementation of `Styler.to_latex` for formatting and rendering. The arguments signature may therefore change. It is recommended instead to use `DataFrame.style.to_latex` which also contains additional functionality.\n",
      "  print(table_1.to_latex(index=None))\n"
     ]
    }
   ],
   "source": [
    "print(table_1.to_latex(index=None))"
   ]
  },
  {
   "cell_type": "code",
   "execution_count": 15,
   "id": "362ef882",
   "metadata": {},
   "outputs": [
    {
     "data": {
      "text/html": [
       "<div>\n",
       "<style scoped>\n",
       "    .dataframe tbody tr th:only-of-type {\n",
       "        vertical-align: middle;\n",
       "    }\n",
       "\n",
       "    .dataframe tbody tr th {\n",
       "        vertical-align: top;\n",
       "    }\n",
       "\n",
       "    .dataframe thead th {\n",
       "        text-align: right;\n",
       "    }\n",
       "</style>\n",
       "<table border=\"1\" class=\"dataframe\">\n",
       "  <thead>\n",
       "    <tr style=\"text-align: right;\">\n",
       "      <th></th>\n",
       "      <th></th>\n",
       "      <th>0</th>\n",
       "    </tr>\n",
       "    <tr>\n",
       "      <th>country_name</th>\n",
       "      <th>country</th>\n",
       "      <th></th>\n",
       "    </tr>\n",
       "  </thead>\n",
       "  <tbody>\n",
       "    <tr>\n",
       "      <th>Botswana</th>\n",
       "      <th>BW</th>\n",
       "      <td>[luganda, tswana, setswana]</td>\n",
       "    </tr>\n",
       "    <tr>\n",
       "      <th>Ghana</th>\n",
       "      <th>GH</th>\n",
       "      <td>[akan (fante), twi, akan]</td>\n",
       "    </tr>\n",
       "    <tr>\n",
       "      <th>Kenya</th>\n",
       "      <th>KE</th>\n",
       "      <td>[luo, kikuyu, meru, luganda, luhya, swahili, d...</td>\n",
       "    </tr>\n",
       "    <tr>\n",
       "      <th>Lesotho</th>\n",
       "      <th>LS</th>\n",
       "      <td>[zulu]</td>\n",
       "    </tr>\n",
       "    <tr>\n",
       "      <th>Malawi</th>\n",
       "      <th>MW</th>\n",
       "      <td>[chichewa]</td>\n",
       "    </tr>\n",
       "    <tr>\n",
       "      <th>Nigeria</th>\n",
       "      <th>NG</th>\n",
       "      <td>[afo, jukun, gerawa, bajju, nyandang, kagoma, ...</td>\n",
       "    </tr>\n",
       "    <tr>\n",
       "      <th>Rwanda</th>\n",
       "      <th>RW</th>\n",
       "      <td>[kinyarwanda]</td>\n",
       "    </tr>\n",
       "    <tr>\n",
       "      <th>South africa</th>\n",
       "      <th>ZA</th>\n",
       "      <td>[portuguese, isizulu, siswati, setswana, xhosa...</td>\n",
       "    </tr>\n",
       "    <tr>\n",
       "      <th>Tanzania, united republic of</th>\n",
       "      <th>TZ</th>\n",
       "      <td>[swahili]</td>\n",
       "    </tr>\n",
       "    <tr>\n",
       "      <th>Turkey</th>\n",
       "      <th>TR</th>\n",
       "      <td>[zulu]</td>\n",
       "    </tr>\n",
       "    <tr>\n",
       "      <th>Uganda</th>\n",
       "      <th>UG</th>\n",
       "      <td>[luo, ateso, swahili ,luganda ,arabic, luganda...</td>\n",
       "    </tr>\n",
       "    <tr>\n",
       "      <th>United states</th>\n",
       "      <th>US</th>\n",
       "      <td>[igbo, yoruba]</td>\n",
       "    </tr>\n",
       "    <tr>\n",
       "      <th>Zimbabwe</th>\n",
       "      <th>ZW</th>\n",
       "      <td>[shona]</td>\n",
       "    </tr>\n",
       "  </tbody>\n",
       "</table>\n",
       "</div>"
      ],
      "text/plain": [
       "                                                                                      0\n",
       "country_name                 country                                                   \n",
       "Botswana                     BW                             [luganda, tswana, setswana]\n",
       "Ghana                        GH                               [akan (fante), twi, akan]\n",
       "Kenya                        KE       [luo, kikuyu, meru, luganda, luhya, swahili, d...\n",
       "Lesotho                      LS                                                  [zulu]\n",
       "Malawi                       MW                                              [chichewa]\n",
       "Nigeria                      NG       [afo, jukun, gerawa, bajju, nyandang, kagoma, ...\n",
       "Rwanda                       RW                                           [kinyarwanda]\n",
       "South africa                 ZA       [portuguese, isizulu, siswati, setswana, xhosa...\n",
       "Tanzania, united republic of TZ                                               [swahili]\n",
       "Turkey                       TR                                                  [zulu]\n",
       "Uganda                       UG       [luo, ateso, swahili ,luganda ,arabic, luganda...\n",
       "United states                US                                          [igbo, yoruba]\n",
       "Zimbabwe                     ZW                                                 [shona]"
      ]
     },
     "execution_count": 15,
     "metadata": {},
     "output_type": "execute_result"
    }
   ],
   "source": [
    "dfs.groupby([\"country_name\", \"country\"]).apply(lambda x: list(set(x.accent))).to_frame()"
   ]
  },
  {
   "cell_type": "code",
   "execution_count": 16,
   "id": "ddb58d18",
   "metadata": {},
   "outputs": [
    {
     "data": {
      "text/plain": [
       "2462"
      ]
     },
     "execution_count": 16,
     "metadata": {},
     "output_type": "execute_result"
    }
   ],
   "source": [
    "# total number of speakers\n",
    "table_1.Speakers.sum()"
   ]
  },
  {
   "cell_type": "code",
   "execution_count": 17,
   "id": "87deb07c",
   "metadata": {},
   "outputs": [
    {
     "data": {
      "text/plain": [
       "200.70000000000005"
      ]
     },
     "execution_count": 17,
     "metadata": {},
     "output_type": "execute_result"
    }
   ],
   "source": [
    "table_1.Hours.sum()"
   ]
  },
  {
   "cell_type": "code",
   "execution_count": 18,
   "id": "c30c3152",
   "metadata": {},
   "outputs": [
    {
     "name": "stderr",
     "output_type": "stream",
     "text": [
      "/var/folders/z5/cs_w84312s1cxj7105940jzm0000gn/T/ipykernel_39758/666991128.py:1: FutureWarning: The default value of numeric_only in DataFrameGroupBy.sum is deprecated. In a future version, numeric_only will default to False. Either specify numeric_only or select only columns which should be valid for the function.\n",
      "  dfs.groupby([\"country_name\", \"country\", \"user_ids\", \"duration\"]).sum().reset_index()[[\"duration\"]].mean()\n"
     ]
    },
    {
     "data": {
      "text/plain": [
       "duration    10.72538\n",
       "dtype: float64"
      ]
     },
     "execution_count": 18,
     "metadata": {},
     "output_type": "execute_result"
    }
   ],
   "source": [
    "dfs.groupby([\"country_name\", \"country\", \"user_ids\", \"duration\"]).sum().reset_index()[[\"duration\"]].mean()"
   ]
  },
  {
   "cell_type": "markdown",
   "id": "a693eb87",
   "metadata": {},
   "source": [
    "### Table 2"
   ]
  },
  {
   "cell_type": "code",
   "execution_count": 19,
   "id": "53852898",
   "metadata": {},
   "outputs": [
    {
     "data": {
      "text/plain": [
       "Female    57.11\n",
       "Male      42.41\n",
       "Other      0.48\n",
       "Name: gender, dtype: float64"
      ]
     },
     "execution_count": 19,
     "metadata": {},
     "output_type": "execute_result"
    }
   ],
   "source": [
    "(dfs.gender.value_counts(normalize=True, dropna=False)*100).round(2)"
   ]
  },
  {
   "cell_type": "code",
   "execution_count": 20,
   "id": "ded80dee",
   "metadata": {},
   "outputs": [
    {
     "data": {
      "text/plain": [
       "19-25     54.35\n",
       "26-40     27.18\n",
       "41-55     15.35\n",
       "<18yrs     1.87\n",
       "56yrs>     0.83\n",
       "NaN        0.42\n",
       "Name: age_group, dtype: float64"
      ]
     },
     "execution_count": 20,
     "metadata": {},
     "output_type": "execute_result"
    }
   ],
   "source": [
    "(dfs.age_group.value_counts(normalize=True, dropna=False)*100).round(2)"
   ]
  },
  {
   "cell_type": "code",
   "execution_count": 21,
   "id": "9e4095b6",
   "metadata": {},
   "outputs": [
    {
     "data": {
      "text/plain": [
       "19-25     36728\n",
       "26-40     18366\n",
       "41-55     10374\n",
       "<18yrs     1264\n",
       "56yrs>      563\n",
       "NaN         282\n",
       "Name: age_group, dtype: int64"
      ]
     },
     "execution_count": 21,
     "metadata": {},
     "output_type": "execute_result"
    }
   ],
   "source": [
    "(dfs.age_group.value_counts(normalize=False, dropna=False))"
   ]
  },
  {
   "cell_type": "code",
   "execution_count": 22,
   "id": "a9469dc3",
   "metadata": {},
   "outputs": [
    {
     "data": {
      "text/plain": [
       "nigerian    0.678855\n",
       "african     0.321145\n",
       "Name: origin, dtype: float64"
      ]
     },
     "execution_count": 22,
     "metadata": {},
     "output_type": "execute_result"
    }
   ],
   "source": [
    "(dfs.origin.value_counts(normalize=True, dropna=False))"
   ]
  },
  {
   "cell_type": "code",
   "execution_count": 23,
   "id": "80e3bab8",
   "metadata": {},
   "outputs": [
    {
     "data": {
      "text/plain": [
       "clinical    41765\n",
       "general     25812\n",
       "Name: domain, dtype: int64"
      ]
     },
     "execution_count": 23,
     "metadata": {},
     "output_type": "execute_result"
    }
   ],
   "source": [
    "(dfs.domain.value_counts(normalize=False, dropna=False))"
   ]
  },
  {
   "cell_type": "code",
   "execution_count": 24,
   "id": "e3437000",
   "metadata": {},
   "outputs": [
    {
     "data": {
      "text/plain": [
       "clinical    61.8\n",
       "general     38.2\n",
       "Name: domain, dtype: float64"
      ]
     },
     "execution_count": 24,
     "metadata": {},
     "output_type": "execute_result"
    }
   ],
   "source": [
    "(dfs.domain.value_counts(normalize=True, dropna=False) * 100).round(2)"
   ]
  },
  {
   "cell_type": "code",
   "execution_count": 25,
   "id": "40685735",
   "metadata": {},
   "outputs": [
    {
     "data": {
      "text/plain": [
       "Index(['idx', 'user_ids', 'accent', 'age_group', 'country', 'transcript',\n",
       "       'nchars', 'audio_ids', 'audio_paths', 'duration', 'origin', 'domain',\n",
       "       'split', 'gender', 'country_name'],\n",
       "      dtype='object')"
      ]
     },
     "execution_count": 25,
     "metadata": {},
     "output_type": "execute_result"
    }
   ],
   "source": [
    "dfs.columns"
   ]
  },
  {
   "cell_type": "markdown",
   "id": "4ead46d9",
   "metadata": {},
   "source": [
    "### Table 3"
   ]
  },
  {
   "cell_type": "code",
   "execution_count": 26,
   "id": "29a0ac30",
   "metadata": {},
   "outputs": [
    {
     "data": {
      "text/html": [
       "<div>\n",
       "<style scoped>\n",
       "    .dataframe tbody tr th:only-of-type {\n",
       "        vertical-align: middle;\n",
       "    }\n",
       "\n",
       "    .dataframe tbody tr th {\n",
       "        vertical-align: top;\n",
       "    }\n",
       "\n",
       "    .dataframe thead th {\n",
       "        text-align: right;\n",
       "    }\n",
       "</style>\n",
       "<table border=\"1\" class=\"dataframe\">\n",
       "  <thead>\n",
       "    <tr style=\"text-align: right;\">\n",
       "      <th></th>\n",
       "      <th>speakers</th>\n",
       "    </tr>\n",
       "    <tr>\n",
       "      <th>split</th>\n",
       "      <th></th>\n",
       "    </tr>\n",
       "  </thead>\n",
       "  <tbody>\n",
       "    <tr>\n",
       "      <th>dev</th>\n",
       "      <td>247</td>\n",
       "    </tr>\n",
       "    <tr>\n",
       "      <th>test</th>\n",
       "      <td>750</td>\n",
       "    </tr>\n",
       "    <tr>\n",
       "      <th>train</th>\n",
       "      <td>1466</td>\n",
       "    </tr>\n",
       "  </tbody>\n",
       "</table>\n",
       "</div>"
      ],
      "text/plain": [
       "       speakers\n",
       "split          \n",
       "dev         247\n",
       "test        750\n",
       "train      1466"
      ]
     },
     "execution_count": 26,
     "metadata": {},
     "output_type": "execute_result"
    }
   ],
   "source": [
    "dfs.groupby([\"split\"]).apply(lambda x: len(set(x.user_ids))).to_frame().rename(columns={0: \"speakers\"})\n"
   ]
  },
  {
   "cell_type": "code",
   "execution_count": 27,
   "id": "605261a7",
   "metadata": {},
   "outputs": [
    {
     "data": {
      "text/html": [
       "<div>\n",
       "<style scoped>\n",
       "    .dataframe tbody tr th:only-of-type {\n",
       "        vertical-align: middle;\n",
       "    }\n",
       "\n",
       "    .dataframe tbody tr th {\n",
       "        vertical-align: top;\n",
       "    }\n",
       "\n",
       "    .dataframe thead th {\n",
       "        text-align: right;\n",
       "    }\n",
       "</style>\n",
       "<table border=\"1\" class=\"dataframe\">\n",
       "  <thead>\n",
       "    <tr style=\"text-align: right;\">\n",
       "      <th></th>\n",
       "      <th>clips</th>\n",
       "    </tr>\n",
       "    <tr>\n",
       "      <th>split</th>\n",
       "      <th></th>\n",
       "    </tr>\n",
       "  </thead>\n",
       "  <tbody>\n",
       "    <tr>\n",
       "      <th>dev</th>\n",
       "      <td>3231</td>\n",
       "    </tr>\n",
       "    <tr>\n",
       "      <th>test</th>\n",
       "      <td>6346</td>\n",
       "    </tr>\n",
       "    <tr>\n",
       "      <th>train</th>\n",
       "      <td>58000</td>\n",
       "    </tr>\n",
       "  </tbody>\n",
       "</table>\n",
       "</div>"
      ],
      "text/plain": [
       "       clips\n",
       "split       \n",
       "dev     3231\n",
       "test    6346\n",
       "train  58000"
      ]
     },
     "execution_count": 27,
     "metadata": {},
     "output_type": "execute_result"
    }
   ],
   "source": [
    "dfs.groupby([\"split\"]).apply(lambda x: len(x.audio_ids)).to_frame().rename(columns={0: \"clips\"})"
   ]
  },
  {
   "cell_type": "code",
   "execution_count": 28,
   "id": "900ed8a4",
   "metadata": {},
   "outputs": [
    {
     "data": {
      "text/html": [
       "<div>\n",
       "<style scoped>\n",
       "    .dataframe tbody tr th:only-of-type {\n",
       "        vertical-align: middle;\n",
       "    }\n",
       "\n",
       "    .dataframe tbody tr th {\n",
       "        vertical-align: top;\n",
       "    }\n",
       "\n",
       "    .dataframe thead th {\n",
       "        text-align: right;\n",
       "    }\n",
       "</style>\n",
       "<table border=\"1\" class=\"dataframe\">\n",
       "  <thead>\n",
       "    <tr style=\"text-align: right;\">\n",
       "      <th></th>\n",
       "      <th>hours</th>\n",
       "    </tr>\n",
       "    <tr>\n",
       "      <th>split</th>\n",
       "      <th></th>\n",
       "    </tr>\n",
       "  </thead>\n",
       "  <tbody>\n",
       "    <tr>\n",
       "      <th>dev</th>\n",
       "      <td>8.74</td>\n",
       "    </tr>\n",
       "    <tr>\n",
       "      <th>test</th>\n",
       "      <td>18.77</td>\n",
       "    </tr>\n",
       "    <tr>\n",
       "      <th>train</th>\n",
       "      <td>173.40</td>\n",
       "    </tr>\n",
       "  </tbody>\n",
       "</table>\n",
       "</div>"
      ],
      "text/plain": [
       "        hours\n",
       "split        \n",
       "dev      8.74\n",
       "test    18.77\n",
       "train  173.40"
      ]
     },
     "execution_count": 28,
     "metadata": {},
     "output_type": "execute_result"
    }
   ],
   "source": [
    "dfs.groupby([\"split\"]).apply(lambda x: sum(x.duration) / 3600).to_frame().rename(columns={0: \"hours\"}).round(2)"
   ]
  },
  {
   "cell_type": "code",
   "execution_count": 29,
   "id": "649c13ed",
   "metadata": {},
   "outputs": [
    {
     "data": {
      "text/html": [
       "<div>\n",
       "<style scoped>\n",
       "    .dataframe tbody tr th:only-of-type {\n",
       "        vertical-align: middle;\n",
       "    }\n",
       "\n",
       "    .dataframe tbody tr th {\n",
       "        vertical-align: top;\n",
       "    }\n",
       "\n",
       "    .dataframe thead th {\n",
       "        text-align: right;\n",
       "    }\n",
       "</style>\n",
       "<table border=\"1\" class=\"dataframe\">\n",
       "  <thead>\n",
       "    <tr style=\"text-align: right;\">\n",
       "      <th></th>\n",
       "      <th>accents</th>\n",
       "    </tr>\n",
       "    <tr>\n",
       "      <th>split</th>\n",
       "      <th></th>\n",
       "    </tr>\n",
       "  </thead>\n",
       "  <tbody>\n",
       "    <tr>\n",
       "      <th>dev</th>\n",
       "      <td>45</td>\n",
       "    </tr>\n",
       "    <tr>\n",
       "      <th>test</th>\n",
       "      <td>108</td>\n",
       "    </tr>\n",
       "    <tr>\n",
       "      <th>train</th>\n",
       "      <td>71</td>\n",
       "    </tr>\n",
       "  </tbody>\n",
       "</table>\n",
       "</div>"
      ],
      "text/plain": [
       "       accents\n",
       "split         \n",
       "dev         45\n",
       "test       108\n",
       "train       71"
      ]
     },
     "execution_count": 29,
     "metadata": {},
     "output_type": "execute_result"
    }
   ],
   "source": [
    "dfs.groupby([\"split\"]).apply(lambda x: len(set(x.accent))).to_frame().rename(columns={0: \"accents\"})"
   ]
  },
  {
   "cell_type": "code",
   "execution_count": 30,
   "id": "4c0fcc36",
   "metadata": {},
   "outputs": [
    {
     "data": {
      "text/plain": [
       "split\n",
       "dev       9.732928\n",
       "test     10.645934\n",
       "train    10.762566\n",
       "dtype: float64"
      ]
     },
     "execution_count": 30,
     "metadata": {},
     "output_type": "execute_result"
    }
   ],
   "source": [
    "dfs.groupby([\"split\"]).apply(lambda x: x.duration.mean())"
   ]
  },
  {
   "cell_type": "code",
   "execution_count": 31,
   "id": "fb24bfa0",
   "metadata": {},
   "outputs": [
    {
     "name": "stderr",
     "output_type": "stream",
     "text": [
      "/var/folders/z5/cs_w84312s1cxj7105940jzm0000gn/T/ipykernel_39758/2042822701.py:2: FutureWarning: The default value of numeric_only in DataFrameGroupBy.mean is deprecated. In a future version, numeric_only will default to False. Either specify numeric_only or select only columns which should be valid for the function.\n",
      "  tmp.groupby([\"split\"]).mean().round(2)\n"
     ]
    },
    {
     "data": {
      "text/html": [
       "<div>\n",
       "<style scoped>\n",
       "    .dataframe tbody tr th:only-of-type {\n",
       "        vertical-align: middle;\n",
       "    }\n",
       "\n",
       "    .dataframe tbody tr th {\n",
       "        vertical-align: top;\n",
       "    }\n",
       "\n",
       "    .dataframe thead th {\n",
       "        text-align: right;\n",
       "    }\n",
       "</style>\n",
       "<table border=\"1\" class=\"dataframe\">\n",
       "  <thead>\n",
       "    <tr style=\"text-align: right;\">\n",
       "      <th></th>\n",
       "      <th>duration</th>\n",
       "    </tr>\n",
       "    <tr>\n",
       "      <th>split</th>\n",
       "      <th></th>\n",
       "    </tr>\n",
       "  </thead>\n",
       "  <tbody>\n",
       "    <tr>\n",
       "      <th>dev</th>\n",
       "      <td>127.32</td>\n",
       "    </tr>\n",
       "    <tr>\n",
       "      <th>test</th>\n",
       "      <td>90.08</td>\n",
       "    </tr>\n",
       "    <tr>\n",
       "      <th>train</th>\n",
       "      <td>425.80</td>\n",
       "    </tr>\n",
       "  </tbody>\n",
       "</table>\n",
       "</div>"
      ],
      "text/plain": [
       "       duration\n",
       "split          \n",
       "dev      127.32\n",
       "test      90.08\n",
       "train    425.80"
      ]
     },
     "execution_count": 31,
     "metadata": {},
     "output_type": "execute_result"
    }
   ],
   "source": [
    "tmp = dfs.groupby([\"split\", \"user_ids\"]).apply(lambda x: x.duration.sum()).reset_index().rename(columns={0: \"duration\"})\n",
    "tmp.groupby([\"split\"]).mean().round(2)"
   ]
  },
  {
   "cell_type": "code",
   "execution_count": 32,
   "id": "7f8909cb",
   "metadata": {},
   "outputs": [
    {
     "name": "stderr",
     "output_type": "stream",
     "text": [
      "/var/folders/z5/cs_w84312s1cxj7105940jzm0000gn/T/ipykernel_39758/2637986171.py:2: FutureWarning: The default value of numeric_only in DataFrameGroupBy.mean is deprecated. In a future version, numeric_only will default to False. Either specify numeric_only or select only columns which should be valid for the function.\n",
      "  tmp.groupby([\"split\"]).mean().round(2)\n"
     ]
    },
    {
     "data": {
      "text/html": [
       "<div>\n",
       "<style scoped>\n",
       "    .dataframe tbody tr th:only-of-type {\n",
       "        vertical-align: middle;\n",
       "    }\n",
       "\n",
       "    .dataframe tbody tr th {\n",
       "        vertical-align: top;\n",
       "    }\n",
       "\n",
       "    .dataframe thead th {\n",
       "        text-align: right;\n",
       "    }\n",
       "</style>\n",
       "<table border=\"1\" class=\"dataframe\">\n",
       "  <thead>\n",
       "    <tr style=\"text-align: right;\">\n",
       "      <th></th>\n",
       "      <th>clips</th>\n",
       "    </tr>\n",
       "    <tr>\n",
       "      <th>split</th>\n",
       "      <th></th>\n",
       "    </tr>\n",
       "  </thead>\n",
       "  <tbody>\n",
       "    <tr>\n",
       "      <th>dev</th>\n",
       "      <td>13.08</td>\n",
       "    </tr>\n",
       "    <tr>\n",
       "      <th>test</th>\n",
       "      <td>8.46</td>\n",
       "    </tr>\n",
       "    <tr>\n",
       "      <th>train</th>\n",
       "      <td>39.56</td>\n",
       "    </tr>\n",
       "  </tbody>\n",
       "</table>\n",
       "</div>"
      ],
      "text/plain": [
       "       clips\n",
       "split       \n",
       "dev    13.08\n",
       "test    8.46\n",
       "train  39.56"
      ]
     },
     "execution_count": 32,
     "metadata": {},
     "output_type": "execute_result"
    }
   ],
   "source": [
    "tmp = dfs.groupby([\"split\", \"user_ids\"]).apply(lambda x: len(x.idx)).reset_index().rename(columns={0: \"clips\"})\n",
    "tmp.groupby([\"split\"]).mean().round(2)"
   ]
  },
  {
   "cell_type": "code",
   "execution_count": 33,
   "id": "66bb1828",
   "metadata": {},
   "outputs": [
    {
     "name": "stderr",
     "output_type": "stream",
     "text": [
      "/var/folders/z5/cs_w84312s1cxj7105940jzm0000gn/T/ipykernel_39758/1913576612.py:2: FutureWarning: The default value of numeric_only in DataFrameGroupBy.mean is deprecated. In a future version, numeric_only will default to False. Either specify numeric_only or select only columns which should be valid for the function.\n",
      "  tmp.groupby([\"split\"]).mean().round(2)\n"
     ]
    },
    {
     "data": {
      "text/html": [
       "<div>\n",
       "<style scoped>\n",
       "    .dataframe tbody tr th:only-of-type {\n",
       "        vertical-align: middle;\n",
       "    }\n",
       "\n",
       "    .dataframe tbody tr th {\n",
       "        vertical-align: top;\n",
       "    }\n",
       "\n",
       "    .dataframe thead th {\n",
       "        text-align: right;\n",
       "    }\n",
       "</style>\n",
       "<table border=\"1\" class=\"dataframe\">\n",
       "  <thead>\n",
       "    <tr style=\"text-align: right;\">\n",
       "      <th></th>\n",
       "      <th>duration</th>\n",
       "    </tr>\n",
       "    <tr>\n",
       "      <th>split</th>\n",
       "      <th></th>\n",
       "    </tr>\n",
       "  </thead>\n",
       "  <tbody>\n",
       "    <tr>\n",
       "      <th>dev</th>\n",
       "      <td>698.82</td>\n",
       "    </tr>\n",
       "    <tr>\n",
       "      <th>test</th>\n",
       "      <td>625.55</td>\n",
       "    </tr>\n",
       "    <tr>\n",
       "      <th>train</th>\n",
       "      <td>8791.96</td>\n",
       "    </tr>\n",
       "  </tbody>\n",
       "</table>\n",
       "</div>"
      ],
      "text/plain": [
       "       duration\n",
       "split          \n",
       "dev      698.82\n",
       "test     625.55\n",
       "train   8791.96"
      ]
     },
     "execution_count": 33,
     "metadata": {},
     "output_type": "execute_result"
    }
   ],
   "source": [
    "tmp = dfs.groupby([\"split\", \"accent\"]).apply(lambda x: x.duration.sum()).reset_index().rename(columns={0: \"duration\"})\n",
    "tmp.groupby([\"split\"]).mean().round(2)"
   ]
  },
  {
   "cell_type": "code",
   "execution_count": 34,
   "id": "2231506a",
   "metadata": {},
   "outputs": [
    {
     "data": {
      "text/plain": [
       "split\n",
       "dev       1407\n",
       "test      2723\n",
       "train    21682\n",
       "Name: idx, dtype: int64"
      ]
     },
     "execution_count": 34,
     "metadata": {},
     "output_type": "execute_result"
    }
   ],
   "source": [
    "dfs[dfs.domain == \"general\"].groupby([\"split\"]).count()[\"idx\"]"
   ]
  },
  {
   "cell_type": "code",
   "execution_count": 35,
   "id": "65d24ae0",
   "metadata": {},
   "outputs": [
    {
     "data": {
      "text/plain": [
       "split\n",
       "dev       1824\n",
       "test      3623\n",
       "train    36318\n",
       "Name: idx, dtype: int64"
      ]
     },
     "execution_count": 35,
     "metadata": {},
     "output_type": "execute_result"
    }
   ],
   "source": [
    "dfs[dfs.domain == \"clinical\"].groupby([\"split\"]).count()[\"idx\"]"
   ]
  },
  {
   "cell_type": "markdown",
   "id": "c42d4ec2",
   "metadata": {},
   "source": [
    "### Verify speaker uniqueness accross different split"
   ]
  },
  {
   "cell_type": "code",
   "execution_count": 36,
   "id": "47195f51",
   "metadata": {},
   "outputs": [],
   "source": [
    "# are any train speaker seen in dev?\n",
    "assert len(set(dfs[dfs.split == \"train\"].user_ids.unique().tolist()) - set(dfs[dfs.split == \"dev\"].user_ids.unique().tolist())) \\\n",
    "== len(set(dfs[dfs.split == \"train\"].user_ids.unique().tolist()))"
   ]
  },
  {
   "cell_type": "code",
   "execution_count": 37,
   "id": "d8af3d99",
   "metadata": {},
   "outputs": [],
   "source": [
    "# are any train speaker seen in test?\n",
    "assert len(set(dfs[dfs.split == \"train\"].user_ids.unique().tolist()) - set(dfs[dfs.split == \"test\"].user_ids.unique().tolist())) \\\n",
    "== len(set(dfs[dfs.split == \"train\"].user_ids.unique().tolist()))"
   ]
  },
  {
   "cell_type": "code",
   "execution_count": 38,
   "id": "593c0c29",
   "metadata": {},
   "outputs": [],
   "source": [
    "# are any dev speaker seen in test?\n",
    "assert len(set(dfs[dfs.split == \"dev\"].user_ids.unique().tolist()) - set(dfs[dfs.split == \"test\"].user_ids.unique().tolist())) \\\n",
    "== len(set(dfs[dfs.split == \"dev\"].user_ids.unique().tolist()))"
   ]
  },
  {
   "cell_type": "markdown",
   "id": "0fd08b9f",
   "metadata": {},
   "source": [
    "### Afrispeech accents normalization"
   ]
  },
  {
   "cell_type": "code",
   "execution_count": 39,
   "id": "c294c5a9",
   "metadata": {
    "scrolled": false
   },
   "outputs": [],
   "source": [
    "# dfs.accent.value_counts().keys().to_frame().to_csv(\"afrispeech_accents.csv\", index=None)"
   ]
  },
  {
   "cell_type": "code",
   "execution_count": null,
   "id": "6d5d1d10",
   "metadata": {},
   "outputs": [],
   "source": []
  }
 ],
 "metadata": {
  "kernelspec": {
   "display_name": "Python 3 (ipykernel)",
   "language": "python",
   "name": "python3"
  },
  "language_info": {
   "codemirror_mode": {
    "name": "ipython",
    "version": 3
   },
   "file_extension": ".py",
   "mimetype": "text/x-python",
   "name": "python",
   "nbconvert_exporter": "python",
   "pygments_lexer": "ipython3",
   "version": "3.9.6"
  }
 },
 "nbformat": 4,
 "nbformat_minor": 5
}
