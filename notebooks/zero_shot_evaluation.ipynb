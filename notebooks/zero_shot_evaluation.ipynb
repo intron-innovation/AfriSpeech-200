{
 "cells": [
  {
   "cell_type": "code",
   "execution_count": 1,
   "id": "7f7e6556",
   "metadata": {},
   "outputs": [],
   "source": [
    "import warnings\n",
    "warnings.filterwarnings(\"ignore\")"
   ]
  },
  {
   "cell_type": "code",
   "execution_count": 2,
   "id": "964a1f7e",
   "metadata": {},
   "outputs": [],
   "source": [
    "import pandas as pd\n",
    "import seaborn as sns\n",
    "import numpy as np\n",
    "import matplotlib.pyplot as plt\n",
    "from datasets import load_metric\n",
    "import sys\n",
    "sys.path.append(\"..\")\n",
    "from src.utils.text_processing import clean_text"
   ]
  },
  {
   "cell_type": "code",
   "execution_count": 3,
   "id": "51efb50e",
   "metadata": {},
   "outputs": [],
   "source": [
    "wer_metric = load_metric(\"wer\")"
   ]
  },
  {
   "cell_type": "code",
   "execution_count": 4,
   "id": "c8f92f92",
   "metadata": {},
   "outputs": [
    {
     "name": "stdout",
     "output_type": "stream",
     "text": [
      "(3231, 14)\n"
     ]
    },
    {
     "data": {
      "text/html": [
       "<div>\n",
       "<style scoped>\n",
       "    .dataframe tbody tr th:only-of-type {\n",
       "        vertical-align: middle;\n",
       "    }\n",
       "\n",
       "    .dataframe tbody tr th {\n",
       "        vertical-align: top;\n",
       "    }\n",
       "\n",
       "    .dataframe thead th {\n",
       "        text-align: right;\n",
       "    }\n",
       "</style>\n",
       "<table border=\"1\" class=\"dataframe\">\n",
       "  <thead>\n",
       "    <tr style=\"text-align: right;\">\n",
       "      <th></th>\n",
       "      <th>idx</th>\n",
       "      <th>user_ids</th>\n",
       "      <th>accent</th>\n",
       "      <th>age_group</th>\n",
       "      <th>country</th>\n",
       "      <th>transcript</th>\n",
       "      <th>nchars</th>\n",
       "      <th>audio_ids</th>\n",
       "      <th>audio_path</th>\n",
       "      <th>duration</th>\n",
       "      <th>origin</th>\n",
       "      <th>domain</th>\n",
       "      <th>split</th>\n",
       "      <th>gender</th>\n",
       "    </tr>\n",
       "  </thead>\n",
       "  <tbody>\n",
       "    <tr>\n",
       "      <th>0</th>\n",
       "      <td>155349</td>\n",
       "      <td>659e36c14baaf7fa7bb197f951251f4b</td>\n",
       "      <td>setswana</td>\n",
       "      <td>26-40</td>\n",
       "      <td>BW</td>\n",
       "      <td>We should be asking ourselves whether we want ...</td>\n",
       "      <td>110</td>\n",
       "      <td>86ad3ef21e469217f28a749c990c81fd</td>\n",
       "      <td>/AfriSpeech-100/dev/92d2b94e-3e31-40be-b479-50...</td>\n",
       "      <td>8.400998</td>\n",
       "      <td>african</td>\n",
       "      <td>general</td>\n",
       "      <td>dev</td>\n",
       "      <td>Male</td>\n",
       "    </tr>\n",
       "    <tr>\n",
       "      <th>1</th>\n",
       "      <td>60812</td>\n",
       "      <td>1fd5f717cede9a867bf37d03c7d2166b</td>\n",
       "      <td>siswati</td>\n",
       "      <td>26-40</td>\n",
       "      <td>ZA</td>\n",
       "      <td>Other sagittal planes parallel to this off cen...</td>\n",
       "      <td>88</td>\n",
       "      <td>5409734bcc4a0f053e73f405d0f135da</td>\n",
       "      <td>/AfriSpeech-100/dev/127bdba1-8bc8-44a4-9c37-8e...</td>\n",
       "      <td>5.236984</td>\n",
       "      <td>african</td>\n",
       "      <td>clinical</td>\n",
       "      <td>dev</td>\n",
       "      <td>Female</td>\n",
       "    </tr>\n",
       "    <tr>\n",
       "      <th>2</th>\n",
       "      <td>139668</td>\n",
       "      <td>f2d08d2e1c47a187bfa6869fadc1f755</td>\n",
       "      <td>setswana</td>\n",
       "      <td>26-40</td>\n",
       "      <td>ZA</td>\n",
       "      <td>Tuberculoma is an intracranial massoccurring s...</td>\n",
       "      <td>109</td>\n",
       "      <td>b10dc4e959b6596d31866e5094ef500a</td>\n",
       "      <td>/AfriSpeech-100/dev/de0b1ee6-46f1-4eb6-a747-47...</td>\n",
       "      <td>7.072993</td>\n",
       "      <td>african</td>\n",
       "      <td>clinical</td>\n",
       "      <td>dev</td>\n",
       "      <td>Male</td>\n",
       "    </tr>\n",
       "  </tbody>\n",
       "</table>\n",
       "</div>"
      ],
      "text/plain": [
       "      idx                          user_ids    accent age_group country  \\\n",
       "0  155349  659e36c14baaf7fa7bb197f951251f4b  setswana     26-40      BW   \n",
       "1   60812  1fd5f717cede9a867bf37d03c7d2166b   siswati     26-40      ZA   \n",
       "2  139668  f2d08d2e1c47a187bfa6869fadc1f755  setswana     26-40      ZA   \n",
       "\n",
       "                                          transcript  nchars  \\\n",
       "0  We should be asking ourselves whether we want ...     110   \n",
       "1  Other sagittal planes parallel to this off cen...      88   \n",
       "2  Tuberculoma is an intracranial massoccurring s...     109   \n",
       "\n",
       "                          audio_ids  \\\n",
       "0  86ad3ef21e469217f28a749c990c81fd   \n",
       "1  5409734bcc4a0f053e73f405d0f135da   \n",
       "2  b10dc4e959b6596d31866e5094ef500a   \n",
       "\n",
       "                                          audio_path  duration   origin  \\\n",
       "0  /AfriSpeech-100/dev/92d2b94e-3e31-40be-b479-50...  8.400998  african   \n",
       "1  /AfriSpeech-100/dev/127bdba1-8bc8-44a4-9c37-8e...  5.236984  african   \n",
       "2  /AfriSpeech-100/dev/de0b1ee6-46f1-4eb6-a747-47...  7.072993  african   \n",
       "\n",
       "     domain split  gender  \n",
       "0   general   dev    Male  \n",
       "1  clinical   dev  Female  \n",
       "2  clinical   dev    Male  "
      ]
     },
     "execution_count": 4,
     "metadata": {},
     "output_type": "execute_result"
    }
   ],
   "source": [
    "dev_df = pd.read_csv(\"../data/intron-dev-public-3231-clean.csv\")\n",
    "print(dev_df.shape)\n",
    "dev_df.head(3)"
   ]
  },
  {
   "cell_type": "code",
   "execution_count": 5,
   "id": "9b4d1718",
   "metadata": {},
   "outputs": [
    {
     "name": "stdout",
     "output_type": "stream",
     "text": [
      "(3227, 14)\n"
     ]
    }
   ],
   "source": [
    "dev_df = dev_df[~dev_df.duplicated(subset=\"audio_path\")]\n",
    "print(dev_df.shape)"
   ]
  },
  {
   "cell_type": "code",
   "execution_count": 6,
   "id": "1ebcb968",
   "metadata": {},
   "outputs": [
    {
     "data": {
      "text/plain": [
       "(2872, 22)"
      ]
     },
     "execution_count": 6,
     "metadata": {},
     "output_type": "execute_result"
    }
   ],
   "source": [
    "dev_df[\"audio_paths\"] = dev_df[\"audio_path\"].apply(lambda x: x.replace(\"/AfriSpeech-100/dev/\", \"/data/data/intron/\"))\n",
    "df = pd.read_csv(\"../results/intron-open-dev-whisper_medium-wer-0.3049-2872.csv\")\n",
    "df = pd.merge(df, dev_df, on=\"audio_paths\")\n",
    "df.shape"
   ]
  },
  {
   "cell_type": "code",
   "execution_count": 7,
   "id": "7d3cb691",
   "metadata": {},
   "outputs": [
    {
     "data": {
      "text/html": [
       "<div>\n",
       "<style scoped>\n",
       "    .dataframe tbody tr th:only-of-type {\n",
       "        vertical-align: middle;\n",
       "    }\n",
       "\n",
       "    .dataframe tbody tr th {\n",
       "        vertical-align: top;\n",
       "    }\n",
       "\n",
       "    .dataframe thead th {\n",
       "        text-align: right;\n",
       "    }\n",
       "</style>\n",
       "<table border=\"1\" class=\"dataframe\">\n",
       "  <thead>\n",
       "    <tr style=\"text-align: right;\">\n",
       "      <th></th>\n",
       "      <th>idx</th>\n",
       "      <th>audio_paths</th>\n",
       "    </tr>\n",
       "  </thead>\n",
       "  <tbody>\n",
       "    <tr>\n",
       "      <th>0</th>\n",
       "      <td>72663</td>\n",
       "      <td>/data/data/intron/e809b58c-4f05-4754-b98c-fbf2...</td>\n",
       "    </tr>\n",
       "    <tr>\n",
       "      <th>1</th>\n",
       "      <td>153902</td>\n",
       "      <td>/data/data/intron/7ce31a48-f507-4344-bc49-96de...</td>\n",
       "    </tr>\n",
       "    <tr>\n",
       "      <th>2</th>\n",
       "      <td>82671</td>\n",
       "      <td>/data/data/intron/b8f6fbc1-426f-4a4b-99db-c38d...</td>\n",
       "    </tr>\n",
       "  </tbody>\n",
       "</table>\n",
       "</div>"
      ],
      "text/plain": [
       "      idx                                        audio_paths\n",
       "0   72663  /data/data/intron/e809b58c-4f05-4754-b98c-fbf2...\n",
       "1  153902  /data/data/intron/7ce31a48-f507-4344-bc49-96de...\n",
       "2   82671  /data/data/intron/b8f6fbc1-426f-4a4b-99db-c38d..."
      ]
     },
     "execution_count": 7,
     "metadata": {},
     "output_type": "execute_result"
    }
   ],
   "source": [
    "mapping_df = df[[\"idx\", \"audio_paths\"]]\n",
    "mapping_df.head(3)"
   ]
  },
  {
   "cell_type": "code",
   "execution_count": 22,
   "id": "998869b4",
   "metadata": {},
   "outputs": [],
   "source": [
    "# Handy functions\n",
    "def transform_raw_df(df_raw, columns=[], fmt=\"intron_whisper\"):\n",
    "    assert fmt != \"\" or fmt is not None\n",
    "    \n",
    "    df = df_raw.copy()\n",
    "    \n",
    "    if fmt == \"intron_whisper\":\n",
    "        df = pd.merge(df, dev_df, on=\"audio_paths\")\n",
    "        df = pd.merge(df, mapping_df, on=\"idx\")\n",
    "\n",
    "        df = df[columns+[\"transcript\", \"hypothesis\", \"audio_paths_x\", \"accent_x\"]]\n",
    "        df.loc[:, \"accent\"] = df.loc[:, \"accent_x\"]\n",
    "        df.loc[:, \"audio_paths\"] = df.loc[:, \"audio_paths_x\"]\n",
    "        df.loc[:, \"reference\"] = df.loc[:, \"transcript\"]\n",
    "        df.loc[:, \"prediction\"] = df.loc[:, \"hypothesis\"]\n",
    "        df = df.drop(columns=[\"accent_x\", \"audio_paths_x\", \"hypothesis\", \"transcript\"])\n",
    "    \n",
    "    elif fmt == \"african_nlp\":\n",
    "        df = pd.merge(df, dev_df, on=\"audio_paths\")\n",
    "        df = pd.merge(df, mapping_df, on=\"idx\")\n",
    "\n",
    "        df = df[columns+[\"accent\", \"user_ids\", \"transcript\", 1]]\n",
    "        df.loc[:, \"reference\"] = df.loc[:, \"transcript\"]\n",
    "        df.loc[:, \"prediction\"] = df.loc[:, 1]\n",
    "        df = df.drop(columns=[1, \"transcript\"])\n",
    "\n",
    "    elif fmt == \"aws\":\n",
    "        df = pd.merge(df[[\"idx\", \"transcript\", \"predictions\"]], dev_df, on=\"idx\")\n",
    "        df = pd.merge(df, mapping_df, on=\"idx\")\n",
    "\n",
    "        df = df[columns+[\"accent\", \"user_ids\", \"transcript_x\", \"predictions\"]]\n",
    "        df.loc[:, \"reference\"] = df.loc[:, \"transcript_x\"]\n",
    "        df.loc[:, \"prediction\"] = df.loc[:, \"predictions\"]\n",
    "        df = df.drop(columns=[\"transcript_x\", \"predictions\"])\n",
    "\n",
    "    elif fmt == \"azure\":\n",
    "        df = pd.merge(df[[\"idx\", \"transcript\", \"predictions_raw\"]], dev_df, on=\"idx\")\n",
    "        df = pd.merge(df, mapping_df, on=\"idx\")\n",
    "\n",
    "        df = df[columns+[\"accent\", \"user_ids\", \"transcript_x\", \"predictions_raw\"]]\n",
    "        df.loc[:, \"reference\"] = df.loc[:, \"transcript_x\"]\n",
    "        df.loc[:, \"prediction\"] = df.loc[:, \"predictions_raw\"]\n",
    "        df = df.drop(columns=[\"transcript_x\", \"predictions_raw\"])\n",
    "    \n",
    "    elif fmt == \"wav2vec2\":\n",
    "        df.loc[:, \"audio_paths\"] = df[\"audio_path\"]\n",
    "        df = pd.merge(df[[\"audio_paths\", \"text\", \"predictions_raw\"]], dev_df, on=\"audio_paths\")\n",
    "        df = pd.merge(df, mapping_df, on=\"idx\")\n",
    "\n",
    "        df = df[columns+[\"accent\", \"user_ids\", \"text\", \"predictions_raw\"]]\n",
    "        df.loc[:, \"reference\"] = df.loc[:, \"text\"]\n",
    "        df.loc[:, \"prediction\"] = df.loc[:, \"predictions_raw\"]\n",
    "        df = df.drop(columns=[\"text\", \"predictions_raw\"])\n",
    "    \n",
    "    elif fmt in df.columns:\n",
    "        df = pd.merge(df[[\"idx\", \"transcript\", fmt]], dev_df, on=\"idx\")\n",
    "        df = pd.merge(df, mapping_df, on=\"idx\")\n",
    "\n",
    "        df = df[columns+[\"accent\", \"user_ids\", \"transcript_x\", fmt]]\n",
    "        df.loc[:, \"reference\"] = df.loc[:, \"transcript_x\"]\n",
    "        df.loc[:, \"prediction\"] = df.loc[:, fmt]\n",
    "        df = df.drop(columns=[\"transcript_x\", fmt])\n",
    "  \n",
    "    else:\n",
    "        raise NotImplementedError()\n",
    "    \n",
    "    print(df.shape)\n",
    "    df[\"wer\"] = df.apply(lambda x: wer_metric.compute(predictions=[x.prediction], references=[x.reference]), axis=1) \n",
    "    return df\n",
    "    \n",
    "\n",
    "\n",
    "def clean_and_compute_wer(df):\n",
    "    df_clean = df.copy()\n",
    "    \n",
    "    print(df_clean[df_clean[\"prediction\"].isnull()].shape)\n",
    "    \n",
    "    df_clean[\"prediction\"] = df_clean[\"prediction\"].fillna(\"\")\n",
    "    print(df_clean[df_clean[\"prediction\"].isnull()].shape)\n",
    "    \n",
    "    df_clean[\"reference\"] = df_clean[\"reference\"].apply(lambda x: clean_text(x))\n",
    "    df_clean[\"prediction\"] = df_clean[\"prediction\"].apply(lambda x: clean_text(x))\n",
    "    \n",
    "    df_clean[\"wer\"] = df_clean.apply(lambda x: wer_metric.compute(predictions=[x.prediction], \n",
    "                                                                  references=[x.reference]), axis=1)\n",
    "    return df_clean\n",
    "    \n",
    "    \n",
    "def write_to_folder(model_id_or_path, predictions_df, output_dir=\"../results/\", split=\"dev\"):\n",
    "    wer = predictions_df[\"wer\"].mean()\n",
    "    output_path = f\"{output_dir}/intron-open-{split}-{model_id_or_path}-wer-{round(wer, 4)}-{len(predictions_df)}.csv\"\n",
    "    predictions_df.to_csv(output_path, index=False)"
   ]
  },
  {
   "cell_type": "code",
   "execution_count": 45,
   "id": "5c9196ef",
   "metadata": {},
   "outputs": [],
   "source": [
    "# make output dir\n",
    "import os\n",
    "os.makedirs(\"../results/raw\", exist_ok=True)\n",
    "os.makedirs(\"../results/normalized\", exist_ok=True)"
   ]
  },
  {
   "cell_type": "markdown",
   "id": "29dd74c2",
   "metadata": {},
   "source": [
    "# Compute WER"
   ]
  },
  {
   "cell_type": "markdown",
   "id": "0476bf67",
   "metadata": {},
   "source": [
    "## OpenAI"
   ]
  },
  {
   "cell_type": "code",
   "execution_count": 46,
   "id": "41401f4e",
   "metadata": {},
   "outputs": [
    {
     "name": "stdout",
     "output_type": "stream",
     "text": [
      "(3232, 10)\n"
     ]
    },
    {
     "data": {
      "text/html": [
       "<div>\n",
       "<style scoped>\n",
       "    .dataframe tbody tr th:only-of-type {\n",
       "        vertical-align: middle;\n",
       "    }\n",
       "\n",
       "    .dataframe tbody tr th {\n",
       "        vertical-align: top;\n",
       "    }\n",
       "\n",
       "    .dataframe thead th {\n",
       "        text-align: right;\n",
       "    }\n",
       "</style>\n",
       "<table border=\"1\" class=\"dataframe\">\n",
       "  <thead>\n",
       "    <tr style=\"text-align: right;\">\n",
       "      <th></th>\n",
       "      <th>Unnamed: 0</th>\n",
       "      <th>idx</th>\n",
       "      <th>user_ids</th>\n",
       "      <th>transcript</th>\n",
       "      <th>whisper_medium</th>\n",
       "      <th>whisper_large</th>\n",
       "      <th>wer</th>\n",
       "      <th>cleanup_references</th>\n",
       "      <th>cleanup_whisper</th>\n",
       "      <th>wer_cleanup</th>\n",
       "    </tr>\n",
       "  </thead>\n",
       "  <tbody>\n",
       "    <tr>\n",
       "      <th>0</th>\n",
       "      <td>0</td>\n",
       "      <td>72663</td>\n",
       "      <td>f559cb4f16bc465ea44b56a8d3b5513e</td>\n",
       "      <td>Ensure the correct placement of the feeding tu...</td>\n",
       "      <td>Ensure the correct placement of the feeding t...</td>\n",
       "      <td>Ensure the correct placement of the feeding t...</td>\n",
       "      <td>0.451613</td>\n",
       "      <td>ensure the correct placement of the feeding tu...</td>\n",
       "      <td>ensure the correct placement of the feeding tu...</td>\n",
       "      <td>0.290323</td>\n",
       "    </tr>\n",
       "    <tr>\n",
       "      <th>1</th>\n",
       "      <td>1</td>\n",
       "      <td>153902</td>\n",
       "      <td>2be9bc423e70a24c703f8336e60af3f3</td>\n",
       "      <td>Regardlessof how amyocyteis stimulated,however...</td>\n",
       "      <td>Regardless of how amyokites stimulated, howev...</td>\n",
       "      <td>Regardless of how a myocardial stimulation, h...</td>\n",
       "      <td>0.444444</td>\n",
       "      <td>regardlessof how amyocyteis stimulated however...</td>\n",
       "      <td>regardless of how amyokites stimulated  howeve...</td>\n",
       "      <td>0.250000</td>\n",
       "    </tr>\n",
       "    <tr>\n",
       "      <th>2</th>\n",
       "      <td>2</td>\n",
       "      <td>82671</td>\n",
       "      <td>a3c2c182b6b53089ef4bc3eccff103bf</td>\n",
       "      <td>For Nigeria to achieve similar noble goals, th...</td>\n",
       "      <td>For Nigeria to achieve similar noble goals, t...</td>\n",
       "      <td>For Nigeria to achieve similar noble goals, t...</td>\n",
       "      <td>0.222222</td>\n",
       "      <td>for nigeria to achieve similar noble goals  th...</td>\n",
       "      <td>for nigeria to achieve similar noble goals  th...</td>\n",
       "      <td>0.027778</td>\n",
       "    </tr>\n",
       "  </tbody>\n",
       "</table>\n",
       "</div>"
      ],
      "text/plain": [
       "   Unnamed: 0     idx                          user_ids  \\\n",
       "0           0   72663  f559cb4f16bc465ea44b56a8d3b5513e   \n",
       "1           1  153902  2be9bc423e70a24c703f8336e60af3f3   \n",
       "2           2   82671  a3c2c182b6b53089ef4bc3eccff103bf   \n",
       "\n",
       "                                          transcript  \\\n",
       "0  Ensure the correct placement of the feeding tu...   \n",
       "1  Regardlessof how amyocyteis stimulated,however...   \n",
       "2  For Nigeria to achieve similar noble goals, th...   \n",
       "\n",
       "                                      whisper_medium  \\\n",
       "0   Ensure the correct placement of the feeding t...   \n",
       "1   Regardless of how amyokites stimulated, howev...   \n",
       "2   For Nigeria to achieve similar noble goals, t...   \n",
       "\n",
       "                                       whisper_large       wer  \\\n",
       "0   Ensure the correct placement of the feeding t...  0.451613   \n",
       "1   Regardless of how a myocardial stimulation, h...  0.444444   \n",
       "2   For Nigeria to achieve similar noble goals, t...  0.222222   \n",
       "\n",
       "                                  cleanup_references  \\\n",
       "0  ensure the correct placement of the feeding tu...   \n",
       "1  regardlessof how amyocyteis stimulated however...   \n",
       "2  for nigeria to achieve similar noble goals  th...   \n",
       "\n",
       "                                     cleanup_whisper  wer_cleanup  \n",
       "0  ensure the correct placement of the feeding tu...     0.290323  \n",
       "1  regardless of how amyokites stimulated  howeve...     0.250000  \n",
       "2  for nigeria to achieve similar noble goals  th...     0.027778  "
      ]
     },
     "execution_count": 46,
     "metadata": {},
     "output_type": "execute_result"
    }
   ],
   "source": [
    "whspr = pd.read_csv(\"../results/whisper_wer_asr_dev.csv\")\n",
    "print(whspr.shape)\n",
    "whspr.head(3)"
   ]
  },
  {
   "cell_type": "code",
   "execution_count": 47,
   "id": "d1848c9b",
   "metadata": {},
   "outputs": [],
   "source": [
    "columns = [\"idx\", \"domain\", \"gender\", \"duration\", \"age_group\"]"
   ]
  },
  {
   "cell_type": "markdown",
   "id": "f8dab0d4",
   "metadata": {},
   "source": [
    "### Whisper-Large"
   ]
  },
  {
   "cell_type": "code",
   "execution_count": 48,
   "id": "345fbdb6",
   "metadata": {},
   "outputs": [
    {
     "name": "stdout",
     "output_type": "stream",
     "text": [
      "(2872, 9)\n",
      "(3, 10)\n",
      "(0, 10)\n"
     ]
    }
   ],
   "source": [
    "whspr_large = transform_raw_df(whspr, columns=columns, fmt=\"whisper_large\")\n",
    "whspr_large_clean = clean_and_compute_wer(whspr_large)"
   ]
  },
  {
   "cell_type": "code",
   "execution_count": 49,
   "id": "8ee1eca9",
   "metadata": {},
   "outputs": [
    {
     "data": {
      "text/html": [
       "<div>\n",
       "<style scoped>\n",
       "    .dataframe tbody tr th:only-of-type {\n",
       "        vertical-align: middle;\n",
       "    }\n",
       "\n",
       "    .dataframe tbody tr th {\n",
       "        vertical-align: top;\n",
       "    }\n",
       "\n",
       "    .dataframe thead th {\n",
       "        text-align: right;\n",
       "    }\n",
       "</style>\n",
       "<table border=\"1\" class=\"dataframe\">\n",
       "  <thead>\n",
       "    <tr style=\"text-align: right;\">\n",
       "      <th></th>\n",
       "      <th>idx</th>\n",
       "      <th>domain</th>\n",
       "      <th>gender</th>\n",
       "      <th>duration</th>\n",
       "      <th>age_group</th>\n",
       "      <th>accent</th>\n",
       "      <th>user_ids</th>\n",
       "      <th>reference</th>\n",
       "      <th>prediction</th>\n",
       "      <th>wer</th>\n",
       "    </tr>\n",
       "  </thead>\n",
       "  <tbody>\n",
       "    <tr>\n",
       "      <th>0</th>\n",
       "      <td>72663</td>\n",
       "      <td>clinical</td>\n",
       "      <td>Female</td>\n",
       "      <td>16.421995</td>\n",
       "      <td>19-25</td>\n",
       "      <td>swahili</td>\n",
       "      <td>f559cb4f16bc465ea44b56a8d3b5513e</td>\n",
       "      <td>Ensure the correct placement of the feeding tu...</td>\n",
       "      <td>Ensure the correct placement of the feeding t...</td>\n",
       "      <td>0.290323</td>\n",
       "    </tr>\n",
       "    <tr>\n",
       "      <th>1</th>\n",
       "      <td>153902</td>\n",
       "      <td>clinical</td>\n",
       "      <td>Female</td>\n",
       "      <td>11.393991</td>\n",
       "      <td>19-25</td>\n",
       "      <td>swahili</td>\n",
       "      <td>2be9bc423e70a24c703f8336e60af3f3</td>\n",
       "      <td>Regardlessof how amyocyteis stimulated,however...</td>\n",
       "      <td>Regardless of how a myocardial stimulation, h...</td>\n",
       "      <td>0.500000</td>\n",
       "    </tr>\n",
       "  </tbody>\n",
       "</table>\n",
       "</div>"
      ],
      "text/plain": [
       "      idx    domain  gender   duration age_group   accent  \\\n",
       "0   72663  clinical  Female  16.421995     19-25  swahili   \n",
       "1  153902  clinical  Female  11.393991     19-25  swahili   \n",
       "\n",
       "                           user_ids  \\\n",
       "0  f559cb4f16bc465ea44b56a8d3b5513e   \n",
       "1  2be9bc423e70a24c703f8336e60af3f3   \n",
       "\n",
       "                                           reference  \\\n",
       "0  Ensure the correct placement of the feeding tu...   \n",
       "1  Regardlessof how amyocyteis stimulated,however...   \n",
       "\n",
       "                                          prediction       wer  \n",
       "0   Ensure the correct placement of the feeding t...  0.290323  \n",
       "1   Regardless of how a myocardial stimulation, h...  0.500000  "
      ]
     },
     "execution_count": 49,
     "metadata": {},
     "output_type": "execute_result"
    }
   ],
   "source": [
    "whspr_large.head(2)"
   ]
  },
  {
   "cell_type": "code",
   "execution_count": 50,
   "id": "db817b2b",
   "metadata": {},
   "outputs": [
    {
     "data": {
      "text/html": [
       "<div>\n",
       "<style scoped>\n",
       "    .dataframe tbody tr th:only-of-type {\n",
       "        vertical-align: middle;\n",
       "    }\n",
       "\n",
       "    .dataframe tbody tr th {\n",
       "        vertical-align: top;\n",
       "    }\n",
       "\n",
       "    .dataframe thead th {\n",
       "        text-align: right;\n",
       "    }\n",
       "</style>\n",
       "<table border=\"1\" class=\"dataframe\">\n",
       "  <thead>\n",
       "    <tr style=\"text-align: right;\">\n",
       "      <th></th>\n",
       "      <th>idx</th>\n",
       "      <th>domain</th>\n",
       "      <th>gender</th>\n",
       "      <th>duration</th>\n",
       "      <th>age_group</th>\n",
       "      <th>accent</th>\n",
       "      <th>user_ids</th>\n",
       "      <th>reference</th>\n",
       "      <th>prediction</th>\n",
       "      <th>wer</th>\n",
       "    </tr>\n",
       "  </thead>\n",
       "  <tbody>\n",
       "    <tr>\n",
       "      <th>0</th>\n",
       "      <td>72663</td>\n",
       "      <td>clinical</td>\n",
       "      <td>Female</td>\n",
       "      <td>16.421995</td>\n",
       "      <td>19-25</td>\n",
       "      <td>swahili</td>\n",
       "      <td>f559cb4f16bc465ea44b56a8d3b5513e</td>\n",
       "      <td>ensure the correct placement of the feeding tu...</td>\n",
       "      <td>ensure the correct placement of the feeding tu...</td>\n",
       "      <td>0.290323</td>\n",
       "    </tr>\n",
       "    <tr>\n",
       "      <th>1</th>\n",
       "      <td>153902</td>\n",
       "      <td>clinical</td>\n",
       "      <td>Female</td>\n",
       "      <td>11.393991</td>\n",
       "      <td>19-25</td>\n",
       "      <td>swahili</td>\n",
       "      <td>2be9bc423e70a24c703f8336e60af3f3</td>\n",
       "      <td>regardlessof how amyocyteis stimulated,however...</td>\n",
       "      <td>regardless of how a myocardial stimulation, ho...</td>\n",
       "      <td>0.500000</td>\n",
       "    </tr>\n",
       "  </tbody>\n",
       "</table>\n",
       "</div>"
      ],
      "text/plain": [
       "      idx    domain  gender   duration age_group   accent  \\\n",
       "0   72663  clinical  Female  16.421995     19-25  swahili   \n",
       "1  153902  clinical  Female  11.393991     19-25  swahili   \n",
       "\n",
       "                           user_ids  \\\n",
       "0  f559cb4f16bc465ea44b56a8d3b5513e   \n",
       "1  2be9bc423e70a24c703f8336e60af3f3   \n",
       "\n",
       "                                           reference  \\\n",
       "0  ensure the correct placement of the feeding tu...   \n",
       "1  regardlessof how amyocyteis stimulated,however...   \n",
       "\n",
       "                                          prediction       wer  \n",
       "0  ensure the correct placement of the feeding tu...  0.290323  \n",
       "1  regardless of how a myocardial stimulation, ho...  0.500000  "
      ]
     },
     "execution_count": 50,
     "metadata": {},
     "output_type": "execute_result"
    }
   ],
   "source": [
    "whspr_large_clean.head(2)"
   ]
  },
  {
   "cell_type": "code",
   "execution_count": 51,
   "id": "57ba6656",
   "metadata": {},
   "outputs": [
    {
     "name": "stdout",
     "output_type": "stream",
     "text": [
      "0.5039740585544689\n",
      "0.4108835197703194\n"
     ]
    }
   ],
   "source": [
    "# WER\n",
    "print(whspr_large[\"wer\"].mean())\n",
    "print(whspr_large_clean[\"wer\"].mean())"
   ]
  },
  {
   "cell_type": "code",
   "execution_count": 52,
   "id": "270bdc70",
   "metadata": {},
   "outputs": [],
   "source": [
    "model_id_or_path = \"openai_whisper_large\"\n",
    "\n",
    "write_to_folder(model_id_or_path=model_id_or_path, \n",
    "                predictions_df=whspr_large, \n",
    "                output_dir=\"../results/raw\")\n",
    "\n",
    "write_to_folder(model_id_or_path=model_id_or_path, \n",
    "                predictions_df=whspr_large_clean,\n",
    "                output_dir=\"../results/normalized\")"
   ]
  },
  {
   "cell_type": "markdown",
   "id": "0727b8b4",
   "metadata": {},
   "source": [
    "### Whisper-Medium"
   ]
  },
  {
   "cell_type": "code",
   "execution_count": 53,
   "id": "b5a451ac",
   "metadata": {
    "scrolled": true
   },
   "outputs": [
    {
     "name": "stdout",
     "output_type": "stream",
     "text": [
      "(2872, 8)\n"
     ]
    },
    {
     "data": {
      "text/html": [
       "<div>\n",
       "<style scoped>\n",
       "    .dataframe tbody tr th:only-of-type {\n",
       "        vertical-align: middle;\n",
       "    }\n",
       "\n",
       "    .dataframe tbody tr th {\n",
       "        vertical-align: top;\n",
       "    }\n",
       "\n",
       "    .dataframe thead th {\n",
       "        text-align: right;\n",
       "    }\n",
       "</style>\n",
       "<table border=\"1\" class=\"dataframe\">\n",
       "  <thead>\n",
       "    <tr style=\"text-align: right;\">\n",
       "      <th></th>\n",
       "      <th>hypothesis</th>\n",
       "      <th>reference</th>\n",
       "      <th>audio_paths</th>\n",
       "      <th>accent</th>\n",
       "      <th>pred_clean</th>\n",
       "      <th>ref_clean</th>\n",
       "      <th>hypothesis_clean</th>\n",
       "      <th>reference_clean</th>\n",
       "    </tr>\n",
       "  </thead>\n",
       "  <tbody>\n",
       "    <tr>\n",
       "      <th>0</th>\n",
       "      <td>Ensure the correct placement of the feeding tu...</td>\n",
       "      <td>Ensure the correct placement of the feeding tu...</td>\n",
       "      <td>/data/data/intron/e809b58c-4f05-4754-b98c-fbf2...</td>\n",
       "      <td>swahili</td>\n",
       "      <td>ensure the correct placement of the feeding tu...</td>\n",
       "      <td>ensure the correct placement of the feeding tu...</td>\n",
       "      <td>ensure the correct placement of the feeding tu...</td>\n",
       "      <td>ensure the correct placement of the feeding tu...</td>\n",
       "    </tr>\n",
       "    <tr>\n",
       "      <th>1</th>\n",
       "      <td>Regardless of how amyokites stimulated, howeve...</td>\n",
       "      <td>Regardlessof how amyocyteis stimulated,however...</td>\n",
       "      <td>/data/data/intron/7ce31a48-f507-4344-bc49-96de...</td>\n",
       "      <td>swahili</td>\n",
       "      <td>regardless of how amyokites stimulated, howeve...</td>\n",
       "      <td>regardlessof how amyocyteis stimulated,however...</td>\n",
       "      <td>regardless of how amyokites stimulated however...</td>\n",
       "      <td>regardlessof how amyocyteis stimulated however...</td>\n",
       "    </tr>\n",
       "  </tbody>\n",
       "</table>\n",
       "</div>"
      ],
      "text/plain": [
       "                                          hypothesis  \\\n",
       "0  Ensure the correct placement of the feeding tu...   \n",
       "1  Regardless of how amyokites stimulated, howeve...   \n",
       "\n",
       "                                           reference  \\\n",
       "0  Ensure the correct placement of the feeding tu...   \n",
       "1  Regardlessof how amyocyteis stimulated,however...   \n",
       "\n",
       "                                         audio_paths   accent  \\\n",
       "0  /data/data/intron/e809b58c-4f05-4754-b98c-fbf2...  swahili   \n",
       "1  /data/data/intron/7ce31a48-f507-4344-bc49-96de...  swahili   \n",
       "\n",
       "                                          pred_clean  \\\n",
       "0  ensure the correct placement of the feeding tu...   \n",
       "1  regardless of how amyokites stimulated, howeve...   \n",
       "\n",
       "                                           ref_clean  \\\n",
       "0  ensure the correct placement of the feeding tu...   \n",
       "1  regardlessof how amyocyteis stimulated,however...   \n",
       "\n",
       "                                    hypothesis_clean  \\\n",
       "0  ensure the correct placement of the feeding tu...   \n",
       "1  regardless of how amyokites stimulated however...   \n",
       "\n",
       "                                     reference_clean  \n",
       "0  ensure the correct placement of the feeding tu...  \n",
       "1  regardlessof how amyocyteis stimulated however...  "
      ]
     },
     "execution_count": 53,
     "metadata": {},
     "output_type": "execute_result"
    }
   ],
   "source": [
    "whspr_medium_raw = pd.read_csv(\"../results/intron-open-dev-whisper_medium-wer-0.3049-2872.csv\")\n",
    "print(whspr_medium_raw.shape)\n",
    "whspr_medium_raw.head(2)"
   ]
  },
  {
   "cell_type": "code",
   "execution_count": 54,
   "id": "8003725a",
   "metadata": {},
   "outputs": [
    {
     "name": "stdout",
     "output_type": "stream",
     "text": [
      "(2872, 9)\n",
      "(0, 10)\n",
      "(0, 10)\n"
     ]
    }
   ],
   "source": [
    "whspr_medium = transform_raw_df(whspr_medium_raw, columns=columns, fmt=\"intron_whisper\")\n",
    "whspr_medium_clean = clean_and_compute_wer(whspr_medium)"
   ]
  },
  {
   "cell_type": "code",
   "execution_count": 55,
   "id": "786fa06a",
   "metadata": {},
   "outputs": [
    {
     "name": "stdout",
     "output_type": "stream",
     "text": [
      "0.4643886864352219\n",
      "0.34914988813403375\n"
     ]
    }
   ],
   "source": [
    "# WER\n",
    "print(whspr_medium[\"wer\"].mean())\n",
    "print(whspr_medium_clean[\"wer\"].mean())"
   ]
  },
  {
   "cell_type": "code",
   "execution_count": 56,
   "id": "b2e289fe",
   "metadata": {},
   "outputs": [],
   "source": [
    "model_id_or_path = \"openai_whisper_medium\"\n",
    "\n",
    "write_to_folder(model_id_or_path=model_id_or_path, \n",
    "                predictions_df=whspr_medium, \n",
    "                output_dir=\"../results/raw\")\n",
    "\n",
    "write_to_folder(model_id_or_path=model_id_or_path, \n",
    "                predictions_df=whspr_medium_clean,\n",
    "                output_dir=\"../results/normalized\")"
   ]
  },
  {
   "cell_type": "code",
   "execution_count": 57,
   "id": "8196f716",
   "metadata": {},
   "outputs": [
    {
     "name": "stdout",
     "output_type": "stream",
     "text": [
      "(2872, 8)\n",
      "(2872, 9)\n",
      "(0, 10)\n",
      "(0, 10)\n"
     ]
    }
   ],
   "source": [
    "whspr_medium_en_raw = pd.read_csv(\"../results/intron-open-dev-whisper_medium.en-wer-0.3219-2872.csv\")\n",
    "print(whspr_medium_en_raw.shape)\n",
    "whspr_medium_en = transform_raw_df(whspr_medium_en_raw, columns=columns, fmt=\"intron_whisper\")\n",
    "whspr_medium_en_clean = clean_and_compute_wer(whspr_medium_en)"
   ]
  },
  {
   "cell_type": "code",
   "execution_count": 58,
   "id": "e1947a27",
   "metadata": {},
   "outputs": [
    {
     "name": "stdout",
     "output_type": "stream",
     "text": [
      "0.46137424273526506\n",
      "0.3678484564644302\n"
     ]
    }
   ],
   "source": [
    "print(whspr_medium_en[\"wer\"].mean())\n",
    "print(whspr_medium_en_clean[\"wer\"].mean())"
   ]
  },
  {
   "cell_type": "code",
   "execution_count": 59,
   "id": "e3ca3cbb",
   "metadata": {},
   "outputs": [],
   "source": [
    "model_id_or_path = \"openai_whisper_medium_en\"\n",
    "\n",
    "write_to_folder(model_id_or_path=model_id_or_path, \n",
    "                predictions_df=whspr_medium_en, \n",
    "                output_dir=\"../results/raw\")\n",
    "\n",
    "write_to_folder(model_id_or_path=model_id_or_path, \n",
    "                predictions_df=whspr_medium_en_clean,\n",
    "                output_dir=\"../results/normalized\")"
   ]
  },
  {
   "cell_type": "markdown",
   "id": "e7895fcd",
   "metadata": {},
   "source": [
    "### Whisper-Small"
   ]
  },
  {
   "cell_type": "code",
   "execution_count": 60,
   "id": "dd334293",
   "metadata": {},
   "outputs": [
    {
     "name": "stdout",
     "output_type": "stream",
     "text": [
      "(2872, 8)\n"
     ]
    },
    {
     "data": {
      "text/html": [
       "<div>\n",
       "<style scoped>\n",
       "    .dataframe tbody tr th:only-of-type {\n",
       "        vertical-align: middle;\n",
       "    }\n",
       "\n",
       "    .dataframe tbody tr th {\n",
       "        vertical-align: top;\n",
       "    }\n",
       "\n",
       "    .dataframe thead th {\n",
       "        text-align: right;\n",
       "    }\n",
       "</style>\n",
       "<table border=\"1\" class=\"dataframe\">\n",
       "  <thead>\n",
       "    <tr style=\"text-align: right;\">\n",
       "      <th></th>\n",
       "      <th>hypothesis</th>\n",
       "      <th>reference</th>\n",
       "      <th>audio_paths</th>\n",
       "      <th>accent</th>\n",
       "      <th>pred_clean</th>\n",
       "      <th>ref_clean</th>\n",
       "      <th>hypothesis_clean</th>\n",
       "      <th>reference_clean</th>\n",
       "    </tr>\n",
       "  </thead>\n",
       "  <tbody>\n",
       "    <tr>\n",
       "      <th>0</th>\n",
       "      <td>Ensure the correct placement of the feeding tu...</td>\n",
       "      <td>Ensure the correct placement of the feeding tu...</td>\n",
       "      <td>/data/data/intron/e809b58c-4f05-4754-b98c-fbf2...</td>\n",
       "      <td>swahili</td>\n",
       "      <td>ensure the correct placement of the feeding tu...</td>\n",
       "      <td>ensure the correct placement of the feeding tu...</td>\n",
       "      <td>ensure the correct placement of the feeding tu...</td>\n",
       "      <td>ensure the correct placement of the feeding tu...</td>\n",
       "    </tr>\n",
       "    <tr>\n",
       "      <th>1</th>\n",
       "      <td>Regardless of how a moeocatase stimulated, how...</td>\n",
       "      <td>Regardlessof how amyocyteis stimulated,however...</td>\n",
       "      <td>/data/data/intron/7ce31a48-f507-4344-bc49-96de...</td>\n",
       "      <td>swahili</td>\n",
       "      <td>regardless of how a moeocatase stimulated, how...</td>\n",
       "      <td>regardlessof how amyocyteis stimulated,however...</td>\n",
       "      <td>regardless of how a moeocatase stimulated howe...</td>\n",
       "      <td>regardlessof how amyocyteis stimulated however...</td>\n",
       "    </tr>\n",
       "  </tbody>\n",
       "</table>\n",
       "</div>"
      ],
      "text/plain": [
       "                                          hypothesis  \\\n",
       "0  Ensure the correct placement of the feeding tu...   \n",
       "1  Regardless of how a moeocatase stimulated, how...   \n",
       "\n",
       "                                           reference  \\\n",
       "0  Ensure the correct placement of the feeding tu...   \n",
       "1  Regardlessof how amyocyteis stimulated,however...   \n",
       "\n",
       "                                         audio_paths   accent  \\\n",
       "0  /data/data/intron/e809b58c-4f05-4754-b98c-fbf2...  swahili   \n",
       "1  /data/data/intron/7ce31a48-f507-4344-bc49-96de...  swahili   \n",
       "\n",
       "                                          pred_clean  \\\n",
       "0  ensure the correct placement of the feeding tu...   \n",
       "1  regardless of how a moeocatase stimulated, how...   \n",
       "\n",
       "                                           ref_clean  \\\n",
       "0  ensure the correct placement of the feeding tu...   \n",
       "1  regardlessof how amyocyteis stimulated,however...   \n",
       "\n",
       "                                    hypothesis_clean  \\\n",
       "0  ensure the correct placement of the feeding tu...   \n",
       "1  regardless of how a moeocatase stimulated howe...   \n",
       "\n",
       "                                     reference_clean  \n",
       "0  ensure the correct placement of the feeding tu...  \n",
       "1  regardlessof how amyocyteis stimulated however...  "
      ]
     },
     "execution_count": 60,
     "metadata": {},
     "output_type": "execute_result"
    }
   ],
   "source": [
    "whspr_small_raw = pd.read_csv(\"../results/intron-open-dev-whisper_small-wer-0.3743-2872.csv\")\n",
    "print(whspr_small_raw.shape)\n",
    "whspr_small_raw.head(2)"
   ]
  },
  {
   "cell_type": "code",
   "execution_count": 61,
   "id": "1a729e54",
   "metadata": {},
   "outputs": [
    {
     "name": "stdout",
     "output_type": "stream",
     "text": [
      "(2872, 9)\n",
      "(0, 10)\n",
      "(0, 10)\n"
     ]
    }
   ],
   "source": [
    "whspr_small = transform_raw_df(whspr_small_raw, columns=columns, fmt=\"intron_whisper\")\n",
    "whspr_small_clean = clean_and_compute_wer(whspr_small)"
   ]
  },
  {
   "cell_type": "code",
   "execution_count": 62,
   "id": "080aea10",
   "metadata": {},
   "outputs": [
    {
     "name": "stdout",
     "output_type": "stream",
     "text": [
      "0.5337821026197487\n",
      "0.43133830977562343\n"
     ]
    }
   ],
   "source": [
    "print(whspr_small[\"wer\"].mean())\n",
    "print(whspr_small_clean[\"wer\"].mean())"
   ]
  },
  {
   "cell_type": "code",
   "execution_count": 63,
   "id": "1854aef8",
   "metadata": {},
   "outputs": [],
   "source": [
    "model_id_or_path = \"openai_whisper_small\"\n",
    "\n",
    "write_to_folder(model_id_or_path=model_id_or_path, \n",
    "                predictions_df=whspr_small, \n",
    "                output_dir=\"../results/raw\")\n",
    "\n",
    "write_to_folder(model_id_or_path=model_id_or_path, \n",
    "                predictions_df=whspr_small_clean,\n",
    "                output_dir=\"../results/normalized\")"
   ]
  },
  {
   "cell_type": "code",
   "execution_count": 64,
   "id": "480cd853",
   "metadata": {},
   "outputs": [
    {
     "name": "stdout",
     "output_type": "stream",
     "text": [
      "(2872, 8)\n",
      "(2872, 9)\n",
      "(0, 10)\n",
      "(0, 10)\n"
     ]
    }
   ],
   "source": [
    "whspr_small_en_raw = pd.read_csv(\"../results/intron-open-dev-whisper_small.en-wer-0.383-2872.csv\")\n",
    "print(whspr_small_en_raw.shape)\n",
    "whspr_small_en = transform_raw_df(whspr_small_en_raw, columns=columns, fmt=\"intron_whisper\")\n",
    "whspr_small_en_clean = clean_and_compute_wer(whspr_small_en)"
   ]
  },
  {
   "cell_type": "code",
   "execution_count": 65,
   "id": "529d8652",
   "metadata": {},
   "outputs": [
    {
     "name": "stdout",
     "output_type": "stream",
     "text": [
      "0.519713022377241\n",
      "0.43402733892570033\n"
     ]
    }
   ],
   "source": [
    "print(whspr_small_en[\"wer\"].mean())\n",
    "print(whspr_small_en_clean[\"wer\"].mean())"
   ]
  },
  {
   "cell_type": "code",
   "execution_count": 66,
   "id": "b792a3ae",
   "metadata": {},
   "outputs": [],
   "source": [
    "model_id_or_path = \"openai_whisper_small_en\"\n",
    "\n",
    "write_to_folder(model_id_or_path=model_id_or_path, \n",
    "                predictions_df=whspr_small_en, \n",
    "                output_dir=\"../results/raw\")\n",
    "\n",
    "write_to_folder(model_id_or_path=model_id_or_path, \n",
    "                predictions_df=whspr_small_en_clean,\n",
    "                output_dir=\"../results/normalized\")"
   ]
  },
  {
   "cell_type": "markdown",
   "id": "b86cb620",
   "metadata": {},
   "source": [
    "## Nvidia"
   ]
  },
  {
   "cell_type": "markdown",
   "id": "aba08a0e",
   "metadata": {},
   "source": [
    "### Nemo-conformer-ctc-large"
   ]
  },
  {
   "cell_type": "code",
   "execution_count": 67,
   "id": "9b451d45",
   "metadata": {},
   "outputs": [
    {
     "name": "stdout",
     "output_type": "stream",
     "text": [
      "(3227, 3)\n"
     ]
    },
    {
     "data": {
      "text/html": [
       "<div>\n",
       "<style scoped>\n",
       "    .dataframe tbody tr th:only-of-type {\n",
       "        vertical-align: middle;\n",
       "    }\n",
       "\n",
       "    .dataframe tbody tr th {\n",
       "        vertical-align: top;\n",
       "    }\n",
       "\n",
       "    .dataframe thead th {\n",
       "        text-align: right;\n",
       "    }\n",
       "</style>\n",
       "<table border=\"1\" class=\"dataframe\">\n",
       "  <thead>\n",
       "    <tr style=\"text-align: right;\">\n",
       "      <th></th>\n",
       "      <th>0</th>\n",
       "      <th>1</th>\n",
       "      <th>audio_paths</th>\n",
       "    </tr>\n",
       "  </thead>\n",
       "  <tbody>\n",
       "    <tr>\n",
       "      <th>0</th>\n",
       "      <td>/scratch/pbsjobs/axy327/dev/a25d5981-d814-4eef...</td>\n",
       "      <td>construction and sea trials</td>\n",
       "      <td>/data/data/intron/a25d5981-d814-4eef-8637-cc35...</td>\n",
       "    </tr>\n",
       "    <tr>\n",
       "      <th>1</th>\n",
       "      <td>/scratch/pbsjobs/axy327/dev/35a17e2f-5b12-4886...</td>\n",
       "      <td>unstable bos fracture of unspecified thoracic ...</td>\n",
       "      <td>/data/data/intron/35a17e2f-5b12-4886-ad2c-c1aa...</td>\n",
       "    </tr>\n",
       "  </tbody>\n",
       "</table>\n",
       "</div>"
      ],
      "text/plain": [
       "                                                   0  \\\n",
       "0  /scratch/pbsjobs/axy327/dev/a25d5981-d814-4eef...   \n",
       "1  /scratch/pbsjobs/axy327/dev/35a17e2f-5b12-4886...   \n",
       "\n",
       "                                                   1  \\\n",
       "0                        construction and sea trials   \n",
       "1  unstable bos fracture of unspecified thoracic ...   \n",
       "\n",
       "                                         audio_paths  \n",
       "0  /data/data/intron/a25d5981-d814-4eef-8637-cc35...  \n",
       "1  /data/data/intron/35a17e2f-5b12-4886-ad2c-c1aa...  "
      ]
     },
     "execution_count": 67,
     "metadata": {},
     "output_type": "execute_result"
    }
   ],
   "source": [
    "nemo_ctc_raw = pd.read_csv(\"../results/african-nlp-nemo-ctc-predictons\", header=None, delimiter=\"\t\")\n",
    "nemo_ctc_raw[\"audio_paths\"] = nemo_ctc_raw[0].apply(lambda x: x.replace(\"/scratch/pbsjobs/axy327/dev/\", \"/data/data/intron/\"))\n",
    "print(nemo_ctc_raw.shape)\n",
    "nemo_ctc_raw.head(2)"
   ]
  },
  {
   "cell_type": "code",
   "execution_count": 68,
   "id": "7279eea0",
   "metadata": {},
   "outputs": [
    {
     "name": "stdout",
     "output_type": "stream",
     "text": [
      "(2872, 9)\n",
      "(2, 10)\n",
      "(0, 10)\n"
     ]
    }
   ],
   "source": [
    "nemo_ctc = transform_raw_df(nemo_ctc_raw, columns=columns, fmt=\"african_nlp\")\n",
    "nemo_ctc_clean = clean_and_compute_wer(nemo_ctc)"
   ]
  },
  {
   "cell_type": "code",
   "execution_count": 69,
   "id": "84c17db3",
   "metadata": {},
   "outputs": [
    {
     "name": "stdout",
     "output_type": "stream",
     "text": [
      "0.6767011051916588\n",
      "0.5503160383940416\n"
     ]
    }
   ],
   "source": [
    "print(nemo_ctc[\"wer\"].mean())\n",
    "print(nemo_ctc_clean[\"wer\"].mean())"
   ]
  },
  {
   "cell_type": "code",
   "execution_count": 70,
   "id": "5be5bdbd",
   "metadata": {},
   "outputs": [],
   "source": [
    "model_id_or_path = \"nvidia_nemo_conformer_ctc_large\"\n",
    "\n",
    "write_to_folder(model_id_or_path=model_id_or_path, \n",
    "                predictions_df=nemo_ctc, \n",
    "                output_dir=\"../results/raw\")\n",
    "\n",
    "write_to_folder(model_id_or_path=model_id_or_path, \n",
    "                predictions_df=nemo_ctc_clean,\n",
    "                output_dir=\"../results/normalized\")"
   ]
  },
  {
   "cell_type": "markdown",
   "id": "cf2f18d7",
   "metadata": {},
   "source": [
    "### Nemo-conformer-transducer-large"
   ]
  },
  {
   "cell_type": "code",
   "execution_count": 71,
   "id": "9d15f564",
   "metadata": {},
   "outputs": [
    {
     "name": "stdout",
     "output_type": "stream",
     "text": [
      "(3227, 3)\n"
     ]
    },
    {
     "data": {
      "text/html": [
       "<div>\n",
       "<style scoped>\n",
       "    .dataframe tbody tr th:only-of-type {\n",
       "        vertical-align: middle;\n",
       "    }\n",
       "\n",
       "    .dataframe tbody tr th {\n",
       "        vertical-align: top;\n",
       "    }\n",
       "\n",
       "    .dataframe thead th {\n",
       "        text-align: right;\n",
       "    }\n",
       "</style>\n",
       "<table border=\"1\" class=\"dataframe\">\n",
       "  <thead>\n",
       "    <tr style=\"text-align: right;\">\n",
       "      <th></th>\n",
       "      <th>0</th>\n",
       "      <th>1</th>\n",
       "      <th>audio_paths</th>\n",
       "    </tr>\n",
       "  </thead>\n",
       "  <tbody>\n",
       "    <tr>\n",
       "      <th>0</th>\n",
       "      <td>/scratch/pbsjobs/axy327/dev/a25d5981-d814-4eef...</td>\n",
       "      <td>construction and sea trials</td>\n",
       "      <td>/data/data/intron/a25d5981-d814-4eef-8637-cc35...</td>\n",
       "    </tr>\n",
       "    <tr>\n",
       "      <th>1</th>\n",
       "      <td>/scratch/pbsjobs/axy327/dev/35a17e2f-5b12-4886...</td>\n",
       "      <td>unstable boss fracture of unspecified thoracic...</td>\n",
       "      <td>/data/data/intron/35a17e2f-5b12-4886-ad2c-c1aa...</td>\n",
       "    </tr>\n",
       "  </tbody>\n",
       "</table>\n",
       "</div>"
      ],
      "text/plain": [
       "                                                   0  \\\n",
       "0  /scratch/pbsjobs/axy327/dev/a25d5981-d814-4eef...   \n",
       "1  /scratch/pbsjobs/axy327/dev/35a17e2f-5b12-4886...   \n",
       "\n",
       "                                                   1  \\\n",
       "0                        construction and sea trials   \n",
       "1  unstable boss fracture of unspecified thoracic...   \n",
       "\n",
       "                                         audio_paths  \n",
       "0  /data/data/intron/a25d5981-d814-4eef-8637-cc35...  \n",
       "1  /data/data/intron/35a17e2f-5b12-4886-ad2c-c1aa...  "
      ]
     },
     "execution_count": 71,
     "metadata": {},
     "output_type": "execute_result"
    }
   ],
   "source": [
    "nemo_transducer_raw = pd.read_csv(\"../results/african-nlp-nemo-transducer-predictons\", header=None, delimiter=\"\t\")\n",
    "nemo_transducer_raw[\"audio_paths\"] = nemo_transducer_raw[0].apply(lambda x: x.replace(\"/scratch/pbsjobs/axy327/dev/\", \"/data/data/intron/\"))\n",
    "print(nemo_transducer_raw.shape)\n",
    "nemo_transducer_raw.head(2)"
   ]
  },
  {
   "cell_type": "code",
   "execution_count": 72,
   "id": "0d84cc10",
   "metadata": {},
   "outputs": [
    {
     "name": "stdout",
     "output_type": "stream",
     "text": [
      "(2872, 9)\n",
      "(6, 10)\n",
      "(0, 10)\n"
     ]
    }
   ],
   "source": [
    "nemo_transducer = transform_raw_df(nemo_transducer_raw, columns=columns, fmt=\"african_nlp\")\n",
    "nemo_transducer_clean = clean_and_compute_wer(nemo_transducer)"
   ]
  },
  {
   "cell_type": "code",
   "execution_count": 73,
   "id": "f98653c5",
   "metadata": {
    "scrolled": true
   },
   "outputs": [
    {
     "name": "stdout",
     "output_type": "stream",
     "text": [
      "0.6637992751483184\n",
      "0.5245269422772046\n"
     ]
    }
   ],
   "source": [
    "print(nemo_transducer[\"wer\"].mean())\n",
    "print(nemo_transducer_clean[\"wer\"].mean())"
   ]
  },
  {
   "cell_type": "code",
   "execution_count": 74,
   "id": "dd015241",
   "metadata": {},
   "outputs": [],
   "source": [
    "model_id_or_path = \"nvidia_nemo_conformer_transducer_large\"\n",
    "\n",
    "write_to_folder(model_id_or_path=model_id_or_path, \n",
    "                predictions_df=nemo_transducer, \n",
    "                output_dir=\"../results/raw\")\n",
    "\n",
    "write_to_folder(model_id_or_path=model_id_or_path, \n",
    "                predictions_df=nemo_transducer_clean,\n",
    "                output_dir=\"../results/normalized\")"
   ]
  },
  {
   "cell_type": "markdown",
   "id": "254ebfe5",
   "metadata": {},
   "source": [
    "## Speech Brain"
   ]
  },
  {
   "cell_type": "code",
   "execution_count": 75,
   "id": "a063a549",
   "metadata": {},
   "outputs": [
    {
     "name": "stdout",
     "output_type": "stream",
     "text": [
      "(3227, 3)\n"
     ]
    },
    {
     "data": {
      "text/html": [
       "<div>\n",
       "<style scoped>\n",
       "    .dataframe tbody tr th:only-of-type {\n",
       "        vertical-align: middle;\n",
       "    }\n",
       "\n",
       "    .dataframe tbody tr th {\n",
       "        vertical-align: top;\n",
       "    }\n",
       "\n",
       "    .dataframe thead th {\n",
       "        text-align: right;\n",
       "    }\n",
       "</style>\n",
       "<table border=\"1\" class=\"dataframe\">\n",
       "  <thead>\n",
       "    <tr style=\"text-align: right;\">\n",
       "      <th></th>\n",
       "      <th>0</th>\n",
       "      <th>1</th>\n",
       "      <th>audio_paths</th>\n",
       "    </tr>\n",
       "  </thead>\n",
       "  <tbody>\n",
       "    <tr>\n",
       "      <th>0</th>\n",
       "      <td>/scratch/pbsjobs/axy327/dev/a25d5981-d814-4eef...</td>\n",
       "      <td>CONSTRUCTION AND C TRIALS</td>\n",
       "      <td>/data/data/intron/a25d5981-d814-4eef-8637-cc35...</td>\n",
       "    </tr>\n",
       "    <tr>\n",
       "      <th>1</th>\n",
       "      <td>/scratch/pbsjobs/axy327/dev/35a17e2f-5b12-4886...</td>\n",
       "      <td>STUBBLE BOSS RUPTURE OF OSPREY'S WIFE'S THORAC...</td>\n",
       "      <td>/data/data/intron/35a17e2f-5b12-4886-ad2c-c1aa...</td>\n",
       "    </tr>\n",
       "  </tbody>\n",
       "</table>\n",
       "</div>"
      ],
      "text/plain": [
       "                                                   0  \\\n",
       "0  /scratch/pbsjobs/axy327/dev/a25d5981-d814-4eef...   \n",
       "1  /scratch/pbsjobs/axy327/dev/35a17e2f-5b12-4886...   \n",
       "\n",
       "                                                   1  \\\n",
       "0                          CONSTRUCTION AND C TRIALS   \n",
       "1  STUBBLE BOSS RUPTURE OF OSPREY'S WIFE'S THORAC...   \n",
       "\n",
       "                                         audio_paths  \n",
       "0  /data/data/intron/a25d5981-d814-4eef-8637-cc35...  \n",
       "1  /data/data/intron/35a17e2f-5b12-4886-ad2c-c1aa...  "
      ]
     },
     "execution_count": 75,
     "metadata": {},
     "output_type": "execute_result"
    }
   ],
   "source": [
    "speech_brain_raw = pd.read_csv(\"../results/african-nlp-speechbrain-predictons\", header=None, delimiter=\"\t\")\n",
    "speech_brain_raw[\"audio_paths\"] = nemo_transducer_raw[0].apply(lambda x: x.replace(\"/scratch/pbsjobs/axy327/dev/\", \"/data/data/intron/\"))\n",
    "print(speech_brain_raw.shape)\n",
    "speech_brain_raw.head(2)"
   ]
  },
  {
   "cell_type": "code",
   "execution_count": 76,
   "id": "1c3a6c5c",
   "metadata": {},
   "outputs": [
    {
     "name": "stdout",
     "output_type": "stream",
     "text": [
      "(2872, 9)\n",
      "(1, 10)\n",
      "(0, 10)\n"
     ]
    }
   ],
   "source": [
    "speech_brain = transform_raw_df(speech_brain_raw, columns=columns, fmt=\"african_nlp\")\n",
    "speech_brain_clean = clean_and_compute_wer(speech_brain)"
   ]
  },
  {
   "cell_type": "code",
   "execution_count": 77,
   "id": "5baf64f6",
   "metadata": {},
   "outputs": [
    {
     "name": "stdout",
     "output_type": "stream",
     "text": [
      "1.3610988905098031\n",
      "0.976453580724285\n"
     ]
    }
   ],
   "source": [
    "print(speech_brain[\"wer\"].mean())\n",
    "print(speech_brain_clean[\"wer\"].mean())"
   ]
  },
  {
   "cell_type": "code",
   "execution_count": 78,
   "id": "bb10d23a",
   "metadata": {},
   "outputs": [],
   "source": [
    "model_id_or_path=\"speechbrain_crdnn_rnnlm_librispeech\"\n",
    "\n",
    "write_to_folder(model_id_or_path=model_id_or_path, \n",
    "                predictions_df=speech_brain, \n",
    "                output_dir=\"../results/raw\")\n",
    "\n",
    "write_to_folder(model_id_or_path=model_id_or_path, \n",
    "                predictions_df=speech_brain_clean,\n",
    "                output_dir=\"../results/normalized\")"
   ]
  },
  {
   "cell_type": "markdown",
   "id": "4b0d7e40",
   "metadata": {},
   "source": [
    "## AWS"
   ]
  },
  {
   "cell_type": "markdown",
   "id": "acd8cfd3",
   "metadata": {},
   "source": [
    "### Medical API (Primary Care)"
   ]
  },
  {
   "cell_type": "code",
   "execution_count": 79,
   "id": "5c9a5f4e",
   "metadata": {},
   "outputs": [
    {
     "name": "stdout",
     "output_type": "stream",
     "text": [
      "(3232, 15)\n"
     ]
    },
    {
     "data": {
      "text/html": [
       "<div>\n",
       "<style scoped>\n",
       "    .dataframe tbody tr th:only-of-type {\n",
       "        vertical-align: middle;\n",
       "    }\n",
       "\n",
       "    .dataframe tbody tr th {\n",
       "        vertical-align: top;\n",
       "    }\n",
       "\n",
       "    .dataframe thead th {\n",
       "        text-align: right;\n",
       "    }\n",
       "</style>\n",
       "<table border=\"1\" class=\"dataframe\">\n",
       "  <thead>\n",
       "    <tr style=\"text-align: right;\">\n",
       "      <th></th>\n",
       "      <th>idx</th>\n",
       "      <th>user_ids</th>\n",
       "      <th>accent</th>\n",
       "      <th>age_group</th>\n",
       "      <th>country</th>\n",
       "      <th>transcript</th>\n",
       "      <th>nchars</th>\n",
       "      <th>audio_ids</th>\n",
       "      <th>audio_paths</th>\n",
       "      <th>duration</th>\n",
       "      <th>origin</th>\n",
       "      <th>domain</th>\n",
       "      <th>split</th>\n",
       "      <th>predictions</th>\n",
       "      <th>wer</th>\n",
       "    </tr>\n",
       "  </thead>\n",
       "  <tbody>\n",
       "    <tr>\n",
       "      <th>0</th>\n",
       "      <td>72663</td>\n",
       "      <td>f559cb4f16bc465ea44b56a8d3b5513e</td>\n",
       "      <td>swahili</td>\n",
       "      <td>19-25</td>\n",
       "      <td>KE</td>\n",
       "      <td>Ensure the correct placement of the feeding tu...</td>\n",
       "      <td>206</td>\n",
       "      <td>29af500daee748498b3329352fbc170a</td>\n",
       "      <td>/AfriSpeech-100/dev/e809b58c-4f05-4754-b98c-fb...</td>\n",
       "      <td>16.421995</td>\n",
       "      <td>african</td>\n",
       "      <td>clinical</td>\n",
       "      <td>dev</td>\n",
       "      <td>ensure the correct placement of the feeding tu...</td>\n",
       "      <td>0.451613</td>\n",
       "    </tr>\n",
       "    <tr>\n",
       "      <th>1</th>\n",
       "      <td>153902</td>\n",
       "      <td>2be9bc423e70a24c703f8336e60af3f3</td>\n",
       "      <td>swahili</td>\n",
       "      <td>19-25</td>\n",
       "      <td>KE</td>\n",
       "      <td>Regardlessof how amyocyteis stimulated,however...</td>\n",
       "      <td>143</td>\n",
       "      <td>b87324a3c5ca065494f385e4f49e4b23</td>\n",
       "      <td>/AfriSpeech-100/dev/7ce31a48-f507-4344-bc49-96...</td>\n",
       "      <td>11.393991</td>\n",
       "      <td>african</td>\n",
       "      <td>clinical</td>\n",
       "      <td>dev</td>\n",
       "      <td>regardless of how a market is stimulated, howe...</td>\n",
       "      <td>0.555556</td>\n",
       "    </tr>\n",
       "  </tbody>\n",
       "</table>\n",
       "</div>"
      ],
      "text/plain": [
       "      idx                          user_ids   accent age_group country  \\\n",
       "0   72663  f559cb4f16bc465ea44b56a8d3b5513e  swahili     19-25      KE   \n",
       "1  153902  2be9bc423e70a24c703f8336e60af3f3  swahili     19-25      KE   \n",
       "\n",
       "                                          transcript  nchars  \\\n",
       "0  Ensure the correct placement of the feeding tu...     206   \n",
       "1  Regardlessof how amyocyteis stimulated,however...     143   \n",
       "\n",
       "                          audio_ids  \\\n",
       "0  29af500daee748498b3329352fbc170a   \n",
       "1  b87324a3c5ca065494f385e4f49e4b23   \n",
       "\n",
       "                                         audio_paths   duration   origin  \\\n",
       "0  /AfriSpeech-100/dev/e809b58c-4f05-4754-b98c-fb...  16.421995  african   \n",
       "1  /AfriSpeech-100/dev/7ce31a48-f507-4344-bc49-96...  11.393991  african   \n",
       "\n",
       "     domain split                                        predictions       wer  \n",
       "0  clinical   dev  ensure the correct placement of the feeding tu...  0.451613  \n",
       "1  clinical   dev  regardless of how a market is stimulated, howe...  0.555556  "
      ]
     },
     "execution_count": 79,
     "metadata": {},
     "output_type": "execute_result"
    }
   ],
   "source": [
    "aws_medical_raw = pd.read_csv(\"../results/intron-open-dev-aws-transcribe-medical-wer-0.5544-3232.csv\")\n",
    "print(aws_medical_raw.shape)\n",
    "aws_medical_raw.head(2)"
   ]
  },
  {
   "cell_type": "code",
   "execution_count": 80,
   "id": "c78fd449",
   "metadata": {},
   "outputs": [
    {
     "name": "stdout",
     "output_type": "stream",
     "text": [
      "(2872, 9)\n",
      "(1, 10)\n",
      "(0, 10)\n"
     ]
    }
   ],
   "source": [
    "aws_medical = transform_raw_df(aws_medical_raw, columns=columns, fmt=\"aws\")\n",
    "aws_medical_clean = clean_and_compute_wer(aws_medical)"
   ]
  },
  {
   "cell_type": "code",
   "execution_count": 81,
   "id": "81032544",
   "metadata": {},
   "outputs": [
    {
     "name": "stdout",
     "output_type": "stream",
     "text": [
      "0.6347359704426636\n",
      "0.5358062344446374\n"
     ]
    }
   ],
   "source": [
    "print(aws_medical[\"wer\"].mean())\n",
    "print(aws_medical_clean[\"wer\"].mean())"
   ]
  },
  {
   "cell_type": "code",
   "execution_count": 82,
   "id": "6c7c4525",
   "metadata": {},
   "outputs": [],
   "source": [
    "model_id_or_path=\"amazon_aws_transcribe_medical_api_primary_care\"\n",
    "\n",
    "write_to_folder(model_id_or_path=model_id_or_path, \n",
    "                predictions_df=aws_medical, \n",
    "                output_dir=\"../results/raw\")\n",
    "\n",
    "write_to_folder(model_id_or_path=model_id_or_path, \n",
    "                predictions_df=aws_medical_clean,\n",
    "                output_dir=\"../results/normalized\")"
   ]
  },
  {
   "cell_type": "markdown",
   "id": "55cbafa2",
   "metadata": {},
   "source": [
    "### Non-medical API"
   ]
  },
  {
   "cell_type": "code",
   "execution_count": 83,
   "id": "bf9efad1",
   "metadata": {},
   "outputs": [
    {
     "name": "stdout",
     "output_type": "stream",
     "text": [
      "(3232, 15)\n"
     ]
    },
    {
     "data": {
      "text/html": [
       "<div>\n",
       "<style scoped>\n",
       "    .dataframe tbody tr th:only-of-type {\n",
       "        vertical-align: middle;\n",
       "    }\n",
       "\n",
       "    .dataframe tbody tr th {\n",
       "        vertical-align: top;\n",
       "    }\n",
       "\n",
       "    .dataframe thead th {\n",
       "        text-align: right;\n",
       "    }\n",
       "</style>\n",
       "<table border=\"1\" class=\"dataframe\">\n",
       "  <thead>\n",
       "    <tr style=\"text-align: right;\">\n",
       "      <th></th>\n",
       "      <th>idx</th>\n",
       "      <th>user_ids</th>\n",
       "      <th>accent</th>\n",
       "      <th>age_group</th>\n",
       "      <th>country</th>\n",
       "      <th>transcript</th>\n",
       "      <th>nchars</th>\n",
       "      <th>audio_ids</th>\n",
       "      <th>audio_paths</th>\n",
       "      <th>duration</th>\n",
       "      <th>origin</th>\n",
       "      <th>domain</th>\n",
       "      <th>split</th>\n",
       "      <th>predictions</th>\n",
       "      <th>wer</th>\n",
       "    </tr>\n",
       "  </thead>\n",
       "  <tbody>\n",
       "    <tr>\n",
       "      <th>0</th>\n",
       "      <td>72663</td>\n",
       "      <td>f559cb4f16bc465ea44b56a8d3b5513e</td>\n",
       "      <td>swahili</td>\n",
       "      <td>19-25</td>\n",
       "      <td>KE</td>\n",
       "      <td>Ensure the correct placement of the feeding tu...</td>\n",
       "      <td>206</td>\n",
       "      <td>29af500daee748498b3329352fbc170a</td>\n",
       "      <td>/AfriSpeech-100/dev/e809b58c-4f05-4754-b98c-fb...</td>\n",
       "      <td>16.421995</td>\n",
       "      <td>african</td>\n",
       "      <td>clinical</td>\n",
       "      <td>dev</td>\n",
       "      <td>ensure the correct placement of the feeding tu...</td>\n",
       "      <td>0.516129</td>\n",
       "    </tr>\n",
       "    <tr>\n",
       "      <th>1</th>\n",
       "      <td>153902</td>\n",
       "      <td>2be9bc423e70a24c703f8336e60af3f3</td>\n",
       "      <td>swahili</td>\n",
       "      <td>19-25</td>\n",
       "      <td>KE</td>\n",
       "      <td>Regardlessof how amyocyteis stimulated,however...</td>\n",
       "      <td>143</td>\n",
       "      <td>b87324a3c5ca065494f385e4f49e4b23</td>\n",
       "      <td>/AfriSpeech-100/dev/7ce31a48-f507-4344-bc49-96...</td>\n",
       "      <td>11.393991</td>\n",
       "      <td>african</td>\n",
       "      <td>clinical</td>\n",
       "      <td>dev</td>\n",
       "      <td>regardless of how a market is stimulated, howe...</td>\n",
       "      <td>0.555556</td>\n",
       "    </tr>\n",
       "  </tbody>\n",
       "</table>\n",
       "</div>"
      ],
      "text/plain": [
       "      idx                          user_ids   accent age_group country  \\\n",
       "0   72663  f559cb4f16bc465ea44b56a8d3b5513e  swahili     19-25      KE   \n",
       "1  153902  2be9bc423e70a24c703f8336e60af3f3  swahili     19-25      KE   \n",
       "\n",
       "                                          transcript  nchars  \\\n",
       "0  Ensure the correct placement of the feeding tu...     206   \n",
       "1  Regardlessof how amyocyteis stimulated,however...     143   \n",
       "\n",
       "                          audio_ids  \\\n",
       "0  29af500daee748498b3329352fbc170a   \n",
       "1  b87324a3c5ca065494f385e4f49e4b23   \n",
       "\n",
       "                                         audio_paths   duration   origin  \\\n",
       "0  /AfriSpeech-100/dev/e809b58c-4f05-4754-b98c-fb...  16.421995  african   \n",
       "1  /AfriSpeech-100/dev/7ce31a48-f507-4344-bc49-96...  11.393991  african   \n",
       "\n",
       "     domain split                                        predictions       wer  \n",
       "0  clinical   dev  ensure the correct placement of the feeding tu...  0.516129  \n",
       "1  clinical   dev  regardless of how a market is stimulated, howe...  0.555556  "
      ]
     },
     "execution_count": 83,
     "metadata": {},
     "output_type": "execute_result"
    }
   ],
   "source": [
    "aws_raw = pd.read_csv(\"../results/intron-open-dev-aws-transcribe-wer-0.5212-3232.csv\")\n",
    "print(aws_raw.shape)\n",
    "aws_raw.head(2)"
   ]
  },
  {
   "cell_type": "code",
   "execution_count": 84,
   "id": "59af20ba",
   "metadata": {},
   "outputs": [
    {
     "name": "stdout",
     "output_type": "stream",
     "text": [
      "(2872, 9)\n",
      "(7, 10)\n",
      "(0, 10)\n"
     ]
    }
   ],
   "source": [
    "aws = transform_raw_df(aws_raw, columns=columns, fmt=\"aws\")\n",
    "aws_clean = clean_and_compute_wer(aws)"
   ]
  },
  {
   "cell_type": "code",
   "execution_count": 85,
   "id": "1e7a4a3a",
   "metadata": {},
   "outputs": [
    {
     "name": "stdout",
     "output_type": "stream",
     "text": [
      "0.5992453253269371\n",
      "0.49882406211336133\n"
     ]
    }
   ],
   "source": [
    "print(aws[\"wer\"].mean())\n",
    "print(aws_clean[\"wer\"].mean())"
   ]
  },
  {
   "cell_type": "code",
   "execution_count": 86,
   "id": "5e3fb466",
   "metadata": {},
   "outputs": [],
   "source": [
    "model_id_or_path=\"amazon_aws_transcribe_api\"\n",
    "\n",
    "write_to_folder(model_id_or_path=model_id_or_path, \n",
    "                predictions_df=aws, \n",
    "                output_dir=\"../results/raw\")\n",
    "\n",
    "write_to_folder(model_id_or_path=model_id_or_path, \n",
    "                predictions_df=aws_clean,\n",
    "                output_dir=\"../results/normalized\")"
   ]
  },
  {
   "cell_type": "markdown",
   "id": "dec89b6c",
   "metadata": {},
   "source": [
    "## Google"
   ]
  },
  {
   "cell_type": "markdown",
   "id": "f00299fe",
   "metadata": {},
   "source": [
    "### GCP Speech Non-medical API"
   ]
  },
  {
   "cell_type": "code",
   "execution_count": 87,
   "id": "658319c6",
   "metadata": {},
   "outputs": [
    {
     "name": "stdout",
     "output_type": "stream",
     "text": [
      "(3232, 9)\n"
     ]
    },
    {
     "data": {
      "text/html": [
       "<div>\n",
       "<style scoped>\n",
       "    .dataframe tbody tr th:only-of-type {\n",
       "        vertical-align: middle;\n",
       "    }\n",
       "\n",
       "    .dataframe tbody tr th {\n",
       "        vertical-align: top;\n",
       "    }\n",
       "\n",
       "    .dataframe thead th {\n",
       "        text-align: right;\n",
       "    }\n",
       "</style>\n",
       "<table border=\"1\" class=\"dataframe\">\n",
       "  <thead>\n",
       "    <tr style=\"text-align: right;\">\n",
       "      <th></th>\n",
       "      <th>Unnamed: 0</th>\n",
       "      <th>idx</th>\n",
       "      <th>user_ids</th>\n",
       "      <th>transcript</th>\n",
       "      <th>gcp</th>\n",
       "      <th>wer</th>\n",
       "      <th>cleanup_references</th>\n",
       "      <th>cleanup_gcp</th>\n",
       "      <th>wer_cleanup</th>\n",
       "    </tr>\n",
       "  </thead>\n",
       "  <tbody>\n",
       "    <tr>\n",
       "      <th>0</th>\n",
       "      <td>0</td>\n",
       "      <td>72663</td>\n",
       "      <td>f559cb4f16bc465ea44b56a8d3b5513e</td>\n",
       "      <td>Ensure the correct placement of the feeding tu...</td>\n",
       "      <td>cancel the correct placement of the feeding tu...</td>\n",
       "      <td>0.580645</td>\n",
       "      <td>ensure the correct placement of the feeding tu...</td>\n",
       "      <td>cancel the correct placement of the feeding tu...</td>\n",
       "      <td>0.580645</td>\n",
       "    </tr>\n",
       "    <tr>\n",
       "      <th>1</th>\n",
       "      <td>1</td>\n",
       "      <td>153902</td>\n",
       "      <td>2be9bc423e70a24c703f8336e60af3f3</td>\n",
       "      <td>Regardlessof how amyocyteis stimulated,however...</td>\n",
       "      <td>regardless of how American cheese stimulated a...</td>\n",
       "      <td>0.722222</td>\n",
       "      <td>regardlessof how amyocyteis stimulated however...</td>\n",
       "      <td>regardless of how american cheese stimulated a...</td>\n",
       "      <td>0.550000</td>\n",
       "    </tr>\n",
       "  </tbody>\n",
       "</table>\n",
       "</div>"
      ],
      "text/plain": [
       "   Unnamed: 0     idx                          user_ids  \\\n",
       "0           0   72663  f559cb4f16bc465ea44b56a8d3b5513e   \n",
       "1           1  153902  2be9bc423e70a24c703f8336e60af3f3   \n",
       "\n",
       "                                          transcript  \\\n",
       "0  Ensure the correct placement of the feeding tu...   \n",
       "1  Regardlessof how amyocyteis stimulated,however...   \n",
       "\n",
       "                                                 gcp       wer  \\\n",
       "0  cancel the correct placement of the feeding tu...  0.580645   \n",
       "1  regardless of how American cheese stimulated a...  0.722222   \n",
       "\n",
       "                                  cleanup_references  \\\n",
       "0  ensure the correct placement of the feeding tu...   \n",
       "1  regardlessof how amyocyteis stimulated however...   \n",
       "\n",
       "                                         cleanup_gcp  wer_cleanup  \n",
       "0  cancel the correct placement of the feeding tu...     0.580645  \n",
       "1  regardless of how american cheese stimulated a...     0.550000  "
      ]
     },
     "execution_count": 87,
     "metadata": {},
     "output_type": "execute_result"
    }
   ],
   "source": [
    "gcp_raw = pd.read_csv(\"../results/gcp_wer_asr_dev.csv\")\n",
    "print(gcp_raw.shape)\n",
    "gcp_raw.head(2)"
   ]
  },
  {
   "cell_type": "code",
   "execution_count": 88,
   "id": "a0f83735",
   "metadata": {},
   "outputs": [
    {
     "name": "stdout",
     "output_type": "stream",
     "text": [
      "(2872, 9)\n",
      "(85, 10)\n",
      "(0, 10)\n"
     ]
    }
   ],
   "source": [
    "gcp = transform_raw_df(gcp_raw, columns=columns, fmt=\"gcp\")\n",
    "gcp_clean = clean_and_compute_wer(gcp)"
   ]
  },
  {
   "cell_type": "code",
   "execution_count": 89,
   "id": "8fd2aebb",
   "metadata": {},
   "outputs": [
    {
     "name": "stdout",
     "output_type": "stream",
     "text": [
      "0.6566726487334155\n",
      "0.5993110736614581\n"
     ]
    }
   ],
   "source": [
    "print(gcp[\"wer\"].mean())\n",
    "print(gcp_clean[\"wer\"].mean())"
   ]
  },
  {
   "cell_type": "code",
   "execution_count": 90,
   "id": "5356aa70",
   "metadata": {},
   "outputs": [],
   "source": [
    "model_id_or_path=\"google_gcp_speech_api\"\n",
    "\n",
    "write_to_folder(model_id_or_path=model_id_or_path, \n",
    "                predictions_df=gcp, \n",
    "                output_dir=\"../results/raw\")\n",
    "\n",
    "write_to_folder(model_id_or_path=model_id_or_path, \n",
    "                predictions_df=gcp_clean,\n",
    "                output_dir=\"../results/normalized\")"
   ]
  },
  {
   "cell_type": "markdown",
   "id": "4981a79a",
   "metadata": {},
   "source": [
    "## Microsoft"
   ]
  },
  {
   "cell_type": "markdown",
   "id": "e85b841f",
   "metadata": {},
   "source": [
    "### Azure"
   ]
  },
  {
   "cell_type": "code",
   "execution_count": 91,
   "id": "8885447b",
   "metadata": {},
   "outputs": [
    {
     "name": "stdout",
     "output_type": "stream",
     "text": [
      "(2883, 16)\n"
     ]
    },
    {
     "data": {
      "text/html": [
       "<div>\n",
       "<style scoped>\n",
       "    .dataframe tbody tr th:only-of-type {\n",
       "        vertical-align: middle;\n",
       "    }\n",
       "\n",
       "    .dataframe tbody tr th {\n",
       "        vertical-align: top;\n",
       "    }\n",
       "\n",
       "    .dataframe thead th {\n",
       "        text-align: right;\n",
       "    }\n",
       "</style>\n",
       "<table border=\"1\" class=\"dataframe\">\n",
       "  <thead>\n",
       "    <tr style=\"text-align: right;\">\n",
       "      <th></th>\n",
       "      <th>idx</th>\n",
       "      <th>user_ids</th>\n",
       "      <th>accent</th>\n",
       "      <th>age_group</th>\n",
       "      <th>country</th>\n",
       "      <th>transcript</th>\n",
       "      <th>nchars</th>\n",
       "      <th>audio_ids</th>\n",
       "      <th>audio_paths</th>\n",
       "      <th>duration</th>\n",
       "      <th>origin</th>\n",
       "      <th>domain</th>\n",
       "      <th>split</th>\n",
       "      <th>predictions_raw</th>\n",
       "      <th>predictions</th>\n",
       "      <th>wer</th>\n",
       "    </tr>\n",
       "  </thead>\n",
       "  <tbody>\n",
       "    <tr>\n",
       "      <th>0</th>\n",
       "      <td>72663</td>\n",
       "      <td>f559cb4f16bc465ea44b56a8d3b5513e</td>\n",
       "      <td>swahili</td>\n",
       "      <td>19-25</td>\n",
       "      <td>KE</td>\n",
       "      <td>Ensure the correct placement of the feeding tu...</td>\n",
       "      <td>206</td>\n",
       "      <td>29af500daee748498b3329352fbc170a</td>\n",
       "      <td>/AfriSpeech-100/dev/e809b58c-4f05-4754-b98c-fb...</td>\n",
       "      <td>16.421995</td>\n",
       "      <td>african</td>\n",
       "      <td>clinical</td>\n",
       "      <td>dev</td>\n",
       "      <td>Ensure the correct placement of the feeding tu...</td>\n",
       "      <td>ensure the correct placement of the feeding tu...</td>\n",
       "      <td>0.290323</td>\n",
       "    </tr>\n",
       "    <tr>\n",
       "      <th>1</th>\n",
       "      <td>153902</td>\n",
       "      <td>2be9bc423e70a24c703f8336e60af3f3</td>\n",
       "      <td>swahili</td>\n",
       "      <td>19-25</td>\n",
       "      <td>KE</td>\n",
       "      <td>Regardlessof how amyocyteis stimulated,however...</td>\n",
       "      <td>143</td>\n",
       "      <td>b87324a3c5ca065494f385e4f49e4b23</td>\n",
       "      <td>/AfriSpeech-100/dev/7ce31a48-f507-4344-bc49-96...</td>\n",
       "      <td>11.393991</td>\n",
       "      <td>african</td>\n",
       "      <td>clinical</td>\n",
       "      <td>dev</td>\n",
       "      <td>Regardless of how America is stimulated, howev...</td>\n",
       "      <td>regardless of how america is stimulated, howev...</td>\n",
       "      <td>0.500000</td>\n",
       "    </tr>\n",
       "  </tbody>\n",
       "</table>\n",
       "</div>"
      ],
      "text/plain": [
       "      idx                          user_ids   accent age_group country  \\\n",
       "0   72663  f559cb4f16bc465ea44b56a8d3b5513e  swahili     19-25      KE   \n",
       "1  153902  2be9bc423e70a24c703f8336e60af3f3  swahili     19-25      KE   \n",
       "\n",
       "                                          transcript  nchars  \\\n",
       "0  Ensure the correct placement of the feeding tu...     206   \n",
       "1  Regardlessof how amyocyteis stimulated,however...     143   \n",
       "\n",
       "                          audio_ids  \\\n",
       "0  29af500daee748498b3329352fbc170a   \n",
       "1  b87324a3c5ca065494f385e4f49e4b23   \n",
       "\n",
       "                                         audio_paths   duration   origin  \\\n",
       "0  /AfriSpeech-100/dev/e809b58c-4f05-4754-b98c-fb...  16.421995  african   \n",
       "1  /AfriSpeech-100/dev/7ce31a48-f507-4344-bc49-96...  11.393991  african   \n",
       "\n",
       "     domain split                                    predictions_raw  \\\n",
       "0  clinical   dev  Ensure the correct placement of the feeding tu...   \n",
       "1  clinical   dev  Regardless of how America is stimulated, howev...   \n",
       "\n",
       "                                         predictions       wer  \n",
       "0  ensure the correct placement of the feeding tu...  0.290323  \n",
       "1  regardless of how america is stimulated, howev...  0.500000  "
      ]
     },
     "execution_count": 91,
     "metadata": {},
     "output_type": "execute_result"
    }
   ],
   "source": [
    "azure_raw = pd.read_csv(\"../results/intron-open-dev-azure-transcribe-wer-0.5038-2883.csv\")\n",
    "print(azure_raw.shape)\n",
    "azure_raw.head(2)"
   ]
  },
  {
   "cell_type": "code",
   "execution_count": 92,
   "id": "f626b961",
   "metadata": {},
   "outputs": [
    {
     "name": "stdout",
     "output_type": "stream",
     "text": [
      "(2872, 9)\n",
      "(501, 10)\n",
      "(0, 10)\n"
     ]
    }
   ],
   "source": [
    "azure = transform_raw_df(azure_raw, columns=columns, fmt=\"azure\")\n",
    "azure_clean = clean_and_compute_wer(azure)"
   ]
  },
  {
   "cell_type": "code",
   "execution_count": 93,
   "id": "71957bd2",
   "metadata": {},
   "outputs": [
    {
     "name": "stdout",
     "output_type": "stream",
     "text": [
      "0.5948180547456207\n",
      "0.5169678167305342\n"
     ]
    }
   ],
   "source": [
    "print(azure[\"wer\"].mean())\n",
    "print(azure_clean[\"wer\"].mean())"
   ]
  },
  {
   "cell_type": "code",
   "execution_count": 94,
   "id": "cba9e40f",
   "metadata": {},
   "outputs": [],
   "source": [
    "model_id_or_path=\"microsoft_azure_speech_api\"\n",
    "\n",
    "write_to_folder(model_id_or_path=model_id_or_path, \n",
    "                predictions_df=azure, \n",
    "                output_dir=\"../results/raw\")\n",
    "\n",
    "write_to_folder(model_id_or_path=model_id_or_path, \n",
    "                predictions_df=azure_clean,\n",
    "                output_dir=\"../results/normalized\")"
   ]
  },
  {
   "cell_type": "markdown",
   "id": "d8df0b6d",
   "metadata": {},
   "source": [
    "### WavLm-libri-clean-100h-large"
   ]
  },
  {
   "cell_type": "code",
   "execution_count": 95,
   "id": "a08290ad",
   "metadata": {},
   "outputs": [
    {
     "name": "stdout",
     "output_type": "stream",
     "text": [
      "(3232, 7)\n"
     ]
    },
    {
     "data": {
      "text/html": [
       "<div>\n",
       "<style scoped>\n",
       "    .dataframe tbody tr th:only-of-type {\n",
       "        vertical-align: middle;\n",
       "    }\n",
       "\n",
       "    .dataframe tbody tr th {\n",
       "        vertical-align: top;\n",
       "    }\n",
       "\n",
       "    .dataframe thead th {\n",
       "        text-align: right;\n",
       "    }\n",
       "</style>\n",
       "<table border=\"1\" class=\"dataframe\">\n",
       "  <thead>\n",
       "    <tr style=\"text-align: right;\">\n",
       "      <th></th>\n",
       "      <th>audio_path</th>\n",
       "      <th>text</th>\n",
       "      <th>reference</th>\n",
       "      <th>predictions</th>\n",
       "      <th>predictions_raw</th>\n",
       "      <th>wer</th>\n",
       "      <th>accent</th>\n",
       "    </tr>\n",
       "  </thead>\n",
       "  <tbody>\n",
       "    <tr>\n",
       "      <th>0</th>\n",
       "      <td>/data/data/intron/e809b58c-4f05-4754-b98c-fbf2...</td>\n",
       "      <td>Ensure the correct placement of the feeding tu...</td>\n",
       "      <td>ensure the correct placement of the feeding tu...</td>\n",
       "      <td>enshured the corect placement of the feiding t...</td>\n",
       "      <td>enshured the corect placement of the feiding t...</td>\n",
       "      <td>0.806452</td>\n",
       "      <td>swahili</td>\n",
       "    </tr>\n",
       "    <tr>\n",
       "      <th>1</th>\n",
       "      <td>/data/data/intron/7ce31a48-f507-4344-bc49-96de...</td>\n",
       "      <td>Regardlessof how amyocyteis stimulated,however...</td>\n",
       "      <td>regardlessof how amyocyteis stimulated,however...</td>\n",
       "      <td>regadless of how amocety stimulated however th...</td>\n",
       "      <td>regadless of how amocety stimulated however th...</td>\n",
       "      <td>0.666667</td>\n",
       "      <td>swahili</td>\n",
       "    </tr>\n",
       "  </tbody>\n",
       "</table>\n",
       "</div>"
      ],
      "text/plain": [
       "                                          audio_path  \\\n",
       "0  /data/data/intron/e809b58c-4f05-4754-b98c-fbf2...   \n",
       "1  /data/data/intron/7ce31a48-f507-4344-bc49-96de...   \n",
       "\n",
       "                                                text  \\\n",
       "0  Ensure the correct placement of the feeding tu...   \n",
       "1  Regardlessof how amyocyteis stimulated,however...   \n",
       "\n",
       "                                           reference  \\\n",
       "0  ensure the correct placement of the feeding tu...   \n",
       "1  regardlessof how amyocyteis stimulated,however...   \n",
       "\n",
       "                                         predictions  \\\n",
       "0  enshured the corect placement of the feiding t...   \n",
       "1  regadless of how amocety stimulated however th...   \n",
       "\n",
       "                                     predictions_raw       wer   accent  \n",
       "0  enshured the corect placement of the feiding t...  0.806452  swahili  \n",
       "1  regadless of how amocety stimulated however th...  0.666667  swahili  "
      ]
     },
     "execution_count": 95,
     "metadata": {},
     "output_type": "execute_result"
    }
   ],
   "source": [
    "wavlm_libri_clean_100h_large_raw = pd.read_csv(\"../results/intron-open-dev-ful-patrickvonplaten-wavlm-libri-clean-100h-large-wer-0.6938-3232.csv\")\n",
    "print(wavlm_libri_clean_100h_large_raw.shape)\n",
    "wavlm_libri_clean_100h_large_raw.head(2)"
   ]
  },
  {
   "cell_type": "code",
   "execution_count": 96,
   "id": "7576590c",
   "metadata": {},
   "outputs": [
    {
     "name": "stdout",
     "output_type": "stream",
     "text": [
      "(2877, 9)\n",
      "(1, 10)\n",
      "(0, 10)\n"
     ]
    }
   ],
   "source": [
    "wavlm_libri_clean_100h_large = transform_raw_df(wavlm_libri_clean_100h_large_raw, columns=columns, fmt=\"wav2vec2\")\n",
    "wavlm_libri_clean_100h_large_clean = clean_and_compute_wer(wavlm_libri_clean_100h_large)"
   ]
  },
  {
   "cell_type": "code",
   "execution_count": 97,
   "id": "f921646c",
   "metadata": {},
   "outputs": [
    {
     "name": "stdout",
     "output_type": "stream",
     "text": [
      "0.8328127595669096\n",
      "0.7692137602897249\n"
     ]
    }
   ],
   "source": [
    "print(wavlm_libri_clean_100h_large[\"wer\"].mean())\n",
    "print(wavlm_libri_clean_100h_large_clean[\"wer\"].mean())"
   ]
  },
  {
   "cell_type": "code",
   "execution_count": 98,
   "id": "eb17d382",
   "metadata": {},
   "outputs": [],
   "source": [
    "model_id_or_path=\"microsoft_wavlm_libri_clean_100h_large\"\n",
    "\n",
    "write_to_folder(model_id_or_path=model_id_or_path, \n",
    "                predictions_df=wavlm_libri_clean_100h_large, \n",
    "                output_dir=\"../results/raw\")\n",
    "\n",
    "write_to_folder(model_id_or_path=model_id_or_path, \n",
    "                predictions_df=wavlm_libri_clean_100h_large_clean,\n",
    "                output_dir=\"../results/normalized\")"
   ]
  },
  {
   "cell_type": "markdown",
   "id": "987da7a8",
   "metadata": {},
   "source": [
    "### WavLm-libri-clean-100h-base-plus"
   ]
  },
  {
   "cell_type": "code",
   "execution_count": 99,
   "id": "b8ced987",
   "metadata": {},
   "outputs": [
    {
     "name": "stdout",
     "output_type": "stream",
     "text": [
      "(3232, 9)\n"
     ]
    },
    {
     "data": {
      "text/html": [
       "<div>\n",
       "<style scoped>\n",
       "    .dataframe tbody tr th:only-of-type {\n",
       "        vertical-align: middle;\n",
       "    }\n",
       "\n",
       "    .dataframe tbody tr th {\n",
       "        vertical-align: top;\n",
       "    }\n",
       "\n",
       "    .dataframe thead th {\n",
       "        text-align: right;\n",
       "    }\n",
       "</style>\n",
       "<table border=\"1\" class=\"dataframe\">\n",
       "  <thead>\n",
       "    <tr style=\"text-align: right;\">\n",
       "      <th></th>\n",
       "      <th>Unnamed: 0</th>\n",
       "      <th>idx</th>\n",
       "      <th>user_ids</th>\n",
       "      <th>transcript</th>\n",
       "      <th>wavLM</th>\n",
       "      <th>wer</th>\n",
       "      <th>cleanup_references</th>\n",
       "      <th>cleanup_wavLM</th>\n",
       "      <th>wer_cleanup</th>\n",
       "    </tr>\n",
       "  </thead>\n",
       "  <tbody>\n",
       "    <tr>\n",
       "      <th>0</th>\n",
       "      <td>0</td>\n",
       "      <td>72663</td>\n",
       "      <td>f559cb4f16bc465ea44b56a8d3b5513e</td>\n",
       "      <td>Ensure the correct placement of the feeding tu...</td>\n",
       "      <td>ensu the correct placement of the fiding tube ...</td>\n",
       "      <td>0.903226</td>\n",
       "      <td>ensure the correct placement of the feeding tu...</td>\n",
       "      <td>ensu the correct placement of the fiding tube ...</td>\n",
       "      <td>0.83871</td>\n",
       "    </tr>\n",
       "    <tr>\n",
       "      <th>1</th>\n",
       "      <td>1</td>\n",
       "      <td>153902</td>\n",
       "      <td>2be9bc423e70a24c703f8336e60af3f3</td>\n",
       "      <td>Regardlessof how amyocyteis stimulated,however...</td>\n",
       "      <td>regardless of how amuketisstimulated however t...</td>\n",
       "      <td>0.722222</td>\n",
       "      <td>regardlessof how amyocyteis stimulated however...</td>\n",
       "      <td>regardless of how amuketisstimulated however t...</td>\n",
       "      <td>0.60000</td>\n",
       "    </tr>\n",
       "  </tbody>\n",
       "</table>\n",
       "</div>"
      ],
      "text/plain": [
       "   Unnamed: 0     idx                          user_ids  \\\n",
       "0           0   72663  f559cb4f16bc465ea44b56a8d3b5513e   \n",
       "1           1  153902  2be9bc423e70a24c703f8336e60af3f3   \n",
       "\n",
       "                                          transcript  \\\n",
       "0  Ensure the correct placement of the feeding tu...   \n",
       "1  Regardlessof how amyocyteis stimulated,however...   \n",
       "\n",
       "                                               wavLM       wer  \\\n",
       "0  ensu the correct placement of the fiding tube ...  0.903226   \n",
       "1  regardless of how amuketisstimulated however t...  0.722222   \n",
       "\n",
       "                                  cleanup_references  \\\n",
       "0  ensure the correct placement of the feeding tu...   \n",
       "1  regardlessof how amyocyteis stimulated however...   \n",
       "\n",
       "                                       cleanup_wavLM  wer_cleanup  \n",
       "0  ensu the correct placement of the fiding tube ...      0.83871  \n",
       "1  regardless of how amuketisstimulated however t...      0.60000  "
      ]
     },
     "execution_count": 99,
     "metadata": {},
     "output_type": "execute_result"
    }
   ],
   "source": [
    "wavlm_libri_clean_100h_base_raw = pd.read_csv(\"../results/wavLM_wer_asr_dev.csv\")\n",
    "print(wavlm_libri_clean_100h_base_raw.shape)\n",
    "wavlm_libri_clean_100h_base_raw.head(2)"
   ]
  },
  {
   "cell_type": "code",
   "execution_count": 100,
   "id": "5530471e",
   "metadata": {},
   "outputs": [
    {
     "name": "stdout",
     "output_type": "stream",
     "text": [
      "(2872, 9)\n",
      "(2, 10)\n",
      "(0, 10)\n"
     ]
    }
   ],
   "source": [
    "wavlm_libri_clean_100h_base = transform_raw_df(wavlm_libri_clean_100h_base_raw, columns=columns, fmt=\"wavLM\")\n",
    "wavlm_libri_clean_100h_base_clean = clean_and_compute_wer(wavlm_libri_clean_100h_base)"
   ]
  },
  {
   "cell_type": "code",
   "execution_count": 101,
   "id": "308df245",
   "metadata": {},
   "outputs": [
    {
     "name": "stdout",
     "output_type": "stream",
     "text": [
      "0.9022293171522732\n",
      "0.8549641714400352\n"
     ]
    }
   ],
   "source": [
    "print(wavlm_libri_clean_100h_base[\"wer\"].mean())\n",
    "print(wavlm_libri_clean_100h_base_clean[\"wer\"].mean())"
   ]
  },
  {
   "cell_type": "code",
   "execution_count": 102,
   "id": "ae149961",
   "metadata": {},
   "outputs": [],
   "source": [
    "model_id_or_path=\"microsoft_wavlm_libri_clean_100h_base\"\n",
    "\n",
    "write_to_folder(model_id_or_path=model_id_or_path, \n",
    "                predictions_df=wavlm_libri_clean_100h_base, \n",
    "                output_dir=\"../results/raw\")\n",
    "\n",
    "write_to_folder(model_id_or_path=model_id_or_path, \n",
    "                predictions_df=wavlm_libri_clean_100h_base_clean,\n",
    "                output_dir=\"../results/normalized\")"
   ]
  },
  {
   "cell_type": "markdown",
   "id": "f319bee4",
   "metadata": {},
   "source": [
    "## Facebook"
   ]
  },
  {
   "cell_type": "markdown",
   "id": "9d42c5db",
   "metadata": {},
   "source": [
    "### Wav2vec2-large-xlsr-53-english"
   ]
  },
  {
   "cell_type": "code",
   "execution_count": 103,
   "id": "042c932b",
   "metadata": {},
   "outputs": [
    {
     "name": "stdout",
     "output_type": "stream",
     "text": [
      "(3232, 7)\n"
     ]
    },
    {
     "data": {
      "text/html": [
       "<div>\n",
       "<style scoped>\n",
       "    .dataframe tbody tr th:only-of-type {\n",
       "        vertical-align: middle;\n",
       "    }\n",
       "\n",
       "    .dataframe tbody tr th {\n",
       "        vertical-align: top;\n",
       "    }\n",
       "\n",
       "    .dataframe thead th {\n",
       "        text-align: right;\n",
       "    }\n",
       "</style>\n",
       "<table border=\"1\" class=\"dataframe\">\n",
       "  <thead>\n",
       "    <tr style=\"text-align: right;\">\n",
       "      <th></th>\n",
       "      <th>audio_path</th>\n",
       "      <th>text</th>\n",
       "      <th>reference</th>\n",
       "      <th>predictions</th>\n",
       "      <th>predictions_raw</th>\n",
       "      <th>wer</th>\n",
       "      <th>accent</th>\n",
       "    </tr>\n",
       "  </thead>\n",
       "  <tbody>\n",
       "    <tr>\n",
       "      <th>0</th>\n",
       "      <td>/data/data/intron/e809b58c-4f05-4754-b98c-fbf2...</td>\n",
       "      <td>Ensure the correct placement of the feeding tu...</td>\n",
       "      <td>ensure the correct placement of the feeding tu...</td>\n",
       "      <td>ensure the correct replacement of the feeding ...</td>\n",
       "      <td>ensure the correct replacement of the feeding ...</td>\n",
       "      <td>0.709677</td>\n",
       "      <td>swahili</td>\n",
       "    </tr>\n",
       "    <tr>\n",
       "      <th>1</th>\n",
       "      <td>/data/data/intron/7ce31a48-f507-4344-bc49-96de...</td>\n",
       "      <td>Regardlessof how amyocyteis stimulated,however...</td>\n",
       "      <td>regardlessof how amyocyteis stimulated,however...</td>\n",
       "      <td>regardless of how amerchetis stimulated howeve...</td>\n",
       "      <td>regardless of how amerchetis stimulated howeve...</td>\n",
       "      <td>0.611111</td>\n",
       "      <td>swahili</td>\n",
       "    </tr>\n",
       "  </tbody>\n",
       "</table>\n",
       "</div>"
      ],
      "text/plain": [
       "                                          audio_path  \\\n",
       "0  /data/data/intron/e809b58c-4f05-4754-b98c-fbf2...   \n",
       "1  /data/data/intron/7ce31a48-f507-4344-bc49-96de...   \n",
       "\n",
       "                                                text  \\\n",
       "0  Ensure the correct placement of the feeding tu...   \n",
       "1  Regardlessof how amyocyteis stimulated,however...   \n",
       "\n",
       "                                           reference  \\\n",
       "0  ensure the correct placement of the feeding tu...   \n",
       "1  regardlessof how amyocyteis stimulated,however...   \n",
       "\n",
       "                                         predictions  \\\n",
       "0  ensure the correct replacement of the feeding ...   \n",
       "1  regardless of how amerchetis stimulated howeve...   \n",
       "\n",
       "                                     predictions_raw       wer   accent  \n",
       "0  ensure the correct replacement of the feeding ...  0.709677  swahili  \n",
       "1  regardless of how amerchetis stimulated howeve...  0.611111  swahili  "
      ]
     },
     "execution_count": 103,
     "metadata": {},
     "output_type": "execute_result"
    }
   ],
   "source": [
    "wav2vec2_large_xlsr_53_english_raw = pd.read_csv(\"../results/intron-open-dev-ful-jonatasgrosman-wav2vec2-large-xlsr-53-english-wer-0.5606-3232.csv\")\n",
    "print(wav2vec2_large_xlsr_53_english_raw.shape)\n",
    "wav2vec2_large_xlsr_53_english_raw.head(2)"
   ]
  },
  {
   "cell_type": "code",
   "execution_count": 104,
   "id": "96e4be08",
   "metadata": {},
   "outputs": [
    {
     "name": "stdout",
     "output_type": "stream",
     "text": [
      "(2877, 9)\n",
      "(1, 10)\n",
      "(0, 10)\n"
     ]
    }
   ],
   "source": [
    "wav2vec2_large_xlsr_53_english = transform_raw_df(wav2vec2_large_xlsr_53_english_raw, columns=columns, fmt=\"wav2vec2\")\n",
    "wav2vec2_large_xlsr_53_english_clean = clean_and_compute_wer(wav2vec2_large_xlsr_53_english)"
   ]
  },
  {
   "cell_type": "code",
   "execution_count": 105,
   "id": "20a2fc6c",
   "metadata": {},
   "outputs": [
    {
     "name": "stdout",
     "output_type": "stream",
     "text": [
      "0.7152722570406036\n",
      "0.6398663107153179\n"
     ]
    }
   ],
   "source": [
    "print(wav2vec2_large_xlsr_53_english[\"wer\"].mean())\n",
    "print(wav2vec2_large_xlsr_53_english_clean[\"wer\"].mean())"
   ]
  },
  {
   "cell_type": "code",
   "execution_count": 106,
   "id": "05beb9bd",
   "metadata": {},
   "outputs": [],
   "source": [
    "model_id_or_path=\"facebook_wav2vec2_large_xlsr_53_english\"\n",
    "\n",
    "write_to_folder(model_id_or_path=model_id_or_path, \n",
    "                predictions_df=wav2vec2_large_xlsr_53_english, \n",
    "                output_dir=\"../results/raw\")\n",
    "\n",
    "write_to_folder(model_id_or_path=model_id_or_path, \n",
    "                predictions_df=wav2vec2_large_xlsr_53_english_clean,\n",
    "                output_dir=\"../results/normalized\")"
   ]
  },
  {
   "cell_type": "markdown",
   "id": "7e070171",
   "metadata": {},
   "source": [
    "### Wav2vec2-xls-r-1b-english"
   ]
  },
  {
   "cell_type": "code",
   "execution_count": 107,
   "id": "e8cc83a9",
   "metadata": {},
   "outputs": [
    {
     "name": "stdout",
     "output_type": "stream",
     "text": [
      "(3232, 7)\n"
     ]
    },
    {
     "data": {
      "text/html": [
       "<div>\n",
       "<style scoped>\n",
       "    .dataframe tbody tr th:only-of-type {\n",
       "        vertical-align: middle;\n",
       "    }\n",
       "\n",
       "    .dataframe tbody tr th {\n",
       "        vertical-align: top;\n",
       "    }\n",
       "\n",
       "    .dataframe thead th {\n",
       "        text-align: right;\n",
       "    }\n",
       "</style>\n",
       "<table border=\"1\" class=\"dataframe\">\n",
       "  <thead>\n",
       "    <tr style=\"text-align: right;\">\n",
       "      <th></th>\n",
       "      <th>audio_path</th>\n",
       "      <th>text</th>\n",
       "      <th>reference</th>\n",
       "      <th>predictions</th>\n",
       "      <th>predictions_raw</th>\n",
       "      <th>wer</th>\n",
       "      <th>accent</th>\n",
       "    </tr>\n",
       "  </thead>\n",
       "  <tbody>\n",
       "    <tr>\n",
       "      <th>0</th>\n",
       "      <td>/data/data/intron/e809b58c-4f05-4754-b98c-fbf2...</td>\n",
       "      <td>Ensure the correct placement of the feeding tu...</td>\n",
       "      <td>ensure the correct placement of the feeding tu...</td>\n",
       "      <td>ensure the correct replacement of the feeding ...</td>\n",
       "      <td>ensure the correct replacement of the feeding ...</td>\n",
       "      <td>0.709677</td>\n",
       "      <td>swahili</td>\n",
       "    </tr>\n",
       "    <tr>\n",
       "      <th>1</th>\n",
       "      <td>/data/data/intron/7ce31a48-f507-4344-bc49-96de...</td>\n",
       "      <td>Regardlessof how amyocyteis stimulated,however...</td>\n",
       "      <td>regardlessof how amyocyteis stimulated,however...</td>\n",
       "      <td>regardless of how amceteis stimulated however ...</td>\n",
       "      <td>regardless of how amceteis stimulated however ...</td>\n",
       "      <td>0.611111</td>\n",
       "      <td>swahili</td>\n",
       "    </tr>\n",
       "  </tbody>\n",
       "</table>\n",
       "</div>"
      ],
      "text/plain": [
       "                                          audio_path  \\\n",
       "0  /data/data/intron/e809b58c-4f05-4754-b98c-fbf2...   \n",
       "1  /data/data/intron/7ce31a48-f507-4344-bc49-96de...   \n",
       "\n",
       "                                                text  \\\n",
       "0  Ensure the correct placement of the feeding tu...   \n",
       "1  Regardlessof how amyocyteis stimulated,however...   \n",
       "\n",
       "                                           reference  \\\n",
       "0  ensure the correct placement of the feeding tu...   \n",
       "1  regardlessof how amyocyteis stimulated,however...   \n",
       "\n",
       "                                         predictions  \\\n",
       "0  ensure the correct replacement of the feeding ...   \n",
       "1  regardless of how amceteis stimulated however ...   \n",
       "\n",
       "                                     predictions_raw       wer   accent  \n",
       "0  ensure the correct replacement of the feeding ...  0.709677  swahili  \n",
       "1  regardless of how amceteis stimulated however ...  0.611111  swahili  "
      ]
     },
     "execution_count": 107,
     "metadata": {},
     "output_type": "execute_result"
    }
   ],
   "source": [
    "wav2vec2_xls_r_1b_english_raw = pd.read_csv(\"../results/intron-open-dev-ful-jonatasgrosman-wav2vec2-xls-r-1b-english-wer-0.5761-3232.csv\")\n",
    "print(wav2vec2_xls_r_1b_english_raw.shape)\n",
    "wav2vec2_xls_r_1b_english_raw.head(2)"
   ]
  },
  {
   "cell_type": "code",
   "execution_count": 108,
   "id": "a9f0c07a",
   "metadata": {},
   "outputs": [
    {
     "name": "stdout",
     "output_type": "stream",
     "text": [
      "(2877, 9)\n",
      "(0, 10)\n",
      "(0, 10)\n"
     ]
    }
   ],
   "source": [
    "wav2vec2_xls_r_1b_english = transform_raw_df(wav2vec2_xls_r_1b_english_raw, columns=columns, fmt=\"wav2vec2\")\n",
    "wav2vec2_xls_r_1b_english_clean = clean_and_compute_wer(wav2vec2_xls_r_1b_english)"
   ]
  },
  {
   "cell_type": "code",
   "execution_count": 109,
   "id": "25178de2",
   "metadata": {},
   "outputs": [
    {
     "name": "stdout",
     "output_type": "stream",
     "text": [
      "0.743025983322594\n",
      "0.6514921574251561\n"
     ]
    }
   ],
   "source": [
    "print(wav2vec2_xls_r_1b_english[\"wer\"].mean())\n",
    "print(wav2vec2_xls_r_1b_english_clean[\"wer\"].mean())"
   ]
  },
  {
   "cell_type": "code",
   "execution_count": 110,
   "id": "98cafc96",
   "metadata": {},
   "outputs": [],
   "source": [
    "model_id_or_path=\"facebook_wav2vec2_xls_r_1b_english\"\n",
    "\n",
    "write_to_folder(model_id_or_path=model_id_or_path, \n",
    "                predictions_df=wav2vec2_xls_r_1b_english, \n",
    "                output_dir=\"../results/raw\")\n",
    "\n",
    "write_to_folder(model_id_or_path=model_id_or_path, \n",
    "                predictions_df=wav2vec2_xls_r_1b_english_clean,\n",
    "                output_dir=\"../results/normalized\")"
   ]
  },
  {
   "cell_type": "markdown",
   "id": "09989e41",
   "metadata": {},
   "source": [
    "### Wav2vec2-large-960h-lv60-self"
   ]
  },
  {
   "cell_type": "code",
   "execution_count": 111,
   "id": "12eeece8",
   "metadata": {},
   "outputs": [
    {
     "name": "stdout",
     "output_type": "stream",
     "text": [
      "(3232, 7)\n"
     ]
    },
    {
     "data": {
      "text/html": [
       "<div>\n",
       "<style scoped>\n",
       "    .dataframe tbody tr th:only-of-type {\n",
       "        vertical-align: middle;\n",
       "    }\n",
       "\n",
       "    .dataframe tbody tr th {\n",
       "        vertical-align: top;\n",
       "    }\n",
       "\n",
       "    .dataframe thead th {\n",
       "        text-align: right;\n",
       "    }\n",
       "</style>\n",
       "<table border=\"1\" class=\"dataframe\">\n",
       "  <thead>\n",
       "    <tr style=\"text-align: right;\">\n",
       "      <th></th>\n",
       "      <th>audio_path</th>\n",
       "      <th>text</th>\n",
       "      <th>reference</th>\n",
       "      <th>predictions</th>\n",
       "      <th>predictions_raw</th>\n",
       "      <th>wer</th>\n",
       "      <th>accent</th>\n",
       "    </tr>\n",
       "  </thead>\n",
       "  <tbody>\n",
       "    <tr>\n",
       "      <th>0</th>\n",
       "      <td>/data/data/intron/e809b58c-4f05-4754-b98c-fbf2...</td>\n",
       "      <td>Ensure the correct placement of the feeding tu...</td>\n",
       "      <td>ensure the correct placement of the feeding tu...</td>\n",
       "      <td>ensure the correct eplacement of the feeding t...</td>\n",
       "      <td>ENSURE THE CORRECT EPLACEMENT OF THE FEEDING T...</td>\n",
       "      <td>0.645161</td>\n",
       "      <td>swahili</td>\n",
       "    </tr>\n",
       "    <tr>\n",
       "      <th>1</th>\n",
       "      <td>/data/data/intron/7ce31a48-f507-4344-bc49-96de...</td>\n",
       "      <td>Regardlessof how amyocyteis stimulated,however...</td>\n",
       "      <td>regardlessof how amyocyteis stimulated,however...</td>\n",
       "      <td>regardless of how amikitas stimulated however ...</td>\n",
       "      <td>REGARDLESS OF HOW AMIKITAS STIMULATED HOWEVER ...</td>\n",
       "      <td>0.666667</td>\n",
       "      <td>swahili</td>\n",
       "    </tr>\n",
       "  </tbody>\n",
       "</table>\n",
       "</div>"
      ],
      "text/plain": [
       "                                          audio_path  \\\n",
       "0  /data/data/intron/e809b58c-4f05-4754-b98c-fbf2...   \n",
       "1  /data/data/intron/7ce31a48-f507-4344-bc49-96de...   \n",
       "\n",
       "                                                text  \\\n",
       "0  Ensure the correct placement of the feeding tu...   \n",
       "1  Regardlessof how amyocyteis stimulated,however...   \n",
       "\n",
       "                                           reference  \\\n",
       "0  ensure the correct placement of the feeding tu...   \n",
       "1  regardlessof how amyocyteis stimulated,however...   \n",
       "\n",
       "                                         predictions  \\\n",
       "0  ensure the correct eplacement of the feeding t...   \n",
       "1  regardless of how amikitas stimulated however ...   \n",
       "\n",
       "                                     predictions_raw       wer   accent  \n",
       "0  ENSURE THE CORRECT EPLACEMENT OF THE FEEDING T...  0.645161  swahili  \n",
       "1  REGARDLESS OF HOW AMIKITAS STIMULATED HOWEVER ...  0.666667  swahili  "
      ]
     },
     "execution_count": 111,
     "metadata": {},
     "output_type": "execute_result"
    }
   ],
   "source": [
    "wav2vec2_large_960h_lv60_self_raw = pd.read_csv(\"../results/intron-open-dev-ful-facebook-wav2vec2-large-960h-lv60-self-wer-0.5944-3232.csv\")\n",
    "print(wav2vec2_large_960h_lv60_self_raw.shape)\n",
    "wav2vec2_large_960h_lv60_self_raw.head(2)"
   ]
  },
  {
   "cell_type": "code",
   "execution_count": 112,
   "id": "fd9bf399",
   "metadata": {},
   "outputs": [
    {
     "name": "stdout",
     "output_type": "stream",
     "text": [
      "(2877, 9)\n",
      "(1, 10)\n",
      "(0, 10)\n"
     ]
    }
   ],
   "source": [
    "wav2vec2_large_960h_lv60_self = transform_raw_df(wav2vec2_large_960h_lv60_self_raw, columns=columns, fmt=\"wav2vec2\")\n",
    "wav2vec2_large_960h_lv60_self_clean = clean_and_compute_wer(wav2vec2_large_960h_lv60_self)"
   ]
  },
  {
   "cell_type": "code",
   "execution_count": 113,
   "id": "6c63fc69",
   "metadata": {},
   "outputs": [
    {
     "name": "stdout",
     "output_type": "stream",
     "text": [
      "1.2229264243916067\n",
      "0.67118697565761\n"
     ]
    }
   ],
   "source": [
    "print(wav2vec2_large_960h_lv60_self[\"wer\"].mean())\n",
    "print(wav2vec2_large_960h_lv60_self_clean[\"wer\"].mean())"
   ]
  },
  {
   "cell_type": "code",
   "execution_count": 114,
   "id": "4e9a6a55",
   "metadata": {},
   "outputs": [],
   "source": [
    "model_id_or_path=\"facebook_wav2vec2_large_960h_lv60_self\"\n",
    "\n",
    "write_to_folder(model_id_or_path=model_id_or_path, \n",
    "                predictions_df=wav2vec2_large_960h_lv60_self, \n",
    "                output_dir=\"../results/raw\")\n",
    "\n",
    "write_to_folder(model_id_or_path=model_id_or_path, \n",
    "                predictions_df=wav2vec2_large_960h_lv60_self_clean,\n",
    "                output_dir=\"../results/normalized\")"
   ]
  },
  {
   "cell_type": "markdown",
   "id": "b5031615",
   "metadata": {},
   "source": [
    "### Wav2vec2-large-960h"
   ]
  },
  {
   "cell_type": "code",
   "execution_count": 115,
   "id": "a7cd1631",
   "metadata": {},
   "outputs": [
    {
     "name": "stdout",
     "output_type": "stream",
     "text": [
      "(3232, 7)\n"
     ]
    },
    {
     "data": {
      "text/html": [
       "<div>\n",
       "<style scoped>\n",
       "    .dataframe tbody tr th:only-of-type {\n",
       "        vertical-align: middle;\n",
       "    }\n",
       "\n",
       "    .dataframe tbody tr th {\n",
       "        vertical-align: top;\n",
       "    }\n",
       "\n",
       "    .dataframe thead th {\n",
       "        text-align: right;\n",
       "    }\n",
       "</style>\n",
       "<table border=\"1\" class=\"dataframe\">\n",
       "  <thead>\n",
       "    <tr style=\"text-align: right;\">\n",
       "      <th></th>\n",
       "      <th>audio_path</th>\n",
       "      <th>text</th>\n",
       "      <th>reference</th>\n",
       "      <th>predictions</th>\n",
       "      <th>predictions_raw</th>\n",
       "      <th>wer</th>\n",
       "      <th>accent</th>\n",
       "    </tr>\n",
       "  </thead>\n",
       "  <tbody>\n",
       "    <tr>\n",
       "      <th>0</th>\n",
       "      <td>/data/data/intron/e809b58c-4f05-4754-b98c-fbf2...</td>\n",
       "      <td>Ensure the correct placement of the feeding tu...</td>\n",
       "      <td>ensure the correct placement of the feeding tu...</td>\n",
       "      <td>ensure the correct placement of the feeding tu...</td>\n",
       "      <td>ENSURE THE CORRECT PLACEMENT OF THE FEEDING TU...</td>\n",
       "      <td>0.741935</td>\n",
       "      <td>swahili</td>\n",
       "    </tr>\n",
       "    <tr>\n",
       "      <th>1</th>\n",
       "      <td>/data/data/intron/7ce31a48-f507-4344-bc49-96de...</td>\n",
       "      <td>Regardlessof how amyocyteis stimulated,however...</td>\n",
       "      <td>regardlessof how amyocyteis stimulated,however...</td>\n",
       "      <td>regardless of how amercitis stimulated however...</td>\n",
       "      <td>REGARDLESS OF HOW AMERCITIS STIMULATED HOWEVER...</td>\n",
       "      <td>0.666667</td>\n",
       "      <td>swahili</td>\n",
       "    </tr>\n",
       "  </tbody>\n",
       "</table>\n",
       "</div>"
      ],
      "text/plain": [
       "                                          audio_path  \\\n",
       "0  /data/data/intron/e809b58c-4f05-4754-b98c-fbf2...   \n",
       "1  /data/data/intron/7ce31a48-f507-4344-bc49-96de...   \n",
       "\n",
       "                                                text  \\\n",
       "0  Ensure the correct placement of the feeding tu...   \n",
       "1  Regardlessof how amyocyteis stimulated,however...   \n",
       "\n",
       "                                           reference  \\\n",
       "0  ensure the correct placement of the feeding tu...   \n",
       "1  regardlessof how amyocyteis stimulated,however...   \n",
       "\n",
       "                                         predictions  \\\n",
       "0  ensure the correct placement of the feeding tu...   \n",
       "1  regardless of how amercitis stimulated however...   \n",
       "\n",
       "                                     predictions_raw       wer   accent  \n",
       "0  ENSURE THE CORRECT PLACEMENT OF THE FEEDING TU...  0.741935  swahili  \n",
       "1  REGARDLESS OF HOW AMERCITIS STIMULATED HOWEVER...  0.666667  swahili  "
      ]
     },
     "execution_count": 115,
     "metadata": {},
     "output_type": "execute_result"
    }
   ],
   "source": [
    "wav2vec2_large_960h_raw = pd.read_csv(\"../results/intron-open-dev-ful-facebook-wav2vec2-large-960h-wer-0.7031-3232.csv\")\n",
    "print(wav2vec2_large_960h_raw.shape)\n",
    "wav2vec2_large_960h_raw.head(2)"
   ]
  },
  {
   "cell_type": "code",
   "execution_count": 116,
   "id": "4d720295",
   "metadata": {},
   "outputs": [
    {
     "name": "stdout",
     "output_type": "stream",
     "text": [
      "(2877, 9)\n",
      "(1, 10)\n",
      "(0, 10)\n"
     ]
    }
   ],
   "source": [
    "wav2vec2_large_960h = transform_raw_df(wav2vec2_large_960h_raw, columns=columns, fmt=\"wav2vec2\")\n",
    "wav2vec2_large_960h_clean = clean_and_compute_wer(wav2vec2_large_960h)"
   ]
  },
  {
   "cell_type": "code",
   "execution_count": 117,
   "id": "7ebaa15b",
   "metadata": {},
   "outputs": [
    {
     "name": "stdout",
     "output_type": "stream",
     "text": [
      "1.246550763360166\n",
      "0.789551281262618\n"
     ]
    }
   ],
   "source": [
    "print(wav2vec2_large_960h[\"wer\"].mean())\n",
    "print(wav2vec2_large_960h_clean[\"wer\"].mean())"
   ]
  },
  {
   "cell_type": "code",
   "execution_count": 118,
   "id": "bdefa4a5",
   "metadata": {},
   "outputs": [],
   "source": [
    "model_id_or_path=\"facebook_wav2vec2_large_960h\"\n",
    "\n",
    "write_to_folder(model_id_or_path=model_id_or_path, \n",
    "                predictions_df=wav2vec2_large_960h, \n",
    "                output_dir=\"../results/raw\")\n",
    "\n",
    "write_to_folder(model_id_or_path=model_id_or_path, \n",
    "                predictions_df=wav2vec2_large_960h_clean,\n",
    "                output_dir=\"../results/normalized\")"
   ]
  },
  {
   "cell_type": "markdown",
   "id": "9da14752",
   "metadata": {},
   "source": [
    "### Wav2vec2-large-robust-ft-swbd-300h"
   ]
  },
  {
   "cell_type": "code",
   "execution_count": 119,
   "id": "1006fe10",
   "metadata": {},
   "outputs": [
    {
     "name": "stdout",
     "output_type": "stream",
     "text": [
      "(3232, 7)\n"
     ]
    },
    {
     "data": {
      "text/html": [
       "<div>\n",
       "<style scoped>\n",
       "    .dataframe tbody tr th:only-of-type {\n",
       "        vertical-align: middle;\n",
       "    }\n",
       "\n",
       "    .dataframe tbody tr th {\n",
       "        vertical-align: top;\n",
       "    }\n",
       "\n",
       "    .dataframe thead th {\n",
       "        text-align: right;\n",
       "    }\n",
       "</style>\n",
       "<table border=\"1\" class=\"dataframe\">\n",
       "  <thead>\n",
       "    <tr style=\"text-align: right;\">\n",
       "      <th></th>\n",
       "      <th>audio_path</th>\n",
       "      <th>text</th>\n",
       "      <th>reference</th>\n",
       "      <th>predictions</th>\n",
       "      <th>predictions_raw</th>\n",
       "      <th>wer</th>\n",
       "      <th>accent</th>\n",
       "    </tr>\n",
       "  </thead>\n",
       "  <tbody>\n",
       "    <tr>\n",
       "      <th>0</th>\n",
       "      <td>/data/data/intron/e809b58c-4f05-4754-b98c-fbf2...</td>\n",
       "      <td>Ensure the correct placement of the feeding tu...</td>\n",
       "      <td>ensure the correct placement of the feeding tu...</td>\n",
       "      <td>ensure the corextplacement of the feoding tube...</td>\n",
       "      <td>ENSURE THE COREXTPLACEMENT OF THE FEODING TUBE...</td>\n",
       "      <td>0.838710</td>\n",
       "      <td>swahili</td>\n",
       "    </tr>\n",
       "    <tr>\n",
       "      <th>1</th>\n",
       "      <td>/data/data/intron/7ce31a48-f507-4344-bc49-96de...</td>\n",
       "      <td>Regardlessof how amyocyteis stimulated,however...</td>\n",
       "      <td>regardlessof how amyocyteis stimulated,however...</td>\n",
       "      <td>regardless of how amercatis stimulated however...</td>\n",
       "      <td>REGARDLESS OF HOW AMERCATIS STIMULATED HOWEVER...</td>\n",
       "      <td>0.777778</td>\n",
       "      <td>swahili</td>\n",
       "    </tr>\n",
       "  </tbody>\n",
       "</table>\n",
       "</div>"
      ],
      "text/plain": [
       "                                          audio_path  \\\n",
       "0  /data/data/intron/e809b58c-4f05-4754-b98c-fbf2...   \n",
       "1  /data/data/intron/7ce31a48-f507-4344-bc49-96de...   \n",
       "\n",
       "                                                text  \\\n",
       "0  Ensure the correct placement of the feeding tu...   \n",
       "1  Regardlessof how amyocyteis stimulated,however...   \n",
       "\n",
       "                                           reference  \\\n",
       "0  ensure the correct placement of the feeding tu...   \n",
       "1  regardlessof how amyocyteis stimulated,however...   \n",
       "\n",
       "                                         predictions  \\\n",
       "0  ensure the corextplacement of the feoding tube...   \n",
       "1  regardless of how amercatis stimulated however...   \n",
       "\n",
       "                                     predictions_raw       wer   accent  \n",
       "0  ENSURE THE COREXTPLACEMENT OF THE FEODING TUBE...  0.838710  swahili  \n",
       "1  REGARDLESS OF HOW AMERCATIS STIMULATED HOWEVER...  0.777778  swahili  "
      ]
     },
     "execution_count": 119,
     "metadata": {},
     "output_type": "execute_result"
    }
   ],
   "source": [
    "wav2vec2_large_robust_ft_swbd_300h_raw = pd.read_csv(\"../results/intron-open-dev-ful-facebook-wav2vec2-large-robust-ft-swbd-300h-wer-0.7749-3232.csv\")\n",
    "print(wav2vec2_large_robust_ft_swbd_300h_raw.shape)\n",
    "wav2vec2_large_robust_ft_swbd_300h_raw.head(2)"
   ]
  },
  {
   "cell_type": "code",
   "execution_count": 120,
   "id": "ef87d502",
   "metadata": {},
   "outputs": [
    {
     "name": "stdout",
     "output_type": "stream",
     "text": [
      "(2877, 9)\n",
      "(7, 10)\n",
      "(0, 10)\n"
     ]
    }
   ],
   "source": [
    "wav2vec2_large_robust_ft_swbd_300h = transform_raw_df(wav2vec2_large_robust_ft_swbd_300h_raw, columns=columns, fmt=\"wav2vec2\")\n",
    "wav2vec2_large_robust_ft_swbd_300h_clean = clean_and_compute_wer(wav2vec2_large_robust_ft_swbd_300h)"
   ]
  },
  {
   "cell_type": "code",
   "execution_count": 121,
   "id": "f898d73a",
   "metadata": {},
   "outputs": [
    {
     "name": "stdout",
     "output_type": "stream",
     "text": [
      "1.2880591945755344\n",
      "0.8636325335980687\n"
     ]
    }
   ],
   "source": [
    "print(wav2vec2_large_robust_ft_swbd_300h[\"wer\"].mean())\n",
    "print(wav2vec2_large_robust_ft_swbd_300h_clean[\"wer\"].mean())"
   ]
  },
  {
   "cell_type": "code",
   "execution_count": 122,
   "id": "339fca20",
   "metadata": {},
   "outputs": [],
   "source": [
    "model_id_or_path=\"facebook_wav2vec2_large_robust_ft_swbd_300h\"\n",
    "\n",
    "write_to_folder(model_id_or_path=model_id_or_path, \n",
    "                predictions_df=wav2vec2_large_robust_ft_swbd_300h, \n",
    "                output_dir=\"../results/raw\")\n",
    "\n",
    "write_to_folder(model_id_or_path=model_id_or_path, \n",
    "                predictions_df=wav2vec2_large_robust_ft_swbd_300h_clean,\n",
    "                output_dir=\"../results/normalized\")"
   ]
  },
  {
   "cell_type": "markdown",
   "id": "5d461218",
   "metadata": {},
   "source": [
    "### Hubert-large-ls960-ft"
   ]
  },
  {
   "cell_type": "code",
   "execution_count": 123,
   "id": "26d65076",
   "metadata": {},
   "outputs": [
    {
     "name": "stdout",
     "output_type": "stream",
     "text": [
      "(3232, 10)\n"
     ]
    },
    {
     "data": {
      "text/html": [
       "<div>\n",
       "<style scoped>\n",
       "    .dataframe tbody tr th:only-of-type {\n",
       "        vertical-align: middle;\n",
       "    }\n",
       "\n",
       "    .dataframe tbody tr th {\n",
       "        vertical-align: top;\n",
       "    }\n",
       "\n",
       "    .dataframe thead th {\n",
       "        text-align: right;\n",
       "    }\n",
       "</style>\n",
       "<table border=\"1\" class=\"dataframe\">\n",
       "  <thead>\n",
       "    <tr style=\"text-align: right;\">\n",
       "      <th></th>\n",
       "      <th>Unnamed: 0</th>\n",
       "      <th>idx</th>\n",
       "      <th>user_ids</th>\n",
       "      <th>transcript</th>\n",
       "      <th>hubert_large</th>\n",
       "      <th>hubert_xlarge</th>\n",
       "      <th>wer</th>\n",
       "      <th>cleanup_references</th>\n",
       "      <th>cleanup_hubert</th>\n",
       "      <th>wer_cleanup</th>\n",
       "    </tr>\n",
       "  </thead>\n",
       "  <tbody>\n",
       "    <tr>\n",
       "      <th>0</th>\n",
       "      <td>0</td>\n",
       "      <td>72663</td>\n",
       "      <td>f559cb4f16bc465ea44b56a8d3b5513e</td>\n",
       "      <td>Ensure the correct placement of the feeding tu...</td>\n",
       "      <td>ENSURE THE CORRECT PLACEMENT OF THE FIDING TUB...</td>\n",
       "      <td>ENSURE THE CORRECT PLACEMENT OF THE FEEDING TU...</td>\n",
       "      <td>0.677419</td>\n",
       "      <td>ensure the correct placement of the feeding tu...</td>\n",
       "      <td>ensure the correct placement of the fiding tub...</td>\n",
       "      <td>0.580645</td>\n",
       "    </tr>\n",
       "    <tr>\n",
       "      <th>1</th>\n",
       "      <td>1</td>\n",
       "      <td>153902</td>\n",
       "      <td>2be9bc423e70a24c703f8336e60af3f3</td>\n",
       "      <td>Regardlessof how amyocyteis stimulated,however...</td>\n",
       "      <td>REGARDLESS OF HOW AMECITIS STIMULATED HOWEVER ...</td>\n",
       "      <td>REGARDLESS OF HOW A MCIT IS STIMULATED HOWEVER...</td>\n",
       "      <td>0.722222</td>\n",
       "      <td>regardlessof how amyocyteis stimulated however...</td>\n",
       "      <td>regardless of how amecitis stimulated however ...</td>\n",
       "      <td>0.500000</td>\n",
       "    </tr>\n",
       "  </tbody>\n",
       "</table>\n",
       "</div>"
      ],
      "text/plain": [
       "   Unnamed: 0     idx                          user_ids  \\\n",
       "0           0   72663  f559cb4f16bc465ea44b56a8d3b5513e   \n",
       "1           1  153902  2be9bc423e70a24c703f8336e60af3f3   \n",
       "\n",
       "                                          transcript  \\\n",
       "0  Ensure the correct placement of the feeding tu...   \n",
       "1  Regardlessof how amyocyteis stimulated,however...   \n",
       "\n",
       "                                        hubert_large  \\\n",
       "0  ENSURE THE CORRECT PLACEMENT OF THE FIDING TUB...   \n",
       "1  REGARDLESS OF HOW AMECITIS STIMULATED HOWEVER ...   \n",
       "\n",
       "                                       hubert_xlarge       wer  \\\n",
       "0  ENSURE THE CORRECT PLACEMENT OF THE FEEDING TU...  0.677419   \n",
       "1  REGARDLESS OF HOW A MCIT IS STIMULATED HOWEVER...  0.722222   \n",
       "\n",
       "                                  cleanup_references  \\\n",
       "0  ensure the correct placement of the feeding tu...   \n",
       "1  regardlessof how amyocyteis stimulated however...   \n",
       "\n",
       "                                      cleanup_hubert  wer_cleanup  \n",
       "0  ensure the correct placement of the fiding tub...     0.580645  \n",
       "1  regardless of how amecitis stimulated however ...     0.500000  "
      ]
     },
     "execution_count": 123,
     "metadata": {},
     "output_type": "execute_result"
    }
   ],
   "source": [
    "hubert_large_ls960_ft_raw = pd.read_csv(\"../results/hubert_wer_asr_dev.csv\")\n",
    "print(hubert_large_ls960_ft_raw.shape)\n",
    "hubert_large_ls960_ft_raw.head(2)"
   ]
  },
  {
   "cell_type": "code",
   "execution_count": 124,
   "id": "c3e05bbf",
   "metadata": {},
   "outputs": [
    {
     "name": "stdout",
     "output_type": "stream",
     "text": [
      "(2872, 9)\n",
      "(1, 10)\n",
      "(0, 10)\n"
     ]
    }
   ],
   "source": [
    "hubert_large_ls960_ft = transform_raw_df(hubert_large_ls960_ft_raw, columns=columns, fmt=\"hubert_large\")\n",
    "hubert_large_ls960_ft_clean = clean_and_compute_wer(hubert_large_ls960_ft)"
   ]
  },
  {
   "cell_type": "code",
   "execution_count": 125,
   "id": "dbf52e6f",
   "metadata": {},
   "outputs": [
    {
     "name": "stdout",
     "output_type": "stream",
     "text": [
      "1.2269235515829158\n",
      "0.7085538560634761\n"
     ]
    }
   ],
   "source": [
    "print(hubert_large_ls960_ft[\"wer\"].mean())\n",
    "print(hubert_large_ls960_ft_clean[\"wer\"].mean())"
   ]
  },
  {
   "cell_type": "code",
   "execution_count": 126,
   "id": "3432384c",
   "metadata": {},
   "outputs": [],
   "source": [
    "model_id_or_path=\"facebook_hubert_large_ls960_ft\"\n",
    "\n",
    "write_to_folder(model_id_or_path=model_id_or_path, \n",
    "                predictions_df=hubert_large_ls960_ft, \n",
    "                output_dir=\"../results/raw\")\n",
    "\n",
    "write_to_folder(model_id_or_path=model_id_or_path, \n",
    "                predictions_df=hubert_large_ls960_ft_clean,\n",
    "                output_dir=\"../results/normalized\")"
   ]
  },
  {
   "cell_type": "markdown",
   "id": "e3a0d04a",
   "metadata": {},
   "source": [
    "### Hubert-xlarge-ls960-ft"
   ]
  },
  {
   "cell_type": "code",
   "execution_count": 127,
   "id": "8feff3ff",
   "metadata": {},
   "outputs": [
    {
     "name": "stdout",
     "output_type": "stream",
     "text": [
      "(3232, 10)\n"
     ]
    },
    {
     "data": {
      "text/html": [
       "<div>\n",
       "<style scoped>\n",
       "    .dataframe tbody tr th:only-of-type {\n",
       "        vertical-align: middle;\n",
       "    }\n",
       "\n",
       "    .dataframe tbody tr th {\n",
       "        vertical-align: top;\n",
       "    }\n",
       "\n",
       "    .dataframe thead th {\n",
       "        text-align: right;\n",
       "    }\n",
       "</style>\n",
       "<table border=\"1\" class=\"dataframe\">\n",
       "  <thead>\n",
       "    <tr style=\"text-align: right;\">\n",
       "      <th></th>\n",
       "      <th>Unnamed: 0</th>\n",
       "      <th>idx</th>\n",
       "      <th>user_ids</th>\n",
       "      <th>transcript</th>\n",
       "      <th>hubert_large</th>\n",
       "      <th>hubert_xlarge</th>\n",
       "      <th>wer</th>\n",
       "      <th>cleanup_references</th>\n",
       "      <th>cleanup_hubert</th>\n",
       "      <th>wer_cleanup</th>\n",
       "    </tr>\n",
       "  </thead>\n",
       "  <tbody>\n",
       "    <tr>\n",
       "      <th>0</th>\n",
       "      <td>0</td>\n",
       "      <td>72663</td>\n",
       "      <td>f559cb4f16bc465ea44b56a8d3b5513e</td>\n",
       "      <td>Ensure the correct placement of the feeding tu...</td>\n",
       "      <td>ENSURE THE CORRECT PLACEMENT OF THE FIDING TUB...</td>\n",
       "      <td>ENSURE THE CORRECT PLACEMENT OF THE FEEDING TU...</td>\n",
       "      <td>0.677419</td>\n",
       "      <td>ensure the correct placement of the feeding tu...</td>\n",
       "      <td>ensure the correct placement of the fiding tub...</td>\n",
       "      <td>0.580645</td>\n",
       "    </tr>\n",
       "    <tr>\n",
       "      <th>1</th>\n",
       "      <td>1</td>\n",
       "      <td>153902</td>\n",
       "      <td>2be9bc423e70a24c703f8336e60af3f3</td>\n",
       "      <td>Regardlessof how amyocyteis stimulated,however...</td>\n",
       "      <td>REGARDLESS OF HOW AMECITIS STIMULATED HOWEVER ...</td>\n",
       "      <td>REGARDLESS OF HOW A MCIT IS STIMULATED HOWEVER...</td>\n",
       "      <td>0.722222</td>\n",
       "      <td>regardlessof how amyocyteis stimulated however...</td>\n",
       "      <td>regardless of how amecitis stimulated however ...</td>\n",
       "      <td>0.500000</td>\n",
       "    </tr>\n",
       "  </tbody>\n",
       "</table>\n",
       "</div>"
      ],
      "text/plain": [
       "   Unnamed: 0     idx                          user_ids  \\\n",
       "0           0   72663  f559cb4f16bc465ea44b56a8d3b5513e   \n",
       "1           1  153902  2be9bc423e70a24c703f8336e60af3f3   \n",
       "\n",
       "                                          transcript  \\\n",
       "0  Ensure the correct placement of the feeding tu...   \n",
       "1  Regardlessof how amyocyteis stimulated,however...   \n",
       "\n",
       "                                        hubert_large  \\\n",
       "0  ENSURE THE CORRECT PLACEMENT OF THE FIDING TUB...   \n",
       "1  REGARDLESS OF HOW AMECITIS STIMULATED HOWEVER ...   \n",
       "\n",
       "                                       hubert_xlarge       wer  \\\n",
       "0  ENSURE THE CORRECT PLACEMENT OF THE FEEDING TU...  0.677419   \n",
       "1  REGARDLESS OF HOW A MCIT IS STIMULATED HOWEVER...  0.722222   \n",
       "\n",
       "                                  cleanup_references  \\\n",
       "0  ensure the correct placement of the feeding tu...   \n",
       "1  regardlessof how amyocyteis stimulated however...   \n",
       "\n",
       "                                      cleanup_hubert  wer_cleanup  \n",
       "0  ensure the correct placement of the fiding tub...     0.580645  \n",
       "1  regardless of how amecitis stimulated however ...     0.500000  "
      ]
     },
     "execution_count": 127,
     "metadata": {},
     "output_type": "execute_result"
    }
   ],
   "source": [
    "hubert_xlarge_ls960_ft_raw = pd.read_csv(\"../results/hubert_wer_asr_dev.csv\")\n",
    "print(hubert_xlarge_ls960_ft_raw.shape)\n",
    "hubert_xlarge_ls960_ft_raw.head(2)"
   ]
  },
  {
   "cell_type": "code",
   "execution_count": 128,
   "id": "002ed9ec",
   "metadata": {},
   "outputs": [
    {
     "name": "stdout",
     "output_type": "stream",
     "text": [
      "(2872, 9)\n",
      "(1, 10)\n",
      "(0, 10)\n"
     ]
    }
   ],
   "source": [
    "hubert_xlarge_ls960_ft = transform_raw_df(hubert_xlarge_ls960_ft_raw, columns=columns, fmt=\"hubert_xlarge\")\n",
    "hubert_xlarge_ls960_ft_clean = clean_and_compute_wer(hubert_xlarge_ls960_ft)"
   ]
  },
  {
   "cell_type": "code",
   "execution_count": 129,
   "id": "c7f4c860",
   "metadata": {},
   "outputs": [
    {
     "name": "stdout",
     "output_type": "stream",
     "text": [
      "1.2361624783348384\n",
      "0.7148852567015267\n"
     ]
    }
   ],
   "source": [
    "print(hubert_xlarge_ls960_ft[\"wer\"].mean())\n",
    "print(hubert_xlarge_ls960_ft_clean[\"wer\"].mean())"
   ]
  },
  {
   "cell_type": "code",
   "execution_count": 130,
   "id": "dad66d30",
   "metadata": {},
   "outputs": [],
   "source": [
    "model_id_or_path=\"facebook_hubert_xlarge_ls960_ft\"\n",
    "\n",
    "write_to_folder(model_id_or_path=model_id_or_path, \n",
    "                predictions_df=hubert_xlarge_ls960_ft, \n",
    "                output_dir=\"../results/raw\")\n",
    "\n",
    "write_to_folder(model_id_or_path=model_id_or_path, \n",
    "                predictions_df=hubert_xlarge_ls960_ft_clean,\n",
    "                output_dir=\"../results/normalized\")"
   ]
  },
  {
   "cell_type": "markdown",
   "id": "7af812e5",
   "metadata": {},
   "source": [
    "# Other statistics\n",
    "\n",
    "- compute per-accent statistics\n",
    "- compute per-gender statistics\n",
    "- compute per-domain statistics\n",
    "- compute per age-group statistics"
   ]
  },
  {
   "cell_type": "code",
   "execution_count": null,
   "id": "e2238888",
   "metadata": {},
   "outputs": [],
   "source": []
  },
  {
   "cell_type": "code",
   "execution_count": null,
   "id": "30069933",
   "metadata": {},
   "outputs": [],
   "source": []
  }
 ],
 "metadata": {
  "kernelspec": {
   "display_name": "Python 3 (ipykernel)",
   "language": "python",
   "name": "python3"
  },
  "language_info": {
   "codemirror_mode": {
    "name": "ipython",
    "version": 3
   },
   "file_extension": ".py",
   "mimetype": "text/x-python",
   "name": "python",
   "nbconvert_exporter": "python",
   "pygments_lexer": "ipython3",
   "version": "3.9.6"
  }
 },
 "nbformat": 4,
 "nbformat_minor": 5
}
