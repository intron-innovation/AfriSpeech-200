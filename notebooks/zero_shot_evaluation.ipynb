{
 "cells": [
  {
   "cell_type": "code",
   "execution_count": 1,
   "id": "fdfb00a9",
   "metadata": {},
   "outputs": [],
   "source": [
    "import warnings\n",
    "warnings.filterwarnings(\"ignore\")"
   ]
  },
  {
   "cell_type": "code",
   "execution_count": 76,
   "id": "bb753f46",
   "metadata": {},
   "outputs": [],
   "source": [
    "import pandas as pd\n",
    "import seaborn as sns\n",
    "import numpy as np\n",
    "import matplotlib.pyplot as plt\n",
    "from datasets import load_metric\n",
    "import sys\n",
    "sys.path.append(\"..\")\n",
    "from src.utils.text_processing import clean_text"
   ]
  },
  {
   "cell_type": "code",
   "execution_count": 3,
   "id": "788a9e93",
   "metadata": {},
   "outputs": [],
   "source": [
    "wer_metric = load_metric(\"wer\")"
   ]
  },
  {
   "cell_type": "code",
   "execution_count": 4,
   "id": "ee13e90b",
   "metadata": {},
   "outputs": [
    {
     "name": "stdout",
     "output_type": "stream",
     "text": [
      "(3231, 14)\n"
     ]
    },
    {
     "data": {
      "text/html": [
       "<div>\n",
       "<style scoped>\n",
       "    .dataframe tbody tr th:only-of-type {\n",
       "        vertical-align: middle;\n",
       "    }\n",
       "\n",
       "    .dataframe tbody tr th {\n",
       "        vertical-align: top;\n",
       "    }\n",
       "\n",
       "    .dataframe thead th {\n",
       "        text-align: right;\n",
       "    }\n",
       "</style>\n",
       "<table border=\"1\" class=\"dataframe\">\n",
       "  <thead>\n",
       "    <tr style=\"text-align: right;\">\n",
       "      <th></th>\n",
       "      <th>idx</th>\n",
       "      <th>user_ids</th>\n",
       "      <th>accent</th>\n",
       "      <th>age_group</th>\n",
       "      <th>country</th>\n",
       "      <th>transcript</th>\n",
       "      <th>nchars</th>\n",
       "      <th>audio_ids</th>\n",
       "      <th>audio_path</th>\n",
       "      <th>duration</th>\n",
       "      <th>origin</th>\n",
       "      <th>domain</th>\n",
       "      <th>split</th>\n",
       "      <th>gender</th>\n",
       "    </tr>\n",
       "  </thead>\n",
       "  <tbody>\n",
       "    <tr>\n",
       "      <th>0</th>\n",
       "      <td>155349</td>\n",
       "      <td>659e36c14baaf7fa7bb197f951251f4b</td>\n",
       "      <td>setswana</td>\n",
       "      <td>26-40</td>\n",
       "      <td>BW</td>\n",
       "      <td>We should be asking ourselves whether we want ...</td>\n",
       "      <td>110</td>\n",
       "      <td>86ad3ef21e469217f28a749c990c81fd</td>\n",
       "      <td>/AfriSpeech-100/dev/92d2b94e-3e31-40be-b479-50...</td>\n",
       "      <td>8.400998</td>\n",
       "      <td>african</td>\n",
       "      <td>general</td>\n",
       "      <td>dev</td>\n",
       "      <td>Male</td>\n",
       "    </tr>\n",
       "    <tr>\n",
       "      <th>1</th>\n",
       "      <td>60812</td>\n",
       "      <td>1fd5f717cede9a867bf37d03c7d2166b</td>\n",
       "      <td>siswati</td>\n",
       "      <td>26-40</td>\n",
       "      <td>ZA</td>\n",
       "      <td>Other sagittal planes parallel to this off cen...</td>\n",
       "      <td>88</td>\n",
       "      <td>5409734bcc4a0f053e73f405d0f135da</td>\n",
       "      <td>/AfriSpeech-100/dev/127bdba1-8bc8-44a4-9c37-8e...</td>\n",
       "      <td>5.236984</td>\n",
       "      <td>african</td>\n",
       "      <td>clinical</td>\n",
       "      <td>dev</td>\n",
       "      <td>Female</td>\n",
       "    </tr>\n",
       "    <tr>\n",
       "      <th>2</th>\n",
       "      <td>139668</td>\n",
       "      <td>f2d08d2e1c47a187bfa6869fadc1f755</td>\n",
       "      <td>setswana</td>\n",
       "      <td>26-40</td>\n",
       "      <td>ZA</td>\n",
       "      <td>Tuberculoma is an intracranial massoccurring s...</td>\n",
       "      <td>109</td>\n",
       "      <td>b10dc4e959b6596d31866e5094ef500a</td>\n",
       "      <td>/AfriSpeech-100/dev/de0b1ee6-46f1-4eb6-a747-47...</td>\n",
       "      <td>7.072993</td>\n",
       "      <td>african</td>\n",
       "      <td>clinical</td>\n",
       "      <td>dev</td>\n",
       "      <td>Male</td>\n",
       "    </tr>\n",
       "  </tbody>\n",
       "</table>\n",
       "</div>"
      ],
      "text/plain": [
       "      idx                          user_ids    accent age_group country  \\\n",
       "0  155349  659e36c14baaf7fa7bb197f951251f4b  setswana     26-40      BW   \n",
       "1   60812  1fd5f717cede9a867bf37d03c7d2166b   siswati     26-40      ZA   \n",
       "2  139668  f2d08d2e1c47a187bfa6869fadc1f755  setswana     26-40      ZA   \n",
       "\n",
       "                                          transcript  nchars  \\\n",
       "0  We should be asking ourselves whether we want ...     110   \n",
       "1  Other sagittal planes parallel to this off cen...      88   \n",
       "2  Tuberculoma is an intracranial massoccurring s...     109   \n",
       "\n",
       "                          audio_ids  \\\n",
       "0  86ad3ef21e469217f28a749c990c81fd   \n",
       "1  5409734bcc4a0f053e73f405d0f135da   \n",
       "2  b10dc4e959b6596d31866e5094ef500a   \n",
       "\n",
       "                                          audio_path  duration   origin  \\\n",
       "0  /AfriSpeech-100/dev/92d2b94e-3e31-40be-b479-50...  8.400998  african   \n",
       "1  /AfriSpeech-100/dev/127bdba1-8bc8-44a4-9c37-8e...  5.236984  african   \n",
       "2  /AfriSpeech-100/dev/de0b1ee6-46f1-4eb6-a747-47...  7.072993  african   \n",
       "\n",
       "     domain split  gender  \n",
       "0   general   dev    Male  \n",
       "1  clinical   dev  Female  \n",
       "2  clinical   dev    Male  "
      ]
     },
     "execution_count": 4,
     "metadata": {},
     "output_type": "execute_result"
    }
   ],
   "source": [
    "dev_df = pd.read_csv(\"../data/intron-dev-public-3231-clean.csv\")\n",
    "print(dev_df.shape)\n",
    "dev_df.head(3)"
   ]
  },
  {
   "cell_type": "code",
   "execution_count": 5,
   "id": "421257f9",
   "metadata": {},
   "outputs": [
    {
     "name": "stdout",
     "output_type": "stream",
     "text": [
      "(3227, 14)\n"
     ]
    }
   ],
   "source": [
    "dev_df = dev_df[~dev_df.duplicated(subset=\"audio_path\")]\n",
    "print(dev_df.shape)"
   ]
  },
  {
   "cell_type": "code",
   "execution_count": 6,
   "id": "1e8a982f",
   "metadata": {},
   "outputs": [
    {
     "data": {
      "text/plain": [
       "(2872, 22)"
      ]
     },
     "execution_count": 6,
     "metadata": {},
     "output_type": "execute_result"
    }
   ],
   "source": [
    "dev_df[\"audio_paths\"] = dev_df[\"audio_path\"].apply(lambda x: x.replace(\"/AfriSpeech-100/dev/\", \"/data/data/intron/\"))\n",
    "df = pd.read_csv(\"../results/intron-open-dev-whisper_medium-wer-0.3049-2872.csv\")\n",
    "df = pd.merge(df, dev_df, on=\"audio_paths\")\n",
    "df.shape"
   ]
  },
  {
   "cell_type": "code",
   "execution_count": 7,
   "id": "cb42463b",
   "metadata": {},
   "outputs": [
    {
     "data": {
      "text/html": [
       "<div>\n",
       "<style scoped>\n",
       "    .dataframe tbody tr th:only-of-type {\n",
       "        vertical-align: middle;\n",
       "    }\n",
       "\n",
       "    .dataframe tbody tr th {\n",
       "        vertical-align: top;\n",
       "    }\n",
       "\n",
       "    .dataframe thead th {\n",
       "        text-align: right;\n",
       "    }\n",
       "</style>\n",
       "<table border=\"1\" class=\"dataframe\">\n",
       "  <thead>\n",
       "    <tr style=\"text-align: right;\">\n",
       "      <th></th>\n",
       "      <th>idx</th>\n",
       "      <th>audio_paths</th>\n",
       "    </tr>\n",
       "  </thead>\n",
       "  <tbody>\n",
       "    <tr>\n",
       "      <th>0</th>\n",
       "      <td>72663</td>\n",
       "      <td>/data/data/intron/e809b58c-4f05-4754-b98c-fbf2...</td>\n",
       "    </tr>\n",
       "    <tr>\n",
       "      <th>1</th>\n",
       "      <td>153902</td>\n",
       "      <td>/data/data/intron/7ce31a48-f507-4344-bc49-96de...</td>\n",
       "    </tr>\n",
       "    <tr>\n",
       "      <th>2</th>\n",
       "      <td>82671</td>\n",
       "      <td>/data/data/intron/b8f6fbc1-426f-4a4b-99db-c38d...</td>\n",
       "    </tr>\n",
       "  </tbody>\n",
       "</table>\n",
       "</div>"
      ],
      "text/plain": [
       "      idx                                        audio_paths\n",
       "0   72663  /data/data/intron/e809b58c-4f05-4754-b98c-fbf2...\n",
       "1  153902  /data/data/intron/7ce31a48-f507-4344-bc49-96de...\n",
       "2   82671  /data/data/intron/b8f6fbc1-426f-4a4b-99db-c38d..."
      ]
     },
     "execution_count": 7,
     "metadata": {},
     "output_type": "execute_result"
    }
   ],
   "source": [
    "mapping_df = df[[\"idx\", \"audio_paths\"]]\n",
    "mapping_df.head(3)"
   ]
  },
  {
   "cell_type": "code",
   "execution_count": 91,
   "id": "4a1a2db6",
   "metadata": {},
   "outputs": [],
   "source": [
    "# Handy functions\n",
    "def transform_raw_df(df_raw, columns=[], fmt=\"intron\"):\n",
    "    if fmt == \"intron\":\n",
    "        df = pd.merge(df_raw, dev_df, on=\"audio_paths\")\n",
    "        df = pd.merge(df, mapping_df, on=\"idx\")\n",
    "\n",
    "        df = df[columns+[\"transcript\", \"hypothesis\", \"audio_paths_x\", \"accent_x\"]]\n",
    "        df.loc[:, \"accent\"] = df.loc[:, \"accent_x\"]\n",
    "        df.loc[:, \"audio_paths\"] = df.loc[:, \"audio_paths_x\"]\n",
    "        df.loc[:, \"reference\"] = df.loc[:, \"transcript\"]\n",
    "        df.loc[:, \"prediction\"] = df.loc[:, \"hypothesis\"]\n",
    "        df = df.drop(columns=[\"accent_x\", \"audio_paths_x\", \"hypothesis\", \"transcript\"])\n",
    "\n",
    "        print(df.shape)\n",
    "        \n",
    "    elif fmt == \"whisper_large\":\n",
    "        df = pd.merge(df_raw, dev_df, on=\"idx\")\n",
    "        df = pd.merge(df, mapping_df, on=\"idx\")\n",
    "        print(df.shape)\n",
    "        \n",
    "\n",
    "        df = df[columns+[\"accent\", \"user_ids_x\", \"transcript_x\", \"whisper_large\"]]\n",
    "\n",
    "        df.loc[:, \"user_ids\"] = df.loc[:, \"user_ids_x\"]\n",
    "        df.loc[:, \"reference\"] = df.loc[:, \"transcript_x\"]\n",
    "        df.loc[:, \"prediction\"] = df.loc[:, \"whisper_large\"]\n",
    "        df = df.drop(columns=[\"transcript_x\", \"whisper_large\", \"user_ids_x\"])\n",
    "\n",
    "        print(df.shape)\n",
    "        \n",
    "    elif fmt == \"whisper_medium\":\n",
    "        df = pd.merge(df_raw, dev_df, on=\"idx\")\n",
    "        df = pd.merge(df, mapping_df, on=\"idx\")\n",
    "        print(df.shape)\n",
    "        \n",
    "\n",
    "        df = df[columns+[\"accent\", \"user_ids_x\", \"transcript_x\", \"whisper_medium\"]]\n",
    "\n",
    "        df.loc[:, \"user_ids\"] = df.loc[:, \"user_ids_x\"]\n",
    "        df.loc[:, \"reference\"] = df.loc[:, \"transcript_x\"]\n",
    "        df.loc[:, \"prediction\"] = df.loc[:, \"whisper_medium\"]\n",
    "        df = df.drop(columns=[\"transcript_x\", \"whisper_medium\", \"user_ids_x\"])\n",
    "\n",
    "        print(df.shape)\n",
    "    \n",
    "    elif fmt == \"african-nlp\":\n",
    "        df = pd.merge(df_raw, dev_df, on=\"audio_paths\")\n",
    "        df = pd.merge(df, mapping_df, on=\"idx\")\n",
    "\n",
    "        df = df[columns+[\"accent\", \"user_ids\", \"transcript\", 1]]\n",
    "        df.loc[:, \"reference\"] = df.loc[:, \"transcript\"]\n",
    "        df.loc[:, \"prediction\"] = df.loc[:, 1]\n",
    "        df = df.drop(columns=[1, \"transcript\"])\n",
    "\n",
    "        print(df.shape)\n",
    "\n",
    "        \n",
    "    df[\"wer\"] = df.apply(lambda x: wer_metric.compute(predictions=[x.prediction], references=[x.reference]), axis=1) \n",
    "    return df\n",
    "    \n",
    "\n",
    "\n",
    "def clean_and_compute_wer(df):\n",
    "    df_clean = df.copy()\n",
    "    \n",
    "    print(df_clean[df_clean[\"prediction\"].isnull()].shape)\n",
    "    \n",
    "    df_clean[\"prediction\"] = df_clean[\"prediction\"].fillna(\"\")\n",
    "    print(df_clean[df_clean[\"prediction\"].isnull()].shape)\n",
    "    \n",
    "    df_clean[\"reference\"] = df_clean[\"reference\"].apply(lambda x: clean_text(x))\n",
    "    df_clean[\"prediction\"] = df_clean[\"prediction\"].apply(lambda x: clean_text(x))\n",
    "    \n",
    "    df_clean[\"wer\"] = df_clean.apply(lambda x: wer_metric.compute(predictions=[x.prediction], \n",
    "                                                                  references=[x.reference]), axis=1)\n",
    "    return df_clean\n",
    "    \n",
    "    \n",
    "def write_to_folder(model_id_or_path, predictions_df, output_dir=\"../results/clean\", split=\"dev\"):\n",
    "    wer = predictions_df[\"wer\"].mean()\n",
    "    output_path = f\"{output_dir}/intron-open-{split}-{model_id_or_path}-wer-{round(wer, 4)}-{len(predictions_df)}.csv\"\n",
    "    predictions_df.to_csv(output_path, index=False)"
   ]
  },
  {
   "cell_type": "markdown",
   "id": "1a5c2961",
   "metadata": {},
   "source": [
    "# Whisper models"
   ]
  },
  {
   "cell_type": "code",
   "execution_count": 9,
   "id": "b6057d55",
   "metadata": {},
   "outputs": [
    {
     "name": "stdout",
     "output_type": "stream",
     "text": [
      "(3232, 9)\n"
     ]
    },
    {
     "data": {
      "text/html": [
       "<div>\n",
       "<style scoped>\n",
       "    .dataframe tbody tr th:only-of-type {\n",
       "        vertical-align: middle;\n",
       "    }\n",
       "\n",
       "    .dataframe tbody tr th {\n",
       "        vertical-align: top;\n",
       "    }\n",
       "\n",
       "    .dataframe thead th {\n",
       "        text-align: right;\n",
       "    }\n",
       "</style>\n",
       "<table border=\"1\" class=\"dataframe\">\n",
       "  <thead>\n",
       "    <tr style=\"text-align: right;\">\n",
       "      <th></th>\n",
       "      <th>idx</th>\n",
       "      <th>user_ids</th>\n",
       "      <th>transcript</th>\n",
       "      <th>whisper_medium</th>\n",
       "      <th>whisper_large</th>\n",
       "      <th>wer</th>\n",
       "      <th>cleanup_references</th>\n",
       "      <th>cleanup_whisper</th>\n",
       "      <th>wer_cleanup</th>\n",
       "    </tr>\n",
       "  </thead>\n",
       "  <tbody>\n",
       "    <tr>\n",
       "      <th>0</th>\n",
       "      <td>72663</td>\n",
       "      <td>f559cb4f16bc465ea44b56a8d3b5513e</td>\n",
       "      <td>Ensure the correct placement of the feeding tu...</td>\n",
       "      <td>Ensure the correct placement of the feeding t...</td>\n",
       "      <td>Ensure the correct placement of the feeding t...</td>\n",
       "      <td>0.451613</td>\n",
       "      <td>ensure the correct placement of the feeding tu...</td>\n",
       "      <td>ensure the correct placement of the feeding tu...</td>\n",
       "      <td>0.290323</td>\n",
       "    </tr>\n",
       "    <tr>\n",
       "      <th>1</th>\n",
       "      <td>153902</td>\n",
       "      <td>2be9bc423e70a24c703f8336e60af3f3</td>\n",
       "      <td>Regardlessof how amyocyteis stimulated,however...</td>\n",
       "      <td>Regardless of how amyokites stimulated, howev...</td>\n",
       "      <td>Regardless of how a myocardial stimulation, h...</td>\n",
       "      <td>0.444444</td>\n",
       "      <td>regardlessof how amyocyteis stimulated however...</td>\n",
       "      <td>regardless of how amyokites stimulated  howeve...</td>\n",
       "      <td>0.250000</td>\n",
       "    </tr>\n",
       "    <tr>\n",
       "      <th>2</th>\n",
       "      <td>82671</td>\n",
       "      <td>a3c2c182b6b53089ef4bc3eccff103bf</td>\n",
       "      <td>For Nigeria to achieve similar noble goals, th...</td>\n",
       "      <td>For Nigeria to achieve similar noble goals, t...</td>\n",
       "      <td>For Nigeria to achieve similar noble goals, t...</td>\n",
       "      <td>0.222222</td>\n",
       "      <td>for nigeria to achieve similar noble goals  th...</td>\n",
       "      <td>for nigeria to achieve similar noble goals  th...</td>\n",
       "      <td>0.027778</td>\n",
       "    </tr>\n",
       "  </tbody>\n",
       "</table>\n",
       "</div>"
      ],
      "text/plain": [
       "      idx                          user_ids  \\\n",
       "0   72663  f559cb4f16bc465ea44b56a8d3b5513e   \n",
       "1  153902  2be9bc423e70a24c703f8336e60af3f3   \n",
       "2   82671  a3c2c182b6b53089ef4bc3eccff103bf   \n",
       "\n",
       "                                          transcript  \\\n",
       "0  Ensure the correct placement of the feeding tu...   \n",
       "1  Regardlessof how amyocyteis stimulated,however...   \n",
       "2  For Nigeria to achieve similar noble goals, th...   \n",
       "\n",
       "                                      whisper_medium  \\\n",
       "0   Ensure the correct placement of the feeding t...   \n",
       "1   Regardless of how amyokites stimulated, howev...   \n",
       "2   For Nigeria to achieve similar noble goals, t...   \n",
       "\n",
       "                                       whisper_large       wer  \\\n",
       "0   Ensure the correct placement of the feeding t...  0.451613   \n",
       "1   Regardless of how a myocardial stimulation, h...  0.444444   \n",
       "2   For Nigeria to achieve similar noble goals, t...  0.222222   \n",
       "\n",
       "                                  cleanup_references  \\\n",
       "0  ensure the correct placement of the feeding tu...   \n",
       "1  regardlessof how amyocyteis stimulated however...   \n",
       "2  for nigeria to achieve similar noble goals  th...   \n",
       "\n",
       "                                     cleanup_whisper  wer_cleanup  \n",
       "0  ensure the correct placement of the feeding tu...     0.290323  \n",
       "1  regardless of how amyokites stimulated  howeve...     0.250000  \n",
       "2  for nigeria to achieve similar noble goals  th...     0.027778  "
      ]
     },
     "execution_count": 9,
     "metadata": {},
     "output_type": "execute_result"
    }
   ],
   "source": [
    "whspr = pd.read_csv(\"../results/whisper_wer_asr_dev.csv\").drop(columns=\"Unnamed: 0\")\n",
    "print(whspr.shape)\n",
    "whspr.head(3)"
   ]
  },
  {
   "cell_type": "code",
   "execution_count": 10,
   "id": "2fb27404",
   "metadata": {},
   "outputs": [],
   "source": [
    "columns = [\"idx\", \"domain\", \"gender\", \"duration\", \"age_group\"]"
   ]
  },
  {
   "cell_type": "markdown",
   "id": "29d21655",
   "metadata": {},
   "source": [
    "## Large"
   ]
  },
  {
   "cell_type": "code",
   "execution_count": 11,
   "id": "d988b248",
   "metadata": {},
   "outputs": [
    {
     "name": "stdout",
     "output_type": "stream",
     "text": [
      "(2872, 24)\n",
      "(2872, 9)\n",
      "(3, 10)\n",
      "(0, 10)\n"
     ]
    }
   ],
   "source": [
    "whspr_large = transform_raw_df(whspr, columns=columns, fmt=\"whisper_large\")\n",
    "whspr_large_clean = clean_and_compute_wer(whspr_large)"
   ]
  },
  {
   "cell_type": "code",
   "execution_count": 12,
   "id": "f2f46925",
   "metadata": {},
   "outputs": [
    {
     "data": {
      "text/html": [
       "<div>\n",
       "<style scoped>\n",
       "    .dataframe tbody tr th:only-of-type {\n",
       "        vertical-align: middle;\n",
       "    }\n",
       "\n",
       "    .dataframe tbody tr th {\n",
       "        vertical-align: top;\n",
       "    }\n",
       "\n",
       "    .dataframe thead th {\n",
       "        text-align: right;\n",
       "    }\n",
       "</style>\n",
       "<table border=\"1\" class=\"dataframe\">\n",
       "  <thead>\n",
       "    <tr style=\"text-align: right;\">\n",
       "      <th></th>\n",
       "      <th>idx</th>\n",
       "      <th>domain</th>\n",
       "      <th>gender</th>\n",
       "      <th>duration</th>\n",
       "      <th>age_group</th>\n",
       "      <th>accent</th>\n",
       "      <th>user_ids</th>\n",
       "      <th>reference</th>\n",
       "      <th>prediction</th>\n",
       "      <th>wer</th>\n",
       "    </tr>\n",
       "  </thead>\n",
       "  <tbody>\n",
       "    <tr>\n",
       "      <th>0</th>\n",
       "      <td>72663</td>\n",
       "      <td>clinical</td>\n",
       "      <td>Female</td>\n",
       "      <td>16.421995</td>\n",
       "      <td>19-25</td>\n",
       "      <td>swahili</td>\n",
       "      <td>f559cb4f16bc465ea44b56a8d3b5513e</td>\n",
       "      <td>Ensure the correct placement of the feeding tu...</td>\n",
       "      <td>Ensure the correct placement of the feeding t...</td>\n",
       "      <td>0.290323</td>\n",
       "    </tr>\n",
       "    <tr>\n",
       "      <th>1</th>\n",
       "      <td>153902</td>\n",
       "      <td>clinical</td>\n",
       "      <td>Female</td>\n",
       "      <td>11.393991</td>\n",
       "      <td>19-25</td>\n",
       "      <td>swahili</td>\n",
       "      <td>2be9bc423e70a24c703f8336e60af3f3</td>\n",
       "      <td>Regardlessof how amyocyteis stimulated,however...</td>\n",
       "      <td>Regardless of how a myocardial stimulation, h...</td>\n",
       "      <td>0.500000</td>\n",
       "    </tr>\n",
       "  </tbody>\n",
       "</table>\n",
       "</div>"
      ],
      "text/plain": [
       "      idx    domain  gender   duration age_group   accent  \\\n",
       "0   72663  clinical  Female  16.421995     19-25  swahili   \n",
       "1  153902  clinical  Female  11.393991     19-25  swahili   \n",
       "\n",
       "                           user_ids  \\\n",
       "0  f559cb4f16bc465ea44b56a8d3b5513e   \n",
       "1  2be9bc423e70a24c703f8336e60af3f3   \n",
       "\n",
       "                                           reference  \\\n",
       "0  Ensure the correct placement of the feeding tu...   \n",
       "1  Regardlessof how amyocyteis stimulated,however...   \n",
       "\n",
       "                                          prediction       wer  \n",
       "0   Ensure the correct placement of the feeding t...  0.290323  \n",
       "1   Regardless of how a myocardial stimulation, h...  0.500000  "
      ]
     },
     "execution_count": 12,
     "metadata": {},
     "output_type": "execute_result"
    }
   ],
   "source": [
    "whspr_large.head(2)"
   ]
  },
  {
   "cell_type": "code",
   "execution_count": 13,
   "id": "c9d75cde",
   "metadata": {},
   "outputs": [
    {
     "data": {
      "text/html": [
       "<div>\n",
       "<style scoped>\n",
       "    .dataframe tbody tr th:only-of-type {\n",
       "        vertical-align: middle;\n",
       "    }\n",
       "\n",
       "    .dataframe tbody tr th {\n",
       "        vertical-align: top;\n",
       "    }\n",
       "\n",
       "    .dataframe thead th {\n",
       "        text-align: right;\n",
       "    }\n",
       "</style>\n",
       "<table border=\"1\" class=\"dataframe\">\n",
       "  <thead>\n",
       "    <tr style=\"text-align: right;\">\n",
       "      <th></th>\n",
       "      <th>idx</th>\n",
       "      <th>domain</th>\n",
       "      <th>gender</th>\n",
       "      <th>duration</th>\n",
       "      <th>age_group</th>\n",
       "      <th>accent</th>\n",
       "      <th>user_ids</th>\n",
       "      <th>reference</th>\n",
       "      <th>prediction</th>\n",
       "      <th>wer</th>\n",
       "    </tr>\n",
       "  </thead>\n",
       "  <tbody>\n",
       "    <tr>\n",
       "      <th>0</th>\n",
       "      <td>72663</td>\n",
       "      <td>clinical</td>\n",
       "      <td>Female</td>\n",
       "      <td>16.421995</td>\n",
       "      <td>19-25</td>\n",
       "      <td>swahili</td>\n",
       "      <td>f559cb4f16bc465ea44b56a8d3b5513e</td>\n",
       "      <td>ensure the correct placement of the feeding tu...</td>\n",
       "      <td>ensure the correct placement of the feeding tu...</td>\n",
       "      <td>0.290323</td>\n",
       "    </tr>\n",
       "    <tr>\n",
       "      <th>1</th>\n",
       "      <td>153902</td>\n",
       "      <td>clinical</td>\n",
       "      <td>Female</td>\n",
       "      <td>11.393991</td>\n",
       "      <td>19-25</td>\n",
       "      <td>swahili</td>\n",
       "      <td>2be9bc423e70a24c703f8336e60af3f3</td>\n",
       "      <td>regardlessof how amyocyteis stimulated,however...</td>\n",
       "      <td>regardless of how a myocardial stimulation, ho...</td>\n",
       "      <td>0.500000</td>\n",
       "    </tr>\n",
       "  </tbody>\n",
       "</table>\n",
       "</div>"
      ],
      "text/plain": [
       "      idx    domain  gender   duration age_group   accent  \\\n",
       "0   72663  clinical  Female  16.421995     19-25  swahili   \n",
       "1  153902  clinical  Female  11.393991     19-25  swahili   \n",
       "\n",
       "                           user_ids  \\\n",
       "0  f559cb4f16bc465ea44b56a8d3b5513e   \n",
       "1  2be9bc423e70a24c703f8336e60af3f3   \n",
       "\n",
       "                                           reference  \\\n",
       "0  ensure the correct placement of the feeding tu...   \n",
       "1  regardlessof how amyocyteis stimulated,however...   \n",
       "\n",
       "                                          prediction       wer  \n",
       "0  ensure the correct placement of the feeding tu...  0.290323  \n",
       "1  regardless of how a myocardial stimulation, ho...  0.500000  "
      ]
     },
     "execution_count": 13,
     "metadata": {},
     "output_type": "execute_result"
    }
   ],
   "source": [
    "whspr_large_clean.head(2)"
   ]
  },
  {
   "cell_type": "code",
   "execution_count": 29,
   "id": "807cafe5",
   "metadata": {},
   "outputs": [
    {
     "name": "stdout",
     "output_type": "stream",
     "text": [
      "0.5039740585544689\n",
      "0.4108835197703194\n"
     ]
    }
   ],
   "source": [
    "# WER\n",
    "print(whspr_large[\"wer\"].mean())\n",
    "print(whspr_large_clean[\"wer\"].mean())"
   ]
  },
  {
   "cell_type": "code",
   "execution_count": 115,
   "id": "0da61c6e",
   "metadata": {},
   "outputs": [],
   "source": [
    "predictions_df = whspr_large\n",
    "model_id_or_path = \"whisper_large\"\n",
    "write_to_folder(model_id_or_path=model_id_or_path, predictions_df=predictions_df)"
   ]
  },
  {
   "cell_type": "code",
   "execution_count": 116,
   "id": "37797015",
   "metadata": {},
   "outputs": [],
   "source": [
    "predictions_df = whspr_large_clean\n",
    "model_id_or_path = \"whisper_large_clean\"\n",
    "write_to_folder(model_id_or_path=model_id_or_path, predictions_df=predictions_df)"
   ]
  },
  {
   "cell_type": "markdown",
   "id": "d739fa69",
   "metadata": {},
   "source": [
    "## Medium"
   ]
  },
  {
   "cell_type": "code",
   "execution_count": 68,
   "id": "221f091c",
   "metadata": {},
   "outputs": [
    {
     "name": "stdout",
     "output_type": "stream",
     "text": [
      "(2872, 9)\n"
     ]
    }
   ],
   "source": [
    "\n",
    "df = pd.merge(nemo_ctc_raw, dev_df, on=\"audio_paths\")\n",
    "df = pd.merge(adf, mapping_df, on=\"idx\")\n",
    "\n",
    "df = df[columns+[\"accent\", \"user_ids\", \"transcript\", 1]]\n",
    "df.loc[:, \"reference\"] = df.loc[:, \"transcript\"]\n",
    "df.loc[:, \"prediction\"] = df.loc[:, 1]\n",
    "df = df.drop(columns=[1, \"transcript\"])\n",
    "\n",
    "print(df.shape)"
   ]
  },
  {
   "cell_type": "code",
   "execution_count": 16,
   "id": "ad344aa7",
   "metadata": {
    "scrolled": true
   },
   "outputs": [
    {
     "name": "stdout",
     "output_type": "stream",
     "text": [
      "(2872, 8)\n"
     ]
    },
    {
     "data": {
      "text/html": [
       "<div>\n",
       "<style scoped>\n",
       "    .dataframe tbody tr th:only-of-type {\n",
       "        vertical-align: middle;\n",
       "    }\n",
       "\n",
       "    .dataframe tbody tr th {\n",
       "        vertical-align: top;\n",
       "    }\n",
       "\n",
       "    .dataframe thead th {\n",
       "        text-align: right;\n",
       "    }\n",
       "</style>\n",
       "<table border=\"1\" class=\"dataframe\">\n",
       "  <thead>\n",
       "    <tr style=\"text-align: right;\">\n",
       "      <th></th>\n",
       "      <th>hypothesis</th>\n",
       "      <th>reference</th>\n",
       "      <th>audio_paths</th>\n",
       "      <th>accent</th>\n",
       "      <th>pred_clean</th>\n",
       "      <th>ref_clean</th>\n",
       "      <th>hypothesis_clean</th>\n",
       "      <th>reference_clean</th>\n",
       "    </tr>\n",
       "  </thead>\n",
       "  <tbody>\n",
       "    <tr>\n",
       "      <th>0</th>\n",
       "      <td>Ensure the correct placement of the feeding tu...</td>\n",
       "      <td>Ensure the correct placement of the feeding tu...</td>\n",
       "      <td>/data/data/intron/e809b58c-4f05-4754-b98c-fbf2...</td>\n",
       "      <td>swahili</td>\n",
       "      <td>ensure the correct placement of the feeding tu...</td>\n",
       "      <td>ensure the correct placement of the feeding tu...</td>\n",
       "      <td>ensure the correct placement of the feeding tu...</td>\n",
       "      <td>ensure the correct placement of the feeding tu...</td>\n",
       "    </tr>\n",
       "    <tr>\n",
       "      <th>1</th>\n",
       "      <td>Regardless of how amyokites stimulated, howeve...</td>\n",
       "      <td>Regardlessof how amyocyteis stimulated,however...</td>\n",
       "      <td>/data/data/intron/7ce31a48-f507-4344-bc49-96de...</td>\n",
       "      <td>swahili</td>\n",
       "      <td>regardless of how amyokites stimulated, howeve...</td>\n",
       "      <td>regardlessof how amyocyteis stimulated,however...</td>\n",
       "      <td>regardless of how amyokites stimulated however...</td>\n",
       "      <td>regardlessof how amyocyteis stimulated however...</td>\n",
       "    </tr>\n",
       "  </tbody>\n",
       "</table>\n",
       "</div>"
      ],
      "text/plain": [
       "                                          hypothesis  \\\n",
       "0  Ensure the correct placement of the feeding tu...   \n",
       "1  Regardless of how amyokites stimulated, howeve...   \n",
       "\n",
       "                                           reference  \\\n",
       "0  Ensure the correct placement of the feeding tu...   \n",
       "1  Regardlessof how amyocyteis stimulated,however...   \n",
       "\n",
       "                                         audio_paths   accent  \\\n",
       "0  /data/data/intron/e809b58c-4f05-4754-b98c-fbf2...  swahili   \n",
       "1  /data/data/intron/7ce31a48-f507-4344-bc49-96de...  swahili   \n",
       "\n",
       "                                          pred_clean  \\\n",
       "0  ensure the correct placement of the feeding tu...   \n",
       "1  regardless of how amyokites stimulated, howeve...   \n",
       "\n",
       "                                           ref_clean  \\\n",
       "0  ensure the correct placement of the feeding tu...   \n",
       "1  regardlessof how amyocyteis stimulated,however...   \n",
       "\n",
       "                                    hypothesis_clean  \\\n",
       "0  ensure the correct placement of the feeding tu...   \n",
       "1  regardless of how amyokites stimulated however...   \n",
       "\n",
       "                                     reference_clean  \n",
       "0  ensure the correct placement of the feeding tu...  \n",
       "1  regardlessof how amyocyteis stimulated however...  "
      ]
     },
     "execution_count": 16,
     "metadata": {},
     "output_type": "execute_result"
    }
   ],
   "source": [
    "whspr_medium_raw = pd.read_csv(\"../results/intron-open-dev-whisper_medium-wer-0.3049-2872.csv\")\n",
    "print(whspr_medium_raw.shape)\n",
    "whspr_medium_raw.head(2)"
   ]
  },
  {
   "cell_type": "code",
   "execution_count": 17,
   "id": "e5a3e28b",
   "metadata": {},
   "outputs": [
    {
     "name": "stdout",
     "output_type": "stream",
     "text": [
      "(2872, 10)\n",
      "(0, 11)\n",
      "(0, 11)\n"
     ]
    }
   ],
   "source": [
    "whspr_medium = transform_raw_df(whspr_medium_raw, columns=columns, fmt=\"intron\")\n",
    "whspr_medium_clean = clean_and_compute_wer(whspr_medium)"
   ]
  },
  {
   "cell_type": "code",
   "execution_count": 30,
   "id": "f1d9ec1e",
   "metadata": {},
   "outputs": [
    {
     "name": "stdout",
     "output_type": "stream",
     "text": [
      "0.4643886864352219\n",
      "0.34914988813403375\n"
     ]
    }
   ],
   "source": [
    "# WER\n",
    "print(whspr_medium[\"wer\"].mean())\n",
    "print(whspr_medium_clean[\"wer\"].mean())"
   ]
  },
  {
   "cell_type": "code",
   "execution_count": 113,
   "id": "87103b36",
   "metadata": {},
   "outputs": [],
   "source": [
    "predictions_df = whspr_medium\n",
    "model_id_or_path = \"whisper_medium\"\n",
    "write_to_folder(model_id_or_path=model_id_or_path, predictions_df=predictions_df)"
   ]
  },
  {
   "cell_type": "code",
   "execution_count": 114,
   "id": "e2cb99c7",
   "metadata": {},
   "outputs": [],
   "source": [
    "predictions_df = whspr_medium_clean\n",
    "model_id_or_path = \"whisper_medium_clean\"\n",
    "write_to_folder(model_id_or_path=model_id_or_path, predictions_df=predictions_df)"
   ]
  },
  {
   "cell_type": "code",
   "execution_count": 27,
   "id": "b337c292",
   "metadata": {},
   "outputs": [
    {
     "name": "stdout",
     "output_type": "stream",
     "text": [
      "(2872, 8)\n",
      "(2872, 10)\n",
      "(0, 11)\n",
      "(0, 11)\n"
     ]
    }
   ],
   "source": [
    "whspr_medium_en_raw = pd.read_csv(\"../results/intron-open-dev-whisper_medium.en-wer-0.3219-2872.csv\")\n",
    "print(whspr_medium_en_raw.shape)\n",
    "whspr_medium_en = transform_raw_df(whspr_medium_en_raw, columns=columns, fmt=\"intron\")\n",
    "whspr_medium_en_clean = clean_and_compute_wer(whspr_medium_en)"
   ]
  },
  {
   "cell_type": "code",
   "execution_count": 28,
   "id": "fa3dcf2a",
   "metadata": {},
   "outputs": [
    {
     "name": "stdout",
     "output_type": "stream",
     "text": [
      "0.46137424273526506\n",
      "0.3678484564644302\n"
     ]
    }
   ],
   "source": [
    "print(whspr_medium_en[\"wer\"].mean())\n",
    "print(whspr_medium_en_clean[\"wer\"].mean())"
   ]
  },
  {
   "cell_type": "code",
   "execution_count": 111,
   "id": "eeb67a15",
   "metadata": {},
   "outputs": [],
   "source": [
    "predictions_df = whspr_medium_en\n",
    "model_id_or_path = \"whisper_medium_en\"\n",
    "write_to_folder(model_id_or_path=model_id_or_path, predictions_df=predictions_df)"
   ]
  },
  {
   "cell_type": "code",
   "execution_count": 112,
   "id": "0743a675",
   "metadata": {},
   "outputs": [],
   "source": [
    "predictions_df = whspr_medium_en_clean\n",
    "model_id_or_path = \"whisper_medium_en_clean\"\n",
    "write_to_folder(model_id_or_path=model_id_or_path, predictions_df=predictions_df)"
   ]
  },
  {
   "cell_type": "markdown",
   "id": "f1867221",
   "metadata": {},
   "source": [
    "## Small"
   ]
  },
  {
   "cell_type": "code",
   "execution_count": 20,
   "id": "61298dd9",
   "metadata": {},
   "outputs": [
    {
     "name": "stdout",
     "output_type": "stream",
     "text": [
      "(2872, 8)\n"
     ]
    },
    {
     "data": {
      "text/html": [
       "<div>\n",
       "<style scoped>\n",
       "    .dataframe tbody tr th:only-of-type {\n",
       "        vertical-align: middle;\n",
       "    }\n",
       "\n",
       "    .dataframe tbody tr th {\n",
       "        vertical-align: top;\n",
       "    }\n",
       "\n",
       "    .dataframe thead th {\n",
       "        text-align: right;\n",
       "    }\n",
       "</style>\n",
       "<table border=\"1\" class=\"dataframe\">\n",
       "  <thead>\n",
       "    <tr style=\"text-align: right;\">\n",
       "      <th></th>\n",
       "      <th>hypothesis</th>\n",
       "      <th>reference</th>\n",
       "      <th>audio_paths</th>\n",
       "      <th>accent</th>\n",
       "      <th>pred_clean</th>\n",
       "      <th>ref_clean</th>\n",
       "      <th>hypothesis_clean</th>\n",
       "      <th>reference_clean</th>\n",
       "    </tr>\n",
       "  </thead>\n",
       "  <tbody>\n",
       "    <tr>\n",
       "      <th>0</th>\n",
       "      <td>Ensure the correct placement of the feeding tu...</td>\n",
       "      <td>Ensure the correct placement of the feeding tu...</td>\n",
       "      <td>/data/data/intron/e809b58c-4f05-4754-b98c-fbf2...</td>\n",
       "      <td>swahili</td>\n",
       "      <td>ensure the correct placement of the feeding tu...</td>\n",
       "      <td>ensure the correct placement of the feeding tu...</td>\n",
       "      <td>ensure the correct placement of the feeding tu...</td>\n",
       "      <td>ensure the correct placement of the feeding tu...</td>\n",
       "    </tr>\n",
       "    <tr>\n",
       "      <th>1</th>\n",
       "      <td>Regardless of how a moeocatase stimulated, how...</td>\n",
       "      <td>Regardlessof how amyocyteis stimulated,however...</td>\n",
       "      <td>/data/data/intron/7ce31a48-f507-4344-bc49-96de...</td>\n",
       "      <td>swahili</td>\n",
       "      <td>regardless of how a moeocatase stimulated, how...</td>\n",
       "      <td>regardlessof how amyocyteis stimulated,however...</td>\n",
       "      <td>regardless of how a moeocatase stimulated howe...</td>\n",
       "      <td>regardlessof how amyocyteis stimulated however...</td>\n",
       "    </tr>\n",
       "  </tbody>\n",
       "</table>\n",
       "</div>"
      ],
      "text/plain": [
       "                                          hypothesis  \\\n",
       "0  Ensure the correct placement of the feeding tu...   \n",
       "1  Regardless of how a moeocatase stimulated, how...   \n",
       "\n",
       "                                           reference  \\\n",
       "0  Ensure the correct placement of the feeding tu...   \n",
       "1  Regardlessof how amyocyteis stimulated,however...   \n",
       "\n",
       "                                         audio_paths   accent  \\\n",
       "0  /data/data/intron/e809b58c-4f05-4754-b98c-fbf2...  swahili   \n",
       "1  /data/data/intron/7ce31a48-f507-4344-bc49-96de...  swahili   \n",
       "\n",
       "                                          pred_clean  \\\n",
       "0  ensure the correct placement of the feeding tu...   \n",
       "1  regardless of how a moeocatase stimulated, how...   \n",
       "\n",
       "                                           ref_clean  \\\n",
       "0  ensure the correct placement of the feeding tu...   \n",
       "1  regardlessof how amyocyteis stimulated,however...   \n",
       "\n",
       "                                    hypothesis_clean  \\\n",
       "0  ensure the correct placement of the feeding tu...   \n",
       "1  regardless of how a moeocatase stimulated howe...   \n",
       "\n",
       "                                     reference_clean  \n",
       "0  ensure the correct placement of the feeding tu...  \n",
       "1  regardlessof how amyocyteis stimulated however...  "
      ]
     },
     "execution_count": 20,
     "metadata": {},
     "output_type": "execute_result"
    }
   ],
   "source": [
    "whspr_small_raw = pd.read_csv(\"../results/intron-open-dev-whisper_small-wer-0.3743-2872.csv\")\n",
    "print(whspr_small_raw.shape)\n",
    "whspr_small_raw.head(2)"
   ]
  },
  {
   "cell_type": "code",
   "execution_count": 21,
   "id": "5213b694",
   "metadata": {},
   "outputs": [
    {
     "name": "stdout",
     "output_type": "stream",
     "text": [
      "(2872, 10)\n",
      "(0, 11)\n",
      "(0, 11)\n"
     ]
    }
   ],
   "source": [
    "whspr_small = transform_raw_df(whspr_small_raw, columns=columns, fmt=\"intron\")\n",
    "whspr_small_clean = clean_and_compute_wer(whspr_small)"
   ]
  },
  {
   "cell_type": "code",
   "execution_count": 31,
   "id": "6ac205a7",
   "metadata": {},
   "outputs": [
    {
     "name": "stdout",
     "output_type": "stream",
     "text": [
      "0.5337821026197487\n",
      "0.43133830977562343\n"
     ]
    }
   ],
   "source": [
    "print(whspr_small[\"wer\"].mean())\n",
    "print(whspr_small_clean[\"wer\"].mean())"
   ]
  },
  {
   "cell_type": "code",
   "execution_count": 110,
   "id": "6e60c7dd",
   "metadata": {},
   "outputs": [],
   "source": [
    "predictions_df = whspr_small\n",
    "model_id_or_path = \"whisper_small\"\n",
    "write_to_folder(model_id_or_path=model_id_or_path, predictions_df=predictions_df)"
   ]
  },
  {
   "cell_type": "code",
   "execution_count": 109,
   "id": "151b41c6",
   "metadata": {},
   "outputs": [],
   "source": [
    "predictions_df = whspr_small_clean\n",
    "model_id_or_path = \"whisper_small_clean\"\n",
    "write_to_folder(model_id_or_path=model_id_or_path, predictions_df=predictions_df)"
   ]
  },
  {
   "cell_type": "code",
   "execution_count": 24,
   "id": "4abb92f9",
   "metadata": {},
   "outputs": [
    {
     "name": "stdout",
     "output_type": "stream",
     "text": [
      "(2872, 8)\n",
      "(2872, 10)\n",
      "(0, 11)\n",
      "(0, 11)\n"
     ]
    }
   ],
   "source": [
    "whspr_small_en_raw = pd.read_csv(\"../results/intron-open-dev-whisper_small.en-wer-0.383-2872.csv\")\n",
    "print(whspr_small_en_raw.shape)\n",
    "whspr_small_en = transform_raw_df(whspr_small_en_raw, columns=columns, fmt=\"intron\")\n",
    "whspr_small_en_clean = clean_and_compute_wer(whspr_small_en)"
   ]
  },
  {
   "cell_type": "code",
   "execution_count": 25,
   "id": "b5b8d31c",
   "metadata": {},
   "outputs": [
    {
     "name": "stdout",
     "output_type": "stream",
     "text": [
      "0.519713022377241\n",
      "0.43402733892570033\n"
     ]
    }
   ],
   "source": [
    "print(whspr_small_en[\"wer\"].mean())\n",
    "print(whspr_small_en_clean[\"wer\"].mean())"
   ]
  },
  {
   "cell_type": "code",
   "execution_count": 107,
   "id": "1f58e6f8",
   "metadata": {},
   "outputs": [],
   "source": [
    "predictions_df = whspr_small_en\n",
    "model_id_or_path = \"whisper_small_en\"\n",
    "write_to_folder(model_id_or_path=model_id_or_path, predictions_df=predictions_df)"
   ]
  },
  {
   "cell_type": "code",
   "execution_count": 106,
   "id": "de592d2e",
   "metadata": {},
   "outputs": [],
   "source": [
    "predictions_df = whspr_small_en_clean\n",
    "model_id_or_path = \"whisper_small_en_clean\"\n",
    "write_to_folder(model_id_or_path=model_id_or_path, predictions_df=predictions_df)"
   ]
  },
  {
   "cell_type": "markdown",
   "id": "6409fe9c",
   "metadata": {},
   "source": [
    "# Nemo"
   ]
  },
  {
   "cell_type": "markdown",
   "id": "fc5a65b7",
   "metadata": {},
   "source": [
    "## Nemo-conformer-ctc-large"
   ]
  },
  {
   "cell_type": "code",
   "execution_count": 50,
   "id": "14ff2c10",
   "metadata": {},
   "outputs": [
    {
     "name": "stdout",
     "output_type": "stream",
     "text": [
      "(3227, 3)\n"
     ]
    },
    {
     "data": {
      "text/html": [
       "<div>\n",
       "<style scoped>\n",
       "    .dataframe tbody tr th:only-of-type {\n",
       "        vertical-align: middle;\n",
       "    }\n",
       "\n",
       "    .dataframe tbody tr th {\n",
       "        vertical-align: top;\n",
       "    }\n",
       "\n",
       "    .dataframe thead th {\n",
       "        text-align: right;\n",
       "    }\n",
       "</style>\n",
       "<table border=\"1\" class=\"dataframe\">\n",
       "  <thead>\n",
       "    <tr style=\"text-align: right;\">\n",
       "      <th></th>\n",
       "      <th>0</th>\n",
       "      <th>1</th>\n",
       "      <th>audio_paths</th>\n",
       "    </tr>\n",
       "  </thead>\n",
       "  <tbody>\n",
       "    <tr>\n",
       "      <th>0</th>\n",
       "      <td>/scratch/pbsjobs/axy327/dev/a25d5981-d814-4eef...</td>\n",
       "      <td>construction and sea trials</td>\n",
       "      <td>/data/data/intron/a25d5981-d814-4eef-8637-cc35...</td>\n",
       "    </tr>\n",
       "    <tr>\n",
       "      <th>1</th>\n",
       "      <td>/scratch/pbsjobs/axy327/dev/35a17e2f-5b12-4886...</td>\n",
       "      <td>unstable bos fracture of unspecified thoracic ...</td>\n",
       "      <td>/data/data/intron/35a17e2f-5b12-4886-ad2c-c1aa...</td>\n",
       "    </tr>\n",
       "  </tbody>\n",
       "</table>\n",
       "</div>"
      ],
      "text/plain": [
       "                                                   0  \\\n",
       "0  /scratch/pbsjobs/axy327/dev/a25d5981-d814-4eef...   \n",
       "1  /scratch/pbsjobs/axy327/dev/35a17e2f-5b12-4886...   \n",
       "\n",
       "                                                   1  \\\n",
       "0                        construction and sea trials   \n",
       "1  unstable bos fracture of unspecified thoracic ...   \n",
       "\n",
       "                                         audio_paths  \n",
       "0  /data/data/intron/a25d5981-d814-4eef-8637-cc35...  \n",
       "1  /data/data/intron/35a17e2f-5b12-4886-ad2c-c1aa...  "
      ]
     },
     "execution_count": 50,
     "metadata": {},
     "output_type": "execute_result"
    }
   ],
   "source": [
    "nemo_ctc_raw = pd.read_csv(\"../results/african-nlp-nemo-ctc-predictons\", header=None, delimiter=\"\t\")\n",
    "nemo_ctc_raw[\"audio_paths\"] = nemo_ctc_raw[0].apply(lambda x: x.replace(\"/scratch/pbsjobs/axy327/dev/\", \"/data/data/intron/\"))\n",
    "print(nemo_ctc_raw.shape)\n",
    "nemo_ctc_raw.head(2)"
   ]
  },
  {
   "cell_type": "code",
   "execution_count": 71,
   "id": "a68dec8d",
   "metadata": {},
   "outputs": [
    {
     "name": "stdout",
     "output_type": "stream",
     "text": [
      "(2872, 9)\n",
      "(2, 10)\n",
      "(0, 10)\n"
     ]
    }
   ],
   "source": [
    "nemo_ctc = transform_raw_df(nemo_ctc_raw, columns=columns, fmt=\"nemo\")\n",
    "nemo_ctc_clean = clean_and_compute_wer(nemo_ctc)"
   ]
  },
  {
   "cell_type": "code",
   "execution_count": 72,
   "id": "f44d04ac",
   "metadata": {},
   "outputs": [
    {
     "name": "stdout",
     "output_type": "stream",
     "text": [
      "0.6767011051916588\n",
      "0.5503160383940416\n"
     ]
    }
   ],
   "source": [
    "print(nemo_ctc[\"wer\"].mean())\n",
    "print(nemo_ctc_clean[\"wer\"].mean())"
   ]
  },
  {
   "cell_type": "code",
   "execution_count": 105,
   "id": "d61103a3",
   "metadata": {},
   "outputs": [],
   "source": [
    "predictions_df = nemo_ctc\n",
    "model_id_or_path = \"nemo_conformer_ctc_large\"\n",
    "write_to_folder(model_id_or_path=model_id_or_path, predictions_df=predictions_df)"
   ]
  },
  {
   "cell_type": "code",
   "execution_count": 104,
   "id": "c6c41881",
   "metadata": {},
   "outputs": [],
   "source": [
    "predictions_df = nemo_ctc_clean\n",
    "model_id_or_path = \"nemo_conformer_ctc_large_clean\"\n",
    "write_to_folder(model_id_or_path=model_id_or_path, predictions_df=predictions_df)"
   ]
  },
  {
   "cell_type": "markdown",
   "id": "9fb37a81",
   "metadata": {},
   "source": [
    "## Nemo-conformer-transducer-large"
   ]
  },
  {
   "cell_type": "code",
   "execution_count": 73,
   "id": "110f8ac7",
   "metadata": {},
   "outputs": [
    {
     "name": "stdout",
     "output_type": "stream",
     "text": [
      "(3227, 3)\n"
     ]
    },
    {
     "data": {
      "text/html": [
       "<div>\n",
       "<style scoped>\n",
       "    .dataframe tbody tr th:only-of-type {\n",
       "        vertical-align: middle;\n",
       "    }\n",
       "\n",
       "    .dataframe tbody tr th {\n",
       "        vertical-align: top;\n",
       "    }\n",
       "\n",
       "    .dataframe thead th {\n",
       "        text-align: right;\n",
       "    }\n",
       "</style>\n",
       "<table border=\"1\" class=\"dataframe\">\n",
       "  <thead>\n",
       "    <tr style=\"text-align: right;\">\n",
       "      <th></th>\n",
       "      <th>0</th>\n",
       "      <th>1</th>\n",
       "      <th>audio_paths</th>\n",
       "    </tr>\n",
       "  </thead>\n",
       "  <tbody>\n",
       "    <tr>\n",
       "      <th>0</th>\n",
       "      <td>/scratch/pbsjobs/axy327/dev/a25d5981-d814-4eef...</td>\n",
       "      <td>construction and sea trials</td>\n",
       "      <td>/data/data/intron/a25d5981-d814-4eef-8637-cc35...</td>\n",
       "    </tr>\n",
       "    <tr>\n",
       "      <th>1</th>\n",
       "      <td>/scratch/pbsjobs/axy327/dev/35a17e2f-5b12-4886...</td>\n",
       "      <td>unstable boss fracture of unspecified thoracic...</td>\n",
       "      <td>/data/data/intron/35a17e2f-5b12-4886-ad2c-c1aa...</td>\n",
       "    </tr>\n",
       "  </tbody>\n",
       "</table>\n",
       "</div>"
      ],
      "text/plain": [
       "                                                   0  \\\n",
       "0  /scratch/pbsjobs/axy327/dev/a25d5981-d814-4eef...   \n",
       "1  /scratch/pbsjobs/axy327/dev/35a17e2f-5b12-4886...   \n",
       "\n",
       "                                                   1  \\\n",
       "0                        construction and sea trials   \n",
       "1  unstable boss fracture of unspecified thoracic...   \n",
       "\n",
       "                                         audio_paths  \n",
       "0  /data/data/intron/a25d5981-d814-4eef-8637-cc35...  \n",
       "1  /data/data/intron/35a17e2f-5b12-4886-ad2c-c1aa...  "
      ]
     },
     "execution_count": 73,
     "metadata": {},
     "output_type": "execute_result"
    }
   ],
   "source": [
    "nemo_transducer_raw = pd.read_csv(\"../results/african-nlp-nemo-transducer-predictons\", header=None, delimiter=\"\t\")\n",
    "nemo_transducer_raw[\"audio_paths\"] = nemo_transducer_raw[0].apply(lambda x: x.replace(\"/scratch/pbsjobs/axy327/dev/\", \"/data/data/intron/\"))\n",
    "print(nemo_transducer_raw.shape)\n",
    "nemo_transducer_raw.head(2)"
   ]
  },
  {
   "cell_type": "code",
   "execution_count": 92,
   "id": "6de73f3c",
   "metadata": {},
   "outputs": [
    {
     "name": "stdout",
     "output_type": "stream",
     "text": [
      "(2872, 9)\n",
      "(6, 10)\n",
      "(0, 10)\n"
     ]
    }
   ],
   "source": [
    "nemo_transducer = transform_raw_df(nemo_transducer_raw, columns=columns, fmt=\"african-nlp\")\n",
    "nemo_transducer_clean = clean_and_compute_wer(nemo_transducer)"
   ]
  },
  {
   "cell_type": "code",
   "execution_count": 75,
   "id": "3754aead",
   "metadata": {
    "scrolled": true
   },
   "outputs": [
    {
     "name": "stdout",
     "output_type": "stream",
     "text": [
      "0.6637992751483184\n",
      "0.5245269422772046\n"
     ]
    }
   ],
   "source": [
    "print(nemo_transducer[\"wer\"].mean())\n",
    "print(nemo_transducer_clean[\"wer\"].mean())"
   ]
  },
  {
   "cell_type": "code",
   "execution_count": 102,
   "id": "b924857e",
   "metadata": {},
   "outputs": [],
   "source": [
    "predictions_df = nemo_transducer\n",
    "model_id_or_path = \"nemo_conformer_transducer_large\"\n",
    "write_to_folder(model_id_or_path=model_id_or_path, predictions_df=predictions_df)"
   ]
  },
  {
   "cell_type": "code",
   "execution_count": 103,
   "id": "d1aec338",
   "metadata": {},
   "outputs": [],
   "source": [
    "predictions_df = nemo_transducer_clean\n",
    "model_id_or_path = \"nemo_conformer_transducer_large_clean\"\n",
    "write_to_folder(model_id_or_path=model_id_or_path, predictions_df=predictions_df)"
   ]
  },
  {
   "cell_type": "markdown",
   "id": "ea7b92c6",
   "metadata": {},
   "source": [
    "# Speech Brain"
   ]
  },
  {
   "cell_type": "code",
   "execution_count": 90,
   "id": "a05962e1",
   "metadata": {},
   "outputs": [
    {
     "name": "stdout",
     "output_type": "stream",
     "text": [
      "(3227, 3)\n"
     ]
    },
    {
     "data": {
      "text/html": [
       "<div>\n",
       "<style scoped>\n",
       "    .dataframe tbody tr th:only-of-type {\n",
       "        vertical-align: middle;\n",
       "    }\n",
       "\n",
       "    .dataframe tbody tr th {\n",
       "        vertical-align: top;\n",
       "    }\n",
       "\n",
       "    .dataframe thead th {\n",
       "        text-align: right;\n",
       "    }\n",
       "</style>\n",
       "<table border=\"1\" class=\"dataframe\">\n",
       "  <thead>\n",
       "    <tr style=\"text-align: right;\">\n",
       "      <th></th>\n",
       "      <th>0</th>\n",
       "      <th>1</th>\n",
       "      <th>audio_paths</th>\n",
       "    </tr>\n",
       "  </thead>\n",
       "  <tbody>\n",
       "    <tr>\n",
       "      <th>0</th>\n",
       "      <td>/scratch/pbsjobs/axy327/dev/a25d5981-d814-4eef...</td>\n",
       "      <td>CONSTRUCTION AND C TRIALS</td>\n",
       "      <td>/data/data/intron/a25d5981-d814-4eef-8637-cc35...</td>\n",
       "    </tr>\n",
       "    <tr>\n",
       "      <th>1</th>\n",
       "      <td>/scratch/pbsjobs/axy327/dev/35a17e2f-5b12-4886...</td>\n",
       "      <td>STUBBLE BOSS RUPTURE OF OSPREY'S WIFE'S THORAC...</td>\n",
       "      <td>/data/data/intron/35a17e2f-5b12-4886-ad2c-c1aa...</td>\n",
       "    </tr>\n",
       "  </tbody>\n",
       "</table>\n",
       "</div>"
      ],
      "text/plain": [
       "                                                   0  \\\n",
       "0  /scratch/pbsjobs/axy327/dev/a25d5981-d814-4eef...   \n",
       "1  /scratch/pbsjobs/axy327/dev/35a17e2f-5b12-4886...   \n",
       "\n",
       "                                                   1  \\\n",
       "0                          CONSTRUCTION AND C TRIALS   \n",
       "1  STUBBLE BOSS RUPTURE OF OSPREY'S WIFE'S THORAC...   \n",
       "\n",
       "                                         audio_paths  \n",
       "0  /data/data/intron/a25d5981-d814-4eef-8637-cc35...  \n",
       "1  /data/data/intron/35a17e2f-5b12-4886-ad2c-c1aa...  "
      ]
     },
     "execution_count": 90,
     "metadata": {},
     "output_type": "execute_result"
    }
   ],
   "source": [
    "speech_brain_raw = pd.read_csv(\"../results/african-nlp-speechbrain-predictons\", header=None, delimiter=\"\t\")\n",
    "speech_brain_raw[\"audio_paths\"] = nemo_transducer_raw[0].apply(lambda x: x.replace(\"/scratch/pbsjobs/axy327/dev/\", \"/data/data/intron/\"))\n",
    "print(speech_brain_raw.shape)\n",
    "speech_brain_raw.head(2)"
   ]
  },
  {
   "cell_type": "code",
   "execution_count": 93,
   "id": "183e5911",
   "metadata": {},
   "outputs": [
    {
     "name": "stdout",
     "output_type": "stream",
     "text": [
      "(2872, 9)\n",
      "(1, 10)\n",
      "(0, 10)\n"
     ]
    }
   ],
   "source": [
    "speech_brain = transform_raw_df(speech_brain_raw, columns=columns, fmt=\"african-nlp\")\n",
    "speech_brain_clean = clean_and_compute_wer(speech_brain)"
   ]
  },
  {
   "cell_type": "code",
   "execution_count": 94,
   "id": "f45b002c",
   "metadata": {},
   "outputs": [
    {
     "name": "stdout",
     "output_type": "stream",
     "text": [
      "1.3610988905098031\n",
      "0.976453580724285\n"
     ]
    }
   ],
   "source": [
    "print(speech_brain[\"wer\"].mean())\n",
    "print(speech_brain_clean[\"wer\"].mean())"
   ]
  },
  {
   "cell_type": "code",
   "execution_count": 100,
   "id": "c9bf4fdf",
   "metadata": {},
   "outputs": [],
   "source": [
    "predictions_df=speech_brain\n",
    "model_id_or_path=\"speechbrain_crdnn_rnnlm_librispeech\"\n",
    "write_to_folder(model_id_or_path=model_id_or_path, predictions_df=predictions_df)"
   ]
  },
  {
   "cell_type": "code",
   "execution_count": 101,
   "id": "c829c399",
   "metadata": {},
   "outputs": [],
   "source": [
    "predictions_df=speech_brain_clean\n",
    "model_id_or_path=\"speechbrain_crdnn_rnnlm_librispeech_clean\"\n",
    "write_to_folder(model_id_or_path=model_id_or_path, predictions_df=predictions_df)"
   ]
  },
  {
   "cell_type": "markdown",
   "id": "a9f8c855",
   "metadata": {},
   "source": [
    "# AWS"
   ]
  },
  {
   "cell_type": "markdown",
   "id": "5dbbd12e",
   "metadata": {},
   "source": [
    "## Medical"
   ]
  },
  {
   "cell_type": "code",
   "execution_count": 96,
   "id": "3e30a6c1",
   "metadata": {},
   "outputs": [
    {
     "name": "stdout",
     "output_type": "stream",
     "text": [
      "(3232, 15)\n"
     ]
    }
   ],
   "source": [
    "aws_medical_raw = pd.read_csv(\"../results/intron-open-dev-aws-transcribe-medical-wer-0.5544-3232.csv\")\n",
    "print(aws_medical_raw.shape)"
   ]
  },
  {
   "cell_type": "code",
   "execution_count": 97,
   "id": "9fbfc73b",
   "metadata": {},
   "outputs": [
    {
     "data": {
      "text/html": [
       "<div>\n",
       "<style scoped>\n",
       "    .dataframe tbody tr th:only-of-type {\n",
       "        vertical-align: middle;\n",
       "    }\n",
       "\n",
       "    .dataframe tbody tr th {\n",
       "        vertical-align: top;\n",
       "    }\n",
       "\n",
       "    .dataframe thead th {\n",
       "        text-align: right;\n",
       "    }\n",
       "</style>\n",
       "<table border=\"1\" class=\"dataframe\">\n",
       "  <thead>\n",
       "    <tr style=\"text-align: right;\">\n",
       "      <th></th>\n",
       "      <th>idx</th>\n",
       "      <th>user_ids</th>\n",
       "      <th>accent</th>\n",
       "      <th>age_group</th>\n",
       "      <th>country</th>\n",
       "      <th>transcript</th>\n",
       "      <th>nchars</th>\n",
       "      <th>audio_ids</th>\n",
       "      <th>audio_paths</th>\n",
       "      <th>duration</th>\n",
       "      <th>origin</th>\n",
       "      <th>domain</th>\n",
       "      <th>split</th>\n",
       "      <th>predictions</th>\n",
       "      <th>wer</th>\n",
       "    </tr>\n",
       "  </thead>\n",
       "  <tbody>\n",
       "    <tr>\n",
       "      <th>0</th>\n",
       "      <td>72663</td>\n",
       "      <td>f559cb4f16bc465ea44b56a8d3b5513e</td>\n",
       "      <td>swahili</td>\n",
       "      <td>19-25</td>\n",
       "      <td>KE</td>\n",
       "      <td>Ensure the correct placement of the feeding tu...</td>\n",
       "      <td>206</td>\n",
       "      <td>29af500daee748498b3329352fbc170a</td>\n",
       "      <td>/AfriSpeech-100/dev/e809b58c-4f05-4754-b98c-fb...</td>\n",
       "      <td>16.421995</td>\n",
       "      <td>african</td>\n",
       "      <td>clinical</td>\n",
       "      <td>dev</td>\n",
       "      <td>ensure the correct placement of the feeding tu...</td>\n",
       "      <td>0.451613</td>\n",
       "    </tr>\n",
       "    <tr>\n",
       "      <th>1</th>\n",
       "      <td>153902</td>\n",
       "      <td>2be9bc423e70a24c703f8336e60af3f3</td>\n",
       "      <td>swahili</td>\n",
       "      <td>19-25</td>\n",
       "      <td>KE</td>\n",
       "      <td>Regardlessof how amyocyteis stimulated,however...</td>\n",
       "      <td>143</td>\n",
       "      <td>b87324a3c5ca065494f385e4f49e4b23</td>\n",
       "      <td>/AfriSpeech-100/dev/7ce31a48-f507-4344-bc49-96...</td>\n",
       "      <td>11.393991</td>\n",
       "      <td>african</td>\n",
       "      <td>clinical</td>\n",
       "      <td>dev</td>\n",
       "      <td>regardless of how a market is stimulated, howe...</td>\n",
       "      <td>0.555556</td>\n",
       "    </tr>\n",
       "  </tbody>\n",
       "</table>\n",
       "</div>"
      ],
      "text/plain": [
       "      idx                          user_ids   accent age_group country  \\\n",
       "0   72663  f559cb4f16bc465ea44b56a8d3b5513e  swahili     19-25      KE   \n",
       "1  153902  2be9bc423e70a24c703f8336e60af3f3  swahili     19-25      KE   \n",
       "\n",
       "                                          transcript  nchars  \\\n",
       "0  Ensure the correct placement of the feeding tu...     206   \n",
       "1  Regardlessof how amyocyteis stimulated,however...     143   \n",
       "\n",
       "                          audio_ids  \\\n",
       "0  29af500daee748498b3329352fbc170a   \n",
       "1  b87324a3c5ca065494f385e4f49e4b23   \n",
       "\n",
       "                                         audio_paths   duration   origin  \\\n",
       "0  /AfriSpeech-100/dev/e809b58c-4f05-4754-b98c-fb...  16.421995  african   \n",
       "1  /AfriSpeech-100/dev/7ce31a48-f507-4344-bc49-96...  11.393991  african   \n",
       "\n",
       "     domain split                                        predictions       wer  \n",
       "0  clinical   dev  ensure the correct placement of the feeding tu...  0.451613  \n",
       "1  clinical   dev  regardless of how a market is stimulated, howe...  0.555556  "
      ]
     },
     "execution_count": 97,
     "metadata": {},
     "output_type": "execute_result"
    }
   ],
   "source": [
    "aws_medical_raw.head(2)"
   ]
  },
  {
   "cell_type": "code",
   "execution_count": null,
   "id": "ebc6c471",
   "metadata": {},
   "outputs": [],
   "source": []
  },
  {
   "cell_type": "markdown",
   "id": "11929072",
   "metadata": {},
   "source": [
    "# Other statistics\n",
    "\n",
    "- compute per-accent statistics\n",
    "- compute per-gender statistics\n",
    "- compute per-domain statistics\n",
    "- compute per age-group statistics"
   ]
  },
  {
   "cell_type": "code",
   "execution_count": null,
   "id": "c1aaeb4b",
   "metadata": {},
   "outputs": [],
   "source": []
  }
 ],
 "metadata": {
  "kernelspec": {
   "display_name": "Python 3 (ipykernel)",
   "language": "python",
   "name": "python3"
  },
  "language_info": {
   "codemirror_mode": {
    "name": "ipython",
    "version": 3
   },
   "file_extension": ".py",
   "mimetype": "text/x-python",
   "name": "python",
   "nbconvert_exporter": "python",
   "pygments_lexer": "ipython3",
   "version": "3.9.6"
  }
 },
 "nbformat": 4,
 "nbformat_minor": 5
}
