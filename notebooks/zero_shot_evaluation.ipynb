{
 "cells": [
  {
   "cell_type": "code",
   "execution_count": 1,
   "id": "7f7e6556",
   "metadata": {},
   "outputs": [],
   "source": [
    "import warnings\n",
    "warnings.filterwarnings(\"ignore\")"
   ]
  },
  {
   "cell_type": "code",
   "execution_count": 2,
   "id": "964a1f7e",
   "metadata": {},
   "outputs": [],
   "source": [
    "import pandas as pd\n",
    "import seaborn as sns\n",
    "import numpy as np\n",
    "import matplotlib.pyplot as plt\n",
    "from datasets import load_metric\n",
    "import sys\n",
    "sys.path.append(\"..\")\n",
    "from src.utils.text_processing import clean_text"
   ]
  },
  {
   "cell_type": "code",
   "execution_count": 3,
   "id": "51efb50e",
   "metadata": {},
   "outputs": [],
   "source": [
    "wer_metric = load_metric(\"wer\")"
   ]
  },
  {
   "cell_type": "code",
   "execution_count": 4,
   "id": "c8f92f92",
   "metadata": {},
   "outputs": [
    {
     "name": "stdout",
     "output_type": "stream",
     "text": [
      "(3231, 14)\n"
     ]
    },
    {
     "data": {
      "text/html": [
       "<div>\n",
       "<style scoped>\n",
       "    .dataframe tbody tr th:only-of-type {\n",
       "        vertical-align: middle;\n",
       "    }\n",
       "\n",
       "    .dataframe tbody tr th {\n",
       "        vertical-align: top;\n",
       "    }\n",
       "\n",
       "    .dataframe thead th {\n",
       "        text-align: right;\n",
       "    }\n",
       "</style>\n",
       "<table border=\"1\" class=\"dataframe\">\n",
       "  <thead>\n",
       "    <tr style=\"text-align: right;\">\n",
       "      <th></th>\n",
       "      <th>idx</th>\n",
       "      <th>user_ids</th>\n",
       "      <th>accent</th>\n",
       "      <th>age_group</th>\n",
       "      <th>country</th>\n",
       "      <th>transcript</th>\n",
       "      <th>nchars</th>\n",
       "      <th>audio_ids</th>\n",
       "      <th>audio_path</th>\n",
       "      <th>duration</th>\n",
       "      <th>origin</th>\n",
       "      <th>domain</th>\n",
       "      <th>split</th>\n",
       "      <th>gender</th>\n",
       "    </tr>\n",
       "  </thead>\n",
       "  <tbody>\n",
       "    <tr>\n",
       "      <th>0</th>\n",
       "      <td>155349</td>\n",
       "      <td>659e36c14baaf7fa7bb197f951251f4b</td>\n",
       "      <td>setswana</td>\n",
       "      <td>26-40</td>\n",
       "      <td>BW</td>\n",
       "      <td>We should be asking ourselves whether we want ...</td>\n",
       "      <td>110</td>\n",
       "      <td>86ad3ef21e469217f28a749c990c81fd</td>\n",
       "      <td>/AfriSpeech-100/dev/92d2b94e-3e31-40be-b479-50...</td>\n",
       "      <td>8.400998</td>\n",
       "      <td>african</td>\n",
       "      <td>general</td>\n",
       "      <td>dev</td>\n",
       "      <td>Male</td>\n",
       "    </tr>\n",
       "    <tr>\n",
       "      <th>1</th>\n",
       "      <td>60812</td>\n",
       "      <td>1fd5f717cede9a867bf37d03c7d2166b</td>\n",
       "      <td>siswati</td>\n",
       "      <td>26-40</td>\n",
       "      <td>ZA</td>\n",
       "      <td>Other sagittal planes parallel to this off cen...</td>\n",
       "      <td>88</td>\n",
       "      <td>5409734bcc4a0f053e73f405d0f135da</td>\n",
       "      <td>/AfriSpeech-100/dev/127bdba1-8bc8-44a4-9c37-8e...</td>\n",
       "      <td>5.236984</td>\n",
       "      <td>african</td>\n",
       "      <td>clinical</td>\n",
       "      <td>dev</td>\n",
       "      <td>Female</td>\n",
       "    </tr>\n",
       "    <tr>\n",
       "      <th>2</th>\n",
       "      <td>139668</td>\n",
       "      <td>f2d08d2e1c47a187bfa6869fadc1f755</td>\n",
       "      <td>setswana</td>\n",
       "      <td>26-40</td>\n",
       "      <td>ZA</td>\n",
       "      <td>Tuberculoma is an intracranial massoccurring s...</td>\n",
       "      <td>109</td>\n",
       "      <td>b10dc4e959b6596d31866e5094ef500a</td>\n",
       "      <td>/AfriSpeech-100/dev/de0b1ee6-46f1-4eb6-a747-47...</td>\n",
       "      <td>7.072993</td>\n",
       "      <td>african</td>\n",
       "      <td>clinical</td>\n",
       "      <td>dev</td>\n",
       "      <td>Male</td>\n",
       "    </tr>\n",
       "  </tbody>\n",
       "</table>\n",
       "</div>"
      ],
      "text/plain": [
       "      idx                          user_ids    accent age_group country  \\\n",
       "0  155349  659e36c14baaf7fa7bb197f951251f4b  setswana     26-40      BW   \n",
       "1   60812  1fd5f717cede9a867bf37d03c7d2166b   siswati     26-40      ZA   \n",
       "2  139668  f2d08d2e1c47a187bfa6869fadc1f755  setswana     26-40      ZA   \n",
       "\n",
       "                                          transcript  nchars  \\\n",
       "0  We should be asking ourselves whether we want ...     110   \n",
       "1  Other sagittal planes parallel to this off cen...      88   \n",
       "2  Tuberculoma is an intracranial massoccurring s...     109   \n",
       "\n",
       "                          audio_ids  \\\n",
       "0  86ad3ef21e469217f28a749c990c81fd   \n",
       "1  5409734bcc4a0f053e73f405d0f135da   \n",
       "2  b10dc4e959b6596d31866e5094ef500a   \n",
       "\n",
       "                                          audio_path  duration   origin  \\\n",
       "0  /AfriSpeech-100/dev/92d2b94e-3e31-40be-b479-50...  8.400998  african   \n",
       "1  /AfriSpeech-100/dev/127bdba1-8bc8-44a4-9c37-8e...  5.236984  african   \n",
       "2  /AfriSpeech-100/dev/de0b1ee6-46f1-4eb6-a747-47...  7.072993  african   \n",
       "\n",
       "     domain split  gender  \n",
       "0   general   dev    Male  \n",
       "1  clinical   dev  Female  \n",
       "2  clinical   dev    Male  "
      ]
     },
     "execution_count": 4,
     "metadata": {},
     "output_type": "execute_result"
    }
   ],
   "source": [
    "dev_df = pd.read_csv(\"../data/intron-dev-public-3231-clean.csv\")\n",
    "print(dev_df.shape)\n",
    "dev_df.head(3)"
   ]
  },
  {
   "cell_type": "code",
   "execution_count": 5,
   "id": "9b4d1718",
   "metadata": {},
   "outputs": [
    {
     "name": "stdout",
     "output_type": "stream",
     "text": [
      "(3227, 14)\n"
     ]
    }
   ],
   "source": [
    "dev_df = dev_df[~dev_df.duplicated(subset=\"audio_path\")]\n",
    "print(dev_df.shape)"
   ]
  },
  {
   "cell_type": "code",
   "execution_count": 6,
   "id": "1ebcb968",
   "metadata": {},
   "outputs": [
    {
     "data": {
      "text/plain": [
       "(2872, 22)"
      ]
     },
     "execution_count": 6,
     "metadata": {},
     "output_type": "execute_result"
    }
   ],
   "source": [
    "dev_df[\"audio_paths\"] = dev_df[\"audio_path\"].apply(lambda x: x.replace(\"/AfriSpeech-100/dev/\", \"/data/data/intron/\"))\n",
    "df = pd.read_csv(\"../results/intron-open-dev-whisper_medium-wer-0.3049-2872.csv\")\n",
    "df = pd.merge(df, dev_df, on=\"audio_paths\")\n",
    "df.shape"
   ]
  },
  {
   "cell_type": "code",
   "execution_count": 7,
   "id": "7d3cb691",
   "metadata": {},
   "outputs": [
    {
     "data": {
      "text/html": [
       "<div>\n",
       "<style scoped>\n",
       "    .dataframe tbody tr th:only-of-type {\n",
       "        vertical-align: middle;\n",
       "    }\n",
       "\n",
       "    .dataframe tbody tr th {\n",
       "        vertical-align: top;\n",
       "    }\n",
       "\n",
       "    .dataframe thead th {\n",
       "        text-align: right;\n",
       "    }\n",
       "</style>\n",
       "<table border=\"1\" class=\"dataframe\">\n",
       "  <thead>\n",
       "    <tr style=\"text-align: right;\">\n",
       "      <th></th>\n",
       "      <th>idx</th>\n",
       "      <th>audio_paths</th>\n",
       "    </tr>\n",
       "  </thead>\n",
       "  <tbody>\n",
       "    <tr>\n",
       "      <th>0</th>\n",
       "      <td>72663</td>\n",
       "      <td>/data/data/intron/e809b58c-4f05-4754-b98c-fbf2...</td>\n",
       "    </tr>\n",
       "    <tr>\n",
       "      <th>1</th>\n",
       "      <td>153902</td>\n",
       "      <td>/data/data/intron/7ce31a48-f507-4344-bc49-96de...</td>\n",
       "    </tr>\n",
       "    <tr>\n",
       "      <th>2</th>\n",
       "      <td>82671</td>\n",
       "      <td>/data/data/intron/b8f6fbc1-426f-4a4b-99db-c38d...</td>\n",
       "    </tr>\n",
       "  </tbody>\n",
       "</table>\n",
       "</div>"
      ],
      "text/plain": [
       "      idx                                        audio_paths\n",
       "0   72663  /data/data/intron/e809b58c-4f05-4754-b98c-fbf2...\n",
       "1  153902  /data/data/intron/7ce31a48-f507-4344-bc49-96de...\n",
       "2   82671  /data/data/intron/b8f6fbc1-426f-4a4b-99db-c38d..."
      ]
     },
     "execution_count": 7,
     "metadata": {},
     "output_type": "execute_result"
    }
   ],
   "source": [
    "mapping_df = df[[\"idx\", \"audio_paths\"]]\n",
    "mapping_df.head(3)"
   ]
  },
  {
   "cell_type": "code",
   "execution_count": 8,
   "id": "45b79484",
   "metadata": {},
   "outputs": [],
   "source": [
    "models_df = pd.DataFrame()\n",
    "models_df_clean = pd.DataFrame()"
   ]
  },
  {
   "cell_type": "code",
   "execution_count": 9,
   "id": "998869b4",
   "metadata": {},
   "outputs": [],
   "source": [
    "# Handy functions\n",
    "def transform_raw_df(df_raw, columns=[], fmt=\"intron_whisper\"):\n",
    "    assert fmt != \"\" or fmt is not None\n",
    "    \n",
    "    df = df_raw.copy()\n",
    "    \n",
    "    if fmt == \"intron_whisper\":\n",
    "        df = pd.merge(df, dev_df, on=\"audio_paths\")\n",
    "        df = pd.merge(df, mapping_df, on=\"idx\")\n",
    "\n",
    "        df = df[columns+[\"transcript\", \"hypothesis\", \"audio_paths_x\", \"accent_x\"]]\n",
    "        df.loc[:, \"accent\"] = df.loc[:, \"accent_x\"]\n",
    "        df.loc[:, \"audio_paths\"] = df.loc[:, \"audio_paths_x\"]\n",
    "        df.loc[:, \"reference\"] = df.loc[:, \"transcript\"]\n",
    "        df.loc[:, \"prediction\"] = df.loc[:, \"hypothesis\"]\n",
    "        df = df.drop(columns=[\"accent_x\", \"audio_paths_x\", \"hypothesis\", \"transcript\"])\n",
    "    \n",
    "    elif fmt == \"african_nlp\":\n",
    "        df = pd.merge(df, dev_df, on=\"audio_paths\")\n",
    "        df = pd.merge(df, mapping_df, on=\"idx\")\n",
    "\n",
    "        df = df[columns+[\"accent\", \"user_ids\", \"transcript\", 1]]\n",
    "        df.loc[:, \"reference\"] = df.loc[:, \"transcript\"]\n",
    "        df.loc[:, \"prediction\"] = df.loc[:, 1]\n",
    "        df = df.drop(columns=[1, \"transcript\"])\n",
    "\n",
    "    elif fmt == \"aws\":\n",
    "        df = pd.merge(df[[\"idx\", \"transcript\", \"predictions\"]], dev_df, on=\"idx\")\n",
    "        df = pd.merge(df, mapping_df, on=\"idx\")\n",
    "\n",
    "        df = df[columns+[\"accent\", \"user_ids\", \"transcript_x\", \"predictions\"]]\n",
    "        df.loc[:, \"reference\"] = df.loc[:, \"transcript_x\"]\n",
    "        df.loc[:, \"prediction\"] = df.loc[:, \"predictions\"]\n",
    "        df = df.drop(columns=[\"transcript_x\", \"predictions\"])\n",
    "\n",
    "    elif fmt == \"azure\":\n",
    "        df = pd.merge(df[[\"idx\", \"transcript\", \"predictions_raw\"]], dev_df, on=\"idx\")\n",
    "        df = pd.merge(df, mapping_df, on=\"idx\")\n",
    "\n",
    "        df = df[columns+[\"accent\", \"user_ids\", \"transcript_x\", \"predictions_raw\"]]\n",
    "        df.loc[:, \"reference\"] = df.loc[:, \"transcript_x\"]\n",
    "        df.loc[:, \"prediction\"] = df.loc[:, \"predictions_raw\"]\n",
    "        df = df.drop(columns=[\"transcript_x\", \"predictions_raw\"])\n",
    "    \n",
    "    elif fmt == \"wav2vec2\":\n",
    "        df.loc[:, \"audio_paths\"] = df[\"audio_path\"]\n",
    "        df = pd.merge(df[[\"audio_paths\", \"text\", \"predictions_raw\"]], dev_df, on=\"audio_paths\")\n",
    "        df = pd.merge(df, mapping_df, on=\"idx\")\n",
    "\n",
    "        df = df[columns+[\"accent\", \"user_ids\", \"text\", \"predictions_raw\"]]\n",
    "        df.loc[:, \"reference\"] = df.loc[:, \"text\"]\n",
    "        df.loc[:, \"prediction\"] = df.loc[:, \"predictions_raw\"]\n",
    "        df = df.drop(columns=[\"text\", \"predictions_raw\"])\n",
    "    \n",
    "    elif fmt in df.columns:\n",
    "        df = pd.merge(df[[\"idx\", \"transcript\", fmt]], dev_df, on=\"idx\")\n",
    "        df = pd.merge(df, mapping_df, on=\"idx\")\n",
    "\n",
    "        df = df[columns+[\"accent\", \"user_ids\", \"transcript_x\", fmt]]\n",
    "        df.loc[:, \"reference\"] = df.loc[:, \"transcript_x\"]\n",
    "        df.loc[:, \"prediction\"] = df.loc[:, fmt]\n",
    "        df = df.drop(columns=[\"transcript_x\", fmt])\n",
    "  \n",
    "    else:\n",
    "        raise NotImplementedError()\n",
    "    \n",
    "    print(df.shape)\n",
    "    df[\"wer\"] = df.apply(lambda x: wer_metric.compute(predictions=[x.prediction], references=[x.reference]), axis=1) \n",
    "    return df\n",
    "    \n",
    "\n",
    "\n",
    "def clean_and_compute_wer(df):\n",
    "    df_clean = df.copy()\n",
    "    \n",
    "    print(df_clean[df_clean[\"prediction\"].isnull()].shape)\n",
    "    \n",
    "    df_clean[\"prediction\"] = df_clean[\"prediction\"].fillna(\"\")\n",
    "    print(df_clean[df_clean[\"prediction\"].isnull()].shape)\n",
    "    \n",
    "    df_clean[\"reference\"] = df_clean[\"reference\"].apply(lambda x: clean_text(x))\n",
    "    df_clean[\"prediction\"] = df_clean[\"prediction\"].apply(lambda x: clean_text(x))\n",
    "    \n",
    "    df_clean[\"wer\"] = df_clean.apply(lambda x: wer_metric.compute(predictions=[x.prediction], \n",
    "                                                                  references=[x.reference]), axis=1)\n",
    "    return df_clean\n",
    "    \n",
    "    \n",
    "def write_to_folder(model_id_or_path, predictions_df, output_dir=\"../results/\", split=\"dev\"):\n",
    "    wer = predictions_df[\"wer\"].mean()\n",
    "    output_path = f\"{output_dir}/intron-open-{split}-{model_id_or_path}-wer-{round(wer, 4)}-{len(predictions_df)}.csv\"\n",
    "    predictions_df.to_csv(output_path, index=False)"
   ]
  },
  {
   "cell_type": "code",
   "execution_count": 10,
   "id": "5f6c55d6",
   "metadata": {},
   "outputs": [],
   "source": [
    "# make output dir\n",
    "import os\n",
    "os.makedirs(\"../results/raw\", exist_ok=True)\n",
    "os.makedirs(\"../results/normalized\", exist_ok=True)"
   ]
  },
  {
   "cell_type": "markdown",
   "id": "29dd74c2",
   "metadata": {},
   "source": [
    "# Compute WER"
   ]
  },
  {
   "cell_type": "markdown",
   "id": "0476bf67",
   "metadata": {},
   "source": [
    "## OpenAI"
   ]
  },
  {
   "cell_type": "code",
   "execution_count": 11,
   "id": "41401f4e",
   "metadata": {},
   "outputs": [
    {
     "name": "stdout",
     "output_type": "stream",
     "text": [
      "(3232, 10)\n"
     ]
    },
    {
     "data": {
      "text/html": [
       "<div>\n",
       "<style scoped>\n",
       "    .dataframe tbody tr th:only-of-type {\n",
       "        vertical-align: middle;\n",
       "    }\n",
       "\n",
       "    .dataframe tbody tr th {\n",
       "        vertical-align: top;\n",
       "    }\n",
       "\n",
       "    .dataframe thead th {\n",
       "        text-align: right;\n",
       "    }\n",
       "</style>\n",
       "<table border=\"1\" class=\"dataframe\">\n",
       "  <thead>\n",
       "    <tr style=\"text-align: right;\">\n",
       "      <th></th>\n",
       "      <th>Unnamed: 0</th>\n",
       "      <th>idx</th>\n",
       "      <th>user_ids</th>\n",
       "      <th>transcript</th>\n",
       "      <th>whisper_medium</th>\n",
       "      <th>whisper_large</th>\n",
       "      <th>wer</th>\n",
       "      <th>cleanup_references</th>\n",
       "      <th>cleanup_whisper</th>\n",
       "      <th>wer_cleanup</th>\n",
       "    </tr>\n",
       "  </thead>\n",
       "  <tbody>\n",
       "    <tr>\n",
       "      <th>0</th>\n",
       "      <td>0</td>\n",
       "      <td>72663</td>\n",
       "      <td>f559cb4f16bc465ea44b56a8d3b5513e</td>\n",
       "      <td>Ensure the correct placement of the feeding tu...</td>\n",
       "      <td>Ensure the correct placement of the feeding t...</td>\n",
       "      <td>Ensure the correct placement of the feeding t...</td>\n",
       "      <td>0.451613</td>\n",
       "      <td>ensure the correct placement of the feeding tu...</td>\n",
       "      <td>ensure the correct placement of the feeding tu...</td>\n",
       "      <td>0.290323</td>\n",
       "    </tr>\n",
       "    <tr>\n",
       "      <th>1</th>\n",
       "      <td>1</td>\n",
       "      <td>153902</td>\n",
       "      <td>2be9bc423e70a24c703f8336e60af3f3</td>\n",
       "      <td>Regardlessof how amyocyteis stimulated,however...</td>\n",
       "      <td>Regardless of how amyokites stimulated, howev...</td>\n",
       "      <td>Regardless of how a myocardial stimulation, h...</td>\n",
       "      <td>0.444444</td>\n",
       "      <td>regardlessof how amyocyteis stimulated however...</td>\n",
       "      <td>regardless of how amyokites stimulated  howeve...</td>\n",
       "      <td>0.250000</td>\n",
       "    </tr>\n",
       "    <tr>\n",
       "      <th>2</th>\n",
       "      <td>2</td>\n",
       "      <td>82671</td>\n",
       "      <td>a3c2c182b6b53089ef4bc3eccff103bf</td>\n",
       "      <td>For Nigeria to achieve similar noble goals, th...</td>\n",
       "      <td>For Nigeria to achieve similar noble goals, t...</td>\n",
       "      <td>For Nigeria to achieve similar noble goals, t...</td>\n",
       "      <td>0.222222</td>\n",
       "      <td>for nigeria to achieve similar noble goals  th...</td>\n",
       "      <td>for nigeria to achieve similar noble goals  th...</td>\n",
       "      <td>0.027778</td>\n",
       "    </tr>\n",
       "  </tbody>\n",
       "</table>\n",
       "</div>"
      ],
      "text/plain": [
       "   Unnamed: 0     idx                          user_ids  \\\n",
       "0           0   72663  f559cb4f16bc465ea44b56a8d3b5513e   \n",
       "1           1  153902  2be9bc423e70a24c703f8336e60af3f3   \n",
       "2           2   82671  a3c2c182b6b53089ef4bc3eccff103bf   \n",
       "\n",
       "                                          transcript  \\\n",
       "0  Ensure the correct placement of the feeding tu...   \n",
       "1  Regardlessof how amyocyteis stimulated,however...   \n",
       "2  For Nigeria to achieve similar noble goals, th...   \n",
       "\n",
       "                                      whisper_medium  \\\n",
       "0   Ensure the correct placement of the feeding t...   \n",
       "1   Regardless of how amyokites stimulated, howev...   \n",
       "2   For Nigeria to achieve similar noble goals, t...   \n",
       "\n",
       "                                       whisper_large       wer  \\\n",
       "0   Ensure the correct placement of the feeding t...  0.451613   \n",
       "1   Regardless of how a myocardial stimulation, h...  0.444444   \n",
       "2   For Nigeria to achieve similar noble goals, t...  0.222222   \n",
       "\n",
       "                                  cleanup_references  \\\n",
       "0  ensure the correct placement of the feeding tu...   \n",
       "1  regardlessof how amyocyteis stimulated however...   \n",
       "2  for nigeria to achieve similar noble goals  th...   \n",
       "\n",
       "                                     cleanup_whisper  wer_cleanup  \n",
       "0  ensure the correct placement of the feeding tu...     0.290323  \n",
       "1  regardless of how amyokites stimulated  howeve...     0.250000  \n",
       "2  for nigeria to achieve similar noble goals  th...     0.027778  "
      ]
     },
     "execution_count": 11,
     "metadata": {},
     "output_type": "execute_result"
    }
   ],
   "source": [
    "whspr = pd.read_csv(\"../results/whisper_wer_asr_dev.csv\")\n",
    "print(whspr.shape)\n",
    "whspr.head(3)"
   ]
  },
  {
   "cell_type": "code",
   "execution_count": 12,
   "id": "d1848c9b",
   "metadata": {},
   "outputs": [],
   "source": [
    "columns = [\"idx\", \"domain\", \"gender\", \"duration\", \"age_group\"]"
   ]
  },
  {
   "cell_type": "markdown",
   "id": "f8dab0d4",
   "metadata": {},
   "source": [
    "### Whisper-Large"
   ]
  },
  {
   "cell_type": "code",
   "execution_count": 13,
   "id": "345fbdb6",
   "metadata": {},
   "outputs": [
    {
     "name": "stdout",
     "output_type": "stream",
     "text": [
      "(2872, 9)\n",
      "(3, 10)\n",
      "(0, 10)\n"
     ]
    }
   ],
   "source": [
    "whspr_large = transform_raw_df(whspr, columns=columns, fmt=\"whisper_large\")\n",
    "whspr_large_clean = clean_and_compute_wer(whspr_large)"
   ]
  },
  {
   "cell_type": "code",
   "execution_count": 14,
   "id": "8ee1eca9",
   "metadata": {},
   "outputs": [
    {
     "data": {
      "text/html": [
       "<div>\n",
       "<style scoped>\n",
       "    .dataframe tbody tr th:only-of-type {\n",
       "        vertical-align: middle;\n",
       "    }\n",
       "\n",
       "    .dataframe tbody tr th {\n",
       "        vertical-align: top;\n",
       "    }\n",
       "\n",
       "    .dataframe thead th {\n",
       "        text-align: right;\n",
       "    }\n",
       "</style>\n",
       "<table border=\"1\" class=\"dataframe\">\n",
       "  <thead>\n",
       "    <tr style=\"text-align: right;\">\n",
       "      <th></th>\n",
       "      <th>idx</th>\n",
       "      <th>domain</th>\n",
       "      <th>gender</th>\n",
       "      <th>duration</th>\n",
       "      <th>age_group</th>\n",
       "      <th>accent</th>\n",
       "      <th>user_ids</th>\n",
       "      <th>reference</th>\n",
       "      <th>prediction</th>\n",
       "      <th>wer</th>\n",
       "    </tr>\n",
       "  </thead>\n",
       "  <tbody>\n",
       "    <tr>\n",
       "      <th>0</th>\n",
       "      <td>72663</td>\n",
       "      <td>clinical</td>\n",
       "      <td>Female</td>\n",
       "      <td>16.421995</td>\n",
       "      <td>19-25</td>\n",
       "      <td>swahili</td>\n",
       "      <td>f559cb4f16bc465ea44b56a8d3b5513e</td>\n",
       "      <td>Ensure the correct placement of the feeding tu...</td>\n",
       "      <td>Ensure the correct placement of the feeding t...</td>\n",
       "      <td>0.290323</td>\n",
       "    </tr>\n",
       "    <tr>\n",
       "      <th>1</th>\n",
       "      <td>153902</td>\n",
       "      <td>clinical</td>\n",
       "      <td>Female</td>\n",
       "      <td>11.393991</td>\n",
       "      <td>19-25</td>\n",
       "      <td>swahili</td>\n",
       "      <td>2be9bc423e70a24c703f8336e60af3f3</td>\n",
       "      <td>Regardlessof how amyocyteis stimulated,however...</td>\n",
       "      <td>Regardless of how a myocardial stimulation, h...</td>\n",
       "      <td>0.500000</td>\n",
       "    </tr>\n",
       "  </tbody>\n",
       "</table>\n",
       "</div>"
      ],
      "text/plain": [
       "      idx    domain  gender   duration age_group   accent  \\\n",
       "0   72663  clinical  Female  16.421995     19-25  swahili   \n",
       "1  153902  clinical  Female  11.393991     19-25  swahili   \n",
       "\n",
       "                           user_ids  \\\n",
       "0  f559cb4f16bc465ea44b56a8d3b5513e   \n",
       "1  2be9bc423e70a24c703f8336e60af3f3   \n",
       "\n",
       "                                           reference  \\\n",
       "0  Ensure the correct placement of the feeding tu...   \n",
       "1  Regardlessof how amyocyteis stimulated,however...   \n",
       "\n",
       "                                          prediction       wer  \n",
       "0   Ensure the correct placement of the feeding t...  0.290323  \n",
       "1   Regardless of how a myocardial stimulation, h...  0.500000  "
      ]
     },
     "execution_count": 14,
     "metadata": {},
     "output_type": "execute_result"
    }
   ],
   "source": [
    "whspr_large.head(2)"
   ]
  },
  {
   "cell_type": "code",
   "execution_count": 15,
   "id": "db817b2b",
   "metadata": {},
   "outputs": [
    {
     "data": {
      "text/html": [
       "<div>\n",
       "<style scoped>\n",
       "    .dataframe tbody tr th:only-of-type {\n",
       "        vertical-align: middle;\n",
       "    }\n",
       "\n",
       "    .dataframe tbody tr th {\n",
       "        vertical-align: top;\n",
       "    }\n",
       "\n",
       "    .dataframe thead th {\n",
       "        text-align: right;\n",
       "    }\n",
       "</style>\n",
       "<table border=\"1\" class=\"dataframe\">\n",
       "  <thead>\n",
       "    <tr style=\"text-align: right;\">\n",
       "      <th></th>\n",
       "      <th>idx</th>\n",
       "      <th>domain</th>\n",
       "      <th>gender</th>\n",
       "      <th>duration</th>\n",
       "      <th>age_group</th>\n",
       "      <th>accent</th>\n",
       "      <th>user_ids</th>\n",
       "      <th>reference</th>\n",
       "      <th>prediction</th>\n",
       "      <th>wer</th>\n",
       "    </tr>\n",
       "  </thead>\n",
       "  <tbody>\n",
       "    <tr>\n",
       "      <th>0</th>\n",
       "      <td>72663</td>\n",
       "      <td>clinical</td>\n",
       "      <td>Female</td>\n",
       "      <td>16.421995</td>\n",
       "      <td>19-25</td>\n",
       "      <td>swahili</td>\n",
       "      <td>f559cb4f16bc465ea44b56a8d3b5513e</td>\n",
       "      <td>ensure the correct placement of the feeding tu...</td>\n",
       "      <td>ensure the correct placement of the feeding tu...</td>\n",
       "      <td>0.290323</td>\n",
       "    </tr>\n",
       "    <tr>\n",
       "      <th>1</th>\n",
       "      <td>153902</td>\n",
       "      <td>clinical</td>\n",
       "      <td>Female</td>\n",
       "      <td>11.393991</td>\n",
       "      <td>19-25</td>\n",
       "      <td>swahili</td>\n",
       "      <td>2be9bc423e70a24c703f8336e60af3f3</td>\n",
       "      <td>regardlessof how amyocyteis stimulated,however...</td>\n",
       "      <td>regardless of how a myocardial stimulation, ho...</td>\n",
       "      <td>0.500000</td>\n",
       "    </tr>\n",
       "  </tbody>\n",
       "</table>\n",
       "</div>"
      ],
      "text/plain": [
       "      idx    domain  gender   duration age_group   accent  \\\n",
       "0   72663  clinical  Female  16.421995     19-25  swahili   \n",
       "1  153902  clinical  Female  11.393991     19-25  swahili   \n",
       "\n",
       "                           user_ids  \\\n",
       "0  f559cb4f16bc465ea44b56a8d3b5513e   \n",
       "1  2be9bc423e70a24c703f8336e60af3f3   \n",
       "\n",
       "                                           reference  \\\n",
       "0  ensure the correct placement of the feeding tu...   \n",
       "1  regardlessof how amyocyteis stimulated,however...   \n",
       "\n",
       "                                          prediction       wer  \n",
       "0  ensure the correct placement of the feeding tu...  0.290323  \n",
       "1  regardless of how a myocardial stimulation, ho...  0.500000  "
      ]
     },
     "execution_count": 15,
     "metadata": {},
     "output_type": "execute_result"
    }
   ],
   "source": [
    "whspr_large_clean.head(2)"
   ]
  },
  {
   "cell_type": "code",
   "execution_count": 16,
   "id": "57ba6656",
   "metadata": {},
   "outputs": [
    {
     "name": "stdout",
     "output_type": "stream",
     "text": [
      "0.5039740585544689\n",
      "0.4108835197703194\n"
     ]
    }
   ],
   "source": [
    "# WER\n",
    "print(whspr_large[\"wer\"].mean())\n",
    "print(whspr_large_clean[\"wer\"].mean())"
   ]
  },
  {
   "cell_type": "code",
   "execution_count": 17,
   "id": "270bdc70",
   "metadata": {},
   "outputs": [],
   "source": [
    "model_id_or_path = \"openai_whisper_large\"\n",
    "\n",
    "write_to_folder(model_id_or_path=model_id_or_path, \n",
    "                predictions_df=whspr_large, \n",
    "                output_dir=\"../results/raw\")\n",
    "\n",
    "write_to_folder(model_id_or_path=model_id_or_path, \n",
    "                predictions_df=whspr_large_clean,\n",
    "                output_dir=\"../results/normalized\")"
   ]
  },
  {
   "cell_type": "code",
   "execution_count": 18,
   "id": "a4d34b59",
   "metadata": {},
   "outputs": [],
   "source": [
    "whspr_large[\"name\"] = \"openai_whisper_large\"\n",
    "whspr_large_clean[\"name\"] = \"openai_whisper_large\"\n",
    "\n",
    "models_df = pd.concat([models_df, whspr_large])\n",
    "models_df_clean = pd.concat([models_df_clean, whspr_large_clean])"
   ]
  },
  {
   "cell_type": "markdown",
   "id": "0727b8b4",
   "metadata": {},
   "source": [
    "### Whisper-Medium"
   ]
  },
  {
   "cell_type": "code",
   "execution_count": 19,
   "id": "b5a451ac",
   "metadata": {
    "scrolled": true
   },
   "outputs": [
    {
     "name": "stdout",
     "output_type": "stream",
     "text": [
      "(2872, 8)\n"
     ]
    },
    {
     "data": {
      "text/html": [
       "<div>\n",
       "<style scoped>\n",
       "    .dataframe tbody tr th:only-of-type {\n",
       "        vertical-align: middle;\n",
       "    }\n",
       "\n",
       "    .dataframe tbody tr th {\n",
       "        vertical-align: top;\n",
       "    }\n",
       "\n",
       "    .dataframe thead th {\n",
       "        text-align: right;\n",
       "    }\n",
       "</style>\n",
       "<table border=\"1\" class=\"dataframe\">\n",
       "  <thead>\n",
       "    <tr style=\"text-align: right;\">\n",
       "      <th></th>\n",
       "      <th>hypothesis</th>\n",
       "      <th>reference</th>\n",
       "      <th>audio_paths</th>\n",
       "      <th>accent</th>\n",
       "      <th>pred_clean</th>\n",
       "      <th>ref_clean</th>\n",
       "      <th>hypothesis_clean</th>\n",
       "      <th>reference_clean</th>\n",
       "    </tr>\n",
       "  </thead>\n",
       "  <tbody>\n",
       "    <tr>\n",
       "      <th>0</th>\n",
       "      <td>Ensure the correct placement of the feeding tu...</td>\n",
       "      <td>Ensure the correct placement of the feeding tu...</td>\n",
       "      <td>/data/data/intron/e809b58c-4f05-4754-b98c-fbf2...</td>\n",
       "      <td>swahili</td>\n",
       "      <td>ensure the correct placement of the feeding tu...</td>\n",
       "      <td>ensure the correct placement of the feeding tu...</td>\n",
       "      <td>ensure the correct placement of the feeding tu...</td>\n",
       "      <td>ensure the correct placement of the feeding tu...</td>\n",
       "    </tr>\n",
       "    <tr>\n",
       "      <th>1</th>\n",
       "      <td>Regardless of how amyokites stimulated, howeve...</td>\n",
       "      <td>Regardlessof how amyocyteis stimulated,however...</td>\n",
       "      <td>/data/data/intron/7ce31a48-f507-4344-bc49-96de...</td>\n",
       "      <td>swahili</td>\n",
       "      <td>regardless of how amyokites stimulated, howeve...</td>\n",
       "      <td>regardlessof how amyocyteis stimulated,however...</td>\n",
       "      <td>regardless of how amyokites stimulated however...</td>\n",
       "      <td>regardlessof how amyocyteis stimulated however...</td>\n",
       "    </tr>\n",
       "  </tbody>\n",
       "</table>\n",
       "</div>"
      ],
      "text/plain": [
       "                                          hypothesis  \\\n",
       "0  Ensure the correct placement of the feeding tu...   \n",
       "1  Regardless of how amyokites stimulated, howeve...   \n",
       "\n",
       "                                           reference  \\\n",
       "0  Ensure the correct placement of the feeding tu...   \n",
       "1  Regardlessof how amyocyteis stimulated,however...   \n",
       "\n",
       "                                         audio_paths   accent  \\\n",
       "0  /data/data/intron/e809b58c-4f05-4754-b98c-fbf2...  swahili   \n",
       "1  /data/data/intron/7ce31a48-f507-4344-bc49-96de...  swahili   \n",
       "\n",
       "                                          pred_clean  \\\n",
       "0  ensure the correct placement of the feeding tu...   \n",
       "1  regardless of how amyokites stimulated, howeve...   \n",
       "\n",
       "                                           ref_clean  \\\n",
       "0  ensure the correct placement of the feeding tu...   \n",
       "1  regardlessof how amyocyteis stimulated,however...   \n",
       "\n",
       "                                    hypothesis_clean  \\\n",
       "0  ensure the correct placement of the feeding tu...   \n",
       "1  regardless of how amyokites stimulated however...   \n",
       "\n",
       "                                     reference_clean  \n",
       "0  ensure the correct placement of the feeding tu...  \n",
       "1  regardlessof how amyocyteis stimulated however...  "
      ]
     },
     "execution_count": 19,
     "metadata": {},
     "output_type": "execute_result"
    }
   ],
   "source": [
    "whspr_medium_raw = pd.read_csv(\"../results/intron-open-dev-whisper_medium-wer-0.3049-2872.csv\")\n",
    "print(whspr_medium_raw.shape)\n",
    "whspr_medium_raw.head(2)"
   ]
  },
  {
   "cell_type": "code",
   "execution_count": 20,
   "id": "8003725a",
   "metadata": {},
   "outputs": [
    {
     "name": "stdout",
     "output_type": "stream",
     "text": [
      "(2872, 9)\n",
      "(0, 10)\n",
      "(0, 10)\n"
     ]
    }
   ],
   "source": [
    "whspr_medium = transform_raw_df(whspr_medium_raw, columns=columns, fmt=\"intron_whisper\")\n",
    "whspr_medium_clean = clean_and_compute_wer(whspr_medium)"
   ]
  },
  {
   "cell_type": "code",
   "execution_count": 21,
   "id": "786fa06a",
   "metadata": {},
   "outputs": [
    {
     "name": "stdout",
     "output_type": "stream",
     "text": [
      "0.4643886864352219\n",
      "0.34914988813403375\n"
     ]
    }
   ],
   "source": [
    "# WER\n",
    "print(whspr_medium[\"wer\"].mean())\n",
    "print(whspr_medium_clean[\"wer\"].mean())"
   ]
  },
  {
   "cell_type": "code",
   "execution_count": 22,
   "id": "b2e289fe",
   "metadata": {},
   "outputs": [],
   "source": [
    "model_id_or_path = \"openai_whisper_medium\"\n",
    "\n",
    "write_to_folder(model_id_or_path=model_id_or_path, \n",
    "                predictions_df=whspr_medium, \n",
    "                output_dir=\"../results/raw\")\n",
    "\n",
    "write_to_folder(model_id_or_path=model_id_or_path, \n",
    "                predictions_df=whspr_medium_clean,\n",
    "                output_dir=\"../results/normalized\")"
   ]
  },
  {
   "cell_type": "code",
   "execution_count": 23,
   "id": "7969f0d6",
   "metadata": {},
   "outputs": [],
   "source": [
    "whspr_medium[\"name\"] = \"openai_whisper_medium\"\n",
    "whspr_medium_clean[\"name\"] = \"openai_whisper_medium\"\n",
    "\n",
    "models_df = pd.concat([models_df, whspr_medium])\n",
    "models_df_clean = pd.concat([models_df_clean, whspr_medium_clean])"
   ]
  },
  {
   "cell_type": "code",
   "execution_count": 24,
   "id": "8196f716",
   "metadata": {},
   "outputs": [
    {
     "name": "stdout",
     "output_type": "stream",
     "text": [
      "(2872, 8)\n",
      "(2872, 9)\n",
      "(0, 10)\n",
      "(0, 10)\n"
     ]
    }
   ],
   "source": [
    "whspr_medium_en_raw = pd.read_csv(\"../results/intron-open-dev-whisper_medium.en-wer-0.3219-2872.csv\")\n",
    "print(whspr_medium_en_raw.shape)\n",
    "whspr_medium_en = transform_raw_df(whspr_medium_en_raw, columns=columns, fmt=\"intron_whisper\")\n",
    "whspr_medium_en_clean = clean_and_compute_wer(whspr_medium_en)"
   ]
  },
  {
   "cell_type": "code",
   "execution_count": 25,
   "id": "e1947a27",
   "metadata": {},
   "outputs": [
    {
     "name": "stdout",
     "output_type": "stream",
     "text": [
      "0.46137424273526506\n",
      "0.3678484564644302\n"
     ]
    }
   ],
   "source": [
    "print(whspr_medium_en[\"wer\"].mean())\n",
    "print(whspr_medium_en_clean[\"wer\"].mean())"
   ]
  },
  {
   "cell_type": "code",
   "execution_count": 26,
   "id": "e3ca3cbb",
   "metadata": {},
   "outputs": [],
   "source": [
    "model_id_or_path = \"openai_whisper_medium_en\"\n",
    "\n",
    "write_to_folder(model_id_or_path=model_id_or_path, \n",
    "                predictions_df=whspr_medium_en, \n",
    "                output_dir=\"../results/raw\")\n",
    "\n",
    "write_to_folder(model_id_or_path=model_id_or_path, \n",
    "                predictions_df=whspr_medium_en_clean,\n",
    "                output_dir=\"../results/normalized\")"
   ]
  },
  {
   "cell_type": "code",
   "execution_count": 27,
   "id": "64171bcd",
   "metadata": {},
   "outputs": [],
   "source": [
    "whspr_medium_en[\"name\"] = \"openai_whisper_medium_en\"\n",
    "whspr_medium_en_clean[\"name\"] = \"openai_whisper_medium_en\"\n",
    "\n",
    "models_df = pd.concat([models_df, whspr_medium_en])\n",
    "models_df_clean = pd.concat([models_df_clean, whspr_medium_en_clean])"
   ]
  },
  {
   "cell_type": "markdown",
   "id": "e7895fcd",
   "metadata": {},
   "source": [
    "### Whisper-Small"
   ]
  },
  {
   "cell_type": "code",
   "execution_count": 28,
   "id": "dd334293",
   "metadata": {},
   "outputs": [
    {
     "name": "stdout",
     "output_type": "stream",
     "text": [
      "(2872, 8)\n"
     ]
    },
    {
     "data": {
      "text/html": [
       "<div>\n",
       "<style scoped>\n",
       "    .dataframe tbody tr th:only-of-type {\n",
       "        vertical-align: middle;\n",
       "    }\n",
       "\n",
       "    .dataframe tbody tr th {\n",
       "        vertical-align: top;\n",
       "    }\n",
       "\n",
       "    .dataframe thead th {\n",
       "        text-align: right;\n",
       "    }\n",
       "</style>\n",
       "<table border=\"1\" class=\"dataframe\">\n",
       "  <thead>\n",
       "    <tr style=\"text-align: right;\">\n",
       "      <th></th>\n",
       "      <th>hypothesis</th>\n",
       "      <th>reference</th>\n",
       "      <th>audio_paths</th>\n",
       "      <th>accent</th>\n",
       "      <th>pred_clean</th>\n",
       "      <th>ref_clean</th>\n",
       "      <th>hypothesis_clean</th>\n",
       "      <th>reference_clean</th>\n",
       "    </tr>\n",
       "  </thead>\n",
       "  <tbody>\n",
       "    <tr>\n",
       "      <th>0</th>\n",
       "      <td>Ensure the correct placement of the feeding tu...</td>\n",
       "      <td>Ensure the correct placement of the feeding tu...</td>\n",
       "      <td>/data/data/intron/e809b58c-4f05-4754-b98c-fbf2...</td>\n",
       "      <td>swahili</td>\n",
       "      <td>ensure the correct placement of the feeding tu...</td>\n",
       "      <td>ensure the correct placement of the feeding tu...</td>\n",
       "      <td>ensure the correct placement of the feeding tu...</td>\n",
       "      <td>ensure the correct placement of the feeding tu...</td>\n",
       "    </tr>\n",
       "    <tr>\n",
       "      <th>1</th>\n",
       "      <td>Regardless of how a moeocatase stimulated, how...</td>\n",
       "      <td>Regardlessof how amyocyteis stimulated,however...</td>\n",
       "      <td>/data/data/intron/7ce31a48-f507-4344-bc49-96de...</td>\n",
       "      <td>swahili</td>\n",
       "      <td>regardless of how a moeocatase stimulated, how...</td>\n",
       "      <td>regardlessof how amyocyteis stimulated,however...</td>\n",
       "      <td>regardless of how a moeocatase stimulated howe...</td>\n",
       "      <td>regardlessof how amyocyteis stimulated however...</td>\n",
       "    </tr>\n",
       "  </tbody>\n",
       "</table>\n",
       "</div>"
      ],
      "text/plain": [
       "                                          hypothesis  \\\n",
       "0  Ensure the correct placement of the feeding tu...   \n",
       "1  Regardless of how a moeocatase stimulated, how...   \n",
       "\n",
       "                                           reference  \\\n",
       "0  Ensure the correct placement of the feeding tu...   \n",
       "1  Regardlessof how amyocyteis stimulated,however...   \n",
       "\n",
       "                                         audio_paths   accent  \\\n",
       "0  /data/data/intron/e809b58c-4f05-4754-b98c-fbf2...  swahili   \n",
       "1  /data/data/intron/7ce31a48-f507-4344-bc49-96de...  swahili   \n",
       "\n",
       "                                          pred_clean  \\\n",
       "0  ensure the correct placement of the feeding tu...   \n",
       "1  regardless of how a moeocatase stimulated, how...   \n",
       "\n",
       "                                           ref_clean  \\\n",
       "0  ensure the correct placement of the feeding tu...   \n",
       "1  regardlessof how amyocyteis stimulated,however...   \n",
       "\n",
       "                                    hypothesis_clean  \\\n",
       "0  ensure the correct placement of the feeding tu...   \n",
       "1  regardless of how a moeocatase stimulated howe...   \n",
       "\n",
       "                                     reference_clean  \n",
       "0  ensure the correct placement of the feeding tu...  \n",
       "1  regardlessof how amyocyteis stimulated however...  "
      ]
     },
     "execution_count": 28,
     "metadata": {},
     "output_type": "execute_result"
    }
   ],
   "source": [
    "whspr_small_raw = pd.read_csv(\"../results/intron-open-dev-whisper_small-wer-0.3743-2872.csv\")\n",
    "print(whspr_small_raw.shape)\n",
    "whspr_small_raw.head(2)"
   ]
  },
  {
   "cell_type": "code",
   "execution_count": 29,
   "id": "1a729e54",
   "metadata": {},
   "outputs": [
    {
     "name": "stdout",
     "output_type": "stream",
     "text": [
      "(2872, 9)\n",
      "(0, 10)\n",
      "(0, 10)\n"
     ]
    }
   ],
   "source": [
    "whspr_small = transform_raw_df(whspr_small_raw, columns=columns, fmt=\"intron_whisper\")\n",
    "whspr_small_clean = clean_and_compute_wer(whspr_small)"
   ]
  },
  {
   "cell_type": "code",
   "execution_count": 30,
   "id": "080aea10",
   "metadata": {},
   "outputs": [
    {
     "name": "stdout",
     "output_type": "stream",
     "text": [
      "0.5337821026197487\n",
      "0.43133830977562343\n"
     ]
    }
   ],
   "source": [
    "print(whspr_small[\"wer\"].mean())\n",
    "print(whspr_small_clean[\"wer\"].mean())"
   ]
  },
  {
   "cell_type": "code",
   "execution_count": 31,
   "id": "1854aef8",
   "metadata": {},
   "outputs": [],
   "source": [
    "model_id_or_path = \"openai_whisper_small\"\n",
    "\n",
    "write_to_folder(model_id_or_path=model_id_or_path, \n",
    "                predictions_df=whspr_small, \n",
    "                output_dir=\"../results/raw\")\n",
    "\n",
    "write_to_folder(model_id_or_path=model_id_or_path, \n",
    "                predictions_df=whspr_small_clean,\n",
    "                output_dir=\"../results/normalized\")"
   ]
  },
  {
   "cell_type": "code",
   "execution_count": 32,
   "id": "f0258dc5",
   "metadata": {},
   "outputs": [],
   "source": [
    "whspr_small[\"name\"] = \"openai_whisper_small\"\n",
    "whspr_small_clean[\"name\"] = \"openai_whisper_small\"\n",
    "\n",
    "models_df = pd.concat([models_df, whspr_small])\n",
    "models_df_clean = pd.concat([models_df_clean, whspr_small_clean])"
   ]
  },
  {
   "cell_type": "code",
   "execution_count": 33,
   "id": "480cd853",
   "metadata": {},
   "outputs": [
    {
     "name": "stdout",
     "output_type": "stream",
     "text": [
      "(2872, 8)\n",
      "(2872, 9)\n",
      "(0, 10)\n",
      "(0, 10)\n"
     ]
    }
   ],
   "source": [
    "whspr_small_en_raw = pd.read_csv(\"../results/intron-open-dev-whisper_small.en-wer-0.383-2872.csv\")\n",
    "print(whspr_small_en_raw.shape)\n",
    "whspr_small_en = transform_raw_df(whspr_small_en_raw, columns=columns, fmt=\"intron_whisper\")\n",
    "whspr_small_en_clean = clean_and_compute_wer(whspr_small_en)"
   ]
  },
  {
   "cell_type": "code",
   "execution_count": 34,
   "id": "529d8652",
   "metadata": {},
   "outputs": [
    {
     "name": "stdout",
     "output_type": "stream",
     "text": [
      "0.519713022377241\n",
      "0.43402733892570033\n"
     ]
    }
   ],
   "source": [
    "print(whspr_small_en[\"wer\"].mean())\n",
    "print(whspr_small_en_clean[\"wer\"].mean())"
   ]
  },
  {
   "cell_type": "code",
   "execution_count": 35,
   "id": "b792a3ae",
   "metadata": {},
   "outputs": [],
   "source": [
    "model_id_or_path = \"openai_whisper_small_en\"\n",
    "\n",
    "write_to_folder(model_id_or_path=model_id_or_path, \n",
    "                predictions_df=whspr_small_en, \n",
    "                output_dir=\"../results/raw\")\n",
    "\n",
    "write_to_folder(model_id_or_path=model_id_or_path, \n",
    "                predictions_df=whspr_small_en_clean,\n",
    "                output_dir=\"../results/normalized\")"
   ]
  },
  {
   "cell_type": "code",
   "execution_count": 36,
   "id": "14de3cb7",
   "metadata": {},
   "outputs": [],
   "source": [
    "whspr_small_en[\"name\"] = \"openai_whisper_small_en\"\n",
    "whspr_small_en_clean[\"name\"] = \"openai_whisper_small_en\"\n",
    "\n",
    "models_df = pd.concat([models_df, whspr_small_en])\n",
    "models_df_clean = pd.concat([models_df_clean, whspr_small_en_clean])"
   ]
  },
  {
   "cell_type": "code",
   "execution_count": 37,
   "id": "4668f3f3",
   "metadata": {},
   "outputs": [
    {
     "data": {
      "text/plain": [
       "((14360, 12), (14360, 12))"
      ]
     },
     "execution_count": 37,
     "metadata": {},
     "output_type": "execute_result"
    }
   ],
   "source": [
    "models_df.shape, models_df_clean.shape"
   ]
  },
  {
   "cell_type": "markdown",
   "id": "b86cb620",
   "metadata": {},
   "source": [
    "## Nvidia"
   ]
  },
  {
   "cell_type": "markdown",
   "id": "aba08a0e",
   "metadata": {},
   "source": [
    "### Nemo-conformer-ctc-large"
   ]
  },
  {
   "cell_type": "code",
   "execution_count": 38,
   "id": "9b451d45",
   "metadata": {},
   "outputs": [
    {
     "name": "stdout",
     "output_type": "stream",
     "text": [
      "(3227, 3)\n"
     ]
    },
    {
     "data": {
      "text/html": [
       "<div>\n",
       "<style scoped>\n",
       "    .dataframe tbody tr th:only-of-type {\n",
       "        vertical-align: middle;\n",
       "    }\n",
       "\n",
       "    .dataframe tbody tr th {\n",
       "        vertical-align: top;\n",
       "    }\n",
       "\n",
       "    .dataframe thead th {\n",
       "        text-align: right;\n",
       "    }\n",
       "</style>\n",
       "<table border=\"1\" class=\"dataframe\">\n",
       "  <thead>\n",
       "    <tr style=\"text-align: right;\">\n",
       "      <th></th>\n",
       "      <th>0</th>\n",
       "      <th>1</th>\n",
       "      <th>audio_paths</th>\n",
       "    </tr>\n",
       "  </thead>\n",
       "  <tbody>\n",
       "    <tr>\n",
       "      <th>0</th>\n",
       "      <td>/scratch/pbsjobs/axy327/dev/a25d5981-d814-4eef...</td>\n",
       "      <td>construction and sea trials</td>\n",
       "      <td>/data/data/intron/a25d5981-d814-4eef-8637-cc35...</td>\n",
       "    </tr>\n",
       "    <tr>\n",
       "      <th>1</th>\n",
       "      <td>/scratch/pbsjobs/axy327/dev/35a17e2f-5b12-4886...</td>\n",
       "      <td>unstable bos fracture of unspecified thoracic ...</td>\n",
       "      <td>/data/data/intron/35a17e2f-5b12-4886-ad2c-c1aa...</td>\n",
       "    </tr>\n",
       "  </tbody>\n",
       "</table>\n",
       "</div>"
      ],
      "text/plain": [
       "                                                   0  \\\n",
       "0  /scratch/pbsjobs/axy327/dev/a25d5981-d814-4eef...   \n",
       "1  /scratch/pbsjobs/axy327/dev/35a17e2f-5b12-4886...   \n",
       "\n",
       "                                                   1  \\\n",
       "0                        construction and sea trials   \n",
       "1  unstable bos fracture of unspecified thoracic ...   \n",
       "\n",
       "                                         audio_paths  \n",
       "0  /data/data/intron/a25d5981-d814-4eef-8637-cc35...  \n",
       "1  /data/data/intron/35a17e2f-5b12-4886-ad2c-c1aa...  "
      ]
     },
     "execution_count": 38,
     "metadata": {},
     "output_type": "execute_result"
    }
   ],
   "source": [
    "nemo_ctc_raw = pd.read_csv(\"../results/african-nlp-nemo-ctc-predictons\", header=None, delimiter=\"\t\")\n",
    "nemo_ctc_raw[\"audio_paths\"] = nemo_ctc_raw[0].apply(lambda x: x.replace(\"/scratch/pbsjobs/axy327/dev/\", \"/data/data/intron/\"))\n",
    "print(nemo_ctc_raw.shape)\n",
    "nemo_ctc_raw.head(2)"
   ]
  },
  {
   "cell_type": "code",
   "execution_count": 39,
   "id": "7279eea0",
   "metadata": {},
   "outputs": [
    {
     "name": "stdout",
     "output_type": "stream",
     "text": [
      "(2872, 9)\n",
      "(2, 10)\n",
      "(0, 10)\n"
     ]
    }
   ],
   "source": [
    "nemo_ctc = transform_raw_df(nemo_ctc_raw, columns=columns, fmt=\"african_nlp\")\n",
    "nemo_ctc_clean = clean_and_compute_wer(nemo_ctc)"
   ]
  },
  {
   "cell_type": "code",
   "execution_count": 40,
   "id": "84c17db3",
   "metadata": {},
   "outputs": [
    {
     "name": "stdout",
     "output_type": "stream",
     "text": [
      "0.6767011051916588\n",
      "0.5503160383940416\n"
     ]
    }
   ],
   "source": [
    "print(nemo_ctc[\"wer\"].mean())\n",
    "print(nemo_ctc_clean[\"wer\"].mean())"
   ]
  },
  {
   "cell_type": "code",
   "execution_count": 41,
   "id": "5be5bdbd",
   "metadata": {},
   "outputs": [],
   "source": [
    "model_id_or_path = \"nvidia_nemo_conformer_ctc_large\"\n",
    "\n",
    "write_to_folder(model_id_or_path=model_id_or_path, \n",
    "                predictions_df=nemo_ctc, \n",
    "                output_dir=\"../results/raw\")\n",
    "\n",
    "write_to_folder(model_id_or_path=model_id_or_path, \n",
    "                predictions_df=nemo_ctc_clean,\n",
    "                output_dir=\"../results/normalized\")"
   ]
  },
  {
   "cell_type": "code",
   "execution_count": 42,
   "id": "fb36d457",
   "metadata": {},
   "outputs": [],
   "source": [
    "nemo_ctc[\"name\"] = \"nvidia_nemo_conformer_ctc_large\"\n",
    "nemo_ctc_clean[\"name\"] = \"nvidia_nemo_conformer_ctc_large\"\n",
    "\n",
    "models_df = pd.concat([models_df, nemo_ctc])\n",
    "models_df_clean = pd.concat([models_df_clean, nemo_ctc_clean])"
   ]
  },
  {
   "cell_type": "markdown",
   "id": "cf2f18d7",
   "metadata": {},
   "source": [
    "### Nemo-conformer-transducer-large"
   ]
  },
  {
   "cell_type": "code",
   "execution_count": 43,
   "id": "9d15f564",
   "metadata": {},
   "outputs": [
    {
     "name": "stdout",
     "output_type": "stream",
     "text": [
      "(3227, 3)\n"
     ]
    },
    {
     "data": {
      "text/html": [
       "<div>\n",
       "<style scoped>\n",
       "    .dataframe tbody tr th:only-of-type {\n",
       "        vertical-align: middle;\n",
       "    }\n",
       "\n",
       "    .dataframe tbody tr th {\n",
       "        vertical-align: top;\n",
       "    }\n",
       "\n",
       "    .dataframe thead th {\n",
       "        text-align: right;\n",
       "    }\n",
       "</style>\n",
       "<table border=\"1\" class=\"dataframe\">\n",
       "  <thead>\n",
       "    <tr style=\"text-align: right;\">\n",
       "      <th></th>\n",
       "      <th>0</th>\n",
       "      <th>1</th>\n",
       "      <th>audio_paths</th>\n",
       "    </tr>\n",
       "  </thead>\n",
       "  <tbody>\n",
       "    <tr>\n",
       "      <th>0</th>\n",
       "      <td>/scratch/pbsjobs/axy327/dev/a25d5981-d814-4eef...</td>\n",
       "      <td>construction and sea trials</td>\n",
       "      <td>/data/data/intron/a25d5981-d814-4eef-8637-cc35...</td>\n",
       "    </tr>\n",
       "    <tr>\n",
       "      <th>1</th>\n",
       "      <td>/scratch/pbsjobs/axy327/dev/35a17e2f-5b12-4886...</td>\n",
       "      <td>unstable boss fracture of unspecified thoracic...</td>\n",
       "      <td>/data/data/intron/35a17e2f-5b12-4886-ad2c-c1aa...</td>\n",
       "    </tr>\n",
       "  </tbody>\n",
       "</table>\n",
       "</div>"
      ],
      "text/plain": [
       "                                                   0  \\\n",
       "0  /scratch/pbsjobs/axy327/dev/a25d5981-d814-4eef...   \n",
       "1  /scratch/pbsjobs/axy327/dev/35a17e2f-5b12-4886...   \n",
       "\n",
       "                                                   1  \\\n",
       "0                        construction and sea trials   \n",
       "1  unstable boss fracture of unspecified thoracic...   \n",
       "\n",
       "                                         audio_paths  \n",
       "0  /data/data/intron/a25d5981-d814-4eef-8637-cc35...  \n",
       "1  /data/data/intron/35a17e2f-5b12-4886-ad2c-c1aa...  "
      ]
     },
     "execution_count": 43,
     "metadata": {},
     "output_type": "execute_result"
    }
   ],
   "source": [
    "nemo_transducer_raw = pd.read_csv(\"../results/african-nlp-nemo-transducer-predictons\", header=None, delimiter=\"\t\")\n",
    "nemo_transducer_raw[\"audio_paths\"] = nemo_transducer_raw[0].apply(lambda x: x.replace(\"/scratch/pbsjobs/axy327/dev/\", \"/data/data/intron/\"))\n",
    "print(nemo_transducer_raw.shape)\n",
    "nemo_transducer_raw.head(2)"
   ]
  },
  {
   "cell_type": "code",
   "execution_count": 44,
   "id": "0d84cc10",
   "metadata": {},
   "outputs": [
    {
     "name": "stdout",
     "output_type": "stream",
     "text": [
      "(2872, 9)\n",
      "(6, 10)\n",
      "(0, 10)\n"
     ]
    }
   ],
   "source": [
    "nemo_transducer = transform_raw_df(nemo_transducer_raw, columns=columns, fmt=\"african_nlp\")\n",
    "nemo_transducer_clean = clean_and_compute_wer(nemo_transducer)"
   ]
  },
  {
   "cell_type": "code",
   "execution_count": 45,
   "id": "f98653c5",
   "metadata": {
    "scrolled": true
   },
   "outputs": [
    {
     "name": "stdout",
     "output_type": "stream",
     "text": [
      "0.6637992751483184\n",
      "0.5245269422772046\n"
     ]
    }
   ],
   "source": [
    "print(nemo_transducer[\"wer\"].mean())\n",
    "print(nemo_transducer_clean[\"wer\"].mean())"
   ]
  },
  {
   "cell_type": "code",
   "execution_count": 46,
   "id": "dd015241",
   "metadata": {},
   "outputs": [],
   "source": [
    "model_id_or_path = \"nvidia_nemo_conformer_transducer_large\"\n",
    "\n",
    "write_to_folder(model_id_or_path=model_id_or_path, \n",
    "                predictions_df=nemo_transducer, \n",
    "                output_dir=\"../results/raw\")\n",
    "\n",
    "write_to_folder(model_id_or_path=model_id_or_path, \n",
    "                predictions_df=nemo_transducer_clean,\n",
    "                output_dir=\"../results/normalized\")"
   ]
  },
  {
   "cell_type": "code",
   "execution_count": 47,
   "id": "e996b241",
   "metadata": {},
   "outputs": [],
   "source": [
    "nemo_transducer[\"name\"] = \"nvidia_nemo_conformer_transducer_large\"\n",
    "nemo_transducer_clean[\"name\"] = \"nvidia_nemo_conformer_transducer_large\"\n",
    "\n",
    "models_df = pd.concat([models_df, nemo_transducer])\n",
    "models_df_clean = pd.concat([models_df_clean, nemo_transducer_clean])"
   ]
  },
  {
   "cell_type": "markdown",
   "id": "254ebfe5",
   "metadata": {},
   "source": [
    "## Speech Brain"
   ]
  },
  {
   "cell_type": "code",
   "execution_count": 48,
   "id": "a063a549",
   "metadata": {},
   "outputs": [
    {
     "name": "stdout",
     "output_type": "stream",
     "text": [
      "(3227, 3)\n"
     ]
    },
    {
     "data": {
      "text/html": [
       "<div>\n",
       "<style scoped>\n",
       "    .dataframe tbody tr th:only-of-type {\n",
       "        vertical-align: middle;\n",
       "    }\n",
       "\n",
       "    .dataframe tbody tr th {\n",
       "        vertical-align: top;\n",
       "    }\n",
       "\n",
       "    .dataframe thead th {\n",
       "        text-align: right;\n",
       "    }\n",
       "</style>\n",
       "<table border=\"1\" class=\"dataframe\">\n",
       "  <thead>\n",
       "    <tr style=\"text-align: right;\">\n",
       "      <th></th>\n",
       "      <th>0</th>\n",
       "      <th>1</th>\n",
       "      <th>audio_paths</th>\n",
       "    </tr>\n",
       "  </thead>\n",
       "  <tbody>\n",
       "    <tr>\n",
       "      <th>0</th>\n",
       "      <td>/scratch/pbsjobs/axy327/dev/a25d5981-d814-4eef...</td>\n",
       "      <td>CONSTRUCTION AND C TRIALS</td>\n",
       "      <td>/data/data/intron/a25d5981-d814-4eef-8637-cc35...</td>\n",
       "    </tr>\n",
       "    <tr>\n",
       "      <th>1</th>\n",
       "      <td>/scratch/pbsjobs/axy327/dev/35a17e2f-5b12-4886...</td>\n",
       "      <td>STUBBLE BOSS RUPTURE OF OSPREY'S WIFE'S THORAC...</td>\n",
       "      <td>/data/data/intron/35a17e2f-5b12-4886-ad2c-c1aa...</td>\n",
       "    </tr>\n",
       "  </tbody>\n",
       "</table>\n",
       "</div>"
      ],
      "text/plain": [
       "                                                   0  \\\n",
       "0  /scratch/pbsjobs/axy327/dev/a25d5981-d814-4eef...   \n",
       "1  /scratch/pbsjobs/axy327/dev/35a17e2f-5b12-4886...   \n",
       "\n",
       "                                                   1  \\\n",
       "0                          CONSTRUCTION AND C TRIALS   \n",
       "1  STUBBLE BOSS RUPTURE OF OSPREY'S WIFE'S THORAC...   \n",
       "\n",
       "                                         audio_paths  \n",
       "0  /data/data/intron/a25d5981-d814-4eef-8637-cc35...  \n",
       "1  /data/data/intron/35a17e2f-5b12-4886-ad2c-c1aa...  "
      ]
     },
     "execution_count": 48,
     "metadata": {},
     "output_type": "execute_result"
    }
   ],
   "source": [
    "speech_brain_raw = pd.read_csv(\"../results/african-nlp-speechbrain-predictons\", header=None, delimiter=\"\t\")\n",
    "speech_brain_raw[\"audio_paths\"] = nemo_transducer_raw[0].apply(lambda x: x.replace(\"/scratch/pbsjobs/axy327/dev/\", \"/data/data/intron/\"))\n",
    "print(speech_brain_raw.shape)\n",
    "speech_brain_raw.head(2)"
   ]
  },
  {
   "cell_type": "code",
   "execution_count": 49,
   "id": "1c3a6c5c",
   "metadata": {},
   "outputs": [
    {
     "name": "stdout",
     "output_type": "stream",
     "text": [
      "(2872, 9)\n",
      "(1, 10)\n",
      "(0, 10)\n"
     ]
    }
   ],
   "source": [
    "speech_brain = transform_raw_df(speech_brain_raw, columns=columns, fmt=\"african_nlp\")\n",
    "speech_brain_clean = clean_and_compute_wer(speech_brain)"
   ]
  },
  {
   "cell_type": "code",
   "execution_count": 50,
   "id": "5baf64f6",
   "metadata": {},
   "outputs": [
    {
     "name": "stdout",
     "output_type": "stream",
     "text": [
      "1.3610988905098031\n",
      "0.976453580724285\n"
     ]
    }
   ],
   "source": [
    "print(speech_brain[\"wer\"].mean())\n",
    "print(speech_brain_clean[\"wer\"].mean())"
   ]
  },
  {
   "cell_type": "code",
   "execution_count": 51,
   "id": "bb10d23a",
   "metadata": {},
   "outputs": [],
   "source": [
    "model_id_or_path=\"speechbrain_crdnn_rnnlm_librispeech\"\n",
    "\n",
    "write_to_folder(model_id_or_path=model_id_or_path, \n",
    "                predictions_df=speech_brain, \n",
    "                output_dir=\"../results/raw\")\n",
    "\n",
    "write_to_folder(model_id_or_path=model_id_or_path, \n",
    "                predictions_df=speech_brain_clean,\n",
    "                output_dir=\"../results/normalized\")"
   ]
  },
  {
   "cell_type": "code",
   "execution_count": 52,
   "id": "bab834ab",
   "metadata": {},
   "outputs": [],
   "source": [
    "speech_brain[\"name\"] = \"speechbrain_crdnn_rnnlm_librispeech\"\n",
    "speech_brain_clean[\"name\"] = \"speechbrain_crdnn_rnnlm_librispeech\"\n",
    "\n",
    "models_df = pd.concat([models_df, speech_brain])\n",
    "models_df_clean = pd.concat([models_df_clean, speech_brain_clean])"
   ]
  },
  {
   "cell_type": "markdown",
   "id": "4b0d7e40",
   "metadata": {},
   "source": [
    "## AWS"
   ]
  },
  {
   "cell_type": "markdown",
   "id": "acd8cfd3",
   "metadata": {},
   "source": [
    "### Medical API (Primary Care)"
   ]
  },
  {
   "cell_type": "code",
   "execution_count": 53,
   "id": "5c9a5f4e",
   "metadata": {},
   "outputs": [
    {
     "name": "stdout",
     "output_type": "stream",
     "text": [
      "(3232, 15)\n"
     ]
    },
    {
     "data": {
      "text/html": [
       "<div>\n",
       "<style scoped>\n",
       "    .dataframe tbody tr th:only-of-type {\n",
       "        vertical-align: middle;\n",
       "    }\n",
       "\n",
       "    .dataframe tbody tr th {\n",
       "        vertical-align: top;\n",
       "    }\n",
       "\n",
       "    .dataframe thead th {\n",
       "        text-align: right;\n",
       "    }\n",
       "</style>\n",
       "<table border=\"1\" class=\"dataframe\">\n",
       "  <thead>\n",
       "    <tr style=\"text-align: right;\">\n",
       "      <th></th>\n",
       "      <th>idx</th>\n",
       "      <th>user_ids</th>\n",
       "      <th>accent</th>\n",
       "      <th>age_group</th>\n",
       "      <th>country</th>\n",
       "      <th>transcript</th>\n",
       "      <th>nchars</th>\n",
       "      <th>audio_ids</th>\n",
       "      <th>audio_paths</th>\n",
       "      <th>duration</th>\n",
       "      <th>origin</th>\n",
       "      <th>domain</th>\n",
       "      <th>split</th>\n",
       "      <th>predictions</th>\n",
       "      <th>wer</th>\n",
       "    </tr>\n",
       "  </thead>\n",
       "  <tbody>\n",
       "    <tr>\n",
       "      <th>0</th>\n",
       "      <td>72663</td>\n",
       "      <td>f559cb4f16bc465ea44b56a8d3b5513e</td>\n",
       "      <td>swahili</td>\n",
       "      <td>19-25</td>\n",
       "      <td>KE</td>\n",
       "      <td>Ensure the correct placement of the feeding tu...</td>\n",
       "      <td>206</td>\n",
       "      <td>29af500daee748498b3329352fbc170a</td>\n",
       "      <td>/AfriSpeech-100/dev/e809b58c-4f05-4754-b98c-fb...</td>\n",
       "      <td>16.421995</td>\n",
       "      <td>african</td>\n",
       "      <td>clinical</td>\n",
       "      <td>dev</td>\n",
       "      <td>ensure the correct placement of the feeding tu...</td>\n",
       "      <td>0.451613</td>\n",
       "    </tr>\n",
       "    <tr>\n",
       "      <th>1</th>\n",
       "      <td>153902</td>\n",
       "      <td>2be9bc423e70a24c703f8336e60af3f3</td>\n",
       "      <td>swahili</td>\n",
       "      <td>19-25</td>\n",
       "      <td>KE</td>\n",
       "      <td>Regardlessof how amyocyteis stimulated,however...</td>\n",
       "      <td>143</td>\n",
       "      <td>b87324a3c5ca065494f385e4f49e4b23</td>\n",
       "      <td>/AfriSpeech-100/dev/7ce31a48-f507-4344-bc49-96...</td>\n",
       "      <td>11.393991</td>\n",
       "      <td>african</td>\n",
       "      <td>clinical</td>\n",
       "      <td>dev</td>\n",
       "      <td>regardless of how a market is stimulated, howe...</td>\n",
       "      <td>0.555556</td>\n",
       "    </tr>\n",
       "  </tbody>\n",
       "</table>\n",
       "</div>"
      ],
      "text/plain": [
       "      idx                          user_ids   accent age_group country  \\\n",
       "0   72663  f559cb4f16bc465ea44b56a8d3b5513e  swahili     19-25      KE   \n",
       "1  153902  2be9bc423e70a24c703f8336e60af3f3  swahili     19-25      KE   \n",
       "\n",
       "                                          transcript  nchars  \\\n",
       "0  Ensure the correct placement of the feeding tu...     206   \n",
       "1  Regardlessof how amyocyteis stimulated,however...     143   \n",
       "\n",
       "                          audio_ids  \\\n",
       "0  29af500daee748498b3329352fbc170a   \n",
       "1  b87324a3c5ca065494f385e4f49e4b23   \n",
       "\n",
       "                                         audio_paths   duration   origin  \\\n",
       "0  /AfriSpeech-100/dev/e809b58c-4f05-4754-b98c-fb...  16.421995  african   \n",
       "1  /AfriSpeech-100/dev/7ce31a48-f507-4344-bc49-96...  11.393991  african   \n",
       "\n",
       "     domain split                                        predictions       wer  \n",
       "0  clinical   dev  ensure the correct placement of the feeding tu...  0.451613  \n",
       "1  clinical   dev  regardless of how a market is stimulated, howe...  0.555556  "
      ]
     },
     "execution_count": 53,
     "metadata": {},
     "output_type": "execute_result"
    }
   ],
   "source": [
    "aws_medical_raw = pd.read_csv(\"../results/intron-open-dev-aws-transcribe-medical-wer-0.5544-3232.csv\")\n",
    "print(aws_medical_raw.shape)\n",
    "aws_medical_raw.head(2)"
   ]
  },
  {
   "cell_type": "code",
   "execution_count": 54,
   "id": "c78fd449",
   "metadata": {},
   "outputs": [
    {
     "name": "stdout",
     "output_type": "stream",
     "text": [
      "(2872, 9)\n",
      "(1, 10)\n",
      "(0, 10)\n"
     ]
    }
   ],
   "source": [
    "aws_medical = transform_raw_df(aws_medical_raw, columns=columns, fmt=\"aws\")\n",
    "aws_medical_clean = clean_and_compute_wer(aws_medical)"
   ]
  },
  {
   "cell_type": "code",
   "execution_count": 55,
   "id": "9667e3e8",
   "metadata": {},
   "outputs": [
    {
     "name": "stdout",
     "output_type": "stream",
     "text": [
      "0.6347359704426636\n",
      "0.5358062344446374\n"
     ]
    }
   ],
   "source": [
    "print(aws_medical[\"wer\"].mean())\n",
    "print(aws_medical_clean[\"wer\"].mean())"
   ]
  },
  {
   "cell_type": "code",
   "execution_count": 56,
   "id": "ff8c2358",
   "metadata": {},
   "outputs": [],
   "source": [
    "model_id_or_path=\"amazon_aws_transcribe_medical_api_primary_care\"\n",
    "\n",
    "write_to_folder(model_id_or_path=model_id_or_path, \n",
    "                predictions_df=aws_medical, \n",
    "                output_dir=\"../results/raw\")\n",
    "\n",
    "write_to_folder(model_id_or_path=model_id_or_path, \n",
    "                predictions_df=aws_medical_clean,\n",
    "                output_dir=\"../results/normalized\")"
   ]
  },
  {
   "cell_type": "code",
   "execution_count": 57,
   "id": "145bd6ec",
   "metadata": {},
   "outputs": [],
   "source": [
    "aws_medical[\"name\"] = \"amazon_aws_transcribe_medical_api_primary_care\"\n",
    "aws_medical_clean[\"name\"] = \"amazon_aws_transcribe_medical_api_primary_care\"\n",
    "\n",
    "models_df = pd.concat([models_df, aws_medical])\n",
    "models_df_clean = pd.concat([models_df_clean, aws_medical_clean])"
   ]
  },
  {
   "cell_type": "markdown",
   "id": "d791c35e",
   "metadata": {},
   "source": [
    "### Non-medical API"
   ]
  },
  {
   "cell_type": "code",
   "execution_count": 58,
   "id": "632c4d42",
   "metadata": {},
   "outputs": [
    {
     "name": "stdout",
     "output_type": "stream",
     "text": [
      "(3232, 15)\n"
     ]
    },
    {
     "data": {
      "text/html": [
       "<div>\n",
       "<style scoped>\n",
       "    .dataframe tbody tr th:only-of-type {\n",
       "        vertical-align: middle;\n",
       "    }\n",
       "\n",
       "    .dataframe tbody tr th {\n",
       "        vertical-align: top;\n",
       "    }\n",
       "\n",
       "    .dataframe thead th {\n",
       "        text-align: right;\n",
       "    }\n",
       "</style>\n",
       "<table border=\"1\" class=\"dataframe\">\n",
       "  <thead>\n",
       "    <tr style=\"text-align: right;\">\n",
       "      <th></th>\n",
       "      <th>idx</th>\n",
       "      <th>user_ids</th>\n",
       "      <th>accent</th>\n",
       "      <th>age_group</th>\n",
       "      <th>country</th>\n",
       "      <th>transcript</th>\n",
       "      <th>nchars</th>\n",
       "      <th>audio_ids</th>\n",
       "      <th>audio_paths</th>\n",
       "      <th>duration</th>\n",
       "      <th>origin</th>\n",
       "      <th>domain</th>\n",
       "      <th>split</th>\n",
       "      <th>predictions</th>\n",
       "      <th>wer</th>\n",
       "    </tr>\n",
       "  </thead>\n",
       "  <tbody>\n",
       "    <tr>\n",
       "      <th>0</th>\n",
       "      <td>72663</td>\n",
       "      <td>f559cb4f16bc465ea44b56a8d3b5513e</td>\n",
       "      <td>swahili</td>\n",
       "      <td>19-25</td>\n",
       "      <td>KE</td>\n",
       "      <td>Ensure the correct placement of the feeding tu...</td>\n",
       "      <td>206</td>\n",
       "      <td>29af500daee748498b3329352fbc170a</td>\n",
       "      <td>/AfriSpeech-100/dev/e809b58c-4f05-4754-b98c-fb...</td>\n",
       "      <td>16.421995</td>\n",
       "      <td>african</td>\n",
       "      <td>clinical</td>\n",
       "      <td>dev</td>\n",
       "      <td>ensure the correct placement of the feeding tu...</td>\n",
       "      <td>0.516129</td>\n",
       "    </tr>\n",
       "    <tr>\n",
       "      <th>1</th>\n",
       "      <td>153902</td>\n",
       "      <td>2be9bc423e70a24c703f8336e60af3f3</td>\n",
       "      <td>swahili</td>\n",
       "      <td>19-25</td>\n",
       "      <td>KE</td>\n",
       "      <td>Regardlessof how amyocyteis stimulated,however...</td>\n",
       "      <td>143</td>\n",
       "      <td>b87324a3c5ca065494f385e4f49e4b23</td>\n",
       "      <td>/AfriSpeech-100/dev/7ce31a48-f507-4344-bc49-96...</td>\n",
       "      <td>11.393991</td>\n",
       "      <td>african</td>\n",
       "      <td>clinical</td>\n",
       "      <td>dev</td>\n",
       "      <td>regardless of how a market is stimulated, howe...</td>\n",
       "      <td>0.555556</td>\n",
       "    </tr>\n",
       "  </tbody>\n",
       "</table>\n",
       "</div>"
      ],
      "text/plain": [
       "      idx                          user_ids   accent age_group country  \\\n",
       "0   72663  f559cb4f16bc465ea44b56a8d3b5513e  swahili     19-25      KE   \n",
       "1  153902  2be9bc423e70a24c703f8336e60af3f3  swahili     19-25      KE   \n",
       "\n",
       "                                          transcript  nchars  \\\n",
       "0  Ensure the correct placement of the feeding tu...     206   \n",
       "1  Regardlessof how amyocyteis stimulated,however...     143   \n",
       "\n",
       "                          audio_ids  \\\n",
       "0  29af500daee748498b3329352fbc170a   \n",
       "1  b87324a3c5ca065494f385e4f49e4b23   \n",
       "\n",
       "                                         audio_paths   duration   origin  \\\n",
       "0  /AfriSpeech-100/dev/e809b58c-4f05-4754-b98c-fb...  16.421995  african   \n",
       "1  /AfriSpeech-100/dev/7ce31a48-f507-4344-bc49-96...  11.393991  african   \n",
       "\n",
       "     domain split                                        predictions       wer  \n",
       "0  clinical   dev  ensure the correct placement of the feeding tu...  0.516129  \n",
       "1  clinical   dev  regardless of how a market is stimulated, howe...  0.555556  "
      ]
     },
     "execution_count": 58,
     "metadata": {},
     "output_type": "execute_result"
    }
   ],
   "source": [
    "aws_raw = pd.read_csv(\"../results/intron-open-dev-aws-transcribe-wer-0.5212-3232.csv\")\n",
    "print(aws_raw.shape)\n",
    "aws_raw.head(2)"
   ]
  },
  {
   "cell_type": "code",
   "execution_count": 59,
   "id": "44784115",
   "metadata": {},
   "outputs": [
    {
     "name": "stdout",
     "output_type": "stream",
     "text": [
      "(2872, 9)\n",
      "(7, 10)\n",
      "(0, 10)\n"
     ]
    }
   ],
   "source": [
    "aws = transform_raw_df(aws_raw, columns=columns, fmt=\"aws\")\n",
    "aws_clean = clean_and_compute_wer(aws)"
   ]
  },
  {
   "cell_type": "code",
   "execution_count": 60,
   "id": "e9245146",
   "metadata": {},
   "outputs": [
    {
     "name": "stdout",
     "output_type": "stream",
     "text": [
      "0.5992453253269371\n",
      "0.49882406211336133\n"
     ]
    }
   ],
   "source": [
    "print(aws[\"wer\"].mean())\n",
    "print(aws_clean[\"wer\"].mean())"
   ]
  },
  {
   "cell_type": "code",
   "execution_count": 61,
   "id": "a43e76cc",
   "metadata": {},
   "outputs": [],
   "source": [
    "model_id_or_path=\"amazon_aws_transcribe_api\"\n",
    "\n",
    "write_to_folder(model_id_or_path=model_id_or_path, \n",
    "                predictions_df=aws, \n",
    "                output_dir=\"../results/raw\")\n",
    "\n",
    "write_to_folder(model_id_or_path=model_id_or_path, \n",
    "                predictions_df=aws_clean,\n",
    "                output_dir=\"../results/normalized\")"
   ]
  },
  {
   "cell_type": "code",
   "execution_count": 62,
   "id": "3dffb595",
   "metadata": {},
   "outputs": [],
   "source": [
    "aws[\"name\"] = \"amazon_aws_transcribe_api\"\n",
    "aws_clean[\"name\"] = \"amazon_aws_transcribe_api\"\n",
    "\n",
    "models_df = pd.concat([models_df, aws])\n",
    "models_df_clean = pd.concat([models_df_clean, aws_clean])"
   ]
  },
  {
   "cell_type": "markdown",
   "id": "58f6dbea",
   "metadata": {},
   "source": [
    "## Google"
   ]
  },
  {
   "cell_type": "markdown",
   "id": "73c00b7e",
   "metadata": {},
   "source": [
    "### GCP Speech Non-medical API"
   ]
  },
  {
   "cell_type": "code",
   "execution_count": 63,
   "id": "8f5f7c18",
   "metadata": {},
   "outputs": [
    {
     "name": "stdout",
     "output_type": "stream",
     "text": [
      "(3232, 9)\n"
     ]
    },
    {
     "data": {
      "text/html": [
       "<div>\n",
       "<style scoped>\n",
       "    .dataframe tbody tr th:only-of-type {\n",
       "        vertical-align: middle;\n",
       "    }\n",
       "\n",
       "    .dataframe tbody tr th {\n",
       "        vertical-align: top;\n",
       "    }\n",
       "\n",
       "    .dataframe thead th {\n",
       "        text-align: right;\n",
       "    }\n",
       "</style>\n",
       "<table border=\"1\" class=\"dataframe\">\n",
       "  <thead>\n",
       "    <tr style=\"text-align: right;\">\n",
       "      <th></th>\n",
       "      <th>Unnamed: 0</th>\n",
       "      <th>idx</th>\n",
       "      <th>user_ids</th>\n",
       "      <th>transcript</th>\n",
       "      <th>gcp</th>\n",
       "      <th>wer</th>\n",
       "      <th>cleanup_references</th>\n",
       "      <th>cleanup_gcp</th>\n",
       "      <th>wer_cleanup</th>\n",
       "    </tr>\n",
       "  </thead>\n",
       "  <tbody>\n",
       "    <tr>\n",
       "      <th>0</th>\n",
       "      <td>0</td>\n",
       "      <td>72663</td>\n",
       "      <td>f559cb4f16bc465ea44b56a8d3b5513e</td>\n",
       "      <td>Ensure the correct placement of the feeding tu...</td>\n",
       "      <td>cancel the correct placement of the feeding tu...</td>\n",
       "      <td>0.580645</td>\n",
       "      <td>ensure the correct placement of the feeding tu...</td>\n",
       "      <td>cancel the correct placement of the feeding tu...</td>\n",
       "      <td>0.580645</td>\n",
       "    </tr>\n",
       "    <tr>\n",
       "      <th>1</th>\n",
       "      <td>1</td>\n",
       "      <td>153902</td>\n",
       "      <td>2be9bc423e70a24c703f8336e60af3f3</td>\n",
       "      <td>Regardlessof how amyocyteis stimulated,however...</td>\n",
       "      <td>regardless of how American cheese stimulated a...</td>\n",
       "      <td>0.722222</td>\n",
       "      <td>regardlessof how amyocyteis stimulated however...</td>\n",
       "      <td>regardless of how american cheese stimulated a...</td>\n",
       "      <td>0.550000</td>\n",
       "    </tr>\n",
       "  </tbody>\n",
       "</table>\n",
       "</div>"
      ],
      "text/plain": [
       "   Unnamed: 0     idx                          user_ids  \\\n",
       "0           0   72663  f559cb4f16bc465ea44b56a8d3b5513e   \n",
       "1           1  153902  2be9bc423e70a24c703f8336e60af3f3   \n",
       "\n",
       "                                          transcript  \\\n",
       "0  Ensure the correct placement of the feeding tu...   \n",
       "1  Regardlessof how amyocyteis stimulated,however...   \n",
       "\n",
       "                                                 gcp       wer  \\\n",
       "0  cancel the correct placement of the feeding tu...  0.580645   \n",
       "1  regardless of how American cheese stimulated a...  0.722222   \n",
       "\n",
       "                                  cleanup_references  \\\n",
       "0  ensure the correct placement of the feeding tu...   \n",
       "1  regardlessof how amyocyteis stimulated however...   \n",
       "\n",
       "                                         cleanup_gcp  wer_cleanup  \n",
       "0  cancel the correct placement of the feeding tu...     0.580645  \n",
       "1  regardless of how american cheese stimulated a...     0.550000  "
      ]
     },
     "execution_count": 63,
     "metadata": {},
     "output_type": "execute_result"
    }
   ],
   "source": [
    "gcp_raw = pd.read_csv(\"../results/gcp_wer_asr_dev.csv\")\n",
    "print(gcp_raw.shape)\n",
    "gcp_raw.head(2)"
   ]
  },
  {
   "cell_type": "code",
   "execution_count": 64,
   "id": "4542a66e",
   "metadata": {},
   "outputs": [
    {
     "name": "stdout",
     "output_type": "stream",
     "text": [
      "(2872, 9)\n",
      "(85, 10)\n",
      "(0, 10)\n"
     ]
    }
   ],
   "source": [
    "gcp = transform_raw_df(gcp_raw, columns=columns, fmt=\"gcp\")\n",
    "gcp_clean = clean_and_compute_wer(gcp)"
   ]
  },
  {
   "cell_type": "code",
   "execution_count": 65,
   "id": "ce749fd4",
   "metadata": {},
   "outputs": [
    {
     "name": "stdout",
     "output_type": "stream",
     "text": [
      "0.6566726487334155\n",
      "0.5993110736614581\n"
     ]
    }
   ],
   "source": [
    "print(gcp[\"wer\"].mean())\n",
    "print(gcp_clean[\"wer\"].mean())"
   ]
  },
  {
   "cell_type": "code",
   "execution_count": 66,
   "id": "8f984b29",
   "metadata": {},
   "outputs": [],
   "source": [
    "model_id_or_path=\"google_gcp_speech_api\"\n",
    "\n",
    "write_to_folder(model_id_or_path=model_id_or_path, \n",
    "                predictions_df=gcp, \n",
    "                output_dir=\"../results/raw\")\n",
    "\n",
    "write_to_folder(model_id_or_path=model_id_or_path, \n",
    "                predictions_df=gcp_clean,\n",
    "                output_dir=\"../results/normalized\")"
   ]
  },
  {
   "cell_type": "code",
   "execution_count": 67,
   "id": "1d3c1a61",
   "metadata": {},
   "outputs": [],
   "source": [
    "gcp[\"name\"] = \"google_gcp_speech_api\"\n",
    "gcp_clean[\"name\"] = \"google_gcp_speech_api\"\n",
    "\n",
    "models_df = pd.concat([models_df, gcp])\n",
    "models_df_clean = pd.concat([models_df_clean, gcp_clean])"
   ]
  },
  {
   "cell_type": "markdown",
   "id": "aa305eba",
   "metadata": {},
   "source": [
    "## Microsoft"
   ]
  },
  {
   "cell_type": "markdown",
   "id": "bb1e42ca",
   "metadata": {},
   "source": [
    "### Azure"
   ]
  },
  {
   "cell_type": "code",
   "execution_count": 68,
   "id": "73fd7793",
   "metadata": {},
   "outputs": [
    {
     "name": "stdout",
     "output_type": "stream",
     "text": [
      "(2883, 16)\n"
     ]
    },
    {
     "data": {
      "text/html": [
       "<div>\n",
       "<style scoped>\n",
       "    .dataframe tbody tr th:only-of-type {\n",
       "        vertical-align: middle;\n",
       "    }\n",
       "\n",
       "    .dataframe tbody tr th {\n",
       "        vertical-align: top;\n",
       "    }\n",
       "\n",
       "    .dataframe thead th {\n",
       "        text-align: right;\n",
       "    }\n",
       "</style>\n",
       "<table border=\"1\" class=\"dataframe\">\n",
       "  <thead>\n",
       "    <tr style=\"text-align: right;\">\n",
       "      <th></th>\n",
       "      <th>idx</th>\n",
       "      <th>user_ids</th>\n",
       "      <th>accent</th>\n",
       "      <th>age_group</th>\n",
       "      <th>country</th>\n",
       "      <th>transcript</th>\n",
       "      <th>nchars</th>\n",
       "      <th>audio_ids</th>\n",
       "      <th>audio_paths</th>\n",
       "      <th>duration</th>\n",
       "      <th>origin</th>\n",
       "      <th>domain</th>\n",
       "      <th>split</th>\n",
       "      <th>predictions_raw</th>\n",
       "      <th>predictions</th>\n",
       "      <th>wer</th>\n",
       "    </tr>\n",
       "  </thead>\n",
       "  <tbody>\n",
       "    <tr>\n",
       "      <th>0</th>\n",
       "      <td>72663</td>\n",
       "      <td>f559cb4f16bc465ea44b56a8d3b5513e</td>\n",
       "      <td>swahili</td>\n",
       "      <td>19-25</td>\n",
       "      <td>KE</td>\n",
       "      <td>Ensure the correct placement of the feeding tu...</td>\n",
       "      <td>206</td>\n",
       "      <td>29af500daee748498b3329352fbc170a</td>\n",
       "      <td>/AfriSpeech-100/dev/e809b58c-4f05-4754-b98c-fb...</td>\n",
       "      <td>16.421995</td>\n",
       "      <td>african</td>\n",
       "      <td>clinical</td>\n",
       "      <td>dev</td>\n",
       "      <td>Ensure the correct placement of the feeding tu...</td>\n",
       "      <td>ensure the correct placement of the feeding tu...</td>\n",
       "      <td>0.290323</td>\n",
       "    </tr>\n",
       "    <tr>\n",
       "      <th>1</th>\n",
       "      <td>153902</td>\n",
       "      <td>2be9bc423e70a24c703f8336e60af3f3</td>\n",
       "      <td>swahili</td>\n",
       "      <td>19-25</td>\n",
       "      <td>KE</td>\n",
       "      <td>Regardlessof how amyocyteis stimulated,however...</td>\n",
       "      <td>143</td>\n",
       "      <td>b87324a3c5ca065494f385e4f49e4b23</td>\n",
       "      <td>/AfriSpeech-100/dev/7ce31a48-f507-4344-bc49-96...</td>\n",
       "      <td>11.393991</td>\n",
       "      <td>african</td>\n",
       "      <td>clinical</td>\n",
       "      <td>dev</td>\n",
       "      <td>Regardless of how America is stimulated, howev...</td>\n",
       "      <td>regardless of how america is stimulated, howev...</td>\n",
       "      <td>0.500000</td>\n",
       "    </tr>\n",
       "  </tbody>\n",
       "</table>\n",
       "</div>"
      ],
      "text/plain": [
       "      idx                          user_ids   accent age_group country  \\\n",
       "0   72663  f559cb4f16bc465ea44b56a8d3b5513e  swahili     19-25      KE   \n",
       "1  153902  2be9bc423e70a24c703f8336e60af3f3  swahili     19-25      KE   \n",
       "\n",
       "                                          transcript  nchars  \\\n",
       "0  Ensure the correct placement of the feeding tu...     206   \n",
       "1  Regardlessof how amyocyteis stimulated,however...     143   \n",
       "\n",
       "                          audio_ids  \\\n",
       "0  29af500daee748498b3329352fbc170a   \n",
       "1  b87324a3c5ca065494f385e4f49e4b23   \n",
       "\n",
       "                                         audio_paths   duration   origin  \\\n",
       "0  /AfriSpeech-100/dev/e809b58c-4f05-4754-b98c-fb...  16.421995  african   \n",
       "1  /AfriSpeech-100/dev/7ce31a48-f507-4344-bc49-96...  11.393991  african   \n",
       "\n",
       "     domain split                                    predictions_raw  \\\n",
       "0  clinical   dev  Ensure the correct placement of the feeding tu...   \n",
       "1  clinical   dev  Regardless of how America is stimulated, howev...   \n",
       "\n",
       "                                         predictions       wer  \n",
       "0  ensure the correct placement of the feeding tu...  0.290323  \n",
       "1  regardless of how america is stimulated, howev...  0.500000  "
      ]
     },
     "execution_count": 68,
     "metadata": {},
     "output_type": "execute_result"
    }
   ],
   "source": [
    "azure_raw = pd.read_csv(\"../results/intron-open-dev-azure-transcribe-wer-0.5038-2883.csv\")\n",
    "print(azure_raw.shape)\n",
    "azure_raw.head(2)"
   ]
  },
  {
   "cell_type": "code",
   "execution_count": 69,
   "id": "6e798936",
   "metadata": {},
   "outputs": [
    {
     "name": "stdout",
     "output_type": "stream",
     "text": [
      "(2872, 9)\n",
      "(501, 10)\n",
      "(0, 10)\n"
     ]
    }
   ],
   "source": [
    "azure = transform_raw_df(azure_raw, columns=columns, fmt=\"azure\")\n",
    "azure_clean = clean_and_compute_wer(azure)"
   ]
  },
  {
   "cell_type": "code",
   "execution_count": 70,
   "id": "ed1b42f2",
   "metadata": {},
   "outputs": [
    {
     "name": "stdout",
     "output_type": "stream",
     "text": [
      "0.5948180547456207\n",
      "0.5169678167305342\n"
     ]
    }
   ],
   "source": [
    "print(azure[\"wer\"].mean())\n",
    "print(azure_clean[\"wer\"].mean())"
   ]
  },
  {
   "cell_type": "code",
   "execution_count": 71,
   "id": "466932e7",
   "metadata": {},
   "outputs": [],
   "source": [
    "model_id_or_path=\"microsoft_azure_speech_api\"\n",
    "\n",
    "write_to_folder(model_id_or_path=model_id_or_path, \n",
    "                predictions_df=azure, \n",
    "                output_dir=\"../results/raw\")\n",
    "\n",
    "write_to_folder(model_id_or_path=model_id_or_path, \n",
    "                predictions_df=azure_clean,\n",
    "                output_dir=\"../results/normalized\")"
   ]
  },
  {
   "cell_type": "code",
   "execution_count": 72,
   "id": "ad4ef1d9",
   "metadata": {},
   "outputs": [],
   "source": [
    "azure[\"name\"] = \"microsoft_azure_speech_api\"\n",
    "azure_clean[\"name\"] = \"microsoft_azure_speech_api\"\n",
    "\n",
    "models_df = pd.concat([models_df, azure])\n",
    "models_df_clean = pd.concat([models_df_clean, azure_clean])"
   ]
  },
  {
   "cell_type": "code",
   "execution_count": 73,
   "id": "b4119531",
   "metadata": {},
   "outputs": [
    {
     "data": {
      "text/plain": [
       "((34464, 12), (34464, 12))"
      ]
     },
     "execution_count": 73,
     "metadata": {},
     "output_type": "execute_result"
    }
   ],
   "source": [
    "models_df.shape, models_df_clean.shape"
   ]
  },
  {
   "cell_type": "markdown",
   "id": "505a372b",
   "metadata": {},
   "source": [
    "### WavLm-libri-clean-100h-large"
   ]
  },
  {
   "cell_type": "code",
   "execution_count": 74,
   "id": "a191f441",
   "metadata": {},
   "outputs": [
    {
     "name": "stdout",
     "output_type": "stream",
     "text": [
      "(3232, 7)\n"
     ]
    },
    {
     "data": {
      "text/html": [
       "<div>\n",
       "<style scoped>\n",
       "    .dataframe tbody tr th:only-of-type {\n",
       "        vertical-align: middle;\n",
       "    }\n",
       "\n",
       "    .dataframe tbody tr th {\n",
       "        vertical-align: top;\n",
       "    }\n",
       "\n",
       "    .dataframe thead th {\n",
       "        text-align: right;\n",
       "    }\n",
       "</style>\n",
       "<table border=\"1\" class=\"dataframe\">\n",
       "  <thead>\n",
       "    <tr style=\"text-align: right;\">\n",
       "      <th></th>\n",
       "      <th>audio_path</th>\n",
       "      <th>text</th>\n",
       "      <th>reference</th>\n",
       "      <th>predictions</th>\n",
       "      <th>predictions_raw</th>\n",
       "      <th>wer</th>\n",
       "      <th>accent</th>\n",
       "    </tr>\n",
       "  </thead>\n",
       "  <tbody>\n",
       "    <tr>\n",
       "      <th>0</th>\n",
       "      <td>/data/data/intron/e809b58c-4f05-4754-b98c-fbf2...</td>\n",
       "      <td>Ensure the correct placement of the feeding tu...</td>\n",
       "      <td>ensure the correct placement of the feeding tu...</td>\n",
       "      <td>enshured the corect placement of the feiding t...</td>\n",
       "      <td>enshured the corect placement of the feiding t...</td>\n",
       "      <td>0.806452</td>\n",
       "      <td>swahili</td>\n",
       "    </tr>\n",
       "    <tr>\n",
       "      <th>1</th>\n",
       "      <td>/data/data/intron/7ce31a48-f507-4344-bc49-96de...</td>\n",
       "      <td>Regardlessof how amyocyteis stimulated,however...</td>\n",
       "      <td>regardlessof how amyocyteis stimulated,however...</td>\n",
       "      <td>regadless of how amocety stimulated however th...</td>\n",
       "      <td>regadless of how amocety stimulated however th...</td>\n",
       "      <td>0.666667</td>\n",
       "      <td>swahili</td>\n",
       "    </tr>\n",
       "  </tbody>\n",
       "</table>\n",
       "</div>"
      ],
      "text/plain": [
       "                                          audio_path  \\\n",
       "0  /data/data/intron/e809b58c-4f05-4754-b98c-fbf2...   \n",
       "1  /data/data/intron/7ce31a48-f507-4344-bc49-96de...   \n",
       "\n",
       "                                                text  \\\n",
       "0  Ensure the correct placement of the feeding tu...   \n",
       "1  Regardlessof how amyocyteis stimulated,however...   \n",
       "\n",
       "                                           reference  \\\n",
       "0  ensure the correct placement of the feeding tu...   \n",
       "1  regardlessof how amyocyteis stimulated,however...   \n",
       "\n",
       "                                         predictions  \\\n",
       "0  enshured the corect placement of the feiding t...   \n",
       "1  regadless of how amocety stimulated however th...   \n",
       "\n",
       "                                     predictions_raw       wer   accent  \n",
       "0  enshured the corect placement of the feiding t...  0.806452  swahili  \n",
       "1  regadless of how amocety stimulated however th...  0.666667  swahili  "
      ]
     },
     "execution_count": 74,
     "metadata": {},
     "output_type": "execute_result"
    }
   ],
   "source": [
    "wavlm_libri_clean_100h_large_raw = pd.read_csv(\"../results/intron-open-dev-ful-patrickvonplaten-wavlm-libri-clean-100h-large-wer-0.6938-3232.csv\")\n",
    "print(wavlm_libri_clean_100h_large_raw.shape)\n",
    "wavlm_libri_clean_100h_large_raw.head(2)"
   ]
  },
  {
   "cell_type": "code",
   "execution_count": 75,
   "id": "ce8e9e90",
   "metadata": {},
   "outputs": [
    {
     "name": "stdout",
     "output_type": "stream",
     "text": [
      "(2877, 9)\n",
      "(1, 10)\n",
      "(0, 10)\n"
     ]
    }
   ],
   "source": [
    "wavlm_libri_clean_100h_large = transform_raw_df(wavlm_libri_clean_100h_large_raw, columns=columns, fmt=\"wav2vec2\")\n",
    "wavlm_libri_clean_100h_large_clean = clean_and_compute_wer(wavlm_libri_clean_100h_large)"
   ]
  },
  {
   "cell_type": "code",
   "execution_count": 76,
   "id": "e1a4ed79",
   "metadata": {},
   "outputs": [
    {
     "name": "stdout",
     "output_type": "stream",
     "text": [
      "0.8328127595669096\n",
      "0.7692137602897249\n"
     ]
    }
   ],
   "source": [
    "print(wavlm_libri_clean_100h_large[\"wer\"].mean())\n",
    "print(wavlm_libri_clean_100h_large_clean[\"wer\"].mean())"
   ]
  },
  {
   "cell_type": "code",
   "execution_count": 77,
   "id": "32c09dba",
   "metadata": {},
   "outputs": [],
   "source": [
    "model_id_or_path=\"microsoft_wavlm_libri_clean_100h_large\"\n",
    "\n",
    "write_to_folder(model_id_or_path=model_id_or_path, \n",
    "                predictions_df=wavlm_libri_clean_100h_large, \n",
    "                output_dir=\"../results/raw\")\n",
    "\n",
    "write_to_folder(model_id_or_path=model_id_or_path, \n",
    "                predictions_df=wavlm_libri_clean_100h_large_clean,\n",
    "                output_dir=\"../results/normalized\")"
   ]
  },
  {
   "cell_type": "code",
   "execution_count": 78,
   "id": "6b51fe97",
   "metadata": {},
   "outputs": [],
   "source": [
    "wavlm_libri_clean_100h_large[\"name\"] = \"microsoft_wavlm_libri_clean_100h_large\"\n",
    "wavlm_libri_clean_100h_large_clean[\"name\"] = \"microsoft_wavlm_libri_clean_100h_large\"\n",
    "\n",
    "models_df = pd.concat([models_df, wavlm_libri_clean_100h_large])\n",
    "models_df_clean = pd.concat([models_df_clean, wavlm_libri_clean_100h_large_clean])"
   ]
  },
  {
   "cell_type": "markdown",
   "id": "14b70ada",
   "metadata": {},
   "source": [
    "### WavLm-libri-clean-100h-base-plus"
   ]
  },
  {
   "cell_type": "code",
   "execution_count": 79,
   "id": "273c361a",
   "metadata": {},
   "outputs": [
    {
     "name": "stdout",
     "output_type": "stream",
     "text": [
      "(3232, 9)\n"
     ]
    },
    {
     "data": {
      "text/html": [
       "<div>\n",
       "<style scoped>\n",
       "    .dataframe tbody tr th:only-of-type {\n",
       "        vertical-align: middle;\n",
       "    }\n",
       "\n",
       "    .dataframe tbody tr th {\n",
       "        vertical-align: top;\n",
       "    }\n",
       "\n",
       "    .dataframe thead th {\n",
       "        text-align: right;\n",
       "    }\n",
       "</style>\n",
       "<table border=\"1\" class=\"dataframe\">\n",
       "  <thead>\n",
       "    <tr style=\"text-align: right;\">\n",
       "      <th></th>\n",
       "      <th>Unnamed: 0</th>\n",
       "      <th>idx</th>\n",
       "      <th>user_ids</th>\n",
       "      <th>transcript</th>\n",
       "      <th>wavLM</th>\n",
       "      <th>wer</th>\n",
       "      <th>cleanup_references</th>\n",
       "      <th>cleanup_wavLM</th>\n",
       "      <th>wer_cleanup</th>\n",
       "    </tr>\n",
       "  </thead>\n",
       "  <tbody>\n",
       "    <tr>\n",
       "      <th>0</th>\n",
       "      <td>0</td>\n",
       "      <td>72663</td>\n",
       "      <td>f559cb4f16bc465ea44b56a8d3b5513e</td>\n",
       "      <td>Ensure the correct placement of the feeding tu...</td>\n",
       "      <td>ensu the correct placement of the fiding tube ...</td>\n",
       "      <td>0.903226</td>\n",
       "      <td>ensure the correct placement of the feeding tu...</td>\n",
       "      <td>ensu the correct placement of the fiding tube ...</td>\n",
       "      <td>0.83871</td>\n",
       "    </tr>\n",
       "    <tr>\n",
       "      <th>1</th>\n",
       "      <td>1</td>\n",
       "      <td>153902</td>\n",
       "      <td>2be9bc423e70a24c703f8336e60af3f3</td>\n",
       "      <td>Regardlessof how amyocyteis stimulated,however...</td>\n",
       "      <td>regardless of how amuketisstimulated however t...</td>\n",
       "      <td>0.722222</td>\n",
       "      <td>regardlessof how amyocyteis stimulated however...</td>\n",
       "      <td>regardless of how amuketisstimulated however t...</td>\n",
       "      <td>0.60000</td>\n",
       "    </tr>\n",
       "  </tbody>\n",
       "</table>\n",
       "</div>"
      ],
      "text/plain": [
       "   Unnamed: 0     idx                          user_ids  \\\n",
       "0           0   72663  f559cb4f16bc465ea44b56a8d3b5513e   \n",
       "1           1  153902  2be9bc423e70a24c703f8336e60af3f3   \n",
       "\n",
       "                                          transcript  \\\n",
       "0  Ensure the correct placement of the feeding tu...   \n",
       "1  Regardlessof how amyocyteis stimulated,however...   \n",
       "\n",
       "                                               wavLM       wer  \\\n",
       "0  ensu the correct placement of the fiding tube ...  0.903226   \n",
       "1  regardless of how amuketisstimulated however t...  0.722222   \n",
       "\n",
       "                                  cleanup_references  \\\n",
       "0  ensure the correct placement of the feeding tu...   \n",
       "1  regardlessof how amyocyteis stimulated however...   \n",
       "\n",
       "                                       cleanup_wavLM  wer_cleanup  \n",
       "0  ensu the correct placement of the fiding tube ...      0.83871  \n",
       "1  regardless of how amuketisstimulated however t...      0.60000  "
      ]
     },
     "execution_count": 79,
     "metadata": {},
     "output_type": "execute_result"
    }
   ],
   "source": [
    "wavlm_libri_clean_100h_base_raw = pd.read_csv(\"../results/wavLM_wer_asr_dev.csv\")\n",
    "print(wavlm_libri_clean_100h_base_raw.shape)\n",
    "wavlm_libri_clean_100h_base_raw.head(2)"
   ]
  },
  {
   "cell_type": "code",
   "execution_count": 80,
   "id": "b74e17b3",
   "metadata": {},
   "outputs": [
    {
     "name": "stdout",
     "output_type": "stream",
     "text": [
      "(2872, 9)\n",
      "(2, 10)\n",
      "(0, 10)\n"
     ]
    }
   ],
   "source": [
    "wavlm_libri_clean_100h_base = transform_raw_df(wavlm_libri_clean_100h_base_raw, columns=columns, fmt=\"wavLM\")\n",
    "wavlm_libri_clean_100h_base_clean = clean_and_compute_wer(wavlm_libri_clean_100h_base)"
   ]
  },
  {
   "cell_type": "code",
   "execution_count": 81,
   "id": "63316254",
   "metadata": {},
   "outputs": [
    {
     "name": "stdout",
     "output_type": "stream",
     "text": [
      "0.9022293171522732\n",
      "0.8549641714400352\n"
     ]
    }
   ],
   "source": [
    "print(wavlm_libri_clean_100h_base[\"wer\"].mean())\n",
    "print(wavlm_libri_clean_100h_base_clean[\"wer\"].mean())"
   ]
  },
  {
   "cell_type": "code",
   "execution_count": 82,
   "id": "e9f58c33",
   "metadata": {},
   "outputs": [],
   "source": [
    "model_id_or_path=\"microsoft_wavlm_libri_clean_100h_base\"\n",
    "\n",
    "write_to_folder(model_id_or_path=model_id_or_path, \n",
    "                predictions_df=wavlm_libri_clean_100h_base, \n",
    "                output_dir=\"../results/raw\")\n",
    "\n",
    "write_to_folder(model_id_or_path=model_id_or_path, \n",
    "                predictions_df=wavlm_libri_clean_100h_base_clean,\n",
    "                output_dir=\"../results/normalized\")"
   ]
  },
  {
   "cell_type": "code",
   "execution_count": 83,
   "id": "46ebcf50",
   "metadata": {},
   "outputs": [],
   "source": [
    "wavlm_libri_clean_100h_base[\"name\"] = \"microsoft_wavlm_libri_clean_100h_base\"\n",
    "wavlm_libri_clean_100h_base_clean[\"name\"] = \"microsoft_wavlm_libri_clean_100h_base\"\n",
    "\n",
    "models_df = pd.concat([models_df, wavlm_libri_clean_100h_base])\n",
    "models_df_clean = pd.concat([models_df_clean, wavlm_libri_clean_100h_base_clean])"
   ]
  },
  {
   "cell_type": "markdown",
   "id": "9aac3ee3",
   "metadata": {},
   "source": [
    "## Facebook"
   ]
  },
  {
   "cell_type": "markdown",
   "id": "e828b4c7",
   "metadata": {},
   "source": [
    "### Wav2vec2-large-xlsr-53-english"
   ]
  },
  {
   "cell_type": "code",
   "execution_count": 84,
   "id": "a83187e6",
   "metadata": {},
   "outputs": [
    {
     "name": "stdout",
     "output_type": "stream",
     "text": [
      "(3232, 7)\n"
     ]
    },
    {
     "data": {
      "text/html": [
       "<div>\n",
       "<style scoped>\n",
       "    .dataframe tbody tr th:only-of-type {\n",
       "        vertical-align: middle;\n",
       "    }\n",
       "\n",
       "    .dataframe tbody tr th {\n",
       "        vertical-align: top;\n",
       "    }\n",
       "\n",
       "    .dataframe thead th {\n",
       "        text-align: right;\n",
       "    }\n",
       "</style>\n",
       "<table border=\"1\" class=\"dataframe\">\n",
       "  <thead>\n",
       "    <tr style=\"text-align: right;\">\n",
       "      <th></th>\n",
       "      <th>audio_path</th>\n",
       "      <th>text</th>\n",
       "      <th>reference</th>\n",
       "      <th>predictions</th>\n",
       "      <th>predictions_raw</th>\n",
       "      <th>wer</th>\n",
       "      <th>accent</th>\n",
       "    </tr>\n",
       "  </thead>\n",
       "  <tbody>\n",
       "    <tr>\n",
       "      <th>0</th>\n",
       "      <td>/data/data/intron/e809b58c-4f05-4754-b98c-fbf2...</td>\n",
       "      <td>Ensure the correct placement of the feeding tu...</td>\n",
       "      <td>ensure the correct placement of the feeding tu...</td>\n",
       "      <td>ensure the correct replacement of the feeding ...</td>\n",
       "      <td>ensure the correct replacement of the feeding ...</td>\n",
       "      <td>0.709677</td>\n",
       "      <td>swahili</td>\n",
       "    </tr>\n",
       "    <tr>\n",
       "      <th>1</th>\n",
       "      <td>/data/data/intron/7ce31a48-f507-4344-bc49-96de...</td>\n",
       "      <td>Regardlessof how amyocyteis stimulated,however...</td>\n",
       "      <td>regardlessof how amyocyteis stimulated,however...</td>\n",
       "      <td>regardless of how amerchetis stimulated howeve...</td>\n",
       "      <td>regardless of how amerchetis stimulated howeve...</td>\n",
       "      <td>0.611111</td>\n",
       "      <td>swahili</td>\n",
       "    </tr>\n",
       "  </tbody>\n",
       "</table>\n",
       "</div>"
      ],
      "text/plain": [
       "                                          audio_path  \\\n",
       "0  /data/data/intron/e809b58c-4f05-4754-b98c-fbf2...   \n",
       "1  /data/data/intron/7ce31a48-f507-4344-bc49-96de...   \n",
       "\n",
       "                                                text  \\\n",
       "0  Ensure the correct placement of the feeding tu...   \n",
       "1  Regardlessof how amyocyteis stimulated,however...   \n",
       "\n",
       "                                           reference  \\\n",
       "0  ensure the correct placement of the feeding tu...   \n",
       "1  regardlessof how amyocyteis stimulated,however...   \n",
       "\n",
       "                                         predictions  \\\n",
       "0  ensure the correct replacement of the feeding ...   \n",
       "1  regardless of how amerchetis stimulated howeve...   \n",
       "\n",
       "                                     predictions_raw       wer   accent  \n",
       "0  ensure the correct replacement of the feeding ...  0.709677  swahili  \n",
       "1  regardless of how amerchetis stimulated howeve...  0.611111  swahili  "
      ]
     },
     "execution_count": 84,
     "metadata": {},
     "output_type": "execute_result"
    }
   ],
   "source": [
    "wav2vec2_large_xlsr_53_english_raw = pd.read_csv(\"../results/intron-open-dev-ful-jonatasgrosman-wav2vec2-large-xlsr-53-english-wer-0.5606-3232.csv\")\n",
    "print(wav2vec2_large_xlsr_53_english_raw.shape)\n",
    "wav2vec2_large_xlsr_53_english_raw.head(2)"
   ]
  },
  {
   "cell_type": "code",
   "execution_count": 85,
   "id": "1cd4a52d",
   "metadata": {},
   "outputs": [
    {
     "name": "stdout",
     "output_type": "stream",
     "text": [
      "(2877, 9)\n",
      "(1, 10)\n",
      "(0, 10)\n"
     ]
    }
   ],
   "source": [
    "wav2vec2_large_xlsr_53_english = transform_raw_df(wav2vec2_large_xlsr_53_english_raw, columns=columns, fmt=\"wav2vec2\")\n",
    "wav2vec2_large_xlsr_53_english_clean = clean_and_compute_wer(wav2vec2_large_xlsr_53_english)"
   ]
  },
  {
   "cell_type": "code",
   "execution_count": 86,
   "id": "17108a48",
   "metadata": {},
   "outputs": [
    {
     "name": "stdout",
     "output_type": "stream",
     "text": [
      "0.7152722570406036\n",
      "0.6398663107153179\n"
     ]
    }
   ],
   "source": [
    "print(wav2vec2_large_xlsr_53_english[\"wer\"].mean())\n",
    "print(wav2vec2_large_xlsr_53_english_clean[\"wer\"].mean())"
   ]
  },
  {
   "cell_type": "code",
   "execution_count": 87,
   "id": "e884c209",
   "metadata": {},
   "outputs": [],
   "source": [
    "model_id_or_path=\"facebook_wav2vec2_large_xlsr_53_english\"\n",
    "\n",
    "write_to_folder(model_id_or_path=model_id_or_path, \n",
    "                predictions_df=wav2vec2_large_xlsr_53_english, \n",
    "                output_dir=\"../results/raw\")\n",
    "\n",
    "write_to_folder(model_id_or_path=model_id_or_path, \n",
    "                predictions_df=wav2vec2_large_xlsr_53_english_clean,\n",
    "                output_dir=\"../results/normalized\")"
   ]
  },
  {
   "cell_type": "code",
   "execution_count": 88,
   "id": "650f585a",
   "metadata": {},
   "outputs": [],
   "source": [
    "wav2vec2_large_xlsr_53_english[\"name\"] = \"facebook_wav2vec2_large_xlsr_53_english\"\n",
    "wav2vec2_large_xlsr_53_english_clean[\"name\"] = \"facebook_wav2vec2_large_xlsr_53_english\"\n",
    "\n",
    "models_df = pd.concat([models_df, wav2vec2_large_xlsr_53_english])\n",
    "models_df_clean = pd.concat([models_df_clean, wav2vec2_large_xlsr_53_english_clean])"
   ]
  },
  {
   "cell_type": "markdown",
   "id": "8f234e11",
   "metadata": {},
   "source": [
    "### Wav2vec2-xls-r-1b-english"
   ]
  },
  {
   "cell_type": "code",
   "execution_count": 89,
   "id": "0676152b",
   "metadata": {},
   "outputs": [
    {
     "name": "stdout",
     "output_type": "stream",
     "text": [
      "(3232, 7)\n"
     ]
    },
    {
     "data": {
      "text/html": [
       "<div>\n",
       "<style scoped>\n",
       "    .dataframe tbody tr th:only-of-type {\n",
       "        vertical-align: middle;\n",
       "    }\n",
       "\n",
       "    .dataframe tbody tr th {\n",
       "        vertical-align: top;\n",
       "    }\n",
       "\n",
       "    .dataframe thead th {\n",
       "        text-align: right;\n",
       "    }\n",
       "</style>\n",
       "<table border=\"1\" class=\"dataframe\">\n",
       "  <thead>\n",
       "    <tr style=\"text-align: right;\">\n",
       "      <th></th>\n",
       "      <th>audio_path</th>\n",
       "      <th>text</th>\n",
       "      <th>reference</th>\n",
       "      <th>predictions</th>\n",
       "      <th>predictions_raw</th>\n",
       "      <th>wer</th>\n",
       "      <th>accent</th>\n",
       "    </tr>\n",
       "  </thead>\n",
       "  <tbody>\n",
       "    <tr>\n",
       "      <th>0</th>\n",
       "      <td>/data/data/intron/e809b58c-4f05-4754-b98c-fbf2...</td>\n",
       "      <td>Ensure the correct placement of the feeding tu...</td>\n",
       "      <td>ensure the correct placement of the feeding tu...</td>\n",
       "      <td>ensure the correct replacement of the feeding ...</td>\n",
       "      <td>ensure the correct replacement of the feeding ...</td>\n",
       "      <td>0.709677</td>\n",
       "      <td>swahili</td>\n",
       "    </tr>\n",
       "    <tr>\n",
       "      <th>1</th>\n",
       "      <td>/data/data/intron/7ce31a48-f507-4344-bc49-96de...</td>\n",
       "      <td>Regardlessof how amyocyteis stimulated,however...</td>\n",
       "      <td>regardlessof how amyocyteis stimulated,however...</td>\n",
       "      <td>regardless of how amceteis stimulated however ...</td>\n",
       "      <td>regardless of how amceteis stimulated however ...</td>\n",
       "      <td>0.611111</td>\n",
       "      <td>swahili</td>\n",
       "    </tr>\n",
       "  </tbody>\n",
       "</table>\n",
       "</div>"
      ],
      "text/plain": [
       "                                          audio_path  \\\n",
       "0  /data/data/intron/e809b58c-4f05-4754-b98c-fbf2...   \n",
       "1  /data/data/intron/7ce31a48-f507-4344-bc49-96de...   \n",
       "\n",
       "                                                text  \\\n",
       "0  Ensure the correct placement of the feeding tu...   \n",
       "1  Regardlessof how amyocyteis stimulated,however...   \n",
       "\n",
       "                                           reference  \\\n",
       "0  ensure the correct placement of the feeding tu...   \n",
       "1  regardlessof how amyocyteis stimulated,however...   \n",
       "\n",
       "                                         predictions  \\\n",
       "0  ensure the correct replacement of the feeding ...   \n",
       "1  regardless of how amceteis stimulated however ...   \n",
       "\n",
       "                                     predictions_raw       wer   accent  \n",
       "0  ensure the correct replacement of the feeding ...  0.709677  swahili  \n",
       "1  regardless of how amceteis stimulated however ...  0.611111  swahili  "
      ]
     },
     "execution_count": 89,
     "metadata": {},
     "output_type": "execute_result"
    }
   ],
   "source": [
    "wav2vec2_xls_r_1b_english_raw = pd.read_csv(\"../results/intron-open-dev-ful-jonatasgrosman-wav2vec2-xls-r-1b-english-wer-0.5761-3232.csv\")\n",
    "print(wav2vec2_xls_r_1b_english_raw.shape)\n",
    "wav2vec2_xls_r_1b_english_raw.head(2)"
   ]
  },
  {
   "cell_type": "code",
   "execution_count": 90,
   "id": "33002632",
   "metadata": {},
   "outputs": [
    {
     "name": "stdout",
     "output_type": "stream",
     "text": [
      "(2877, 9)\n",
      "(0, 10)\n",
      "(0, 10)\n"
     ]
    }
   ],
   "source": [
    "wav2vec2_xls_r_1b_english = transform_raw_df(wav2vec2_xls_r_1b_english_raw, columns=columns, fmt=\"wav2vec2\")\n",
    "wav2vec2_xls_r_1b_english_clean = clean_and_compute_wer(wav2vec2_xls_r_1b_english)"
   ]
  },
  {
   "cell_type": "code",
   "execution_count": 91,
   "id": "1197a6a1",
   "metadata": {},
   "outputs": [
    {
     "name": "stdout",
     "output_type": "stream",
     "text": [
      "0.743025983322594\n",
      "0.6514921574251561\n"
     ]
    }
   ],
   "source": [
    "print(wav2vec2_xls_r_1b_english[\"wer\"].mean())\n",
    "print(wav2vec2_xls_r_1b_english_clean[\"wer\"].mean())"
   ]
  },
  {
   "cell_type": "code",
   "execution_count": 92,
   "id": "74d57ac8",
   "metadata": {},
   "outputs": [],
   "source": [
    "model_id_or_path=\"facebook_wav2vec2_xls_r_1b_english\"\n",
    "\n",
    "write_to_folder(model_id_or_path=model_id_or_path, \n",
    "                predictions_df=wav2vec2_xls_r_1b_english, \n",
    "                output_dir=\"../results/raw\")\n",
    "\n",
    "write_to_folder(model_id_or_path=model_id_or_path, \n",
    "                predictions_df=wav2vec2_xls_r_1b_english_clean,\n",
    "                output_dir=\"../results/normalized\")"
   ]
  },
  {
   "cell_type": "code",
   "execution_count": 93,
   "id": "7eadd999",
   "metadata": {},
   "outputs": [],
   "source": [
    "wav2vec2_xls_r_1b_english[\"name\"] = \"facebook_wav2vec2_xls_r_1b_english\"\n",
    "wav2vec2_xls_r_1b_english_clean[\"name\"] = \"facebook_wav2vec2_xls_r_1b_english\"\n",
    "\n",
    "models_df = pd.concat([models_df, wav2vec2_xls_r_1b_english])\n",
    "models_df_clean = pd.concat([models_df_clean, wav2vec2_xls_r_1b_english_clean])"
   ]
  },
  {
   "cell_type": "markdown",
   "id": "14ece693",
   "metadata": {},
   "source": [
    "### Wav2vec2-large-960h-lv60-self"
   ]
  },
  {
   "cell_type": "code",
   "execution_count": 94,
   "id": "80b73fdc",
   "metadata": {},
   "outputs": [
    {
     "name": "stdout",
     "output_type": "stream",
     "text": [
      "(3232, 7)\n"
     ]
    },
    {
     "data": {
      "text/html": [
       "<div>\n",
       "<style scoped>\n",
       "    .dataframe tbody tr th:only-of-type {\n",
       "        vertical-align: middle;\n",
       "    }\n",
       "\n",
       "    .dataframe tbody tr th {\n",
       "        vertical-align: top;\n",
       "    }\n",
       "\n",
       "    .dataframe thead th {\n",
       "        text-align: right;\n",
       "    }\n",
       "</style>\n",
       "<table border=\"1\" class=\"dataframe\">\n",
       "  <thead>\n",
       "    <tr style=\"text-align: right;\">\n",
       "      <th></th>\n",
       "      <th>audio_path</th>\n",
       "      <th>text</th>\n",
       "      <th>reference</th>\n",
       "      <th>predictions</th>\n",
       "      <th>predictions_raw</th>\n",
       "      <th>wer</th>\n",
       "      <th>accent</th>\n",
       "    </tr>\n",
       "  </thead>\n",
       "  <tbody>\n",
       "    <tr>\n",
       "      <th>0</th>\n",
       "      <td>/data/data/intron/e809b58c-4f05-4754-b98c-fbf2...</td>\n",
       "      <td>Ensure the correct placement of the feeding tu...</td>\n",
       "      <td>ensure the correct placement of the feeding tu...</td>\n",
       "      <td>ensure the correct eplacement of the feeding t...</td>\n",
       "      <td>ENSURE THE CORRECT EPLACEMENT OF THE FEEDING T...</td>\n",
       "      <td>0.645161</td>\n",
       "      <td>swahili</td>\n",
       "    </tr>\n",
       "    <tr>\n",
       "      <th>1</th>\n",
       "      <td>/data/data/intron/7ce31a48-f507-4344-bc49-96de...</td>\n",
       "      <td>Regardlessof how amyocyteis stimulated,however...</td>\n",
       "      <td>regardlessof how amyocyteis stimulated,however...</td>\n",
       "      <td>regardless of how amikitas stimulated however ...</td>\n",
       "      <td>REGARDLESS OF HOW AMIKITAS STIMULATED HOWEVER ...</td>\n",
       "      <td>0.666667</td>\n",
       "      <td>swahili</td>\n",
       "    </tr>\n",
       "  </tbody>\n",
       "</table>\n",
       "</div>"
      ],
      "text/plain": [
       "                                          audio_path  \\\n",
       "0  /data/data/intron/e809b58c-4f05-4754-b98c-fbf2...   \n",
       "1  /data/data/intron/7ce31a48-f507-4344-bc49-96de...   \n",
       "\n",
       "                                                text  \\\n",
       "0  Ensure the correct placement of the feeding tu...   \n",
       "1  Regardlessof how amyocyteis stimulated,however...   \n",
       "\n",
       "                                           reference  \\\n",
       "0  ensure the correct placement of the feeding tu...   \n",
       "1  regardlessof how amyocyteis stimulated,however...   \n",
       "\n",
       "                                         predictions  \\\n",
       "0  ensure the correct eplacement of the feeding t...   \n",
       "1  regardless of how amikitas stimulated however ...   \n",
       "\n",
       "                                     predictions_raw       wer   accent  \n",
       "0  ENSURE THE CORRECT EPLACEMENT OF THE FEEDING T...  0.645161  swahili  \n",
       "1  REGARDLESS OF HOW AMIKITAS STIMULATED HOWEVER ...  0.666667  swahili  "
      ]
     },
     "execution_count": 94,
     "metadata": {},
     "output_type": "execute_result"
    }
   ],
   "source": [
    "wav2vec2_large_960h_lv60_self_raw = pd.read_csv(\"../results/intron-open-dev-ful-facebook-wav2vec2-large-960h-lv60-self-wer-0.5944-3232.csv\")\n",
    "print(wav2vec2_large_960h_lv60_self_raw.shape)\n",
    "wav2vec2_large_960h_lv60_self_raw.head(2)"
   ]
  },
  {
   "cell_type": "code",
   "execution_count": 95,
   "id": "8aa28fd1",
   "metadata": {},
   "outputs": [
    {
     "name": "stdout",
     "output_type": "stream",
     "text": [
      "(2877, 9)\n",
      "(1, 10)\n",
      "(0, 10)\n"
     ]
    }
   ],
   "source": [
    "wav2vec2_large_960h_lv60_self = transform_raw_df(wav2vec2_large_960h_lv60_self_raw, columns=columns, fmt=\"wav2vec2\")\n",
    "wav2vec2_large_960h_lv60_self_clean = clean_and_compute_wer(wav2vec2_large_960h_lv60_self)"
   ]
  },
  {
   "cell_type": "code",
   "execution_count": 96,
   "id": "578d8a41",
   "metadata": {},
   "outputs": [
    {
     "name": "stdout",
     "output_type": "stream",
     "text": [
      "1.2229264243916067\n",
      "0.67118697565761\n"
     ]
    }
   ],
   "source": [
    "print(wav2vec2_large_960h_lv60_self[\"wer\"].mean())\n",
    "print(wav2vec2_large_960h_lv60_self_clean[\"wer\"].mean())"
   ]
  },
  {
   "cell_type": "code",
   "execution_count": 97,
   "id": "a852b850",
   "metadata": {},
   "outputs": [],
   "source": [
    "model_id_or_path=\"facebook_wav2vec2_large_960h_lv60_self\"\n",
    "\n",
    "write_to_folder(model_id_or_path=model_id_or_path, \n",
    "                predictions_df=wav2vec2_large_960h_lv60_self, \n",
    "                output_dir=\"../results/raw\")\n",
    "\n",
    "write_to_folder(model_id_or_path=model_id_or_path, \n",
    "                predictions_df=wav2vec2_large_960h_lv60_self_clean,\n",
    "                output_dir=\"../results/normalized\")"
   ]
  },
  {
   "cell_type": "code",
   "execution_count": 98,
   "id": "cb321181",
   "metadata": {},
   "outputs": [],
   "source": [
    "wav2vec2_large_960h_lv60_self[\"name\"] = \"facebook_wav2vec2_large_960h_lv60_self\"\n",
    "wav2vec2_large_960h_lv60_self_clean[\"name\"] = \"facebook_wav2vec2_large_960h_lv60_self\"\n",
    "\n",
    "models_df = pd.concat([models_df, wav2vec2_large_960h_lv60_self])\n",
    "models_df_clean = pd.concat([models_df_clean, wav2vec2_large_960h_lv60_self_clean])"
   ]
  },
  {
   "cell_type": "markdown",
   "id": "1a751c11",
   "metadata": {},
   "source": [
    "### Wav2vec2-large-960h"
   ]
  },
  {
   "cell_type": "code",
   "execution_count": 99,
   "id": "c3a015a2",
   "metadata": {},
   "outputs": [
    {
     "name": "stdout",
     "output_type": "stream",
     "text": [
      "(3232, 7)\n"
     ]
    },
    {
     "data": {
      "text/html": [
       "<div>\n",
       "<style scoped>\n",
       "    .dataframe tbody tr th:only-of-type {\n",
       "        vertical-align: middle;\n",
       "    }\n",
       "\n",
       "    .dataframe tbody tr th {\n",
       "        vertical-align: top;\n",
       "    }\n",
       "\n",
       "    .dataframe thead th {\n",
       "        text-align: right;\n",
       "    }\n",
       "</style>\n",
       "<table border=\"1\" class=\"dataframe\">\n",
       "  <thead>\n",
       "    <tr style=\"text-align: right;\">\n",
       "      <th></th>\n",
       "      <th>audio_path</th>\n",
       "      <th>text</th>\n",
       "      <th>reference</th>\n",
       "      <th>predictions</th>\n",
       "      <th>predictions_raw</th>\n",
       "      <th>wer</th>\n",
       "      <th>accent</th>\n",
       "    </tr>\n",
       "  </thead>\n",
       "  <tbody>\n",
       "    <tr>\n",
       "      <th>0</th>\n",
       "      <td>/data/data/intron/e809b58c-4f05-4754-b98c-fbf2...</td>\n",
       "      <td>Ensure the correct placement of the feeding tu...</td>\n",
       "      <td>ensure the correct placement of the feeding tu...</td>\n",
       "      <td>ensure the correct placement of the feeding tu...</td>\n",
       "      <td>ENSURE THE CORRECT PLACEMENT OF THE FEEDING TU...</td>\n",
       "      <td>0.741935</td>\n",
       "      <td>swahili</td>\n",
       "    </tr>\n",
       "    <tr>\n",
       "      <th>1</th>\n",
       "      <td>/data/data/intron/7ce31a48-f507-4344-bc49-96de...</td>\n",
       "      <td>Regardlessof how amyocyteis stimulated,however...</td>\n",
       "      <td>regardlessof how amyocyteis stimulated,however...</td>\n",
       "      <td>regardless of how amercitis stimulated however...</td>\n",
       "      <td>REGARDLESS OF HOW AMERCITIS STIMULATED HOWEVER...</td>\n",
       "      <td>0.666667</td>\n",
       "      <td>swahili</td>\n",
       "    </tr>\n",
       "  </tbody>\n",
       "</table>\n",
       "</div>"
      ],
      "text/plain": [
       "                                          audio_path  \\\n",
       "0  /data/data/intron/e809b58c-4f05-4754-b98c-fbf2...   \n",
       "1  /data/data/intron/7ce31a48-f507-4344-bc49-96de...   \n",
       "\n",
       "                                                text  \\\n",
       "0  Ensure the correct placement of the feeding tu...   \n",
       "1  Regardlessof how amyocyteis stimulated,however...   \n",
       "\n",
       "                                           reference  \\\n",
       "0  ensure the correct placement of the feeding tu...   \n",
       "1  regardlessof how amyocyteis stimulated,however...   \n",
       "\n",
       "                                         predictions  \\\n",
       "0  ensure the correct placement of the feeding tu...   \n",
       "1  regardless of how amercitis stimulated however...   \n",
       "\n",
       "                                     predictions_raw       wer   accent  \n",
       "0  ENSURE THE CORRECT PLACEMENT OF THE FEEDING TU...  0.741935  swahili  \n",
       "1  REGARDLESS OF HOW AMERCITIS STIMULATED HOWEVER...  0.666667  swahili  "
      ]
     },
     "execution_count": 99,
     "metadata": {},
     "output_type": "execute_result"
    }
   ],
   "source": [
    "wav2vec2_large_960h_raw = pd.read_csv(\"../results/intron-open-dev-ful-facebook-wav2vec2-large-960h-wer-0.7031-3232.csv\")\n",
    "print(wav2vec2_large_960h_raw.shape)\n",
    "wav2vec2_large_960h_raw.head(2)"
   ]
  },
  {
   "cell_type": "code",
   "execution_count": 100,
   "id": "4b304c24",
   "metadata": {},
   "outputs": [
    {
     "name": "stdout",
     "output_type": "stream",
     "text": [
      "(2877, 9)\n",
      "(1, 10)\n",
      "(0, 10)\n"
     ]
    }
   ],
   "source": [
    "wav2vec2_large_960h = transform_raw_df(wav2vec2_large_960h_raw, columns=columns, fmt=\"wav2vec2\")\n",
    "wav2vec2_large_960h_clean = clean_and_compute_wer(wav2vec2_large_960h)"
   ]
  },
  {
   "cell_type": "code",
   "execution_count": 101,
   "id": "0b239d23",
   "metadata": {},
   "outputs": [
    {
     "name": "stdout",
     "output_type": "stream",
     "text": [
      "1.246550763360166\n",
      "0.789551281262618\n"
     ]
    }
   ],
   "source": [
    "print(wav2vec2_large_960h[\"wer\"].mean())\n",
    "print(wav2vec2_large_960h_clean[\"wer\"].mean())"
   ]
  },
  {
   "cell_type": "code",
   "execution_count": 102,
   "id": "977f48ed",
   "metadata": {},
   "outputs": [],
   "source": [
    "model_id_or_path=\"facebook_wav2vec2_large_960h\"\n",
    "\n",
    "write_to_folder(model_id_or_path=model_id_or_path, \n",
    "                predictions_df=wav2vec2_large_960h, \n",
    "                output_dir=\"../results/raw\")\n",
    "\n",
    "write_to_folder(model_id_or_path=model_id_or_path, \n",
    "                predictions_df=wav2vec2_large_960h_clean,\n",
    "                output_dir=\"../results/normalized\")"
   ]
  },
  {
   "cell_type": "code",
   "execution_count": 103,
   "id": "97e02c08",
   "metadata": {},
   "outputs": [],
   "source": [
    "wav2vec2_large_960h[\"name\"] = \"facebook_wav2vec2_large_960h\"\n",
    "wav2vec2_large_960h_clean[\"name\"] = \"facebook_wav2vec2_large_960h\"\n",
    "\n",
    "models_df = pd.concat([models_df, wav2vec2_large_960h])\n",
    "models_df_clean = pd.concat([models_df_clean, wav2vec2_large_960h_clean])"
   ]
  },
  {
   "cell_type": "markdown",
   "id": "46efd3af",
   "metadata": {},
   "source": [
    "### Wav2vec2-large-robust-ft-swbd-300h"
   ]
  },
  {
   "cell_type": "code",
   "execution_count": 104,
   "id": "827580b6",
   "metadata": {},
   "outputs": [
    {
     "name": "stdout",
     "output_type": "stream",
     "text": [
      "(3232, 7)\n"
     ]
    },
    {
     "data": {
      "text/html": [
       "<div>\n",
       "<style scoped>\n",
       "    .dataframe tbody tr th:only-of-type {\n",
       "        vertical-align: middle;\n",
       "    }\n",
       "\n",
       "    .dataframe tbody tr th {\n",
       "        vertical-align: top;\n",
       "    }\n",
       "\n",
       "    .dataframe thead th {\n",
       "        text-align: right;\n",
       "    }\n",
       "</style>\n",
       "<table border=\"1\" class=\"dataframe\">\n",
       "  <thead>\n",
       "    <tr style=\"text-align: right;\">\n",
       "      <th></th>\n",
       "      <th>audio_path</th>\n",
       "      <th>text</th>\n",
       "      <th>reference</th>\n",
       "      <th>predictions</th>\n",
       "      <th>predictions_raw</th>\n",
       "      <th>wer</th>\n",
       "      <th>accent</th>\n",
       "    </tr>\n",
       "  </thead>\n",
       "  <tbody>\n",
       "    <tr>\n",
       "      <th>0</th>\n",
       "      <td>/data/data/intron/e809b58c-4f05-4754-b98c-fbf2...</td>\n",
       "      <td>Ensure the correct placement of the feeding tu...</td>\n",
       "      <td>ensure the correct placement of the feeding tu...</td>\n",
       "      <td>ensure the corextplacement of the feoding tube...</td>\n",
       "      <td>ENSURE THE COREXTPLACEMENT OF THE FEODING TUBE...</td>\n",
       "      <td>0.838710</td>\n",
       "      <td>swahili</td>\n",
       "    </tr>\n",
       "    <tr>\n",
       "      <th>1</th>\n",
       "      <td>/data/data/intron/7ce31a48-f507-4344-bc49-96de...</td>\n",
       "      <td>Regardlessof how amyocyteis stimulated,however...</td>\n",
       "      <td>regardlessof how amyocyteis stimulated,however...</td>\n",
       "      <td>regardless of how amercatis stimulated however...</td>\n",
       "      <td>REGARDLESS OF HOW AMERCATIS STIMULATED HOWEVER...</td>\n",
       "      <td>0.777778</td>\n",
       "      <td>swahili</td>\n",
       "    </tr>\n",
       "  </tbody>\n",
       "</table>\n",
       "</div>"
      ],
      "text/plain": [
       "                                          audio_path  \\\n",
       "0  /data/data/intron/e809b58c-4f05-4754-b98c-fbf2...   \n",
       "1  /data/data/intron/7ce31a48-f507-4344-bc49-96de...   \n",
       "\n",
       "                                                text  \\\n",
       "0  Ensure the correct placement of the feeding tu...   \n",
       "1  Regardlessof how amyocyteis stimulated,however...   \n",
       "\n",
       "                                           reference  \\\n",
       "0  ensure the correct placement of the feeding tu...   \n",
       "1  regardlessof how amyocyteis stimulated,however...   \n",
       "\n",
       "                                         predictions  \\\n",
       "0  ensure the corextplacement of the feoding tube...   \n",
       "1  regardless of how amercatis stimulated however...   \n",
       "\n",
       "                                     predictions_raw       wer   accent  \n",
       "0  ENSURE THE COREXTPLACEMENT OF THE FEODING TUBE...  0.838710  swahili  \n",
       "1  REGARDLESS OF HOW AMERCATIS STIMULATED HOWEVER...  0.777778  swahili  "
      ]
     },
     "execution_count": 104,
     "metadata": {},
     "output_type": "execute_result"
    }
   ],
   "source": [
    "wav2vec2_large_robust_ft_swbd_300h_raw = pd.read_csv(\"../results/intron-open-dev-ful-facebook-wav2vec2-large-robust-ft-swbd-300h-wer-0.7749-3232.csv\")\n",
    "print(wav2vec2_large_robust_ft_swbd_300h_raw.shape)\n",
    "wav2vec2_large_robust_ft_swbd_300h_raw.head(2)"
   ]
  },
  {
   "cell_type": "code",
   "execution_count": 105,
   "id": "89de26f0",
   "metadata": {},
   "outputs": [
    {
     "name": "stdout",
     "output_type": "stream",
     "text": [
      "(2877, 9)\n",
      "(7, 10)\n",
      "(0, 10)\n"
     ]
    }
   ],
   "source": [
    "wav2vec2_large_robust_ft_swbd_300h = transform_raw_df(wav2vec2_large_robust_ft_swbd_300h_raw, columns=columns, fmt=\"wav2vec2\")\n",
    "wav2vec2_large_robust_ft_swbd_300h_clean = clean_and_compute_wer(wav2vec2_large_robust_ft_swbd_300h)"
   ]
  },
  {
   "cell_type": "code",
   "execution_count": 106,
   "id": "b7812d20",
   "metadata": {},
   "outputs": [
    {
     "name": "stdout",
     "output_type": "stream",
     "text": [
      "1.2880591945755344\n",
      "0.8636325335980687\n"
     ]
    }
   ],
   "source": [
    "print(wav2vec2_large_robust_ft_swbd_300h[\"wer\"].mean())\n",
    "print(wav2vec2_large_robust_ft_swbd_300h_clean[\"wer\"].mean())"
   ]
  },
  {
   "cell_type": "code",
   "execution_count": 107,
   "id": "a06152c2",
   "metadata": {},
   "outputs": [],
   "source": [
    "model_id_or_path=\"facebook_wav2vec2_large_robust_ft_swbd_300h\"\n",
    "\n",
    "write_to_folder(model_id_or_path=model_id_or_path, \n",
    "                predictions_df=wav2vec2_large_robust_ft_swbd_300h, \n",
    "                output_dir=\"../results/raw\")\n",
    "\n",
    "write_to_folder(model_id_or_path=model_id_or_path, \n",
    "                predictions_df=wav2vec2_large_robust_ft_swbd_300h_clean,\n",
    "                output_dir=\"../results/normalized\")"
   ]
  },
  {
   "cell_type": "code",
   "execution_count": 108,
   "id": "64e06ddb",
   "metadata": {},
   "outputs": [],
   "source": [
    "wav2vec2_large_robust_ft_swbd_300h[\"name\"] = \"facebook_wav2vec2_large_robust_ft_swbd_300h\"\n",
    "wav2vec2_large_robust_ft_swbd_300h_clean[\"name\"] = \"facebook_wav2vec2_large_robust_ft_swbd_300h\"\n",
    "\n",
    "models_df = pd.concat([models_df, wav2vec2_large_robust_ft_swbd_300h])\n",
    "models_df_clean = pd.concat([models_df_clean, wav2vec2_large_robust_ft_swbd_300h_clean])"
   ]
  },
  {
   "cell_type": "markdown",
   "id": "f6e6ee58",
   "metadata": {},
   "source": [
    "### Hubert-large-ls960-ft"
   ]
  },
  {
   "cell_type": "code",
   "execution_count": 109,
   "id": "c25277c5",
   "metadata": {},
   "outputs": [
    {
     "name": "stdout",
     "output_type": "stream",
     "text": [
      "(3232, 10)\n"
     ]
    },
    {
     "data": {
      "text/html": [
       "<div>\n",
       "<style scoped>\n",
       "    .dataframe tbody tr th:only-of-type {\n",
       "        vertical-align: middle;\n",
       "    }\n",
       "\n",
       "    .dataframe tbody tr th {\n",
       "        vertical-align: top;\n",
       "    }\n",
       "\n",
       "    .dataframe thead th {\n",
       "        text-align: right;\n",
       "    }\n",
       "</style>\n",
       "<table border=\"1\" class=\"dataframe\">\n",
       "  <thead>\n",
       "    <tr style=\"text-align: right;\">\n",
       "      <th></th>\n",
       "      <th>Unnamed: 0</th>\n",
       "      <th>idx</th>\n",
       "      <th>user_ids</th>\n",
       "      <th>transcript</th>\n",
       "      <th>hubert_large</th>\n",
       "      <th>hubert_xlarge</th>\n",
       "      <th>wer</th>\n",
       "      <th>cleanup_references</th>\n",
       "      <th>cleanup_hubert</th>\n",
       "      <th>wer_cleanup</th>\n",
       "    </tr>\n",
       "  </thead>\n",
       "  <tbody>\n",
       "    <tr>\n",
       "      <th>0</th>\n",
       "      <td>0</td>\n",
       "      <td>72663</td>\n",
       "      <td>f559cb4f16bc465ea44b56a8d3b5513e</td>\n",
       "      <td>Ensure the correct placement of the feeding tu...</td>\n",
       "      <td>ENSURE THE CORRECT PLACEMENT OF THE FIDING TUB...</td>\n",
       "      <td>ENSURE THE CORRECT PLACEMENT OF THE FEEDING TU...</td>\n",
       "      <td>0.677419</td>\n",
       "      <td>ensure the correct placement of the feeding tu...</td>\n",
       "      <td>ensure the correct placement of the fiding tub...</td>\n",
       "      <td>0.580645</td>\n",
       "    </tr>\n",
       "    <tr>\n",
       "      <th>1</th>\n",
       "      <td>1</td>\n",
       "      <td>153902</td>\n",
       "      <td>2be9bc423e70a24c703f8336e60af3f3</td>\n",
       "      <td>Regardlessof how amyocyteis stimulated,however...</td>\n",
       "      <td>REGARDLESS OF HOW AMECITIS STIMULATED HOWEVER ...</td>\n",
       "      <td>REGARDLESS OF HOW A MCIT IS STIMULATED HOWEVER...</td>\n",
       "      <td>0.722222</td>\n",
       "      <td>regardlessof how amyocyteis stimulated however...</td>\n",
       "      <td>regardless of how amecitis stimulated however ...</td>\n",
       "      <td>0.500000</td>\n",
       "    </tr>\n",
       "  </tbody>\n",
       "</table>\n",
       "</div>"
      ],
      "text/plain": [
       "   Unnamed: 0     idx                          user_ids  \\\n",
       "0           0   72663  f559cb4f16bc465ea44b56a8d3b5513e   \n",
       "1           1  153902  2be9bc423e70a24c703f8336e60af3f3   \n",
       "\n",
       "                                          transcript  \\\n",
       "0  Ensure the correct placement of the feeding tu...   \n",
       "1  Regardlessof how amyocyteis stimulated,however...   \n",
       "\n",
       "                                        hubert_large  \\\n",
       "0  ENSURE THE CORRECT PLACEMENT OF THE FIDING TUB...   \n",
       "1  REGARDLESS OF HOW AMECITIS STIMULATED HOWEVER ...   \n",
       "\n",
       "                                       hubert_xlarge       wer  \\\n",
       "0  ENSURE THE CORRECT PLACEMENT OF THE FEEDING TU...  0.677419   \n",
       "1  REGARDLESS OF HOW A MCIT IS STIMULATED HOWEVER...  0.722222   \n",
       "\n",
       "                                  cleanup_references  \\\n",
       "0  ensure the correct placement of the feeding tu...   \n",
       "1  regardlessof how amyocyteis stimulated however...   \n",
       "\n",
       "                                      cleanup_hubert  wer_cleanup  \n",
       "0  ensure the correct placement of the fiding tub...     0.580645  \n",
       "1  regardless of how amecitis stimulated however ...     0.500000  "
      ]
     },
     "execution_count": 109,
     "metadata": {},
     "output_type": "execute_result"
    }
   ],
   "source": [
    "hubert_large_ls960_ft_raw = pd.read_csv(\"../results/hubert_wer_asr_dev.csv\")\n",
    "print(hubert_large_ls960_ft_raw.shape)\n",
    "hubert_large_ls960_ft_raw.head(2)"
   ]
  },
  {
   "cell_type": "code",
   "execution_count": 110,
   "id": "4c9526e5",
   "metadata": {},
   "outputs": [
    {
     "name": "stdout",
     "output_type": "stream",
     "text": [
      "(2872, 9)\n",
      "(1, 10)\n",
      "(0, 10)\n"
     ]
    }
   ],
   "source": [
    "hubert_large_ls960_ft = transform_raw_df(hubert_large_ls960_ft_raw, columns=columns, fmt=\"hubert_large\")\n",
    "hubert_large_ls960_ft_clean = clean_and_compute_wer(hubert_large_ls960_ft)"
   ]
  },
  {
   "cell_type": "code",
   "execution_count": 111,
   "id": "3c75c928",
   "metadata": {},
   "outputs": [
    {
     "name": "stdout",
     "output_type": "stream",
     "text": [
      "1.2269235515829158\n",
      "0.7085538560634761\n"
     ]
    }
   ],
   "source": [
    "print(hubert_large_ls960_ft[\"wer\"].mean())\n",
    "print(hubert_large_ls960_ft_clean[\"wer\"].mean())"
   ]
  },
  {
   "cell_type": "code",
   "execution_count": 112,
   "id": "0c695ea9",
   "metadata": {},
   "outputs": [],
   "source": [
    "model_id_or_path=\"facebook_hubert_large_ls960_ft\"\n",
    "\n",
    "write_to_folder(model_id_or_path=model_id_or_path, \n",
    "                predictions_df=hubert_large_ls960_ft, \n",
    "                output_dir=\"../results/raw\")\n",
    "\n",
    "write_to_folder(model_id_or_path=model_id_or_path, \n",
    "                predictions_df=hubert_large_ls960_ft_clean,\n",
    "                output_dir=\"../results/normalized\")"
   ]
  },
  {
   "cell_type": "code",
   "execution_count": 113,
   "id": "d3f396b2",
   "metadata": {},
   "outputs": [],
   "source": [
    "hubert_large_ls960_ft[\"name\"] = \"facebook_hubert_large_ls960_ft\"\n",
    "hubert_large_ls960_ft_clean[\"name\"] = \"facebook_hubert_large_ls960_ft\"\n",
    "\n",
    "models_df = pd.concat([models_df, hubert_large_ls960_ft])\n",
    "models_df_clean = pd.concat([models_df_clean, hubert_large_ls960_ft_clean])"
   ]
  },
  {
   "cell_type": "markdown",
   "id": "2146a4a2",
   "metadata": {},
   "source": [
    "### Hubert-xlarge-ls960-ft"
   ]
  },
  {
   "cell_type": "code",
   "execution_count": 114,
   "id": "375f4e92",
   "metadata": {},
   "outputs": [
    {
     "name": "stdout",
     "output_type": "stream",
     "text": [
      "(3232, 10)\n"
     ]
    },
    {
     "data": {
      "text/html": [
       "<div>\n",
       "<style scoped>\n",
       "    .dataframe tbody tr th:only-of-type {\n",
       "        vertical-align: middle;\n",
       "    }\n",
       "\n",
       "    .dataframe tbody tr th {\n",
       "        vertical-align: top;\n",
       "    }\n",
       "\n",
       "    .dataframe thead th {\n",
       "        text-align: right;\n",
       "    }\n",
       "</style>\n",
       "<table border=\"1\" class=\"dataframe\">\n",
       "  <thead>\n",
       "    <tr style=\"text-align: right;\">\n",
       "      <th></th>\n",
       "      <th>Unnamed: 0</th>\n",
       "      <th>idx</th>\n",
       "      <th>user_ids</th>\n",
       "      <th>transcript</th>\n",
       "      <th>hubert_large</th>\n",
       "      <th>hubert_xlarge</th>\n",
       "      <th>wer</th>\n",
       "      <th>cleanup_references</th>\n",
       "      <th>cleanup_hubert</th>\n",
       "      <th>wer_cleanup</th>\n",
       "    </tr>\n",
       "  </thead>\n",
       "  <tbody>\n",
       "    <tr>\n",
       "      <th>0</th>\n",
       "      <td>0</td>\n",
       "      <td>72663</td>\n",
       "      <td>f559cb4f16bc465ea44b56a8d3b5513e</td>\n",
       "      <td>Ensure the correct placement of the feeding tu...</td>\n",
       "      <td>ENSURE THE CORRECT PLACEMENT OF THE FIDING TUB...</td>\n",
       "      <td>ENSURE THE CORRECT PLACEMENT OF THE FEEDING TU...</td>\n",
       "      <td>0.677419</td>\n",
       "      <td>ensure the correct placement of the feeding tu...</td>\n",
       "      <td>ensure the correct placement of the fiding tub...</td>\n",
       "      <td>0.580645</td>\n",
       "    </tr>\n",
       "    <tr>\n",
       "      <th>1</th>\n",
       "      <td>1</td>\n",
       "      <td>153902</td>\n",
       "      <td>2be9bc423e70a24c703f8336e60af3f3</td>\n",
       "      <td>Regardlessof how amyocyteis stimulated,however...</td>\n",
       "      <td>REGARDLESS OF HOW AMECITIS STIMULATED HOWEVER ...</td>\n",
       "      <td>REGARDLESS OF HOW A MCIT IS STIMULATED HOWEVER...</td>\n",
       "      <td>0.722222</td>\n",
       "      <td>regardlessof how amyocyteis stimulated however...</td>\n",
       "      <td>regardless of how amecitis stimulated however ...</td>\n",
       "      <td>0.500000</td>\n",
       "    </tr>\n",
       "  </tbody>\n",
       "</table>\n",
       "</div>"
      ],
      "text/plain": [
       "   Unnamed: 0     idx                          user_ids  \\\n",
       "0           0   72663  f559cb4f16bc465ea44b56a8d3b5513e   \n",
       "1           1  153902  2be9bc423e70a24c703f8336e60af3f3   \n",
       "\n",
       "                                          transcript  \\\n",
       "0  Ensure the correct placement of the feeding tu...   \n",
       "1  Regardlessof how amyocyteis stimulated,however...   \n",
       "\n",
       "                                        hubert_large  \\\n",
       "0  ENSURE THE CORRECT PLACEMENT OF THE FIDING TUB...   \n",
       "1  REGARDLESS OF HOW AMECITIS STIMULATED HOWEVER ...   \n",
       "\n",
       "                                       hubert_xlarge       wer  \\\n",
       "0  ENSURE THE CORRECT PLACEMENT OF THE FEEDING TU...  0.677419   \n",
       "1  REGARDLESS OF HOW A MCIT IS STIMULATED HOWEVER...  0.722222   \n",
       "\n",
       "                                  cleanup_references  \\\n",
       "0  ensure the correct placement of the feeding tu...   \n",
       "1  regardlessof how amyocyteis stimulated however...   \n",
       "\n",
       "                                      cleanup_hubert  wer_cleanup  \n",
       "0  ensure the correct placement of the fiding tub...     0.580645  \n",
       "1  regardless of how amecitis stimulated however ...     0.500000  "
      ]
     },
     "execution_count": 114,
     "metadata": {},
     "output_type": "execute_result"
    }
   ],
   "source": [
    "hubert_xlarge_ls960_ft_raw = pd.read_csv(\"../results/hubert_wer_asr_dev.csv\")\n",
    "print(hubert_xlarge_ls960_ft_raw.shape)\n",
    "hubert_xlarge_ls960_ft_raw.head(2)"
   ]
  },
  {
   "cell_type": "code",
   "execution_count": 115,
   "id": "55df980e",
   "metadata": {},
   "outputs": [
    {
     "name": "stdout",
     "output_type": "stream",
     "text": [
      "(2872, 9)\n",
      "(1, 10)\n",
      "(0, 10)\n"
     ]
    }
   ],
   "source": [
    "hubert_xlarge_ls960_ft = transform_raw_df(hubert_xlarge_ls960_ft_raw, columns=columns, fmt=\"hubert_xlarge\")\n",
    "hubert_xlarge_ls960_ft_clean = clean_and_compute_wer(hubert_xlarge_ls960_ft)"
   ]
  },
  {
   "cell_type": "code",
   "execution_count": 116,
   "id": "c166b9b4",
   "metadata": {},
   "outputs": [
    {
     "name": "stdout",
     "output_type": "stream",
     "text": [
      "1.2361624783348384\n",
      "0.7148852567015267\n"
     ]
    }
   ],
   "source": [
    "print(hubert_xlarge_ls960_ft[\"wer\"].mean())\n",
    "print(hubert_xlarge_ls960_ft_clean[\"wer\"].mean())"
   ]
  },
  {
   "cell_type": "code",
   "execution_count": 117,
   "id": "4caff8c3",
   "metadata": {},
   "outputs": [],
   "source": [
    "model_id_or_path=\"facebook_hubert_xlarge_ls960_ft\"\n",
    "\n",
    "write_to_folder(model_id_or_path=model_id_or_path, \n",
    "                predictions_df=hubert_xlarge_ls960_ft, \n",
    "                output_dir=\"../results/raw\")\n",
    "\n",
    "write_to_folder(model_id_or_path=model_id_or_path, \n",
    "                predictions_df=hubert_xlarge_ls960_ft_clean,\n",
    "                output_dir=\"../results/normalized\")"
   ]
  },
  {
   "cell_type": "code",
   "execution_count": 118,
   "id": "266e5a3a",
   "metadata": {},
   "outputs": [],
   "source": [
    "hubert_xlarge_ls960_ft[\"name\"] = \"facebook_hubert_xlarge_ls960_ft\"\n",
    "hubert_xlarge_ls960_ft_clean[\"name\"] = \"facebook_hubert_xlarge_ls960_ft\"\n",
    "\n",
    "models_df = pd.concat([models_df, hubert_xlarge_ls960_ft])\n",
    "models_df_clean = pd.concat([models_df_clean, hubert_xlarge_ls960_ft_clean])"
   ]
  },
  {
   "cell_type": "code",
   "execution_count": 119,
   "id": "dc33319c",
   "metadata": {},
   "outputs": [
    {
     "data": {
      "text/plain": [
       "((60342, 12), (60342, 12))"
      ]
     },
     "execution_count": 119,
     "metadata": {},
     "output_type": "execute_result"
    }
   ],
   "source": [
    "models_df.shape, models_df_clean.shape"
   ]
  },
  {
   "cell_type": "code",
   "execution_count": 120,
   "id": "8b5186dc",
   "metadata": {},
   "outputs": [],
   "source": [
    "models_df.to_csv(\"../results/raw/all_models.csv\")\n",
    "models_df_clean.to_csv(\"../results/normalized/all_models.csv\")"
   ]
  },
  {
   "cell_type": "markdown",
   "id": "7af812e5",
   "metadata": {},
   "source": [
    "# Other statistics\n",
    "\n",
    "- compute per-accent statistics\n",
    "- compute per-gender statistics\n",
    "- compute per-domain statistics\n",
    "- compute per age-group statistics"
   ]
  },
  {
   "cell_type": "code",
   "execution_count": 121,
   "id": "c38ad524",
   "metadata": {},
   "outputs": [
    {
     "data": {
      "text/html": [
       "<div>\n",
       "<style scoped>\n",
       "    .dataframe tbody tr th:only-of-type {\n",
       "        vertical-align: middle;\n",
       "    }\n",
       "\n",
       "    .dataframe tbody tr th {\n",
       "        vertical-align: top;\n",
       "    }\n",
       "\n",
       "    .dataframe thead th {\n",
       "        text-align: right;\n",
       "    }\n",
       "</style>\n",
       "<table border=\"1\" class=\"dataframe\">\n",
       "  <thead>\n",
       "    <tr style=\"text-align: right;\">\n",
       "      <th></th>\n",
       "      <th>name</th>\n",
       "      <th>domain</th>\n",
       "      <th>wer</th>\n",
       "    </tr>\n",
       "  </thead>\n",
       "  <tbody>\n",
       "    <tr>\n",
       "      <th>0</th>\n",
       "      <td>facebook_wav2vec2_large_960h</td>\n",
       "      <td>clinical</td>\n",
       "      <td>1.298549</td>\n",
       "    </tr>\n",
       "    <tr>\n",
       "      <th>1</th>\n",
       "      <td>facebook_wav2vec2_large_960h</td>\n",
       "      <td>general</td>\n",
       "      <td>1.177514</td>\n",
       "    </tr>\n",
       "    <tr>\n",
       "      <th>2</th>\n",
       "      <td>facebook_wav2vec2_large_960h_lv60_self</td>\n",
       "      <td>clinical</td>\n",
       "      <td>1.261808</td>\n",
       "    </tr>\n",
       "    <tr>\n",
       "      <th>3</th>\n",
       "      <td>facebook_wav2vec2_large_960h_lv60_self</td>\n",
       "      <td>general</td>\n",
       "      <td>1.171305</td>\n",
       "    </tr>\n",
       "    <tr>\n",
       "      <th>4</th>\n",
       "      <td>facebook_wav2vec2_large_robust_ft_swbd_300h</td>\n",
       "      <td>clinical</td>\n",
       "      <td>1.340119</td>\n",
       "    </tr>\n",
       "    <tr>\n",
       "      <th>5</th>\n",
       "      <td>facebook_wav2vec2_large_robust_ft_swbd_300h</td>\n",
       "      <td>general</td>\n",
       "      <td>1.218940</td>\n",
       "    </tr>\n",
       "    <tr>\n",
       "      <th>6</th>\n",
       "      <td>facebook_wav2vec2_large_xlsr_53_english</td>\n",
       "      <td>clinical</td>\n",
       "      <td>0.794567</td>\n",
       "    </tr>\n",
       "    <tr>\n",
       "      <th>7</th>\n",
       "      <td>facebook_wav2vec2_large_xlsr_53_english</td>\n",
       "      <td>general</td>\n",
       "      <td>0.609994</td>\n",
       "    </tr>\n",
       "    <tr>\n",
       "      <th>8</th>\n",
       "      <td>facebook_wav2vec2_xls_r_1b_english</td>\n",
       "      <td>clinical</td>\n",
       "      <td>0.821028</td>\n",
       "    </tr>\n",
       "    <tr>\n",
       "      <th>9</th>\n",
       "      <td>facebook_wav2vec2_xls_r_1b_english</td>\n",
       "      <td>general</td>\n",
       "      <td>0.639466</td>\n",
       "    </tr>\n",
       "  </tbody>\n",
       "</table>\n",
       "</div>"
      ],
      "text/plain": [
       "                                          name    domain       wer\n",
       "0                 facebook_wav2vec2_large_960h  clinical  1.298549\n",
       "1                 facebook_wav2vec2_large_960h   general  1.177514\n",
       "2       facebook_wav2vec2_large_960h_lv60_self  clinical  1.261808\n",
       "3       facebook_wav2vec2_large_960h_lv60_self   general  1.171305\n",
       "4  facebook_wav2vec2_large_robust_ft_swbd_300h  clinical  1.340119\n",
       "5  facebook_wav2vec2_large_robust_ft_swbd_300h   general  1.218940\n",
       "6      facebook_wav2vec2_large_xlsr_53_english  clinical  0.794567\n",
       "7      facebook_wav2vec2_large_xlsr_53_english   general  0.609994\n",
       "8           facebook_wav2vec2_xls_r_1b_english  clinical  0.821028\n",
       "9           facebook_wav2vec2_xls_r_1b_english   general  0.639466"
      ]
     },
     "execution_count": 121,
     "metadata": {},
     "output_type": "execute_result"
    }
   ],
   "source": [
    "name = \"facebook_wa\"\n",
    "models_df[models_df.name.str.startswith(name)].groupby([\"name\", \"domain\"])[\"wer\"].mean().reset_index()"
   ]
  },
  {
   "cell_type": "code",
   "execution_count": 127,
   "id": "61267b66",
   "metadata": {},
   "outputs": [
    {
     "data": {
      "text/html": [
       "<div>\n",
       "<style scoped>\n",
       "    .dataframe tbody tr th:only-of-type {\n",
       "        vertical-align: middle;\n",
       "    }\n",
       "\n",
       "    .dataframe tbody tr th {\n",
       "        vertical-align: top;\n",
       "    }\n",
       "\n",
       "    .dataframe thead th {\n",
       "        text-align: right;\n",
       "    }\n",
       "</style>\n",
       "<table border=\"1\" class=\"dataframe\">\n",
       "  <thead>\n",
       "    <tr style=\"text-align: right;\">\n",
       "      <th></th>\n",
       "      <th>name</th>\n",
       "      <th>domain</th>\n",
       "      <th>wer</th>\n",
       "    </tr>\n",
       "  </thead>\n",
       "  <tbody>\n",
       "    <tr>\n",
       "      <th>0</th>\n",
       "      <td>nvidia_nemo_conformer_ctc_large</td>\n",
       "      <td>clinical</td>\n",
       "      <td>0.613789</td>\n",
       "    </tr>\n",
       "    <tr>\n",
       "      <th>1</th>\n",
       "      <td>nvidia_nemo_conformer_ctc_large</td>\n",
       "      <td>general</td>\n",
       "      <td>0.466301</td>\n",
       "    </tr>\n",
       "    <tr>\n",
       "      <th>2</th>\n",
       "      <td>nvidia_nemo_conformer_transducer_large</td>\n",
       "      <td>clinical</td>\n",
       "      <td>0.581295</td>\n",
       "    </tr>\n",
       "    <tr>\n",
       "      <th>3</th>\n",
       "      <td>nvidia_nemo_conformer_transducer_large</td>\n",
       "      <td>general</td>\n",
       "      <td>0.449387</td>\n",
       "    </tr>\n",
       "  </tbody>\n",
       "</table>\n",
       "</div>"
      ],
      "text/plain": [
       "                                     name    domain       wer\n",
       "0         nvidia_nemo_conformer_ctc_large  clinical  0.613789\n",
       "1         nvidia_nemo_conformer_ctc_large   general  0.466301\n",
       "2  nvidia_nemo_conformer_transducer_large  clinical  0.581295\n",
       "3  nvidia_nemo_conformer_transducer_large   general  0.449387"
      ]
     },
     "execution_count": 127,
     "metadata": {},
     "output_type": "execute_result"
    }
   ],
   "source": [
    "name = \"nvidia\"\n",
    "models_df_clean[models_df_clean.name.str.startswith(name)].groupby([\"name\", \"domain\"])[\"wer\"].mean().reset_index()"
   ]
  },
  {
   "cell_type": "code",
   "execution_count": 136,
   "id": "f1a546cd",
   "metadata": {},
   "outputs": [
    {
     "data": {
      "text/plain": [
       "<AxesSubplot: xlabel='domain'>"
      ]
     },
     "execution_count": 136,
     "metadata": {},
     "output_type": "execute_result"
    },
    {
     "data": {
      "image/png": "[encoded data removed]",
      "text/plain": [
       "<Figure size 640x480 with 1 Axes>"
      ]
     },
     "metadata": {},
     "output_type": "display_data"
    }
   ],
   "source": [
    "models_df.groupby([\"name\", \"domain\"])[\"wer\"].mean().reset_index().plot(kind=\"bar\", x=\"domain\", y=\"wer\", stacked=True)"
   ]
  },
  {
   "cell_type": "code",
   "execution_count": 146,
   "id": "42ec7d38",
   "metadata": {},
   "outputs": [
    {
     "data": {
      "text/html": [
       "<div>\n",
       "<style scoped>\n",
       "    .dataframe tbody tr th:only-of-type {\n",
       "        vertical-align: middle;\n",
       "    }\n",
       "\n",
       "    .dataframe tbody tr th {\n",
       "        vertical-align: top;\n",
       "    }\n",
       "\n",
       "    .dataframe thead tr th {\n",
       "        text-align: left;\n",
       "    }\n",
       "\n",
       "    .dataframe thead tr:last-of-type th {\n",
       "        text-align: right;\n",
       "    }\n",
       "</style>\n",
       "<table border=\"1\" class=\"dataframe\">\n",
       "  <thead>\n",
       "    <tr>\n",
       "      <th></th>\n",
       "      <th colspan=\"2\" halign=\"left\">wer</th>\n",
       "    </tr>\n",
       "    <tr>\n",
       "      <th>domain</th>\n",
       "      <th>clinical</th>\n",
       "      <th>general</th>\n",
       "    </tr>\n",
       "    <tr>\n",
       "      <th>name</th>\n",
       "      <th></th>\n",
       "      <th></th>\n",
       "    </tr>\n",
       "  </thead>\n",
       "  <tbody>\n",
       "    <tr>\n",
       "      <th>openai_whisper_medium_en</th>\n",
       "      <td>0.513241</td>\n",
       "      <td>0.392722</td>\n",
       "    </tr>\n",
       "    <tr>\n",
       "      <th>openai_whisper_medium</th>\n",
       "      <td>0.516791</td>\n",
       "      <td>0.395027</td>\n",
       "    </tr>\n",
       "    <tr>\n",
       "      <th>openai_whisper_small_en</th>\n",
       "      <td>0.576405</td>\n",
       "      <td>0.444674</td>\n",
       "    </tr>\n",
       "    <tr>\n",
       "      <th>openai_whisper_large</th>\n",
       "      <td>0.584156</td>\n",
       "      <td>0.397843</td>\n",
       "    </tr>\n",
       "    <tr>\n",
       "      <th>openai_whisper_small</th>\n",
       "      <td>0.591087</td>\n",
       "      <td>0.457932</td>\n",
       "    </tr>\n",
       "    <tr>\n",
       "      <th>microsoft_azure_speech_api</th>\n",
       "      <td>0.640265</td>\n",
       "      <td>0.534663</td>\n",
       "    </tr>\n",
       "    <tr>\n",
       "      <th>amazon_aws_transcribe_api</th>\n",
       "      <td>0.682376</td>\n",
       "      <td>0.489211</td>\n",
       "    </tr>\n",
       "    <tr>\n",
       "      <th>amazon_aws_transcribe_medical_api_primary_care</th>\n",
       "      <td>0.692515</td>\n",
       "      <td>0.558258</td>\n",
       "    </tr>\n",
       "    <tr>\n",
       "      <th>nvidia_nemo_conformer_transducer_large</th>\n",
       "      <td>0.714832</td>\n",
       "      <td>0.596251</td>\n",
       "    </tr>\n",
       "    <tr>\n",
       "      <th>google_gcp_speech_api</th>\n",
       "      <td>0.727454</td>\n",
       "      <td>0.562984</td>\n",
       "    </tr>\n",
       "    <tr>\n",
       "      <th>nvidia_nemo_conformer_ctc_large</th>\n",
       "      <td>0.736474</td>\n",
       "      <td>0.597584</td>\n",
       "    </tr>\n",
       "    <tr>\n",
       "      <th>facebook_wav2vec2_large_xlsr_53_english</th>\n",
       "      <td>0.794567</td>\n",
       "      <td>0.609994</td>\n",
       "    </tr>\n",
       "    <tr>\n",
       "      <th>facebook_wav2vec2_xls_r_1b_english</th>\n",
       "      <td>0.821028</td>\n",
       "      <td>0.639466</td>\n",
       "    </tr>\n",
       "    <tr>\n",
       "      <th>microsoft_wavlm_libri_clean_100h_large</th>\n",
       "      <td>0.908866</td>\n",
       "      <td>0.731839</td>\n",
       "    </tr>\n",
       "    <tr>\n",
       "      <th>microsoft_wavlm_libri_clean_100h_base</th>\n",
       "      <td>0.970380</td>\n",
       "      <td>0.812023</td>\n",
       "    </tr>\n",
       "    <tr>\n",
       "      <th>facebook_wav2vec2_large_960h_lv60_self</th>\n",
       "      <td>1.261808</td>\n",
       "      <td>1.171305</td>\n",
       "    </tr>\n",
       "    <tr>\n",
       "      <th>facebook_hubert_large_ls960_ft</th>\n",
       "      <td>1.268739</td>\n",
       "      <td>1.171576</td>\n",
       "    </tr>\n",
       "    <tr>\n",
       "      <th>facebook_hubert_xlarge_ls960_ft</th>\n",
       "      <td>1.281888</td>\n",
       "      <td>1.175639</td>\n",
       "    </tr>\n",
       "    <tr>\n",
       "      <th>facebook_wav2vec2_large_960h</th>\n",
       "      <td>1.298549</td>\n",
       "      <td>1.177514</td>\n",
       "    </tr>\n",
       "    <tr>\n",
       "      <th>facebook_wav2vec2_large_robust_ft_swbd_300h</th>\n",
       "      <td>1.340119</td>\n",
       "      <td>1.218940</td>\n",
       "    </tr>\n",
       "    <tr>\n",
       "      <th>speechbrain_crdnn_rnnlm_librispeech</th>\n",
       "      <td>1.401104</td>\n",
       "      <td>1.308147</td>\n",
       "    </tr>\n",
       "  </tbody>\n",
       "</table>\n",
       "</div>"
      ],
      "text/plain": [
       "                                                     wer          \n",
       "domain                                          clinical   general\n",
       "name                                                              \n",
       "openai_whisper_medium_en                        0.513241  0.392722\n",
       "openai_whisper_medium                           0.516791  0.395027\n",
       "openai_whisper_small_en                         0.576405  0.444674\n",
       "openai_whisper_large                            0.584156  0.397843\n",
       "openai_whisper_small                            0.591087  0.457932\n",
       "microsoft_azure_speech_api                      0.640265  0.534663\n",
       "amazon_aws_transcribe_api                       0.682376  0.489211\n",
       "amazon_aws_transcribe_medical_api_primary_care  0.692515  0.558258\n",
       "nvidia_nemo_conformer_transducer_large          0.714832  0.596251\n",
       "google_gcp_speech_api                           0.727454  0.562984\n",
       "nvidia_nemo_conformer_ctc_large                 0.736474  0.597584\n",
       "facebook_wav2vec2_large_xlsr_53_english         0.794567  0.609994\n",
       "facebook_wav2vec2_xls_r_1b_english              0.821028  0.639466\n",
       "microsoft_wavlm_libri_clean_100h_large          0.908866  0.731839\n",
       "microsoft_wavlm_libri_clean_100h_base           0.970380  0.812023\n",
       "facebook_wav2vec2_large_960h_lv60_self          1.261808  1.171305\n",
       "facebook_hubert_large_ls960_ft                  1.268739  1.171576\n",
       "facebook_hubert_xlarge_ls960_ft                 1.281888  1.175639\n",
       "facebook_wav2vec2_large_960h                    1.298549  1.177514\n",
       "facebook_wav2vec2_large_robust_ft_swbd_300h     1.340119  1.218940\n",
       "speechbrain_crdnn_rnnlm_librispeech             1.401104  1.308147"
      ]
     },
     "execution_count": 146,
     "metadata": {},
     "output_type": "execute_result"
    }
   ],
   "source": [
    "domain_df = models_df.groupby([\"name\", \"domain\"])[\"wer\"].mean().reset_index().set_index(\"name\").pivot(columns=\"domain\").sort_values((\"wer\", \"clinical\"))\n",
    "domain_df"
   ]
  },
  {
   "cell_type": "code",
   "execution_count": 147,
   "id": "80e2c44e",
   "metadata": {},
   "outputs": [
    {
     "data": {
      "text/html": [
       "<div>\n",
       "<style scoped>\n",
       "    .dataframe tbody tr th:only-of-type {\n",
       "        vertical-align: middle;\n",
       "    }\n",
       "\n",
       "    .dataframe tbody tr th {\n",
       "        vertical-align: top;\n",
       "    }\n",
       "\n",
       "    .dataframe thead tr th {\n",
       "        text-align: left;\n",
       "    }\n",
       "\n",
       "    .dataframe thead tr:last-of-type th {\n",
       "        text-align: right;\n",
       "    }\n",
       "</style>\n",
       "<table border=\"1\" class=\"dataframe\">\n",
       "  <thead>\n",
       "    <tr>\n",
       "      <th></th>\n",
       "      <th colspan=\"2\" halign=\"left\">wer</th>\n",
       "    </tr>\n",
       "    <tr>\n",
       "      <th>domain</th>\n",
       "      <th>clinical</th>\n",
       "      <th>general</th>\n",
       "    </tr>\n",
       "    <tr>\n",
       "      <th>name</th>\n",
       "      <th></th>\n",
       "      <th></th>\n",
       "    </tr>\n",
       "  </thead>\n",
       "  <tbody>\n",
       "    <tr>\n",
       "      <th>openai_whisper_medium</th>\n",
       "      <td>0.389489</td>\n",
       "      <td>0.295756</td>\n",
       "    </tr>\n",
       "    <tr>\n",
       "      <th>openai_whisper_medium_en</th>\n",
       "      <td>0.408459</td>\n",
       "      <td>0.314095</td>\n",
       "    </tr>\n",
       "    <tr>\n",
       "      <th>openai_whisper_small</th>\n",
       "      <td>0.479648</td>\n",
       "      <td>0.367395</td>\n",
       "    </tr>\n",
       "    <tr>\n",
       "      <th>openai_whisper_large</th>\n",
       "      <td>0.480337</td>\n",
       "      <td>0.318953</td>\n",
       "    </tr>\n",
       "    <tr>\n",
       "      <th>openai_whisper_small_en</th>\n",
       "      <td>0.481420</td>\n",
       "      <td>0.371298</td>\n",
       "    </tr>\n",
       "    <tr>\n",
       "      <th>microsoft_azure_speech_api</th>\n",
       "      <td>0.558557</td>\n",
       "      <td>0.461920</td>\n",
       "    </tr>\n",
       "    <tr>\n",
       "      <th>nvidia_nemo_conformer_transducer_large</th>\n",
       "      <td>0.581295</td>\n",
       "      <td>0.449387</td>\n",
       "    </tr>\n",
       "    <tr>\n",
       "      <th>amazon_aws_transcribe_api</th>\n",
       "      <td>0.590611</td>\n",
       "      <td>0.377333</td>\n",
       "    </tr>\n",
       "    <tr>\n",
       "      <th>amazon_aws_transcribe_medical_api_primary_care</th>\n",
       "      <td>0.595340</td>\n",
       "      <td>0.457006</td>\n",
       "    </tr>\n",
       "    <tr>\n",
       "      <th>nvidia_nemo_conformer_ctc_large</th>\n",
       "      <td>0.613789</td>\n",
       "      <td>0.466301</td>\n",
       "    </tr>\n",
       "    <tr>\n",
       "      <th>google_gcp_speech_api</th>\n",
       "      <td>0.668108</td>\n",
       "      <td>0.508249</td>\n",
       "    </tr>\n",
       "    <tr>\n",
       "      <th>facebook_wav2vec2_large_xlsr_53_english</th>\n",
       "      <td>0.721475</td>\n",
       "      <td>0.531517</td>\n",
       "    </tr>\n",
       "    <tr>\n",
       "      <th>facebook_wav2vec2_xls_r_1b_english</th>\n",
       "      <td>0.732908</td>\n",
       "      <td>0.543399</td>\n",
       "    </tr>\n",
       "    <tr>\n",
       "      <th>facebook_wav2vec2_large_960h_lv60_self</th>\n",
       "      <td>0.758213</td>\n",
       "      <td>0.555646</td>\n",
       "    </tr>\n",
       "    <tr>\n",
       "      <th>facebook_hubert_large_ls960_ft</th>\n",
       "      <td>0.791780</td>\n",
       "      <td>0.598394</td>\n",
       "    </tr>\n",
       "    <tr>\n",
       "      <th>facebook_hubert_xlarge_ls960_ft</th>\n",
       "      <td>0.806130</td>\n",
       "      <td>0.594111</td>\n",
       "    </tr>\n",
       "    <tr>\n",
       "      <th>microsoft_wavlm_libri_clean_100h_large</th>\n",
       "      <td>0.848616</td>\n",
       "      <td>0.663793</td>\n",
       "    </tr>\n",
       "    <tr>\n",
       "      <th>facebook_wav2vec2_large_960h</th>\n",
       "      <td>0.883101</td>\n",
       "      <td>0.665349</td>\n",
       "    </tr>\n",
       "    <tr>\n",
       "      <th>microsoft_wavlm_libri_clean_100h_base</th>\n",
       "      <td>0.925856</td>\n",
       "      <td>0.761130</td>\n",
       "    </tr>\n",
       "    <tr>\n",
       "      <th>facebook_wav2vec2_large_robust_ft_swbd_300h</th>\n",
       "      <td>0.957995</td>\n",
       "      <td>0.738351</td>\n",
       "    </tr>\n",
       "    <tr>\n",
       "      <th>speechbrain_crdnn_rnnlm_librispeech</th>\n",
       "      <td>1.044089</td>\n",
       "      <td>0.886930</td>\n",
       "    </tr>\n",
       "  </tbody>\n",
       "</table>\n",
       "</div>"
      ],
      "text/plain": [
       "                                                     wer          \n",
       "domain                                          clinical   general\n",
       "name                                                              \n",
       "openai_whisper_medium                           0.389489  0.295756\n",
       "openai_whisper_medium_en                        0.408459  0.314095\n",
       "openai_whisper_small                            0.479648  0.367395\n",
       "openai_whisper_large                            0.480337  0.318953\n",
       "openai_whisper_small_en                         0.481420  0.371298\n",
       "microsoft_azure_speech_api                      0.558557  0.461920\n",
       "nvidia_nemo_conformer_transducer_large          0.581295  0.449387\n",
       "amazon_aws_transcribe_api                       0.590611  0.377333\n",
       "amazon_aws_transcribe_medical_api_primary_care  0.595340  0.457006\n",
       "nvidia_nemo_conformer_ctc_large                 0.613789  0.466301\n",
       "google_gcp_speech_api                           0.668108  0.508249\n",
       "facebook_wav2vec2_large_xlsr_53_english         0.721475  0.531517\n",
       "facebook_wav2vec2_xls_r_1b_english              0.732908  0.543399\n",
       "facebook_wav2vec2_large_960h_lv60_self          0.758213  0.555646\n",
       "facebook_hubert_large_ls960_ft                  0.791780  0.598394\n",
       "facebook_hubert_xlarge_ls960_ft                 0.806130  0.594111\n",
       "microsoft_wavlm_libri_clean_100h_large          0.848616  0.663793\n",
       "facebook_wav2vec2_large_960h                    0.883101  0.665349\n",
       "microsoft_wavlm_libri_clean_100h_base           0.925856  0.761130\n",
       "facebook_wav2vec2_large_robust_ft_swbd_300h     0.957995  0.738351\n",
       "speechbrain_crdnn_rnnlm_librispeech             1.044089  0.886930"
      ]
     },
     "execution_count": 147,
     "metadata": {},
     "output_type": "execute_result"
    }
   ],
   "source": [
    "domain_df_clean = models_df_clean.groupby([\"name\", \"domain\"])[\"wer\"].mean().reset_index().set_index(\"name\").pivot(columns=\"domain\").sort_values((\"wer\", \"clinical\"))\n",
    "domain_df_clean"
   ]
  },
  {
   "cell_type": "code",
   "execution_count": 156,
   "id": "db0860a8",
   "metadata": {},
   "outputs": [
    {
     "data": {
      "text/html": [
       "<div>\n",
       "<style scoped>\n",
       "    .dataframe tbody tr th:only-of-type {\n",
       "        vertical-align: middle;\n",
       "    }\n",
       "\n",
       "    .dataframe tbody tr th {\n",
       "        vertical-align: top;\n",
       "    }\n",
       "\n",
       "    .dataframe thead tr th {\n",
       "        text-align: left;\n",
       "    }\n",
       "\n",
       "    .dataframe thead tr:last-of-type th {\n",
       "        text-align: right;\n",
       "    }\n",
       "</style>\n",
       "<table border=\"1\" class=\"dataframe\">\n",
       "  <thead>\n",
       "    <tr>\n",
       "      <th></th>\n",
       "      <th colspan=\"21\" halign=\"left\">wer</th>\n",
       "    </tr>\n",
       "    <tr>\n",
       "      <th>accent</th>\n",
       "      <th>afrikaans</th>\n",
       "      <th>akan (fante)</th>\n",
       "      <th>anaang</th>\n",
       "      <th>bassa-nge/nupe</th>\n",
       "      <th>berom</th>\n",
       "      <th>ebira</th>\n",
       "      <th>edo</th>\n",
       "      <th>efik</th>\n",
       "      <th>english</th>\n",
       "      <th>esan</th>\n",
       "      <th>...</th>\n",
       "      <th>siswati</th>\n",
       "      <th>sotho</th>\n",
       "      <th>swahili</th>\n",
       "      <th>tiv</th>\n",
       "      <th>tswana</th>\n",
       "      <th>twi</th>\n",
       "      <th>urhobo</th>\n",
       "      <th>xhosa</th>\n",
       "      <th>yoruba</th>\n",
       "      <th>zulu</th>\n",
       "    </tr>\n",
       "    <tr>\n",
       "      <th>name</th>\n",
       "      <th></th>\n",
       "      <th></th>\n",
       "      <th></th>\n",
       "      <th></th>\n",
       "      <th></th>\n",
       "      <th></th>\n",
       "      <th></th>\n",
       "      <th></th>\n",
       "      <th></th>\n",
       "      <th></th>\n",
       "      <th></th>\n",
       "      <th></th>\n",
       "      <th></th>\n",
       "      <th></th>\n",
       "      <th></th>\n",
       "      <th></th>\n",
       "      <th></th>\n",
       "      <th></th>\n",
       "      <th></th>\n",
       "      <th></th>\n",
       "      <th></th>\n",
       "    </tr>\n",
       "  </thead>\n",
       "  <tbody>\n",
       "    <tr>\n",
       "      <th>openai_whisper_medium_en</th>\n",
       "      <td>0.198070</td>\n",
       "      <td>0.533970</td>\n",
       "      <td>0.189572</td>\n",
       "      <td>0.515491</td>\n",
       "      <td>0.597518</td>\n",
       "      <td>0.219789</td>\n",
       "      <td>0.663440</td>\n",
       "      <td>0.525438</td>\n",
       "      <td>0.502632</td>\n",
       "      <td>0.604376</td>\n",
       "      <td>...</td>\n",
       "      <td>0.312469</td>\n",
       "      <td>0.289840</td>\n",
       "      <td>0.409413</td>\n",
       "      <td>0.338298</td>\n",
       "      <td>0.265372</td>\n",
       "      <td>0.392512</td>\n",
       "      <td>0.452354</td>\n",
       "      <td>0.197479</td>\n",
       "      <td>0.406202</td>\n",
       "      <td>0.243211</td>\n",
       "    </tr>\n",
       "    <tr>\n",
       "      <th>openai_whisper_small</th>\n",
       "      <td>0.237669</td>\n",
       "      <td>0.588375</td>\n",
       "      <td>0.211222</td>\n",
       "      <td>0.565023</td>\n",
       "      <td>0.598683</td>\n",
       "      <td>0.211701</td>\n",
       "      <td>0.781191</td>\n",
       "      <td>0.553656</td>\n",
       "      <td>0.510264</td>\n",
       "      <td>0.650269</td>\n",
       "      <td>...</td>\n",
       "      <td>0.404468</td>\n",
       "      <td>0.358385</td>\n",
       "      <td>0.520334</td>\n",
       "      <td>0.384812</td>\n",
       "      <td>0.341628</td>\n",
       "      <td>0.423062</td>\n",
       "      <td>0.539484</td>\n",
       "      <td>0.265149</td>\n",
       "      <td>0.443347</td>\n",
       "      <td>0.298499</td>\n",
       "    </tr>\n",
       "    <tr>\n",
       "      <th>openai_whisper_medium</th>\n",
       "      <td>0.174073</td>\n",
       "      <td>0.629964</td>\n",
       "      <td>0.194381</td>\n",
       "      <td>0.496533</td>\n",
       "      <td>0.596334</td>\n",
       "      <td>0.231891</td>\n",
       "      <td>0.563902</td>\n",
       "      <td>0.505461</td>\n",
       "      <td>0.514915</td>\n",
       "      <td>0.624560</td>\n",
       "      <td>...</td>\n",
       "      <td>0.345390</td>\n",
       "      <td>0.288859</td>\n",
       "      <td>0.385992</td>\n",
       "      <td>0.364429</td>\n",
       "      <td>0.285942</td>\n",
       "      <td>0.370144</td>\n",
       "      <td>0.483858</td>\n",
       "      <td>0.223118</td>\n",
       "      <td>0.392381</td>\n",
       "      <td>0.250659</td>\n",
       "    </tr>\n",
       "    <tr>\n",
       "      <th>openai_whisper_small_en</th>\n",
       "      <td>0.258643</td>\n",
       "      <td>0.623728</td>\n",
       "      <td>0.251596</td>\n",
       "      <td>0.581684</td>\n",
       "      <td>0.711456</td>\n",
       "      <td>0.243694</td>\n",
       "      <td>0.717996</td>\n",
       "      <td>0.542314</td>\n",
       "      <td>0.515564</td>\n",
       "      <td>0.665374</td>\n",
       "      <td>...</td>\n",
       "      <td>0.386085</td>\n",
       "      <td>0.382608</td>\n",
       "      <td>0.507997</td>\n",
       "      <td>0.379283</td>\n",
       "      <td>0.336447</td>\n",
       "      <td>0.434668</td>\n",
       "      <td>0.551755</td>\n",
       "      <td>0.223546</td>\n",
       "      <td>0.490350</td>\n",
       "      <td>0.285120</td>\n",
       "    </tr>\n",
       "    <tr>\n",
       "      <th>openai_whisper_large</th>\n",
       "      <td>0.264964</td>\n",
       "      <td>0.557184</td>\n",
       "      <td>0.313009</td>\n",
       "      <td>0.412546</td>\n",
       "      <td>0.464678</td>\n",
       "      <td>0.281245</td>\n",
       "      <td>0.713629</td>\n",
       "      <td>0.569821</td>\n",
       "      <td>0.516205</td>\n",
       "      <td>0.619171</td>\n",
       "      <td>...</td>\n",
       "      <td>0.380571</td>\n",
       "      <td>0.312727</td>\n",
       "      <td>0.462791</td>\n",
       "      <td>0.354008</td>\n",
       "      <td>0.294912</td>\n",
       "      <td>0.395409</td>\n",
       "      <td>0.477232</td>\n",
       "      <td>0.337384</td>\n",
       "      <td>0.469744</td>\n",
       "      <td>0.329967</td>\n",
       "    </tr>\n",
       "    <tr>\n",
       "      <th>google_gcp_speech_api</th>\n",
       "      <td>0.495920</td>\n",
       "      <td>0.838000</td>\n",
       "      <td>0.339406</td>\n",
       "      <td>0.668007</td>\n",
       "      <td>0.997633</td>\n",
       "      <td>0.382595</td>\n",
       "      <td>0.939957</td>\n",
       "      <td>0.840188</td>\n",
       "      <td>0.529827</td>\n",
       "      <td>0.789659</td>\n",
       "      <td>...</td>\n",
       "      <td>0.665167</td>\n",
       "      <td>0.572920</td>\n",
       "      <td>0.594083</td>\n",
       "      <td>0.587959</td>\n",
       "      <td>0.420423</td>\n",
       "      <td>0.560958</td>\n",
       "      <td>0.787349</td>\n",
       "      <td>0.648136</td>\n",
       "      <td>0.662095</td>\n",
       "      <td>0.521992</td>\n",
       "    </tr>\n",
       "    <tr>\n",
       "      <th>amazon_aws_transcribe_medical_api_primary_care</th>\n",
       "      <td>0.436241</td>\n",
       "      <td>0.723121</td>\n",
       "      <td>0.352191</td>\n",
       "      <td>0.458708</td>\n",
       "      <td>0.780141</td>\n",
       "      <td>0.394557</td>\n",
       "      <td>0.705615</td>\n",
       "      <td>0.695564</td>\n",
       "      <td>0.548257</td>\n",
       "      <td>0.848053</td>\n",
       "      <td>...</td>\n",
       "      <td>0.510180</td>\n",
       "      <td>0.422602</td>\n",
       "      <td>0.590939</td>\n",
       "      <td>0.519547</td>\n",
       "      <td>0.415688</td>\n",
       "      <td>0.522319</td>\n",
       "      <td>0.621836</td>\n",
       "      <td>0.454712</td>\n",
       "      <td>0.571339</td>\n",
       "      <td>0.429874</td>\n",
       "    </tr>\n",
       "    <tr>\n",
       "      <th>amazon_aws_transcribe_api</th>\n",
       "      <td>0.393327</td>\n",
       "      <td>0.647294</td>\n",
       "      <td>0.242981</td>\n",
       "      <td>0.439477</td>\n",
       "      <td>0.756751</td>\n",
       "      <td>0.292307</td>\n",
       "      <td>0.689191</td>\n",
       "      <td>0.751147</td>\n",
       "      <td>0.624445</td>\n",
       "      <td>1.006557</td>\n",
       "      <td>...</td>\n",
       "      <td>0.522441</td>\n",
       "      <td>0.380906</td>\n",
       "      <td>0.532560</td>\n",
       "      <td>0.562824</td>\n",
       "      <td>0.342563</td>\n",
       "      <td>0.482632</td>\n",
       "      <td>0.602391</td>\n",
       "      <td>0.431506</td>\n",
       "      <td>0.548149</td>\n",
       "      <td>0.397906</td>\n",
       "    </tr>\n",
       "    <tr>\n",
       "      <th>nvidia_nemo_conformer_ctc_large</th>\n",
       "      <td>0.396220</td>\n",
       "      <td>0.678165</td>\n",
       "      <td>0.327825</td>\n",
       "      <td>0.465788</td>\n",
       "      <td>0.824258</td>\n",
       "      <td>0.368416</td>\n",
       "      <td>0.797059</td>\n",
       "      <td>0.734617</td>\n",
       "      <td>0.685836</td>\n",
       "      <td>1.024887</td>\n",
       "      <td>...</td>\n",
       "      <td>0.506994</td>\n",
       "      <td>0.448129</td>\n",
       "      <td>0.683096</td>\n",
       "      <td>0.479956</td>\n",
       "      <td>0.432935</td>\n",
       "      <td>0.573476</td>\n",
       "      <td>0.625688</td>\n",
       "      <td>0.356064</td>\n",
       "      <td>0.593414</td>\n",
       "      <td>0.395621</td>\n",
       "    </tr>\n",
       "    <tr>\n",
       "      <th>nvidia_nemo_conformer_transducer_large</th>\n",
       "      <td>0.326000</td>\n",
       "      <td>0.615590</td>\n",
       "      <td>0.393462</td>\n",
       "      <td>0.556186</td>\n",
       "      <td>0.931667</td>\n",
       "      <td>0.401454</td>\n",
       "      <td>0.723933</td>\n",
       "      <td>0.754058</td>\n",
       "      <td>0.716909</td>\n",
       "      <td>1.196787</td>\n",
       "      <td>...</td>\n",
       "      <td>0.506758</td>\n",
       "      <td>0.475442</td>\n",
       "      <td>0.595359</td>\n",
       "      <td>0.438827</td>\n",
       "      <td>0.411595</td>\n",
       "      <td>0.526647</td>\n",
       "      <td>0.607041</td>\n",
       "      <td>0.354712</td>\n",
       "      <td>0.594349</td>\n",
       "      <td>0.366734</td>\n",
       "    </tr>\n",
       "    <tr>\n",
       "      <th>facebook_wav2vec2_large_xlsr_53_english</th>\n",
       "      <td>0.598225</td>\n",
       "      <td>0.668733</td>\n",
       "      <td>0.449124</td>\n",
       "      <td>0.611659</td>\n",
       "      <td>0.892194</td>\n",
       "      <td>0.455628</td>\n",
       "      <td>0.823800</td>\n",
       "      <td>0.681123</td>\n",
       "      <td>0.741930</td>\n",
       "      <td>0.991092</td>\n",
       "      <td>...</td>\n",
       "      <td>0.631015</td>\n",
       "      <td>0.490373</td>\n",
       "      <td>0.735303</td>\n",
       "      <td>0.628489</td>\n",
       "      <td>0.518584</td>\n",
       "      <td>0.628222</td>\n",
       "      <td>0.726177</td>\n",
       "      <td>0.456808</td>\n",
       "      <td>0.673960</td>\n",
       "      <td>0.524721</td>\n",
       "    </tr>\n",
       "    <tr>\n",
       "      <th>facebook_wav2vec2_xls_r_1b_english</th>\n",
       "      <td>0.581101</td>\n",
       "      <td>0.786899</td>\n",
       "      <td>0.465954</td>\n",
       "      <td>0.617760</td>\n",
       "      <td>0.983198</td>\n",
       "      <td>0.501132</td>\n",
       "      <td>0.919930</td>\n",
       "      <td>0.760562</td>\n",
       "      <td>0.759333</td>\n",
       "      <td>1.019026</td>\n",
       "      <td>...</td>\n",
       "      <td>0.608000</td>\n",
       "      <td>0.552690</td>\n",
       "      <td>0.763772</td>\n",
       "      <td>0.622465</td>\n",
       "      <td>0.500347</td>\n",
       "      <td>0.659808</td>\n",
       "      <td>0.734385</td>\n",
       "      <td>0.460665</td>\n",
       "      <td>0.710221</td>\n",
       "      <td>0.511011</td>\n",
       "    </tr>\n",
       "    <tr>\n",
       "      <th>facebook_wav2vec2_large_960h_lv60_self</th>\n",
       "      <td>0.550392</td>\n",
       "      <td>0.761614</td>\n",
       "      <td>0.420229</td>\n",
       "      <td>0.643864</td>\n",
       "      <td>1.117118</td>\n",
       "      <td>0.535339</td>\n",
       "      <td>0.940685</td>\n",
       "      <td>0.815826</td>\n",
       "      <td>0.802689</td>\n",
       "      <td>1.247288</td>\n",
       "      <td>...</td>\n",
       "      <td>0.610367</td>\n",
       "      <td>0.545783</td>\n",
       "      <td>0.775294</td>\n",
       "      <td>0.616179</td>\n",
       "      <td>0.510857</td>\n",
       "      <td>0.648323</td>\n",
       "      <td>0.702627</td>\n",
       "      <td>0.508427</td>\n",
       "      <td>0.741889</td>\n",
       "      <td>0.537903</td>\n",
       "    </tr>\n",
       "    <tr>\n",
       "      <th>facebook_hubert_xlarge_ls960_ft</th>\n",
       "      <td>0.576721</td>\n",
       "      <td>0.790730</td>\n",
       "      <td>0.469026</td>\n",
       "      <td>0.698668</td>\n",
       "      <td>1.164820</td>\n",
       "      <td>0.607003</td>\n",
       "      <td>1.002740</td>\n",
       "      <td>0.817320</td>\n",
       "      <td>0.812536</td>\n",
       "      <td>1.322815</td>\n",
       "      <td>...</td>\n",
       "      <td>0.666615</td>\n",
       "      <td>0.626272</td>\n",
       "      <td>0.831981</td>\n",
       "      <td>0.614797</td>\n",
       "      <td>0.549514</td>\n",
       "      <td>0.697075</td>\n",
       "      <td>0.798518</td>\n",
       "      <td>0.512087</td>\n",
       "      <td>0.774916</td>\n",
       "      <td>0.573485</td>\n",
       "    </tr>\n",
       "    <tr>\n",
       "      <th>facebook_hubert_large_ls960_ft</th>\n",
       "      <td>0.565803</td>\n",
       "      <td>0.838575</td>\n",
       "      <td>0.472350</td>\n",
       "      <td>0.543643</td>\n",
       "      <td>1.144907</td>\n",
       "      <td>0.552834</td>\n",
       "      <td>1.000660</td>\n",
       "      <td>0.809946</td>\n",
       "      <td>0.828128</td>\n",
       "      <td>1.299061</td>\n",
       "      <td>...</td>\n",
       "      <td>0.669993</td>\n",
       "      <td>0.626199</td>\n",
       "      <td>0.838112</td>\n",
       "      <td>0.647171</td>\n",
       "      <td>0.564252</td>\n",
       "      <td>0.676753</td>\n",
       "      <td>0.805185</td>\n",
       "      <td>0.518230</td>\n",
       "      <td>0.775257</td>\n",
       "      <td>0.570664</td>\n",
       "    </tr>\n",
       "    <tr>\n",
       "      <th>microsoft_wavlm_libri_clean_100h_large</th>\n",
       "      <td>0.678846</td>\n",
       "      <td>0.910941</td>\n",
       "      <td>0.590811</td>\n",
       "      <td>0.687526</td>\n",
       "      <td>1.107900</td>\n",
       "      <td>0.659885</td>\n",
       "      <td>0.991092</td>\n",
       "      <td>0.839169</td>\n",
       "      <td>0.832301</td>\n",
       "      <td>1.334799</td>\n",
       "      <td>...</td>\n",
       "      <td>0.738133</td>\n",
       "      <td>0.652575</td>\n",
       "      <td>0.853271</td>\n",
       "      <td>0.739713</td>\n",
       "      <td>0.621340</td>\n",
       "      <td>0.748793</td>\n",
       "      <td>0.842386</td>\n",
       "      <td>0.650349</td>\n",
       "      <td>0.833626</td>\n",
       "      <td>0.632908</td>\n",
       "    </tr>\n",
       "    <tr>\n",
       "      <th>facebook_wav2vec2_large_960h</th>\n",
       "      <td>0.633135</td>\n",
       "      <td>0.885954</td>\n",
       "      <td>0.517724</td>\n",
       "      <td>0.744623</td>\n",
       "      <td>1.273027</td>\n",
       "      <td>0.590286</td>\n",
       "      <td>0.920465</td>\n",
       "      <td>0.921057</td>\n",
       "      <td>0.875899</td>\n",
       "      <td>1.334997</td>\n",
       "      <td>...</td>\n",
       "      <td>0.768192</td>\n",
       "      <td>0.684129</td>\n",
       "      <td>0.941828</td>\n",
       "      <td>0.685504</td>\n",
       "      <td>0.569057</td>\n",
       "      <td>0.760298</td>\n",
       "      <td>0.855041</td>\n",
       "      <td>0.596901</td>\n",
       "      <td>0.838810</td>\n",
       "      <td>0.649680</td>\n",
       "    </tr>\n",
       "    <tr>\n",
       "      <th>microsoft_wavlm_libri_clean_100h_base</th>\n",
       "      <td>0.759851</td>\n",
       "      <td>0.943003</td>\n",
       "      <td>0.628925</td>\n",
       "      <td>0.835079</td>\n",
       "      <td>1.264225</td>\n",
       "      <td>0.740334</td>\n",
       "      <td>1.033247</td>\n",
       "      <td>0.971126</td>\n",
       "      <td>0.937846</td>\n",
       "      <td>1.196065</td>\n",
       "      <td>...</td>\n",
       "      <td>0.852171</td>\n",
       "      <td>0.802414</td>\n",
       "      <td>0.909752</td>\n",
       "      <td>0.809810</td>\n",
       "      <td>0.675098</td>\n",
       "      <td>0.828322</td>\n",
       "      <td>0.965017</td>\n",
       "      <td>0.702678</td>\n",
       "      <td>0.919299</td>\n",
       "      <td>0.731221</td>\n",
       "    </tr>\n",
       "    <tr>\n",
       "      <th>facebook_wav2vec2_large_robust_ft_swbd_300h</th>\n",
       "      <td>0.709120</td>\n",
       "      <td>0.955501</td>\n",
       "      <td>0.598190</td>\n",
       "      <td>0.836609</td>\n",
       "      <td>1.348679</td>\n",
       "      <td>0.628799</td>\n",
       "      <td>1.278616</td>\n",
       "      <td>0.964796</td>\n",
       "      <td>0.973276</td>\n",
       "      <td>1.509254</td>\n",
       "      <td>...</td>\n",
       "      <td>0.799077</td>\n",
       "      <td>0.704724</td>\n",
       "      <td>0.957841</td>\n",
       "      <td>0.846891</td>\n",
       "      <td>0.641798</td>\n",
       "      <td>0.846691</td>\n",
       "      <td>0.930703</td>\n",
       "      <td>0.656493</td>\n",
       "      <td>0.953686</td>\n",
       "      <td>0.698458</td>\n",
       "    </tr>\n",
       "    <tr>\n",
       "      <th>microsoft_azure_speech_api</th>\n",
       "      <td>0.367236</td>\n",
       "      <td>0.589705</td>\n",
       "      <td>1.000000</td>\n",
       "      <td>1.000000</td>\n",
       "      <td>1.000000</td>\n",
       "      <td>0.812987</td>\n",
       "      <td>1.000000</td>\n",
       "      <td>0.925926</td>\n",
       "      <td>1.000000</td>\n",
       "      <td>1.000000</td>\n",
       "      <td>...</td>\n",
       "      <td>0.510686</td>\n",
       "      <td>0.432367</td>\n",
       "      <td>0.443843</td>\n",
       "      <td>1.000000</td>\n",
       "      <td>0.389731</td>\n",
       "      <td>0.415918</td>\n",
       "      <td>0.942357</td>\n",
       "      <td>0.455896</td>\n",
       "      <td>0.464239</td>\n",
       "      <td>0.353790</td>\n",
       "    </tr>\n",
       "    <tr>\n",
       "      <th>speechbrain_crdnn_rnnlm_librispeech</th>\n",
       "      <td>0.706448</td>\n",
       "      <td>1.157307</td>\n",
       "      <td>0.690107</td>\n",
       "      <td>0.932396</td>\n",
       "      <td>1.357454</td>\n",
       "      <td>0.765484</td>\n",
       "      <td>1.298063</td>\n",
       "      <td>1.244636</td>\n",
       "      <td>1.052801</td>\n",
       "      <td>1.578908</td>\n",
       "      <td>...</td>\n",
       "      <td>0.908480</td>\n",
       "      <td>0.934585</td>\n",
       "      <td>1.120012</td>\n",
       "      <td>0.872221</td>\n",
       "      <td>0.751946</td>\n",
       "      <td>0.942094</td>\n",
       "      <td>1.022249</td>\n",
       "      <td>0.725872</td>\n",
       "      <td>1.060358</td>\n",
       "      <td>0.764429</td>\n",
       "    </tr>\n",
       "  </tbody>\n",
       "</table>\n",
       "<p>21 rows × 45 columns</p>\n",
       "</div>"
      ],
      "text/plain": [
       "                                                     wer               \\\n",
       "accent                                         afrikaans akan (fante)   \n",
       "name                                                                    \n",
       "openai_whisper_medium_en                        0.198070     0.533970   \n",
       "openai_whisper_small                            0.237669     0.588375   \n",
       "openai_whisper_medium                           0.174073     0.629964   \n",
       "openai_whisper_small_en                         0.258643     0.623728   \n",
       "openai_whisper_large                            0.264964     0.557184   \n",
       "google_gcp_speech_api                           0.495920     0.838000   \n",
       "amazon_aws_transcribe_medical_api_primary_care  0.436241     0.723121   \n",
       "amazon_aws_transcribe_api                       0.393327     0.647294   \n",
       "nvidia_nemo_conformer_ctc_large                 0.396220     0.678165   \n",
       "nvidia_nemo_conformer_transducer_large          0.326000     0.615590   \n",
       "facebook_wav2vec2_large_xlsr_53_english         0.598225     0.668733   \n",
       "facebook_wav2vec2_xls_r_1b_english              0.581101     0.786899   \n",
       "facebook_wav2vec2_large_960h_lv60_self          0.550392     0.761614   \n",
       "facebook_hubert_xlarge_ls960_ft                 0.576721     0.790730   \n",
       "facebook_hubert_large_ls960_ft                  0.565803     0.838575   \n",
       "microsoft_wavlm_libri_clean_100h_large          0.678846     0.910941   \n",
       "facebook_wav2vec2_large_960h                    0.633135     0.885954   \n",
       "microsoft_wavlm_libri_clean_100h_base           0.759851     0.943003   \n",
       "facebook_wav2vec2_large_robust_ft_swbd_300h     0.709120     0.955501   \n",
       "microsoft_azure_speech_api                      0.367236     0.589705   \n",
       "speechbrain_crdnn_rnnlm_librispeech             0.706448     1.157307   \n",
       "\n",
       "                                                                         \\\n",
       "accent                                            anaang bassa-nge/nupe   \n",
       "name                                                                      \n",
       "openai_whisper_medium_en                        0.189572       0.515491   \n",
       "openai_whisper_small                            0.211222       0.565023   \n",
       "openai_whisper_medium                           0.194381       0.496533   \n",
       "openai_whisper_small_en                         0.251596       0.581684   \n",
       "openai_whisper_large                            0.313009       0.412546   \n",
       "google_gcp_speech_api                           0.339406       0.668007   \n",
       "amazon_aws_transcribe_medical_api_primary_care  0.352191       0.458708   \n",
       "amazon_aws_transcribe_api                       0.242981       0.439477   \n",
       "nvidia_nemo_conformer_ctc_large                 0.327825       0.465788   \n",
       "nvidia_nemo_conformer_transducer_large          0.393462       0.556186   \n",
       "facebook_wav2vec2_large_xlsr_53_english         0.449124       0.611659   \n",
       "facebook_wav2vec2_xls_r_1b_english              0.465954       0.617760   \n",
       "facebook_wav2vec2_large_960h_lv60_self          0.420229       0.643864   \n",
       "facebook_hubert_xlarge_ls960_ft                 0.469026       0.698668   \n",
       "facebook_hubert_large_ls960_ft                  0.472350       0.543643   \n",
       "microsoft_wavlm_libri_clean_100h_large          0.590811       0.687526   \n",
       "facebook_wav2vec2_large_960h                    0.517724       0.744623   \n",
       "microsoft_wavlm_libri_clean_100h_base           0.628925       0.835079   \n",
       "facebook_wav2vec2_large_robust_ft_swbd_300h     0.598190       0.836609   \n",
       "microsoft_azure_speech_api                      1.000000       1.000000   \n",
       "speechbrain_crdnn_rnnlm_librispeech             0.690107       0.932396   \n",
       "\n",
       "                                                                              \\\n",
       "accent                                             berom     ebira       edo   \n",
       "name                                                                           \n",
       "openai_whisper_medium_en                        0.597518  0.219789  0.663440   \n",
       "openai_whisper_small                            0.598683  0.211701  0.781191   \n",
       "openai_whisper_medium                           0.596334  0.231891  0.563902   \n",
       "openai_whisper_small_en                         0.711456  0.243694  0.717996   \n",
       "openai_whisper_large                            0.464678  0.281245  0.713629   \n",
       "google_gcp_speech_api                           0.997633  0.382595  0.939957   \n",
       "amazon_aws_transcribe_medical_api_primary_care  0.780141  0.394557  0.705615   \n",
       "amazon_aws_transcribe_api                       0.756751  0.292307  0.689191   \n",
       "nvidia_nemo_conformer_ctc_large                 0.824258  0.368416  0.797059   \n",
       "nvidia_nemo_conformer_transducer_large          0.931667  0.401454  0.723933   \n",
       "facebook_wav2vec2_large_xlsr_53_english         0.892194  0.455628  0.823800   \n",
       "facebook_wav2vec2_xls_r_1b_english              0.983198  0.501132  0.919930   \n",
       "facebook_wav2vec2_large_960h_lv60_self          1.117118  0.535339  0.940685   \n",
       "facebook_hubert_xlarge_ls960_ft                 1.164820  0.607003  1.002740   \n",
       "facebook_hubert_large_ls960_ft                  1.144907  0.552834  1.000660   \n",
       "microsoft_wavlm_libri_clean_100h_large          1.107900  0.659885  0.991092   \n",
       "facebook_wav2vec2_large_960h                    1.273027  0.590286  0.920465   \n",
       "microsoft_wavlm_libri_clean_100h_base           1.264225  0.740334  1.033247   \n",
       "facebook_wav2vec2_large_robust_ft_swbd_300h     1.348679  0.628799  1.278616   \n",
       "microsoft_azure_speech_api                      1.000000  0.812987  1.000000   \n",
       "speechbrain_crdnn_rnnlm_librispeech             1.357454  0.765484  1.298063   \n",
       "\n",
       "                                                                              \\\n",
       "accent                                              efik   english      esan   \n",
       "name                                                                           \n",
       "openai_whisper_medium_en                        0.525438  0.502632  0.604376   \n",
       "openai_whisper_small                            0.553656  0.510264  0.650269   \n",
       "openai_whisper_medium                           0.505461  0.514915  0.624560   \n",
       "openai_whisper_small_en                         0.542314  0.515564  0.665374   \n",
       "openai_whisper_large                            0.569821  0.516205  0.619171   \n",
       "google_gcp_speech_api                           0.840188  0.529827  0.789659   \n",
       "amazon_aws_transcribe_medical_api_primary_care  0.695564  0.548257  0.848053   \n",
       "amazon_aws_transcribe_api                       0.751147  0.624445  1.006557   \n",
       "nvidia_nemo_conformer_ctc_large                 0.734617  0.685836  1.024887   \n",
       "nvidia_nemo_conformer_transducer_large          0.754058  0.716909  1.196787   \n",
       "facebook_wav2vec2_large_xlsr_53_english         0.681123  0.741930  0.991092   \n",
       "facebook_wav2vec2_xls_r_1b_english              0.760562  0.759333  1.019026   \n",
       "facebook_wav2vec2_large_960h_lv60_self          0.815826  0.802689  1.247288   \n",
       "facebook_hubert_xlarge_ls960_ft                 0.817320  0.812536  1.322815   \n",
       "facebook_hubert_large_ls960_ft                  0.809946  0.828128  1.299061   \n",
       "microsoft_wavlm_libri_clean_100h_large          0.839169  0.832301  1.334799   \n",
       "facebook_wav2vec2_large_960h                    0.921057  0.875899  1.334997   \n",
       "microsoft_wavlm_libri_clean_100h_base           0.971126  0.937846  1.196065   \n",
       "facebook_wav2vec2_large_robust_ft_swbd_300h     0.964796  0.973276  1.509254   \n",
       "microsoft_azure_speech_api                      0.925926  1.000000  1.000000   \n",
       "speechbrain_crdnn_rnnlm_librispeech             1.244636  1.052801  1.578908   \n",
       "\n",
       "                                                ...                      \\\n",
       "accent                                          ...   siswati     sotho   \n",
       "name                                            ...                       \n",
       "openai_whisper_medium_en                        ...  0.312469  0.289840   \n",
       "openai_whisper_small                            ...  0.404468  0.358385   \n",
       "openai_whisper_medium                           ...  0.345390  0.288859   \n",
       "openai_whisper_small_en                         ...  0.386085  0.382608   \n",
       "openai_whisper_large                            ...  0.380571  0.312727   \n",
       "google_gcp_speech_api                           ...  0.665167  0.572920   \n",
       "amazon_aws_transcribe_medical_api_primary_care  ...  0.510180  0.422602   \n",
       "amazon_aws_transcribe_api                       ...  0.522441  0.380906   \n",
       "nvidia_nemo_conformer_ctc_large                 ...  0.506994  0.448129   \n",
       "nvidia_nemo_conformer_transducer_large          ...  0.506758  0.475442   \n",
       "facebook_wav2vec2_large_xlsr_53_english         ...  0.631015  0.490373   \n",
       "facebook_wav2vec2_xls_r_1b_english              ...  0.608000  0.552690   \n",
       "facebook_wav2vec2_large_960h_lv60_self          ...  0.610367  0.545783   \n",
       "facebook_hubert_xlarge_ls960_ft                 ...  0.666615  0.626272   \n",
       "facebook_hubert_large_ls960_ft                  ...  0.669993  0.626199   \n",
       "microsoft_wavlm_libri_clean_100h_large          ...  0.738133  0.652575   \n",
       "facebook_wav2vec2_large_960h                    ...  0.768192  0.684129   \n",
       "microsoft_wavlm_libri_clean_100h_base           ...  0.852171  0.802414   \n",
       "facebook_wav2vec2_large_robust_ft_swbd_300h     ...  0.799077  0.704724   \n",
       "microsoft_azure_speech_api                      ...  0.510686  0.432367   \n",
       "speechbrain_crdnn_rnnlm_librispeech             ...  0.908480  0.934585   \n",
       "\n",
       "                                                                              \\\n",
       "accent                                           swahili       tiv    tswana   \n",
       "name                                                                           \n",
       "openai_whisper_medium_en                        0.409413  0.338298  0.265372   \n",
       "openai_whisper_small                            0.520334  0.384812  0.341628   \n",
       "openai_whisper_medium                           0.385992  0.364429  0.285942   \n",
       "openai_whisper_small_en                         0.507997  0.379283  0.336447   \n",
       "openai_whisper_large                            0.462791  0.354008  0.294912   \n",
       "google_gcp_speech_api                           0.594083  0.587959  0.420423   \n",
       "amazon_aws_transcribe_medical_api_primary_care  0.590939  0.519547  0.415688   \n",
       "amazon_aws_transcribe_api                       0.532560  0.562824  0.342563   \n",
       "nvidia_nemo_conformer_ctc_large                 0.683096  0.479956  0.432935   \n",
       "nvidia_nemo_conformer_transducer_large          0.595359  0.438827  0.411595   \n",
       "facebook_wav2vec2_large_xlsr_53_english         0.735303  0.628489  0.518584   \n",
       "facebook_wav2vec2_xls_r_1b_english              0.763772  0.622465  0.500347   \n",
       "facebook_wav2vec2_large_960h_lv60_self          0.775294  0.616179  0.510857   \n",
       "facebook_hubert_xlarge_ls960_ft                 0.831981  0.614797  0.549514   \n",
       "facebook_hubert_large_ls960_ft                  0.838112  0.647171  0.564252   \n",
       "microsoft_wavlm_libri_clean_100h_large          0.853271  0.739713  0.621340   \n",
       "facebook_wav2vec2_large_960h                    0.941828  0.685504  0.569057   \n",
       "microsoft_wavlm_libri_clean_100h_base           0.909752  0.809810  0.675098   \n",
       "facebook_wav2vec2_large_robust_ft_swbd_300h     0.957841  0.846891  0.641798   \n",
       "microsoft_azure_speech_api                      0.443843  1.000000  0.389731   \n",
       "speechbrain_crdnn_rnnlm_librispeech             1.120012  0.872221  0.751946   \n",
       "\n",
       "                                                                              \\\n",
       "accent                                               twi    urhobo     xhosa   \n",
       "name                                                                           \n",
       "openai_whisper_medium_en                        0.392512  0.452354  0.197479   \n",
       "openai_whisper_small                            0.423062  0.539484  0.265149   \n",
       "openai_whisper_medium                           0.370144  0.483858  0.223118   \n",
       "openai_whisper_small_en                         0.434668  0.551755  0.223546   \n",
       "openai_whisper_large                            0.395409  0.477232  0.337384   \n",
       "google_gcp_speech_api                           0.560958  0.787349  0.648136   \n",
       "amazon_aws_transcribe_medical_api_primary_care  0.522319  0.621836  0.454712   \n",
       "amazon_aws_transcribe_api                       0.482632  0.602391  0.431506   \n",
       "nvidia_nemo_conformer_ctc_large                 0.573476  0.625688  0.356064   \n",
       "nvidia_nemo_conformer_transducer_large          0.526647  0.607041  0.354712   \n",
       "facebook_wav2vec2_large_xlsr_53_english         0.628222  0.726177  0.456808   \n",
       "facebook_wav2vec2_xls_r_1b_english              0.659808  0.734385  0.460665   \n",
       "facebook_wav2vec2_large_960h_lv60_self          0.648323  0.702627  0.508427   \n",
       "facebook_hubert_xlarge_ls960_ft                 0.697075  0.798518  0.512087   \n",
       "facebook_hubert_large_ls960_ft                  0.676753  0.805185  0.518230   \n",
       "microsoft_wavlm_libri_clean_100h_large          0.748793  0.842386  0.650349   \n",
       "facebook_wav2vec2_large_960h                    0.760298  0.855041  0.596901   \n",
       "microsoft_wavlm_libri_clean_100h_base           0.828322  0.965017  0.702678   \n",
       "facebook_wav2vec2_large_robust_ft_swbd_300h     0.846691  0.930703  0.656493   \n",
       "microsoft_azure_speech_api                      0.415918  0.942357  0.455896   \n",
       "speechbrain_crdnn_rnnlm_librispeech             0.942094  1.022249  0.725872   \n",
       "\n",
       "                                                                    \n",
       "accent                                            yoruba      zulu  \n",
       "name                                                                \n",
       "openai_whisper_medium_en                        0.406202  0.243211  \n",
       "openai_whisper_small                            0.443347  0.298499  \n",
       "openai_whisper_medium                           0.392381  0.250659  \n",
       "openai_whisper_small_en                         0.490350  0.285120  \n",
       "openai_whisper_large                            0.469744  0.329967  \n",
       "google_gcp_speech_api                           0.662095  0.521992  \n",
       "amazon_aws_transcribe_medical_api_primary_care  0.571339  0.429874  \n",
       "amazon_aws_transcribe_api                       0.548149  0.397906  \n",
       "nvidia_nemo_conformer_ctc_large                 0.593414  0.395621  \n",
       "nvidia_nemo_conformer_transducer_large          0.594349  0.366734  \n",
       "facebook_wav2vec2_large_xlsr_53_english         0.673960  0.524721  \n",
       "facebook_wav2vec2_xls_r_1b_english              0.710221  0.511011  \n",
       "facebook_wav2vec2_large_960h_lv60_self          0.741889  0.537903  \n",
       "facebook_hubert_xlarge_ls960_ft                 0.774916  0.573485  \n",
       "facebook_hubert_large_ls960_ft                  0.775257  0.570664  \n",
       "microsoft_wavlm_libri_clean_100h_large          0.833626  0.632908  \n",
       "facebook_wav2vec2_large_960h                    0.838810  0.649680  \n",
       "microsoft_wavlm_libri_clean_100h_base           0.919299  0.731221  \n",
       "facebook_wav2vec2_large_robust_ft_swbd_300h     0.953686  0.698458  \n",
       "microsoft_azure_speech_api                      0.464239  0.353790  \n",
       "speechbrain_crdnn_rnnlm_librispeech             1.060358  0.764429  \n",
       "\n",
       "[21 rows x 45 columns]"
      ]
     },
     "execution_count": 156,
     "metadata": {},
     "output_type": "execute_result"
    }
   ],
   "source": [
    "accent_df_clean = models_df_clean.groupby([\"name\", \"accent\"])[\"wer\"].mean().reset_index().set_index(\"name\").pivot(columns=\"accent\").sort_values((\"wer\", \"english\"))\n",
    "accent_df_clean"
   ]
  },
  {
   "cell_type": "code",
   "execution_count": null,
   "id": "a5d87e42",
   "metadata": {},
   "outputs": [],
   "source": []
  }
 ],
 "metadata": {
  "kernelspec": {
   "display_name": "Python 3 (ipykernel)",
   "language": "python",
   "name": "python3"
  },
  "language_info": {
   "codemirror_mode": {
    "name": "ipython",
    "version": 3
   },
   "file_extension": ".py",
   "mimetype": "text/x-python",
   "name": "python",
   "nbconvert_exporter": "python",
   "pygments_lexer": "ipython3",
   "version": "3.9.6"
  }
 },
 "nbformat": 4,
 "nbformat_minor": 5
}
